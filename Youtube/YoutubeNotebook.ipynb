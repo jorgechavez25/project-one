{
 "cells": [
  {
   "cell_type": "code",
   "execution_count": 2,
   "metadata": {},
   "outputs": [],
   "source": [
    "# data\n",
    "import pandas as pd\n",
    "import numpy as np\n",
    "\n",
    "# visualization\n",
    "import matplotlib\n",
    "import matplotlib.pyplot as plt\n",
    "import seaborn as sns\n",
    "import plotly.express as px\n",
    "import plotly.graph_objects as go\n",
    "from plotly.subplots import make_subplots\n",
    "\n",
    "# styling\n",
    "%matplotlib inline\n",
    "sns.set_style('darkgrid')\n",
    "matplotlib.rcParams['figure.facecolor'] = '#00000000'\n",
    "matplotlib.rcParams['figure.facecolor'] = '#00000000'"
   ]
  },
  {
   "cell_type": "code",
   "execution_count": 3,
   "metadata": {},
   "outputs": [],
   "source": [
    "df =  pd.read_csv('../data/youtub_most_popular.csv')"
   ]
  },
  {
   "cell_type": "code",
   "execution_count": 4,
   "metadata": {},
   "outputs": [
    {
     "data": {
      "text/html": [
       "<style  type=\"text/css\" >\n",
       "    #T_2232eac6_ad81_11ed_a6b8_b4b5b6c516berow0_col0 {\n",
       "            background-color:  #FFF0F5 ;\n",
       "            color:  black;\n",
       "            border-color:  #8b8c8c;\n",
       "        }    #T_2232eac6_ad81_11ed_a6b8_b4b5b6c516berow0_col1 {\n",
       "            background-color:  #FFF0F5 ;\n",
       "            color:  black;\n",
       "            border-color:  #8b8c8c;\n",
       "        }    #T_2232eac6_ad81_11ed_a6b8_b4b5b6c516berow0_col2 {\n",
       "            background-color:  #FFF0F5 ;\n",
       "            color:  black;\n",
       "            border-color:  #8b8c8c;\n",
       "        }    #T_2232eac6_ad81_11ed_a6b8_b4b5b6c516berow0_col3 {\n",
       "            background-color:  #FFF0F5 ;\n",
       "            color:  black;\n",
       "            border-color:  #8b8c8c;\n",
       "        }    #T_2232eac6_ad81_11ed_a6b8_b4b5b6c516berow0_col4 {\n",
       "            background-color:  #FFF0F5 ;\n",
       "            color:  black;\n",
       "            border-color:  #8b8c8c;\n",
       "        }    #T_2232eac6_ad81_11ed_a6b8_b4b5b6c516berow0_col5 {\n",
       "            background-color:  #FFF0F5 ;\n",
       "            color:  black;\n",
       "            border-color:  #8b8c8c;\n",
       "        }    #T_2232eac6_ad81_11ed_a6b8_b4b5b6c516berow0_col6 {\n",
       "            background-color:  #FFF0F5 ;\n",
       "            color:  black;\n",
       "            border-color:  #8b8c8c;\n",
       "        }    #T_2232eac6_ad81_11ed_a6b8_b4b5b6c516berow1_col0 {\n",
       "            background-color:  #FFF0F5 ;\n",
       "            color:  black;\n",
       "            border-color:  #8b8c8c;\n",
       "        }    #T_2232eac6_ad81_11ed_a6b8_b4b5b6c516berow1_col1 {\n",
       "            background-color:  #FFF0F5 ;\n",
       "            color:  black;\n",
       "            border-color:  #8b8c8c;\n",
       "        }    #T_2232eac6_ad81_11ed_a6b8_b4b5b6c516berow1_col2 {\n",
       "            background-color:  #FFF0F5 ;\n",
       "            color:  black;\n",
       "            border-color:  #8b8c8c;\n",
       "        }    #T_2232eac6_ad81_11ed_a6b8_b4b5b6c516berow1_col3 {\n",
       "            background-color:  #FFF0F5 ;\n",
       "            color:  black;\n",
       "            border-color:  #8b8c8c;\n",
       "        }    #T_2232eac6_ad81_11ed_a6b8_b4b5b6c516berow1_col4 {\n",
       "            background-color:  #FFF0F5 ;\n",
       "            color:  black;\n",
       "            border-color:  #8b8c8c;\n",
       "        }    #T_2232eac6_ad81_11ed_a6b8_b4b5b6c516berow1_col5 {\n",
       "            background-color:  #FFF0F5 ;\n",
       "            color:  black;\n",
       "            border-color:  #8b8c8c;\n",
       "        }    #T_2232eac6_ad81_11ed_a6b8_b4b5b6c516berow1_col6 {\n",
       "            background-color:  #FFF0F5 ;\n",
       "            color:  black;\n",
       "            border-color:  #8b8c8c;\n",
       "        }    #T_2232eac6_ad81_11ed_a6b8_b4b5b6c516berow2_col0 {\n",
       "            background-color:  #FFF0F5 ;\n",
       "            color:  black;\n",
       "            border-color:  #8b8c8c;\n",
       "        }    #T_2232eac6_ad81_11ed_a6b8_b4b5b6c516berow2_col1 {\n",
       "            background-color:  #FFF0F5 ;\n",
       "            color:  black;\n",
       "            border-color:  #8b8c8c;\n",
       "        }    #T_2232eac6_ad81_11ed_a6b8_b4b5b6c516berow2_col2 {\n",
       "            background-color:  #FFF0F5 ;\n",
       "            color:  black;\n",
       "            border-color:  #8b8c8c;\n",
       "        }    #T_2232eac6_ad81_11ed_a6b8_b4b5b6c516berow2_col3 {\n",
       "            background-color:  #FFF0F5 ;\n",
       "            color:  black;\n",
       "            border-color:  #8b8c8c;\n",
       "        }    #T_2232eac6_ad81_11ed_a6b8_b4b5b6c516berow2_col4 {\n",
       "            background-color:  #FFF0F5 ;\n",
       "            color:  black;\n",
       "            border-color:  #8b8c8c;\n",
       "        }    #T_2232eac6_ad81_11ed_a6b8_b4b5b6c516berow2_col5 {\n",
       "            background-color:  #FFF0F5 ;\n",
       "            color:  black;\n",
       "            border-color:  #8b8c8c;\n",
       "        }    #T_2232eac6_ad81_11ed_a6b8_b4b5b6c516berow2_col6 {\n",
       "            background-color:  #FFF0F5 ;\n",
       "            color:  black;\n",
       "            border-color:  #8b8c8c;\n",
       "        }    #T_2232eac6_ad81_11ed_a6b8_b4b5b6c516berow3_col0 {\n",
       "            background-color:  #FFF0F5 ;\n",
       "            color:  black;\n",
       "            border-color:  #8b8c8c;\n",
       "        }    #T_2232eac6_ad81_11ed_a6b8_b4b5b6c516berow3_col1 {\n",
       "            background-color:  #FFF0F5 ;\n",
       "            color:  black;\n",
       "            border-color:  #8b8c8c;\n",
       "        }    #T_2232eac6_ad81_11ed_a6b8_b4b5b6c516berow3_col2 {\n",
       "            background-color:  #FFF0F5 ;\n",
       "            color:  black;\n",
       "            border-color:  #8b8c8c;\n",
       "        }    #T_2232eac6_ad81_11ed_a6b8_b4b5b6c516berow3_col3 {\n",
       "            background-color:  #FFF0F5 ;\n",
       "            color:  black;\n",
       "            border-color:  #8b8c8c;\n",
       "        }    #T_2232eac6_ad81_11ed_a6b8_b4b5b6c516berow3_col4 {\n",
       "            background-color:  #FFF0F5 ;\n",
       "            color:  black;\n",
       "            border-color:  #8b8c8c;\n",
       "        }    #T_2232eac6_ad81_11ed_a6b8_b4b5b6c516berow3_col5 {\n",
       "            background-color:  #FFF0F5 ;\n",
       "            color:  black;\n",
       "            border-color:  #8b8c8c;\n",
       "        }    #T_2232eac6_ad81_11ed_a6b8_b4b5b6c516berow3_col6 {\n",
       "            background-color:  #FFF0F5 ;\n",
       "            color:  black;\n",
       "            border-color:  #8b8c8c;\n",
       "        }    #T_2232eac6_ad81_11ed_a6b8_b4b5b6c516berow4_col0 {\n",
       "            background-color:  #FFF0F5 ;\n",
       "            color:  black;\n",
       "            border-color:  #8b8c8c;\n",
       "        }    #T_2232eac6_ad81_11ed_a6b8_b4b5b6c516berow4_col1 {\n",
       "            background-color:  #FFF0F5 ;\n",
       "            color:  black;\n",
       "            border-color:  #8b8c8c;\n",
       "        }    #T_2232eac6_ad81_11ed_a6b8_b4b5b6c516berow4_col2 {\n",
       "            background-color:  #FFF0F5 ;\n",
       "            color:  black;\n",
       "            border-color:  #8b8c8c;\n",
       "        }    #T_2232eac6_ad81_11ed_a6b8_b4b5b6c516berow4_col3 {\n",
       "            background-color:  #FFF0F5 ;\n",
       "            color:  black;\n",
       "            border-color:  #8b8c8c;\n",
       "        }    #T_2232eac6_ad81_11ed_a6b8_b4b5b6c516berow4_col4 {\n",
       "            background-color:  #FFF0F5 ;\n",
       "            color:  black;\n",
       "            border-color:  #8b8c8c;\n",
       "        }    #T_2232eac6_ad81_11ed_a6b8_b4b5b6c516berow4_col5 {\n",
       "            background-color:  #FFF0F5 ;\n",
       "            color:  black;\n",
       "            border-color:  #8b8c8c;\n",
       "        }    #T_2232eac6_ad81_11ed_a6b8_b4b5b6c516berow4_col6 {\n",
       "            background-color:  #FFF0F5 ;\n",
       "            color:  black;\n",
       "            border-color:  #8b8c8c;\n",
       "        }    #T_2232eac6_ad81_11ed_a6b8_b4b5b6c516berow5_col0 {\n",
       "            background-color:  #FFF0F5 ;\n",
       "            color:  black;\n",
       "            border-color:  #8b8c8c;\n",
       "        }    #T_2232eac6_ad81_11ed_a6b8_b4b5b6c516berow5_col1 {\n",
       "            background-color:  #FFF0F5 ;\n",
       "            color:  black;\n",
       "            border-color:  #8b8c8c;\n",
       "        }    #T_2232eac6_ad81_11ed_a6b8_b4b5b6c516berow5_col2 {\n",
       "            background-color:  #FFF0F5 ;\n",
       "            color:  black;\n",
       "            border-color:  #8b8c8c;\n",
       "        }    #T_2232eac6_ad81_11ed_a6b8_b4b5b6c516berow5_col3 {\n",
       "            background-color:  #FFF0F5 ;\n",
       "            color:  black;\n",
       "            border-color:  #8b8c8c;\n",
       "        }    #T_2232eac6_ad81_11ed_a6b8_b4b5b6c516berow5_col4 {\n",
       "            background-color:  #FFF0F5 ;\n",
       "            color:  black;\n",
       "            border-color:  #8b8c8c;\n",
       "        }    #T_2232eac6_ad81_11ed_a6b8_b4b5b6c516berow5_col5 {\n",
       "            background-color:  #FFF0F5 ;\n",
       "            color:  black;\n",
       "            border-color:  #8b8c8c;\n",
       "        }    #T_2232eac6_ad81_11ed_a6b8_b4b5b6c516berow5_col6 {\n",
       "            background-color:  #FFF0F5 ;\n",
       "            color:  black;\n",
       "            border-color:  #8b8c8c;\n",
       "        }</style><table id=\"T_2232eac6_ad81_11ed_a6b8_b4b5b6c516be\" ><thead>    <tr>        <th class=\"blank level0\" ></th>        <th class=\"col_heading level0 col0\" >Position</th>        <th class=\"col_heading level0 col1\" >Artist</th>        <th class=\"col_heading level0 col2\" >Subscribers</th>        <th class=\"col_heading level0 col3\" >Views</th>        <th class=\"col_heading level0 col4\" >Video Count</th>        <th class=\"col_heading level0 col5\" >Category</th>        <th class=\"col_heading level0 col6\" >Release Date</th>    </tr></thead><tbody>\n",
       "                <tr>\n",
       "                        <th id=\"T_2232eac6_ad81_11ed_a6b8_b4b5b6c516belevel0_row0\" class=\"row_heading level0 row0\" >0</th>\n",
       "                        <td id=\"T_2232eac6_ad81_11ed_a6b8_b4b5b6c516berow0_col0\" class=\"data row0 col0\" >742</td>\n",
       "                        <td id=\"T_2232eac6_ad81_11ed_a6b8_b4b5b6c516berow0_col1\" class=\"data row0 col1\" >NickiMinajAtVEVO</td>\n",
       "                        <td id=\"T_2232eac6_ad81_11ed_a6b8_b4b5b6c516berow0_col2\" class=\"data row0 col2\" >12700000</td>\n",
       "                        <td id=\"T_2232eac6_ad81_11ed_a6b8_b4b5b6c516berow0_col3\" class=\"data row0 col3\" >8367047990.000000</td>\n",
       "                        <td id=\"T_2232eac6_ad81_11ed_a6b8_b4b5b6c516berow0_col4\" class=\"data row0 col4\" >93</td>\n",
       "                        <td id=\"T_2232eac6_ad81_11ed_a6b8_b4b5b6c516berow0_col5\" class=\"data row0 col5\" >Music</td>\n",
       "                        <td id=\"T_2232eac6_ad81_11ed_a6b8_b4b5b6c516berow0_col6\" class=\"data row0 col6\" >2010</td>\n",
       "            </tr>\n",
       "            <tr>\n",
       "                        <th id=\"T_2232eac6_ad81_11ed_a6b8_b4b5b6c516belevel0_row1\" class=\"row_heading level0 row1\" >1</th>\n",
       "                        <td id=\"T_2232eac6_ad81_11ed_a6b8_b4b5b6c516berow1_col0\" class=\"data row1 col0\" >276</td>\n",
       "                        <td id=\"T_2232eac6_ad81_11ed_a6b8_b4b5b6c516berow1_col1\" class=\"data row1 col1\" >Indosiar</td>\n",
       "                        <td id=\"T_2232eac6_ad81_11ed_a6b8_b4b5b6c516berow1_col2\" class=\"data row1 col2\" >20800000</td>\n",
       "                        <td id=\"T_2232eac6_ad81_11ed_a6b8_b4b5b6c516berow1_col3\" class=\"data row1 col3\" >10126082404.000000</td>\n",
       "                        <td id=\"T_2232eac6_ad81_11ed_a6b8_b4b5b6c516berow1_col4\" class=\"data row1 col4\" >58623</td>\n",
       "                        <td id=\"T_2232eac6_ad81_11ed_a6b8_b4b5b6c516berow1_col5\" class=\"data row1 col5\" >Music</td>\n",
       "                        <td id=\"T_2232eac6_ad81_11ed_a6b8_b4b5b6c516berow1_col6\" class=\"data row1 col6\" >2013</td>\n",
       "            </tr>\n",
       "            <tr>\n",
       "                        <th id=\"T_2232eac6_ad81_11ed_a6b8_b4b5b6c516belevel0_row2\" class=\"row_heading level0 row2\" >2</th>\n",
       "                        <td id=\"T_2232eac6_ad81_11ed_a6b8_b4b5b6c516berow2_col0\" class=\"data row2 col0\" >280</td>\n",
       "                        <td id=\"T_2232eac6_ad81_11ed_a6b8_b4b5b6c516berow2_col1\" class=\"data row2 col1\" >Charlie Puth</td>\n",
       "                        <td id=\"T_2232eac6_ad81_11ed_a6b8_b4b5b6c516berow2_col2\" class=\"data row2 col2\" >20700000</td>\n",
       "                        <td id=\"T_2232eac6_ad81_11ed_a6b8_b4b5b6c516berow2_col3\" class=\"data row2 col3\" >8609202215.000000</td>\n",
       "                        <td id=\"T_2232eac6_ad81_11ed_a6b8_b4b5b6c516berow2_col4\" class=\"data row2 col4\" >132</td>\n",
       "                        <td id=\"T_2232eac6_ad81_11ed_a6b8_b4b5b6c516berow2_col5\" class=\"data row2 col5\" >Music</td>\n",
       "                        <td id=\"T_2232eac6_ad81_11ed_a6b8_b4b5b6c516berow2_col6\" class=\"data row2 col6\" >2009</td>\n",
       "            </tr>\n",
       "            <tr>\n",
       "                        <th id=\"T_2232eac6_ad81_11ed_a6b8_b4b5b6c516belevel0_row3\" class=\"row_heading level0 row3\" >3</th>\n",
       "                        <td id=\"T_2232eac6_ad81_11ed_a6b8_b4b5b6c516berow3_col0\" class=\"data row3 col0\" >597</td>\n",
       "                        <td id=\"T_2232eac6_ad81_11ed_a6b8_b4b5b6c516berow3_col1\" class=\"data row3 col1\" >TWICE</td>\n",
       "                        <td id=\"T_2232eac6_ad81_11ed_a6b8_b4b5b6c516berow3_col2\" class=\"data row3 col2\" >14400000</td>\n",
       "                        <td id=\"T_2232eac6_ad81_11ed_a6b8_b4b5b6c516berow3_col3\" class=\"data row3 col3\" >3733683543.000000</td>\n",
       "                        <td id=\"T_2232eac6_ad81_11ed_a6b8_b4b5b6c516berow3_col4\" class=\"data row3 col4\" >852</td>\n",
       "                        <td id=\"T_2232eac6_ad81_11ed_a6b8_b4b5b6c516berow3_col5\" class=\"data row3 col5\" >Music</td>\n",
       "                        <td id=\"T_2232eac6_ad81_11ed_a6b8_b4b5b6c516berow3_col6\" class=\"data row3 col6\" >2016</td>\n",
       "            </tr>\n",
       "            <tr>\n",
       "                        <th id=\"T_2232eac6_ad81_11ed_a6b8_b4b5b6c516belevel0_row4\" class=\"row_heading level0 row4\" >4</th>\n",
       "                        <td id=\"T_2232eac6_ad81_11ed_a6b8_b4b5b6c516berow4_col0\" class=\"data row4 col0\" >602</td>\n",
       "                        <td id=\"T_2232eac6_ad81_11ed_a6b8_b4b5b6c516berow4_col1\" class=\"data row4 col1\" >Genierock</td>\n",
       "                        <td id=\"T_2232eac6_ad81_11ed_a6b8_b4b5b6c516berow4_col2\" class=\"data row4 col2\" >14300000</td>\n",
       "                        <td id=\"T_2232eac6_ad81_11ed_a6b8_b4b5b6c516berow4_col3\" class=\"data row4 col3\" >13310308313.000000</td>\n",
       "                        <td id=\"T_2232eac6_ad81_11ed_a6b8_b4b5b6c516berow4_col4\" class=\"data row4 col4\" >1540</td>\n",
       "                        <td id=\"T_2232eac6_ad81_11ed_a6b8_b4b5b6c516berow4_col5\" class=\"data row4 col5\" >Music</td>\n",
       "                        <td id=\"T_2232eac6_ad81_11ed_a6b8_b4b5b6c516berow4_col6\" class=\"data row4 col6\" >2008</td>\n",
       "            </tr>\n",
       "            <tr>\n",
       "                        <th id=\"T_2232eac6_ad81_11ed_a6b8_b4b5b6c516belevel0_row5\" class=\"row_heading level0 row5\" >5</th>\n",
       "                        <td id=\"T_2232eac6_ad81_11ed_a6b8_b4b5b6c516berow5_col0\" class=\"data row5 col0\" >55</td>\n",
       "                        <td id=\"T_2232eac6_ad81_11ed_a6b8_b4b5b6c516berow5_col1\" class=\"data row5 col1\" >SonyMusicIndiaVEVO</td>\n",
       "                        <td id=\"T_2232eac6_ad81_11ed_a6b8_b4b5b6c516berow5_col2\" class=\"data row5 col2\" >42700000</td>\n",
       "                        <td id=\"T_2232eac6_ad81_11ed_a6b8_b4b5b6c516berow5_col3\" class=\"data row5 col3\" >23991411417.000000</td>\n",
       "                        <td id=\"T_2232eac6_ad81_11ed_a6b8_b4b5b6c516berow5_col4\" class=\"data row5 col4\" >3309</td>\n",
       "                        <td id=\"T_2232eac6_ad81_11ed_a6b8_b4b5b6c516berow5_col5\" class=\"data row5 col5\" >Music</td>\n",
       "                        <td id=\"T_2232eac6_ad81_11ed_a6b8_b4b5b6c516berow5_col6\" class=\"data row5 col6\" >2009</td>\n",
       "            </tr>\n",
       "    </tbody></table>"
      ],
      "text/plain": [
       "<pandas.io.formats.style.Styler at 0x1ae6681fdc8>"
      ]
     },
     "execution_count": 4,
     "metadata": {},
     "output_type": "execute_result"
    }
   ],
   "source": [
    "# Print sample\n",
    "df.sample(6).reset_index(drop=True).style.set_properties(**{'background-color': '#FFF0F5 ','color': 'black','border-color': '#8b8c8c'})"
   ]
  },
  {
   "attachments": {},
   "cell_type": "markdown",
   "metadata": {},
   "source": [
    "df['Views']=df['Views'].str.replace(',','')\n",
    "df['Video Count']=df['Video Count'].str.replace(',','')\n",
    "df['Subscribers']=df['Subscribers'].str.replace(',','')\n",
    "df['Views']=df['Views'].astype('int64')\n",
    "df['Video Count']=df['Video Count'].astype('int64')\n",
    "df['Subscribers']=df['Subscribers'].astype('int64')"
   ]
  },
  {
   "cell_type": "code",
   "execution_count": 5,
   "metadata": {},
   "outputs": [
    {
     "data": {
      "text/plain": [
       "Position        0\n",
       "Artist          0\n",
       "Subscribers     0\n",
       "Views           0\n",
       "Video Count     0\n",
       "Category        0\n",
       "Release Date    0\n",
       "dtype: int64"
      ]
     },
     "execution_count": 5,
     "metadata": {},
     "output_type": "execute_result"
    }
   ],
   "source": [
    "df.isnull().sum()"
   ]
  },
  {
   "cell_type": "code",
   "execution_count": 6,
   "metadata": {},
   "outputs": [],
   "source": [
    "df.dropna(axis=0,inplace=True)"
   ]
  },
  {
   "cell_type": "code",
   "execution_count": 7,
   "metadata": {},
   "outputs": [
    {
     "data": {
      "text/plain": [
       "(222, 7)"
      ]
     },
     "execution_count": 7,
     "metadata": {},
     "output_type": "execute_result"
    }
   ],
   "source": [
    "df.shape"
   ]
  },
  {
   "cell_type": "code",
   "execution_count": 8,
   "metadata": {},
   "outputs": [
    {
     "data": {
      "text/plain": [
       "Index(['Position', 'Artist', 'Subscribers', 'Views', 'Video Count', 'Category',\n",
       "       'Release Date'],\n",
       "      dtype='object')"
      ]
     },
     "execution_count": 8,
     "metadata": {},
     "output_type": "execute_result"
    }
   ],
   "source": [
    "# convert columns\n",
    "df.columns"
   ]
  },
  {
   "cell_type": "code",
   "execution_count": 9,
   "metadata": {},
   "outputs": [
    {
     "data": {
      "text/plain": [
       "Index(['Position', 'Artist', 'Subscribers', 'Views', 'Video Count', 'Category',\n",
       "       'Release Date'],\n",
       "      dtype='object')"
      ]
     },
     "execution_count": 9,
     "metadata": {},
     "output_type": "execute_result"
    }
   ],
   "source": [
    "# edit names with last space\n",
    "df.rename(columns=lambda x: x.strip() , inplace = True)\n",
    "df.columns"
   ]
  },
  {
   "cell_type": "code",
   "execution_count": 10,
   "metadata": {},
   "outputs": [
    {
     "data": {
      "text/plain": [
       "Position          int64\n",
       "Artist           object\n",
       "Subscribers       int64\n",
       "Views           float64\n",
       "Video Count       int64\n",
       "Category         object\n",
       "Release Date      int64\n",
       "dtype: object"
      ]
     },
     "execution_count": 10,
     "metadata": {},
     "output_type": "execute_result"
    }
   ],
   "source": [
    "df.dtypes"
   ]
  },
  {
   "cell_type": "code",
   "execution_count": 11,
   "metadata": {},
   "outputs": [],
   "source": [
    "# data type\n",
    "df['Views']=df['Views'].astype('int64')\n",
    "df['Video Count']=df['Video Count'].astype('int64')\n",
    "df['Subscribers']=df['Subscribers'].astype('int64')"
   ]
  },
  {
   "cell_type": "code",
   "execution_count": 12,
   "metadata": {},
   "outputs": [
    {
     "data": {
      "text/html": [
       "<div>\n",
       "<style scoped>\n",
       "    .dataframe tbody tr th:only-of-type {\n",
       "        vertical-align: middle;\n",
       "    }\n",
       "\n",
       "    .dataframe tbody tr th {\n",
       "        vertical-align: top;\n",
       "    }\n",
       "\n",
       "    .dataframe thead th {\n",
       "        text-align: right;\n",
       "    }\n",
       "</style>\n",
       "<table border=\"1\" class=\"dataframe\">\n",
       "  <thead>\n",
       "    <tr style=\"text-align: right;\">\n",
       "      <th></th>\n",
       "      <th>Position</th>\n",
       "      <th>Artist</th>\n",
       "      <th>Subscribers</th>\n",
       "      <th>Views</th>\n",
       "      <th>Video Count</th>\n",
       "      <th>Category</th>\n",
       "      <th>Release Date</th>\n",
       "    </tr>\n",
       "  </thead>\n",
       "  <tbody>\n",
       "    <tr>\n",
       "      <th>0</th>\n",
       "      <td>1</td>\n",
       "      <td>T-Series</td>\n",
       "      <td>222000000</td>\n",
       "      <td>198459000000</td>\n",
       "      <td>17317</td>\n",
       "      <td>Music</td>\n",
       "      <td>2006</td>\n",
       "    </tr>\n",
       "    <tr>\n",
       "      <th>1</th>\n",
       "      <td>12</td>\n",
       "      <td>Zee Music Company</td>\n",
       "      <td>86700000</td>\n",
       "      <td>49067711243</td>\n",
       "      <td>6603</td>\n",
       "      <td>Music</td>\n",
       "      <td>2014</td>\n",
       "    </tr>\n",
       "    <tr>\n",
       "      <th>2</th>\n",
       "      <td>19</td>\n",
       "      <td>BANGTANTV</td>\n",
       "      <td>70000000</td>\n",
       "      <td>17471090750</td>\n",
       "      <td>1787</td>\n",
       "      <td>Music</td>\n",
       "      <td>2012</td>\n",
       "    </tr>\n",
       "    <tr>\n",
       "      <th>3</th>\n",
       "      <td>20</td>\n",
       "      <td>Justin Bieber</td>\n",
       "      <td>69700000</td>\n",
       "      <td>28567240999</td>\n",
       "      <td>247</td>\n",
       "      <td>Music</td>\n",
       "      <td>2007</td>\n",
       "    </tr>\n",
       "    <tr>\n",
       "      <th>4</th>\n",
       "      <td>21</td>\n",
       "      <td>HYBE LABELS</td>\n",
       "      <td>67800000</td>\n",
       "      <td>24013849120</td>\n",
       "      <td>971</td>\n",
       "      <td>Music</td>\n",
       "      <td>2008</td>\n",
       "    </tr>\n",
       "    <tr>\n",
       "      <th>...</th>\n",
       "      <td>...</td>\n",
       "      <td>...</td>\n",
       "      <td>...</td>\n",
       "      <td>...</td>\n",
       "      <td>...</td>\n",
       "      <td>...</td>\n",
       "      <td>...</td>\n",
       "    </tr>\n",
       "    <tr>\n",
       "      <th>217</th>\n",
       "      <td>970</td>\n",
       "      <td>Genius</td>\n",
       "      <td>11100000</td>\n",
       "      <td>2891052624</td>\n",
       "      <td>2797</td>\n",
       "      <td>Music</td>\n",
       "      <td>2011</td>\n",
       "    </tr>\n",
       "    <tr>\n",
       "      <th>218</th>\n",
       "      <td>983</td>\n",
       "      <td>Doja Cat</td>\n",
       "      <td>11000000</td>\n",
       "      <td>5459891400</td>\n",
       "      <td>25</td>\n",
       "      <td>Music</td>\n",
       "      <td>2018</td>\n",
       "    </tr>\n",
       "    <tr>\n",
       "      <th>219</th>\n",
       "      <td>984</td>\n",
       "      <td>Tyga</td>\n",
       "      <td>11000000</td>\n",
       "      <td>5211071220</td>\n",
       "      <td>160</td>\n",
       "      <td>Music</td>\n",
       "      <td>2009</td>\n",
       "    </tr>\n",
       "    <tr>\n",
       "      <th>220</th>\n",
       "      <td>990</td>\n",
       "      <td>unknown boy varun</td>\n",
       "      <td>11000000</td>\n",
       "      <td>3263285883</td>\n",
       "      <td>193</td>\n",
       "      <td>Music</td>\n",
       "      <td>2016</td>\n",
       "    </tr>\n",
       "    <tr>\n",
       "      <th>221</th>\n",
       "      <td>997</td>\n",
       "      <td>TrapMusicHDTV</td>\n",
       "      <td>10900000</td>\n",
       "      <td>4070521973</td>\n",
       "      <td>690</td>\n",
       "      <td>Music</td>\n",
       "      <td>2013</td>\n",
       "    </tr>\n",
       "  </tbody>\n",
       "</table>\n",
       "<p>222 rows × 7 columns</p>\n",
       "</div>"
      ],
      "text/plain": [
       "     Position             Artist  Subscribers         Views  Video Count  \\\n",
       "0           1           T-Series    222000000  198459000000        17317   \n",
       "1          12  Zee Music Company     86700000   49067711243         6603   \n",
       "2          19          BANGTANTV     70000000   17471090750         1787   \n",
       "3          20      Justin Bieber     69700000   28567240999          247   \n",
       "4          21        HYBE LABELS     67800000   24013849120          971   \n",
       "..        ...                ...          ...           ...          ...   \n",
       "217       970             Genius     11100000    2891052624         2797   \n",
       "218       983           Doja Cat     11000000    5459891400           25   \n",
       "219       984               Tyga     11000000    5211071220          160   \n",
       "220       990  unknown boy varun     11000000    3263285883          193   \n",
       "221       997      TrapMusicHDTV     10900000    4070521973          690   \n",
       "\n",
       "    Category  Release Date  \n",
       "0      Music          2006  \n",
       "1      Music          2014  \n",
       "2      Music          2012  \n",
       "3      Music          2007  \n",
       "4      Music          2008  \n",
       "..       ...           ...  \n",
       "217    Music          2011  \n",
       "218    Music          2018  \n",
       "219    Music          2009  \n",
       "220    Music          2016  \n",
       "221    Music          2013  \n",
       "\n",
       "[222 rows x 7 columns]"
      ]
     },
     "execution_count": 12,
     "metadata": {},
     "output_type": "execute_result"
    }
   ],
   "source": [
    "# explore analysis\n",
    "df"
   ]
  },
  {
   "cell_type": "code",
   "execution_count": 13,
   "metadata": {},
   "outputs": [
    {
     "data": {
      "text/plain": [
       "(222, 7)"
      ]
     },
     "execution_count": 13,
     "metadata": {},
     "output_type": "execute_result"
    }
   ],
   "source": [
    "df.shape"
   ]
  },
  {
   "cell_type": "code",
   "execution_count": 14,
   "metadata": {},
   "outputs": [
    {
     "data": {
      "text/html": [
       "<div>\n",
       "<style scoped>\n",
       "    .dataframe tbody tr th:only-of-type {\n",
       "        vertical-align: middle;\n",
       "    }\n",
       "\n",
       "    .dataframe tbody tr th {\n",
       "        vertical-align: top;\n",
       "    }\n",
       "\n",
       "    .dataframe thead th {\n",
       "        text-align: right;\n",
       "    }\n",
       "</style>\n",
       "<table border=\"1\" class=\"dataframe\">\n",
       "  <thead>\n",
       "    <tr style=\"text-align: right;\">\n",
       "      <th></th>\n",
       "      <th>Position</th>\n",
       "      <th>Artist</th>\n",
       "      <th>Subscribers</th>\n",
       "      <th>Views</th>\n",
       "      <th>Video Count</th>\n",
       "      <th>Category</th>\n",
       "      <th>Release Date</th>\n",
       "    </tr>\n",
       "  </thead>\n",
       "  <tbody>\n",
       "    <tr>\n",
       "      <th>0</th>\n",
       "      <td>1</td>\n",
       "      <td>T-Series</td>\n",
       "      <td>222000000</td>\n",
       "      <td>198459000000</td>\n",
       "      <td>17317</td>\n",
       "      <td>Music</td>\n",
       "      <td>2006</td>\n",
       "    </tr>\n",
       "    <tr>\n",
       "      <th>1</th>\n",
       "      <td>12</td>\n",
       "      <td>Zee Music Company</td>\n",
       "      <td>86700000</td>\n",
       "      <td>49067711243</td>\n",
       "      <td>6603</td>\n",
       "      <td>Music</td>\n",
       "      <td>2014</td>\n",
       "    </tr>\n",
       "    <tr>\n",
       "      <th>2</th>\n",
       "      <td>19</td>\n",
       "      <td>BANGTANTV</td>\n",
       "      <td>70000000</td>\n",
       "      <td>17471090750</td>\n",
       "      <td>1787</td>\n",
       "      <td>Music</td>\n",
       "      <td>2012</td>\n",
       "    </tr>\n",
       "    <tr>\n",
       "      <th>3</th>\n",
       "      <td>20</td>\n",
       "      <td>Justin Bieber</td>\n",
       "      <td>69700000</td>\n",
       "      <td>28567240999</td>\n",
       "      <td>247</td>\n",
       "      <td>Music</td>\n",
       "      <td>2007</td>\n",
       "    </tr>\n",
       "    <tr>\n",
       "      <th>4</th>\n",
       "      <td>21</td>\n",
       "      <td>HYBE LABELS</td>\n",
       "      <td>67800000</td>\n",
       "      <td>24013849120</td>\n",
       "      <td>971</td>\n",
       "      <td>Music</td>\n",
       "      <td>2008</td>\n",
       "    </tr>\n",
       "  </tbody>\n",
       "</table>\n",
       "</div>"
      ],
      "text/plain": [
       "   Position             Artist  Subscribers         Views  Video Count  \\\n",
       "0         1           T-Series    222000000  198459000000        17317   \n",
       "1        12  Zee Music Company     86700000   49067711243         6603   \n",
       "2        19          BANGTANTV     70000000   17471090750         1787   \n",
       "3        20      Justin Bieber     69700000   28567240999          247   \n",
       "4        21        HYBE LABELS     67800000   24013849120          971   \n",
       "\n",
       "  Category  Release Date  \n",
       "0    Music          2006  \n",
       "1    Music          2014  \n",
       "2    Music          2012  \n",
       "3    Music          2007  \n",
       "4    Music          2008  "
      ]
     },
     "execution_count": 14,
     "metadata": {},
     "output_type": "execute_result"
    }
   ],
   "source": [
    "df.head()"
   ]
  },
  {
   "cell_type": "code",
   "execution_count": 15,
   "metadata": {},
   "outputs": [
    {
     "data": {
      "text/plain": [
       "Position         int64\n",
       "Artist          object\n",
       "Subscribers      int64\n",
       "Views            int64\n",
       "Video Count      int64\n",
       "Category        object\n",
       "Release Date     int64\n",
       "dtype: object"
      ]
     },
     "execution_count": 15,
     "metadata": {},
     "output_type": "execute_result"
    }
   ],
   "source": [
    "df.dtypes"
   ]
  },
  {
   "cell_type": "code",
   "execution_count": 16,
   "metadata": {},
   "outputs": [
    {
     "data": {
      "text/plain": [
       "Index(['Position', 'Artist', 'Subscribers', 'Views', 'Video Count', 'Category',\n",
       "       'Release Date'],\n",
       "      dtype='object')"
      ]
     },
     "execution_count": 16,
     "metadata": {},
     "output_type": "execute_result"
    }
   ],
   "source": [
    "df.columns"
   ]
  },
  {
   "cell_type": "code",
   "execution_count": 17,
   "metadata": {},
   "outputs": [
    {
     "name": "stdout",
     "output_type": "stream",
     "text": [
      "<class 'pandas.core.frame.DataFrame'>\n",
      "Int64Index: 222 entries, 0 to 221\n",
      "Data columns (total 7 columns):\n",
      " #   Column        Non-Null Count  Dtype \n",
      "---  ------        --------------  ----- \n",
      " 0   Position      222 non-null    int64 \n",
      " 1   Artist        222 non-null    object\n",
      " 2   Subscribers   222 non-null    int64 \n",
      " 3   Views         222 non-null    int64 \n",
      " 4   Video Count   222 non-null    int64 \n",
      " 5   Category      222 non-null    object\n",
      " 6   Release Date  222 non-null    int64 \n",
      "dtypes: int64(5), object(2)\n",
      "memory usage: 13.9+ KB\n"
     ]
    }
   ],
   "source": [
    "df.info()"
   ]
  },
  {
   "cell_type": "code",
   "execution_count": 18,
   "metadata": {},
   "outputs": [
    {
     "data": {
      "text/html": [
       "<div>\n",
       "<style scoped>\n",
       "    .dataframe tbody tr th:only-of-type {\n",
       "        vertical-align: middle;\n",
       "    }\n",
       "\n",
       "    .dataframe tbody tr th {\n",
       "        vertical-align: top;\n",
       "    }\n",
       "\n",
       "    .dataframe thead th {\n",
       "        text-align: right;\n",
       "    }\n",
       "</style>\n",
       "<table border=\"1\" class=\"dataframe\">\n",
       "  <thead>\n",
       "    <tr style=\"text-align: right;\">\n",
       "      <th></th>\n",
       "      <th>Position</th>\n",
       "      <th>Subscribers</th>\n",
       "      <th>Views</th>\n",
       "      <th>Video Count</th>\n",
       "      <th>Release Date</th>\n",
       "    </tr>\n",
       "  </thead>\n",
       "  <tbody>\n",
       "    <tr>\n",
       "      <th>count</th>\n",
       "      <td>222.000000</td>\n",
       "      <td>2.220000e+02</td>\n",
       "      <td>2.220000e+02</td>\n",
       "      <td>222.000000</td>\n",
       "      <td>222.000000</td>\n",
       "    </tr>\n",
       "    <tr>\n",
       "      <th>mean</th>\n",
       "      <td>441.720721</td>\n",
       "      <td>2.303739e+07</td>\n",
       "      <td>1.309104e+10</td>\n",
       "      <td>2298.815315</td>\n",
       "      <td>2010.720721</td>\n",
       "    </tr>\n",
       "    <tr>\n",
       "      <th>std</th>\n",
       "      <td>296.361439</td>\n",
       "      <td>1.876792e+07</td>\n",
       "      <td>1.505430e+10</td>\n",
       "      <td>5846.831776</td>\n",
       "      <td>3.181312</td>\n",
       "    </tr>\n",
       "    <tr>\n",
       "      <th>min</th>\n",
       "      <td>1.000000</td>\n",
       "      <td>1.090000e+07</td>\n",
       "      <td>5.469050e+08</td>\n",
       "      <td>7.000000</td>\n",
       "      <td>2005.000000</td>\n",
       "    </tr>\n",
       "    <tr>\n",
       "      <th>25%</th>\n",
       "      <td>178.500000</td>\n",
       "      <td>1.330000e+07</td>\n",
       "      <td>6.016301e+09</td>\n",
       "      <td>123.500000</td>\n",
       "      <td>2008.250000</td>\n",
       "    </tr>\n",
       "    <tr>\n",
       "      <th>50%</th>\n",
       "      <td>421.000000</td>\n",
       "      <td>1.700000e+07</td>\n",
       "      <td>1.022484e+10</td>\n",
       "      <td>272.000000</td>\n",
       "      <td>2011.000000</td>\n",
       "    </tr>\n",
       "    <tr>\n",
       "      <th>75%</th>\n",
       "      <td>687.750000</td>\n",
       "      <td>2.605000e+07</td>\n",
       "      <td>1.640835e+10</td>\n",
       "      <td>1721.750000</td>\n",
       "      <td>2013.000000</td>\n",
       "    </tr>\n",
       "    <tr>\n",
       "      <th>max</th>\n",
       "      <td>997.000000</td>\n",
       "      <td>2.220000e+08</td>\n",
       "      <td>1.984590e+11</td>\n",
       "      <td>58623.000000</td>\n",
       "      <td>2019.000000</td>\n",
       "    </tr>\n",
       "  </tbody>\n",
       "</table>\n",
       "</div>"
      ],
      "text/plain": [
       "         Position   Subscribers         Views   Video Count  Release Date\n",
       "count  222.000000  2.220000e+02  2.220000e+02    222.000000    222.000000\n",
       "mean   441.720721  2.303739e+07  1.309104e+10   2298.815315   2010.720721\n",
       "std    296.361439  1.876792e+07  1.505430e+10   5846.831776      3.181312\n",
       "min      1.000000  1.090000e+07  5.469050e+08      7.000000   2005.000000\n",
       "25%    178.500000  1.330000e+07  6.016301e+09    123.500000   2008.250000\n",
       "50%    421.000000  1.700000e+07  1.022484e+10    272.000000   2011.000000\n",
       "75%    687.750000  2.605000e+07  1.640835e+10   1721.750000   2013.000000\n",
       "max    997.000000  2.220000e+08  1.984590e+11  58623.000000   2019.000000"
      ]
     },
     "execution_count": 18,
     "metadata": {},
     "output_type": "execute_result"
    }
   ],
   "source": [
    "df.describe()"
   ]
  },
  {
   "cell_type": "code",
   "execution_count": 19,
   "metadata": {},
   "outputs": [
    {
     "data": {
      "text/plain": [
       "Position        222\n",
       "Artist          222\n",
       "Subscribers     145\n",
       "Views           222\n",
       "Video Count     191\n",
       "Category          1\n",
       "Release Date     15\n",
       "dtype: int64"
      ]
     },
     "execution_count": 19,
     "metadata": {},
     "output_type": "execute_result"
    }
   ],
   "source": [
    "df.nunique()"
   ]
  },
  {
   "cell_type": "code",
   "execution_count": 20,
   "metadata": {},
   "outputs": [],
   "source": [
    "# visualization\n",
    "from IPython.core.display import HTML\n",
    "\n",
    "#Acceps a list of IpyTable objects and returns a table which contains each IpyTable in a cell\n",
    "def multi_table(table_list):\n",
    "        return HTML('<table><tr style=\"background-color:white;\">' +  ''.join(['<td>' + table._repr_html_() + '</td>' for table in table_list]) +'</tr></table>')"
   ]
  },
  {
   "cell_type": "code",
   "execution_count": 21,
   "metadata": {},
   "outputs": [
    {
     "data": {
      "text/html": [
       "<table><tr style=\"background-color:white;\"><td><div>\n",
       "<style scoped>\n",
       "    .dataframe tbody tr th:only-of-type {\n",
       "        vertical-align: middle;\n",
       "    }\n",
       "\n",
       "    .dataframe tbody tr th {\n",
       "        vertical-align: top;\n",
       "    }\n",
       "\n",
       "    .dataframe thead th {\n",
       "        text-align: right;\n",
       "    }\n",
       "</style>\n",
       "<table border=\"1\" class=\"dataframe\">\n",
       "  <thead>\n",
       "    <tr style=\"text-align: right;\">\n",
       "      <th></th>\n",
       "      <th>Artist</th>\n",
       "    </tr>\n",
       "  </thead>\n",
       "  <tbody>\n",
       "    <tr>\n",
       "      <th>Skrillex</th>\n",
       "      <td>1</td>\n",
       "    </tr>\n",
       "    <tr>\n",
       "      <th>Genierock</th>\n",
       "      <td>1</td>\n",
       "    </tr>\n",
       "    <tr>\n",
       "      <th>Chris Brown</th>\n",
       "      <td>1</td>\n",
       "    </tr>\n",
       "    <tr>\n",
       "      <th>Saad Lamjarred | سعد لمجرد</th>\n",
       "      <td>1</td>\n",
       "    </tr>\n",
       "    <tr>\n",
       "      <th>Sidhu Moose Wala</th>\n",
       "      <td>1</td>\n",
       "    </tr>\n",
       "    <tr>\n",
       "      <th>...</th>\n",
       "      <td>...</td>\n",
       "    </tr>\n",
       "    <tr>\n",
       "      <th>Zé Neto e Cristiano</th>\n",
       "      <td>1</td>\n",
       "    </tr>\n",
       "    <tr>\n",
       "      <th>The Chainsmokers</th>\n",
       "      <td>1</td>\n",
       "    </tr>\n",
       "    <tr>\n",
       "      <th>Sony Music South</th>\n",
       "      <td>1</td>\n",
       "    </tr>\n",
       "    <tr>\n",
       "      <th>LuisFonsiVEVO</th>\n",
       "      <td>1</td>\n",
       "    </tr>\n",
       "    <tr>\n",
       "      <th>SMTOWN</th>\n",
       "      <td>1</td>\n",
       "    </tr>\n",
       "  </tbody>\n",
       "</table>\n",
       "<p>222 rows × 1 columns</p>\n",
       "</div></td><td><div>\n",
       "<style scoped>\n",
       "    .dataframe tbody tr th:only-of-type {\n",
       "        vertical-align: middle;\n",
       "    }\n",
       "\n",
       "    .dataframe tbody tr th {\n",
       "        vertical-align: top;\n",
       "    }\n",
       "\n",
       "    .dataframe thead th {\n",
       "        text-align: right;\n",
       "    }\n",
       "</style>\n",
       "<table border=\"1\" class=\"dataframe\">\n",
       "  <thead>\n",
       "    <tr style=\"text-align: right;\">\n",
       "      <th></th>\n",
       "      <th>Subscribers</th>\n",
       "    </tr>\n",
       "  </thead>\n",
       "  <tbody>\n",
       "    <tr>\n",
       "      <th>14600000</th>\n",
       "      <td>5</td>\n",
       "    </tr>\n",
       "    <tr>\n",
       "      <th>13400000</th>\n",
       "      <td>4</td>\n",
       "    </tr>\n",
       "    <tr>\n",
       "      <th>11800000</th>\n",
       "      <td>4</td>\n",
       "    </tr>\n",
       "    <tr>\n",
       "      <th>11700000</th>\n",
       "      <td>4</td>\n",
       "    </tr>\n",
       "    <tr>\n",
       "      <th>12400000</th>\n",
       "      <td>4</td>\n",
       "    </tr>\n",
       "    <tr>\n",
       "      <th>...</th>\n",
       "      <td>...</td>\n",
       "    </tr>\n",
       "    <tr>\n",
       "      <th>32800000</th>\n",
       "      <td>1</td>\n",
       "    </tr>\n",
       "    <tr>\n",
       "      <th>18000000</th>\n",
       "      <td>1</td>\n",
       "    </tr>\n",
       "    <tr>\n",
       "      <th>21600000</th>\n",
       "      <td>1</td>\n",
       "    </tr>\n",
       "    <tr>\n",
       "      <th>49800000</th>\n",
       "      <td>1</td>\n",
       "    </tr>\n",
       "    <tr>\n",
       "      <th>52800000</th>\n",
       "      <td>1</td>\n",
       "    </tr>\n",
       "  </tbody>\n",
       "</table>\n",
       "<p>145 rows × 1 columns</p>\n",
       "</div></td></tr></table>"
      ],
      "text/plain": [
       "<IPython.core.display.HTML object>"
      ]
     },
     "execution_count": 21,
     "metadata": {},
     "output_type": "execute_result"
    }
   ],
   "source": [
    "nunique_df={var:pd.DataFrame(df[var].value_counts())\n",
    "           for var in {'Artist', 'Subscribers'}}\n",
    "\n",
    "multi_table([nunique_df['Artist'],nunique_df['Subscribers']])"
   ]
  },
  {
   "cell_type": "code",
   "execution_count": 22,
   "metadata": {},
   "outputs": [],
   "source": [
    "import plotly.express as px"
   ]
  },
  {
   "cell_type": "code",
   "execution_count": 23,
   "metadata": {},
   "outputs": [
    {
     "data": {
      "application/vnd.plotly.v1+json": {
       "config": {
        "plotlyServerURL": "https://plot.ly"
       },
       "data": [
        {
         "domain": {
          "x": [
           0,
           1
          ],
          "y": [
           0,
           1
          ]
         },
         "hovertemplate": "label=%{label}<br>value=%{value}<extra></extra>",
         "labels": [
          "Skrillex",
          "Genierock",
          "Chris Brown",
          "Saad Lamjarred | سعد لمجرد",
          "Sidhu Moose Wala",
          "Lindsey Stirling",
          "Post Malone",
          "Wiz Khalifa",
          "La Granja de Zenón",
          "Paulo Londra",
          "Indosiar",
          "Maluma",
          "Think Music India",
          "Trap City",
          "One Direction",
          "Queen Official",
          "Aditya Music",
          "Lil Nas X",
          "Shemaroo Filmi Gaane",
          "BeyoncéVEVO",
          "DisneyChannelUK",
          "Coke Studio",
          "NickiMinajAtVEVO",
          "Lofi Girl",
          "Tips Official",
          "GRAMMY GOLD OFFICIAL",
          "ChainsmokersVEVO",
          "Future",
          "Major Lazer Official",
          "Martin Garrix",
          "Aadishakti Films",
          "Boyce Avenue",
          "The Weeknd",
          "DopeLyrics",
          "CNCO",
          "Awakening Music",
          "Travis Scott",
          "David Guetta",
          "Rajshri",
          "JustinBieberVEVO",
          "Kim Loaiza",
          "toyorbabytv",
          "Vevo",
          "Dan-Sa / Daniel Saboya",
          "Rotana",
          "elliegoulding",
          "LooLoo Kids - Nursery Rhymes and Children's Songs",
          "Tyga",
          "Lana Del Rey",
          "Jason Derulo",
          "Adexe & Nau",
          "Codiscos",
          "T-Series Bhakti Sagar",
          "Jass Records",
          "TrapMusicHDTV",
          "7clouds",
          "Taylor Swift",
          "Wave Music Bhakti",
          "RsiamMusic : อาร์สยาม",
          "twenty one pilots",
          "Team Films Bhojpuri",
          "MalumaVEVO",
          "Neha Kakkar",
          "Becky G",
          "DemiLovatoVEVO",
          "Katakit Baby TV",
          "Adele",
          "ImagineDragons",
          "DisneyMusicVEVO",
          "Fifth Harmony",
          "Shawn Mendes",
          "CalvinHarrisVEVO",
          "Wish 107.5",
          "T-Series",
          "Billie Eilish",
          "Avicii",
          "jbalvinVEVO",
          "Michael Jackson",
          "SonyMusicIndiaVEVO",
          "EminemVEVO",
          "Bad Bunny",
          "Maroon 5",
          "7 Minutoz",
          "Demi Lovato",
          "unknown boy varun",
          "TWICE",
          "Fueled By Ramen",
          "P!NK",
          "1theK (원더케이)",
          "Halsey",
          "DM - Desi Melodies",
          "AdeleVEVO",
          "Black Eyed Peas",
          "Katy Perry",
          "Gusttavo Lima Oficial",
          "Hear This Music",
          "Sia",
          "RihannaVEVO",
          "officialpsy",
          "Pop Chartbusters",
          "LEGENDA FUNK",
          "Star Casablanca | نجوم الدار البيضاء",
          "NickyJamTV",
          "elcarteldesantatv",
          "MORGENSHTERN",
          "Marília Mendonça",
          "Daddy Yankee",
          "Lil Wayne",
          "Zee Music Company",
          "netd müzik",
          "Camila Cabello",
          "Jennifer Lopez",
          "shakiraVEVO",
          "Goldmines Gaane Sune Ansune",
          "50 Cent",
          "Calvin Harris",
          "GR6 EXPLODE",
          "Linkin Park",
          "Ariana Grande",
          "Farruko",
          "الـريماس - Al-Remas",
          "Luan Santana",
          "Duo Tiempo De Sol",
          "Avril Lavigne",
          "SelenaGomezVEVO",
          "El Reino Infantil",
          "Mor Haryanvi",
          "Beyoncé",
          "Wave Music",
          "WORLDSTARHIPHOP",
          "DJ Khaled",
          "TaylorSwiftVEVO",
          "POPS Kids",
          "Spinnin' Records",
          "BANGTANTV",
          "HYBE LABELS",
          "Rauw Alejandro",
          "DJ Snake",
          "Wesley Safadão",
          "Alan Walker",
          "WatchMojo.com",
          "Genius",
          "Jorge & Mateus Oficial",
          "Maroon5VEVO",
          "MattyBRaps",
          "Conor Maynard",
          "EminemMusic",
          "Doja Cat",
          "Ozuna",
          "Akon",
          "Hungria Hip Hop",
          "BIGBANG",
          "melanie martinez",
          "GMM GRAMMY OFFICIAL",
          "KatyPerryVEVO",
          "Camila Loures",
          "ArianaGrandeVevo",
          "SonyMusicSouthVEVO",
          "Sky Does Everything",
          "Romeo Santos",
          "SRK MUSIC",
          "Worldwide Records Bhojpuri",
          "Atlantic Records",
          "KAROL G",
          "Enrique Iglesias",
          "Dua Lipa",
          "Lokdhun Punjabi",
          "Anitta",
          "zayn",
          "Geet MP3",
          "Canal KondZilla",
          "Camilo",
          "T-Series Apna Punjab",
          "Ed Sheeran",
          "Simone e Simaria",
          "Desi Music Factory",
          "Trap Nation",
          "Justin Bieber",
          "Anuel AA",
          "J Balvin",
          "Sony Music India",
          "JFlaMusic",
          "Henrique e Juliano",
          "MK MUSIC",
          "OneDirectionVEVO",
          "Bounce Patrol - Kids Songs",
          "Ultra Music",
          "Bruno Mars",
          "XXXTENTACION",
          "JYP Entertainment",
          "Pentatonix",
          "Charlie Puth",
          "Luli Pampín",
          "Lil Pump",
          "Nicki Minaj",
          "Little Mix",
          "Coldplay",
          "Wave Music Bhojpuri",
          "toycantando",
          "Bollywood Classics",
          "FitDance",
          "EnriqueIglesiasVEVO",
          "Emiway Bantai",
          "Migos ATL",
          "Lahari Music | T-Series",
          "Natti Natasha",
          "Drake",
          "Pitbull",
          "NoCopyrightSounds",
          "ChrisBrownVEVO",
          "Zee Music Classic",
          "Speed Records",
          "Biper y sus Amigos",
          "Crazy Frog",
          "O Reino Infantil",
          "Gallina Pintadita",
          "SAM SMITH",
          "Zé Neto e Cristiano",
          "The Chainsmokers",
          "Sony Music South",
          "LuisFonsiVEVO",
          "SMTOWN"
         ],
         "legendgroup": "",
         "name": "",
         "showlegend": true,
         "textfont": {
          "size": 11
         },
         "textinfo": "percent+label",
         "textposition": "inside",
         "type": "pie",
         "values": [
          1,
          1,
          1,
          1,
          1,
          1,
          1,
          1,
          1,
          1,
          1,
          1,
          1,
          1,
          1,
          1,
          1,
          1,
          1,
          1,
          1,
          1,
          1,
          1,
          1,
          1,
          1,
          1,
          1,
          1,
          1,
          1,
          1,
          1,
          1,
          1,
          1,
          1,
          1,
          1,
          1,
          1,
          1,
          1,
          1,
          1,
          1,
          1,
          1,
          1,
          1,
          1,
          1,
          1,
          1,
          1,
          1,
          1,
          1,
          1,
          1,
          1,
          1,
          1,
          1,
          1,
          1,
          1,
          1,
          1,
          1,
          1,
          1,
          1,
          1,
          1,
          1,
          1,
          1,
          1,
          1,
          1,
          1,
          1,
          1,
          1,
          1,
          1,
          1,
          1,
          1,
          1,
          1,
          1,
          1,
          1,
          1,
          1,
          1,
          1,
          1,
          1,
          1,
          1,
          1,
          1,
          1,
          1,
          1,
          1,
          1,
          1,
          1,
          1,
          1,
          1,
          1,
          1,
          1,
          1,
          1,
          1,
          1,
          1,
          1,
          1,
          1,
          1,
          1,
          1,
          1,
          1,
          1,
          1,
          1,
          1,
          1,
          1,
          1,
          1,
          1,
          1,
          1,
          1,
          1,
          1,
          1,
          1,
          1,
          1,
          1,
          1,
          1,
          1,
          1,
          1,
          1,
          1,
          1,
          1,
          1,
          1,
          1,
          1,
          1,
          1,
          1,
          1,
          1,
          1,
          1,
          1,
          1,
          1,
          1,
          1,
          1,
          1,
          1,
          1,
          1,
          1,
          1,
          1,
          1,
          1,
          1,
          1,
          1,
          1,
          1,
          1,
          1,
          1,
          1,
          1,
          1,
          1,
          1,
          1,
          1,
          1,
          1,
          1,
          1,
          1,
          1,
          1,
          1,
          1,
          1,
          1,
          1,
          1,
          1,
          1,
          1,
          1,
          1,
          1,
          1,
          1
         ]
        }
       ],
       "layout": {
        "legend": {
         "tracegroupgap": 0
        },
        "piecolorway": [
         "rgb(103,0,31)",
         "rgb(178,24,43)",
         "rgb(214,96,77)",
         "rgb(244,165,130)",
         "rgb(253,219,199)",
         "rgb(247,247,247)",
         "rgb(209,229,240)",
         "rgb(146,197,222)",
         "rgb(67,147,195)",
         "rgb(33,102,172)",
         "rgb(5,48,97)"
        ],
        "template": {
         "data": {
          "pie": [
           {
            "automargin": true,
            "type": "pie"
           }
          ],
          "scatter": [
           {
            "line": {
             "width": 3
            },
            "marker": {
             "size": 9
            },
            "type": "scatter"
           }
          ],
          "scatter3d": [
           {
            "line": {
             "width": 3
            },
            "marker": {
             "size": 9
            },
            "type": "scatter3d"
           }
          ],
          "scattergeo": [
           {
            "line": {
             "width": 3
            },
            "marker": {
             "size": 9
            },
            "type": "scattergeo"
           }
          ],
          "scattergl": [
           {
            "line": {
             "width": 3
            },
            "marker": {
             "size": 9
            },
            "type": "scattergl"
           }
          ],
          "scatterpolar": [
           {
            "line": {
             "width": 3
            },
            "marker": {
             "size": 9
            },
            "type": "scatterpolar"
           }
          ],
          "scatterpolargl": [
           {
            "line": {
             "width": 3
            },
            "marker": {
             "size": 9
            },
            "type": "scatterpolargl"
           }
          ],
          "scatterternary": [
           {
            "line": {
             "width": 3
            },
            "marker": {
             "size": 9
            },
            "type": "scatterternary"
           }
          ],
          "table": [
           {
            "cells": {
             "height": 30
            },
            "header": {
             "height": 36
            },
            "type": "table"
           }
          ]
         },
         "layout": {
          "font": {
           "size": 18
          },
          "xaxis": {
           "title": {
            "standoff": 15
           }
          },
          "yaxis": {
           "title": {
            "standoff": 15
           }
          }
         }
        },
        "title": {
         "text": "Most Popular Musicians of Youtube"
        }
       }
      }
     },
     "metadata": {},
     "output_type": "display_data"
    }
   ],
   "source": [
    "artists=df['Artist'].value_counts()\n",
    "fig=px.pie(values=artists.values,\n",
    "          names=artists.index,\n",
    "          color_discrete_sequence=px.colors.sequential.RdBu,\n",
    "          title=\"Most Popular Musicians of Youtube\", template='presentation'\n",
    "          )\n",
    "fig.update_traces(textposition='inside',\n",
    "                  textfont_size=11,\n",
    "                  textinfo='percent+label')\n",
    "fig.show();"
   ]
  },
  {
   "cell_type": "code",
   "execution_count": 24,
   "metadata": {},
   "outputs": [
    {
     "data": {
      "image/png": "[encoded data removed]",
      "text/plain": [
       "<Figure size 1440x576 with 1 Axes>"
      ]
     },
     "metadata": {
      "needs_background": "light"
     },
     "output_type": "display_data"
    }
   ],
   "source": [
    "year=df['Release Date'].value_counts()\n",
    "plt.figure(figsize=(20,8))\n",
    "sns.pointplot(x=year.index,y=year.values, color='violet')\n",
    "plt.xlabel('Year')\n",
    "plt.ylabel('Count')\n",
    "plt.title('Started year of youtube channels',size=30, color='maroon');"
   ]
  },
  {
   "cell_type": "code",
   "execution_count": 25,
   "metadata": {},
   "outputs": [
    {
     "data": {
      "text/html": [
       "<div>\n",
       "<style scoped>\n",
       "    .dataframe tbody tr th:only-of-type {\n",
       "        vertical-align: middle;\n",
       "    }\n",
       "\n",
       "    .dataframe tbody tr th {\n",
       "        vertical-align: top;\n",
       "    }\n",
       "\n",
       "    .dataframe thead th {\n",
       "        text-align: right;\n",
       "    }\n",
       "</style>\n",
       "<table border=\"1\" class=\"dataframe\">\n",
       "  <thead>\n",
       "    <tr style=\"text-align: right;\">\n",
       "      <th></th>\n",
       "      <th>Release Date</th>\n",
       "      <th>Position</th>\n",
       "      <th>Subscribers</th>\n",
       "      <th>Views</th>\n",
       "      <th>Video Count</th>\n",
       "    </tr>\n",
       "  </thead>\n",
       "  <tbody>\n",
       "    <tr>\n",
       "      <th>0</th>\n",
       "      <td>2005</td>\n",
       "      <td>494.857143</td>\n",
       "      <td>1.772857e+07</td>\n",
       "      <td>1.013097e+10</td>\n",
       "      <td>206.571429</td>\n",
       "    </tr>\n",
       "    <tr>\n",
       "      <th>1</th>\n",
       "      <td>2006</td>\n",
       "      <td>331.117647</td>\n",
       "      <td>3.679412e+07</td>\n",
       "      <td>2.478314e+10</td>\n",
       "      <td>2142.529412</td>\n",
       "    </tr>\n",
       "    <tr>\n",
       "      <th>2</th>\n",
       "      <td>2007</td>\n",
       "      <td>413.444444</td>\n",
       "      <td>2.596111e+07</td>\n",
       "      <td>1.375123e+10</td>\n",
       "      <td>2867.833333</td>\n",
       "    </tr>\n",
       "    <tr>\n",
       "      <th>3</th>\n",
       "      <td>2008</td>\n",
       "      <td>323.857143</td>\n",
       "      <td>2.554286e+07</td>\n",
       "      <td>1.375906e+10</td>\n",
       "      <td>2389.357143</td>\n",
       "    </tr>\n",
       "    <tr>\n",
       "      <th>4</th>\n",
       "      <td>2009</td>\n",
       "      <td>468.375000</td>\n",
       "      <td>1.987812e+07</td>\n",
       "      <td>1.364159e+10</td>\n",
       "      <td>512.250000</td>\n",
       "    </tr>\n",
       "    <tr>\n",
       "      <th>5</th>\n",
       "      <td>2010</td>\n",
       "      <td>407.941176</td>\n",
       "      <td>2.156471e+07</td>\n",
       "      <td>1.284503e+10</td>\n",
       "      <td>1868.588235</td>\n",
       "    </tr>\n",
       "    <tr>\n",
       "      <th>6</th>\n",
       "      <td>2011</td>\n",
       "      <td>411.370370</td>\n",
       "      <td>2.244074e+07</td>\n",
       "      <td>1.265895e+10</td>\n",
       "      <td>3309.370370</td>\n",
       "    </tr>\n",
       "    <tr>\n",
       "      <th>7</th>\n",
       "      <td>2012</td>\n",
       "      <td>461.652174</td>\n",
       "      <td>2.382174e+07</td>\n",
       "      <td>1.169608e+10</td>\n",
       "      <td>1926.043478</td>\n",
       "    </tr>\n",
       "    <tr>\n",
       "      <th>8</th>\n",
       "      <td>2013</td>\n",
       "      <td>488.100000</td>\n",
       "      <td>1.921000e+07</td>\n",
       "      <td>8.857515e+09</td>\n",
       "      <td>3584.050000</td>\n",
       "    </tr>\n",
       "    <tr>\n",
       "      <th>9</th>\n",
       "      <td>2014</td>\n",
       "      <td>451.476190</td>\n",
       "      <td>2.502381e+07</td>\n",
       "      <td>1.602042e+10</td>\n",
       "      <td>5699.619048</td>\n",
       "    </tr>\n",
       "    <tr>\n",
       "      <th>10</th>\n",
       "      <td>2015</td>\n",
       "      <td>611.666667</td>\n",
       "      <td>1.814444e+07</td>\n",
       "      <td>6.718950e+09</td>\n",
       "      <td>605.222222</td>\n",
       "    </tr>\n",
       "    <tr>\n",
       "      <th>11</th>\n",
       "      <td>2016</td>\n",
       "      <td>455.600000</td>\n",
       "      <td>1.961000e+07</td>\n",
       "      <td>8.704522e+09</td>\n",
       "      <td>847.700000</td>\n",
       "    </tr>\n",
       "    <tr>\n",
       "      <th>12</th>\n",
       "      <td>2017</td>\n",
       "      <td>547.500000</td>\n",
       "      <td>1.505000e+07</td>\n",
       "      <td>4.567205e+09</td>\n",
       "      <td>78.000000</td>\n",
       "    </tr>\n",
       "    <tr>\n",
       "      <th>13</th>\n",
       "      <td>2018</td>\n",
       "      <td>565.500000</td>\n",
       "      <td>1.767500e+07</td>\n",
       "      <td>9.202896e+09</td>\n",
       "      <td>30.250000</td>\n",
       "    </tr>\n",
       "    <tr>\n",
       "      <th>14</th>\n",
       "      <td>2019</td>\n",
       "      <td>684.000000</td>\n",
       "      <td>1.340000e+07</td>\n",
       "      <td>1.092248e+09</td>\n",
       "      <td>12.000000</td>\n",
       "    </tr>\n",
       "  </tbody>\n",
       "</table>\n",
       "</div>"
      ],
      "text/plain": [
       "    Release Date    Position   Subscribers         Views  Video Count\n",
       "0           2005  494.857143  1.772857e+07  1.013097e+10   206.571429\n",
       "1           2006  331.117647  3.679412e+07  2.478314e+10  2142.529412\n",
       "2           2007  413.444444  2.596111e+07  1.375123e+10  2867.833333\n",
       "3           2008  323.857143  2.554286e+07  1.375906e+10  2389.357143\n",
       "4           2009  468.375000  1.987812e+07  1.364159e+10   512.250000\n",
       "5           2010  407.941176  2.156471e+07  1.284503e+10  1868.588235\n",
       "6           2011  411.370370  2.244074e+07  1.265895e+10  3309.370370\n",
       "7           2012  461.652174  2.382174e+07  1.169608e+10  1926.043478\n",
       "8           2013  488.100000  1.921000e+07  8.857515e+09  3584.050000\n",
       "9           2014  451.476190  2.502381e+07  1.602042e+10  5699.619048\n",
       "10          2015  611.666667  1.814444e+07  6.718950e+09   605.222222\n",
       "11          2016  455.600000  1.961000e+07  8.704522e+09   847.700000\n",
       "12          2017  547.500000  1.505000e+07  4.567205e+09    78.000000\n",
       "13          2018  565.500000  1.767500e+07  9.202896e+09    30.250000\n",
       "14          2019  684.000000  1.340000e+07  1.092248e+09    12.000000"
      ]
     },
     "execution_count": 25,
     "metadata": {},
     "output_type": "execute_result"
    }
   ],
   "source": [
    "year_mean=df.groupby('Release Date').mean().reset_index()\n",
    "year_mean"
   ]
  },
  {
   "cell_type": "code",
   "execution_count": 26,
   "metadata": {},
   "outputs": [],
   "source": [
    "# def pltplot(data, xcol, ycol, color, ax, title):\n",
    "#     sns.pointplot(data=data, x=xcol, y=ycol, color=color, ax=ax).set_title(title, size=10)"
   ]
  },
  {
   "cell_type": "code",
   "execution_count": 27,
   "metadata": {},
   "outputs": [],
   "source": [
    "# custom_palette = sns.color_palette(\"Paired\", 9)\n",
    "# sns.palplot(custom_palette)"
   ]
  },
  {
   "cell_type": "code",
   "execution_count": 28,
   "metadata": {},
   "outputs": [],
   "source": [
    "# import matplotlib as mpl\n",
    "# font_paths = mpl.font_manager.findSystemFonts()\n",
    "# font_objects = mpl.font_manager.createFontList(font_paths)\n",
    "# font_names = [f.name for f in font_objects]\n",
    "# print (font_names)"
   ]
  },
  {
   "cell_type": "code",
   "execution_count": 29,
   "metadata": {},
   "outputs": [],
   "source": [
    "# sns.set(font=\"Verdana\")"
   ]
  },
  {
   "cell_type": "code",
   "execution_count": 30,
   "metadata": {},
   "outputs": [],
   "source": [
    "# subscribers=df.sort_values('Subscribers',ascending=False)\n",
    "# plt.figure(figsize=(25,10))\n",
    "# Subscribers=subscribers[:5]\n",
    "# plt.barplot(x='Artist' ,\n",
    "#            y=\"Subscribers\",\n",
    "#            data=subscribers,\n",
    "#            palette=\"ch:20_r\")\n",
    "# plt.title('Top 5 Categories that have subscribers',size=20);"
   ]
  },
  {
   "cell_type": "code",
   "execution_count": 31,
   "metadata": {},
   "outputs": [],
   "source": [
    "# subscribers=df.sort_values('Subscribers',ascending=False)\n",
    "# plt.figure(figsize=(25,10))\n",
    "# Subscribers='Subscribers'[ :20]\n",
    "# sns.barplot(x=\"Artist\",\n",
    "#            y=\"Subscribers\",\n",
    "#            data=Subscribers,\n",
    "#            palette=custom_palette\n",
    "# plt.title('Top Channels', size 20)"
   ]
  },
  {
   "cell_type": "code",
   "execution_count": 32,
   "metadata": {},
   "outputs": [
    {
     "data": {
      "image/png": "[encoded data removed]",
      "text/plain": [
       "<Figure size 1440x576 with 2 Axes>"
      ]
     },
     "metadata": {
      "needs_background": "light"
     },
     "output_type": "display_data"
    }
   ],
   "source": [
    "plt.figure(figsize=(20,8))\n",
    "sns.set_theme('notebook')\n",
    "sns.heatmap(df.corr(), annot=True, center=True);"
   ]
  },
  {
   "cell_type": "code",
   "execution_count": 33,
   "metadata": {},
   "outputs": [
    {
     "data": {
      "application/vnd.plotly.v1+json": {
       "config": {
        "plotlyServerURL": "https://plot.ly"
       },
       "data": [
        {
         "hovertemplate": "Artist=T-Series<br>Video Count=%{x}<br>Views=%{marker.size}<extra></extra>",
         "legendgroup": "T-Series",
         "marker": {
          "color": "#636efa",
          "size": [
           198459000000
          ],
          "sizemode": "area",
          "sizeref": 79383600,
          "symbol": "circle"
         },
         "mode": "markers",
         "name": "T-Series",
         "orientation": "v",
         "showlegend": true,
         "type": "scatter",
         "x": [
          17317
         ],
         "xaxis": "x",
         "y": [
          198459000000
         ],
         "yaxis": "y"
        },
        {
         "alignmentgroup": "True",
         "boxpoints": "all",
         "fillcolor": "rgba(255,255,255,0)",
         "hoveron": "points",
         "hovertemplate": "Artist=T-Series<br>Views=%{y}<extra></extra>",
         "jitter": 0,
         "legendgroup": "T-Series",
         "line": {
          "color": "rgba(255,255,255,0)"
         },
         "marker": {
          "color": "#636efa",
          "symbol": "line-ew-open"
         },
         "name": "T-Series",
         "offsetgroup": "T-Series",
         "showlegend": false,
         "type": "box",
         "xaxis": "x2",
         "y": [
          198459000000
         ],
         "yaxis": "y2"
        },
        {
         "hovertemplate": "Artist=Zee Music Company<br>Video Count=%{x}<br>Views=%{marker.size}<extra></extra>",
         "legendgroup": "Zee Music Company",
         "marker": {
          "color": "#EF553B",
          "size": [
           49067711243
          ],
          "sizemode": "area",
          "sizeref": 79383600,
          "symbol": "circle"
         },
         "mode": "markers",
         "name": "Zee Music Company",
         "orientation": "v",
         "showlegend": true,
         "type": "scatter",
         "x": [
          6603
         ],
         "xaxis": "x",
         "y": [
          49067711243
         ],
         "yaxis": "y"
        },
        {
         "alignmentgroup": "True",
         "boxpoints": "all",
         "fillcolor": "rgba(255,255,255,0)",
         "hoveron": "points",
         "hovertemplate": "Artist=Zee Music Company<br>Views=%{y}<extra></extra>",
         "jitter": 0,
         "legendgroup": "Zee Music Company",
         "line": {
          "color": "rgba(255,255,255,0)"
         },
         "marker": {
          "color": "#EF553B",
          "symbol": "line-ew-open"
         },
         "name": "Zee Music Company",
         "offsetgroup": "Zee Music Company",
         "showlegend": false,
         "type": "box",
         "xaxis": "x2",
         "y": [
          49067711243
         ],
         "yaxis": "y2"
        },
        {
         "hovertemplate": "Artist=BANGTANTV<br>Video Count=%{x}<br>Views=%{marker.size}<extra></extra>",
         "legendgroup": "BANGTANTV",
         "marker": {
          "color": "#00cc96",
          "size": [
           17471090750
          ],
          "sizemode": "area",
          "sizeref": 79383600,
          "symbol": "circle"
         },
         "mode": "markers",
         "name": "BANGTANTV",
         "orientation": "v",
         "showlegend": true,
         "type": "scatter",
         "x": [
          1787
         ],
         "xaxis": "x",
         "y": [
          17471090750
         ],
         "yaxis": "y"
        },
        {
         "alignmentgroup": "True",
         "boxpoints": "all",
         "fillcolor": "rgba(255,255,255,0)",
         "hoveron": "points",
         "hovertemplate": "Artist=BANGTANTV<br>Views=%{y}<extra></extra>",
         "jitter": 0,
         "legendgroup": "BANGTANTV",
         "line": {
          "color": "rgba(255,255,255,0)"
         },
         "marker": {
          "color": "#00cc96",
          "symbol": "line-ew-open"
         },
         "name": "BANGTANTV",
         "offsetgroup": "BANGTANTV",
         "showlegend": false,
         "type": "box",
         "xaxis": "x2",
         "y": [
          17471090750
         ],
         "yaxis": "y2"
        },
        {
         "hovertemplate": "Artist=Justin Bieber<br>Video Count=%{x}<br>Views=%{marker.size}<extra></extra>",
         "legendgroup": "Justin Bieber",
         "marker": {
          "color": "#ab63fa",
          "size": [
           28567240999
          ],
          "sizemode": "area",
          "sizeref": 79383600,
          "symbol": "circle"
         },
         "mode": "markers",
         "name": "Justin Bieber",
         "orientation": "v",
         "showlegend": true,
         "type": "scatter",
         "x": [
          247
         ],
         "xaxis": "x",
         "y": [
          28567240999
         ],
         "yaxis": "y"
        },
        {
         "alignmentgroup": "True",
         "boxpoints": "all",
         "fillcolor": "rgba(255,255,255,0)",
         "hoveron": "points",
         "hovertemplate": "Artist=Justin Bieber<br>Views=%{y}<extra></extra>",
         "jitter": 0,
         "legendgroup": "Justin Bieber",
         "line": {
          "color": "rgba(255,255,255,0)"
         },
         "marker": {
          "color": "#ab63fa",
          "symbol": "line-ew-open"
         },
         "name": "Justin Bieber",
         "offsetgroup": "Justin Bieber",
         "showlegend": false,
         "type": "box",
         "xaxis": "x2",
         "y": [
          28567240999
         ],
         "yaxis": "y2"
        },
        {
         "hovertemplate": "Artist=HYBE LABELS<br>Video Count=%{x}<br>Views=%{marker.size}<extra></extra>",
         "legendgroup": "HYBE LABELS",
         "marker": {
          "color": "#FFA15A",
          "size": [
           24013849120
          ],
          "sizemode": "area",
          "sizeref": 79383600,
          "symbol": "circle"
         },
         "mode": "markers",
         "name": "HYBE LABELS",
         "orientation": "v",
         "showlegend": true,
         "type": "scatter",
         "x": [
          971
         ],
         "xaxis": "x",
         "y": [
          24013849120
         ],
         "yaxis": "y"
        },
        {
         "alignmentgroup": "True",
         "boxpoints": "all",
         "fillcolor": "rgba(255,255,255,0)",
         "hoveron": "points",
         "hovertemplate": "Artist=HYBE LABELS<br>Views=%{y}<extra></extra>",
         "jitter": 0,
         "legendgroup": "HYBE LABELS",
         "line": {
          "color": "rgba(255,255,255,0)"
         },
         "marker": {
          "color": "#FFA15A",
          "symbol": "line-ew-open"
         },
         "name": "HYBE LABELS",
         "offsetgroup": "HYBE LABELS",
         "showlegend": false,
         "type": "box",
         "xaxis": "x2",
         "y": [
          24013849120
         ],
         "yaxis": "y2"
        },
        {
         "hovertemplate": "Artist=Canal KondZilla<br>Video Count=%{x}<br>Views=%{marker.size}<extra></extra>",
         "legendgroup": "Canal KondZilla",
         "marker": {
          "color": "#19d3f3",
          "size": [
           36576704790
          ],
          "sizemode": "area",
          "sizeref": 79383600,
          "symbol": "circle"
         },
         "mode": "markers",
         "name": "Canal KondZilla",
         "orientation": "v",
         "showlegend": true,
         "type": "scatter",
         "x": [
          2313
         ],
         "xaxis": "x",
         "y": [
          36576704790
         ],
         "yaxis": "y"
        },
        {
         "alignmentgroup": "True",
         "boxpoints": "all",
         "fillcolor": "rgba(255,255,255,0)",
         "hoveron": "points",
         "hovertemplate": "Artist=Canal KondZilla<br>Views=%{y}<extra></extra>",
         "jitter": 0,
         "legendgroup": "Canal KondZilla",
         "line": {
          "color": "rgba(255,255,255,0)"
         },
         "marker": {
          "color": "#19d3f3",
          "symbol": "line-ew-open"
         },
         "name": "Canal KondZilla",
         "offsetgroup": "Canal KondZilla",
         "showlegend": false,
         "type": "box",
         "xaxis": "x2",
         "y": [
          36576704790
         ],
         "yaxis": "y2"
        },
        {
         "hovertemplate": "Artist=Shemaroo Filmi Gaane<br>Video Count=%{x}<br>Views=%{marker.size}<extra></extra>",
         "legendgroup": "Shemaroo Filmi Gaane",
         "marker": {
          "color": "#FF6692",
          "size": [
           28579945247
          ],
          "sizemode": "area",
          "sizeref": 79383600,
          "symbol": "circle"
         },
         "mode": "markers",
         "name": "Shemaroo Filmi Gaane",
         "orientation": "v",
         "showlegend": true,
         "type": "scatter",
         "x": [
          7884
         ],
         "xaxis": "x",
         "y": [
          28579945247
         ],
         "yaxis": "y"
        },
        {
         "alignmentgroup": "True",
         "boxpoints": "all",
         "fillcolor": "rgba(255,255,255,0)",
         "hoveron": "points",
         "hovertemplate": "Artist=Shemaroo Filmi Gaane<br>Views=%{y}<extra></extra>",
         "jitter": 0,
         "legendgroup": "Shemaroo Filmi Gaane",
         "line": {
          "color": "rgba(255,255,255,0)"
         },
         "marker": {
          "color": "#FF6692",
          "symbol": "line-ew-open"
         },
         "name": "Shemaroo Filmi Gaane",
         "offsetgroup": "Shemaroo Filmi Gaane",
         "showlegend": false,
         "type": "box",
         "xaxis": "x2",
         "y": [
          28579945247
         ],
         "yaxis": "y2"
        },
        {
         "hovertemplate": "Artist=Wave Music<br>Video Count=%{x}<br>Views=%{marker.size}<extra></extra>",
         "legendgroup": "Wave Music",
         "marker": {
          "color": "#B6E880",
          "size": [
           37230876862
          ],
          "sizemode": "area",
          "sizeref": 79383600,
          "symbol": "circle"
         },
         "mode": "markers",
         "name": "Wave Music",
         "orientation": "v",
         "showlegend": true,
         "type": "scatter",
         "x": [
          18622
         ],
         "xaxis": "x",
         "y": [
          37230876862
         ],
         "yaxis": "y"
        },
        {
         "alignmentgroup": "True",
         "boxpoints": "all",
         "fillcolor": "rgba(255,255,255,0)",
         "hoveron": "points",
         "hovertemplate": "Artist=Wave Music<br>Views=%{y}<extra></extra>",
         "jitter": 0,
         "legendgroup": "Wave Music",
         "line": {
          "color": "rgba(255,255,255,0)"
         },
         "marker": {
          "color": "#B6E880",
          "symbol": "line-ew-open"
         },
         "name": "Wave Music",
         "offsetgroup": "Wave Music",
         "showlegend": false,
         "type": "box",
         "xaxis": "x2",
         "y": [
          37230876862
         ],
         "yaxis": "y2"
        },
        {
         "hovertemplate": "Artist=EminemMusic<br>Video Count=%{x}<br>Views=%{marker.size}<extra></extra>",
         "legendgroup": "EminemMusic",
         "marker": {
          "color": "#FF97FF",
          "size": [
           23717869724
          ],
          "sizemode": "area",
          "sizeref": 79383600,
          "symbol": "circle"
         },
         "mode": "markers",
         "name": "EminemMusic",
         "orientation": "v",
         "showlegend": true,
         "type": "scatter",
         "x": [
          140
         ],
         "xaxis": "x",
         "y": [
          23717869724
         ],
         "yaxis": "y"
        },
        {
         "alignmentgroup": "True",
         "boxpoints": "all",
         "fillcolor": "rgba(255,255,255,0)",
         "hoveron": "points",
         "hovertemplate": "Artist=EminemMusic<br>Views=%{y}<extra></extra>",
         "jitter": 0,
         "legendgroup": "EminemMusic",
         "line": {
          "color": "rgba(255,255,255,0)"
         },
         "marker": {
          "color": "#FF97FF",
          "symbol": "line-ew-open"
         },
         "name": "EminemMusic",
         "offsetgroup": "EminemMusic",
         "showlegend": false,
         "type": "box",
         "xaxis": "x2",
         "y": [
          23717869724
         ],
         "yaxis": "y2"
        },
        {
         "hovertemplate": "Artist=Tips Official<br>Video Count=%{x}<br>Views=%{marker.size}<extra></extra>",
         "legendgroup": "Tips Official",
         "marker": {
          "color": "#FECB52",
          "size": [
           27883080973
          ],
          "sizemode": "area",
          "sizeref": 79383600,
          "symbol": "circle"
         },
         "mode": "markers",
         "name": "Tips Official",
         "orientation": "v",
         "showlegend": true,
         "type": "scatter",
         "x": [
          3612
         ],
         "xaxis": "x",
         "y": [
          27883080973
         ],
         "yaxis": "y"
        },
        {
         "alignmentgroup": "True",
         "boxpoints": "all",
         "fillcolor": "rgba(255,255,255,0)",
         "hoveron": "points",
         "hovertemplate": "Artist=Tips Official<br>Views=%{y}<extra></extra>",
         "jitter": 0,
         "legendgroup": "Tips Official",
         "line": {
          "color": "rgba(255,255,255,0)"
         },
         "marker": {
          "color": "#FECB52",
          "symbol": "line-ew-open"
         },
         "name": "Tips Official",
         "offsetgroup": "Tips Official",
         "showlegend": false,
         "type": "box",
         "xaxis": "x2",
         "y": [
          27883080973
         ],
         "yaxis": "y2"
        },
        {
         "hovertemplate": "Artist=T-Series Bhakti Sagar<br>Video Count=%{x}<br>Views=%{marker.size}<extra></extra>",
         "legendgroup": "T-Series Bhakti Sagar",
         "marker": {
          "color": "#636efa",
          "size": [
           24278576197
          ],
          "sizemode": "area",
          "sizeref": 79383600,
          "symbol": "circle"
         },
         "mode": "markers",
         "name": "T-Series Bhakti Sagar",
         "orientation": "v",
         "showlegend": true,
         "type": "scatter",
         "x": [
          23870
         ],
         "xaxis": "x",
         "y": [
          24278576197
         ],
         "yaxis": "y"
        },
        {
         "alignmentgroup": "True",
         "boxpoints": "all",
         "fillcolor": "rgba(255,255,255,0)",
         "hoveron": "points",
         "hovertemplate": "Artist=T-Series Bhakti Sagar<br>Views=%{y}<extra></extra>",
         "jitter": 0,
         "legendgroup": "T-Series Bhakti Sagar",
         "line": {
          "color": "rgba(255,255,255,0)"
         },
         "marker": {
          "color": "#636efa",
          "symbol": "line-ew-open"
         },
         "name": "T-Series Bhakti Sagar",
         "offsetgroup": "T-Series Bhakti Sagar",
         "showlegend": false,
         "type": "box",
         "xaxis": "x2",
         "y": [
          24278576197
         ],
         "yaxis": "y2"
        },
        {
         "hovertemplate": "Artist=Sony Music India<br>Video Count=%{x}<br>Views=%{marker.size}<extra></extra>",
         "legendgroup": "Sony Music India",
         "marker": {
          "color": "#EF553B",
          "size": [
           24856641898
          ],
          "sizemode": "area",
          "sizeref": 79383600,
          "symbol": "circle"
         },
         "mode": "markers",
         "name": "Sony Music India",
         "orientation": "v",
         "showlegend": true,
         "type": "scatter",
         "x": [
          3180
         ],
         "xaxis": "x",
         "y": [
          24856641898
         ],
         "yaxis": "y"
        },
        {
         "alignmentgroup": "True",
         "boxpoints": "all",
         "fillcolor": "rgba(255,255,255,0)",
         "hoveron": "points",
         "hovertemplate": "Artist=Sony Music India<br>Views=%{y}<extra></extra>",
         "jitter": 0,
         "legendgroup": "Sony Music India",
         "line": {
          "color": "rgba(255,255,255,0)"
         },
         "marker": {
          "color": "#EF553B",
          "symbol": "line-ew-open"
         },
         "name": "Sony Music India",
         "offsetgroup": "Sony Music India",
         "showlegend": false,
         "type": "box",
         "xaxis": "x2",
         "y": [
          24856641898
         ],
         "yaxis": "y2"
        },
        {
         "hovertemplate": "Artist=Ed Sheeran<br>Video Count=%{x}<br>Views=%{marker.size}<extra></extra>",
         "legendgroup": "Ed Sheeran",
         "marker": {
          "color": "#00cc96",
          "size": [
           27881781761
          ],
          "sizemode": "area",
          "sizeref": 79383600,
          "symbol": "circle"
         },
         "mode": "markers",
         "name": "Ed Sheeran",
         "orientation": "v",
         "showlegend": true,
         "type": "scatter",
         "x": [
          253
         ],
         "xaxis": "x",
         "y": [
          27881781761
         ],
         "yaxis": "y"
        },
        {
         "alignmentgroup": "True",
         "boxpoints": "all",
         "fillcolor": "rgba(255,255,255,0)",
         "hoveron": "points",
         "hovertemplate": "Artist=Ed Sheeran<br>Views=%{y}<extra></extra>",
         "jitter": 0,
         "legendgroup": "Ed Sheeran",
         "line": {
          "color": "rgba(255,255,255,0)"
         },
         "marker": {
          "color": "#00cc96",
          "symbol": "line-ew-open"
         },
         "name": "Ed Sheeran",
         "offsetgroup": "Ed Sheeran",
         "showlegend": false,
         "type": "box",
         "xaxis": "x2",
         "y": [
          27881781761
         ],
         "yaxis": "y2"
        },
        {
         "hovertemplate": "Artist=El Reino Infantil<br>Video Count=%{x}<br>Views=%{marker.size}<extra></extra>",
         "legendgroup": "El Reino Infantil",
         "marker": {
          "color": "#ab63fa",
          "size": [
           49895247456
          ],
          "sizemode": "area",
          "sizeref": 79383600,
          "symbol": "circle"
         },
         "mode": "markers",
         "name": "El Reino Infantil",
         "orientation": "v",
         "showlegend": true,
         "type": "scatter",
         "x": [
          1309
         ],
         "xaxis": "x",
         "y": [
          49895247456
         ],
         "yaxis": "y"
        },
        {
         "alignmentgroup": "True",
         "boxpoints": "all",
         "fillcolor": "rgba(255,255,255,0)",
         "hoveron": "points",
         "hovertemplate": "Artist=El Reino Infantil<br>Views=%{y}<extra></extra>",
         "jitter": 0,
         "legendgroup": "El Reino Infantil",
         "line": {
          "color": "rgba(255,255,255,0)"
         },
         "marker": {
          "color": "#ab63fa",
          "symbol": "line-ew-open"
         },
         "name": "El Reino Infantil",
         "offsetgroup": "El Reino Infantil",
         "showlegend": false,
         "type": "box",
         "xaxis": "x2",
         "y": [
          49895247456
         ],
         "yaxis": "y2"
        },
        {
         "hovertemplate": "Artist=Ariana Grande<br>Video Count=%{x}<br>Views=%{marker.size}<extra></extra>",
         "legendgroup": "Ariana Grande",
         "marker": {
          "color": "#FFA15A",
          "size": [
           22158094076
          ],
          "sizemode": "area",
          "sizeref": 79383600,
          "symbol": "circle"
         },
         "mode": "markers",
         "name": "Ariana Grande",
         "orientation": "v",
         "showlegend": true,
         "type": "scatter",
         "x": [
          146
         ],
         "xaxis": "x",
         "y": [
          22158094076
         ],
         "yaxis": "y"
        },
        {
         "alignmentgroup": "True",
         "boxpoints": "all",
         "fillcolor": "rgba(255,255,255,0)",
         "hoveron": "points",
         "hovertemplate": "Artist=Ariana Grande<br>Views=%{y}<extra></extra>",
         "jitter": 0,
         "legendgroup": "Ariana Grande",
         "line": {
          "color": "rgba(255,255,255,0)"
         },
         "marker": {
          "color": "#FFA15A",
          "symbol": "line-ew-open"
         },
         "name": "Ariana Grande",
         "offsetgroup": "Ariana Grande",
         "showlegend": false,
         "type": "box",
         "xaxis": "x2",
         "y": [
          22158094076
         ],
         "yaxis": "y2"
        },
        {
         "hovertemplate": "Artist=LooLoo Kids - Nursery Rhymes and Children's Songs<br>Video Count=%{x}<br>Views=%{marker.size}<extra></extra>",
         "legendgroup": "LooLoo Kids - Nursery Rhymes and Children's Songs",
         "marker": {
          "color": "#19d3f3",
          "size": [
           29013984394
          ],
          "sizemode": "area",
          "sizeref": 79383600,
          "symbol": "circle"
         },
         "mode": "markers",
         "name": "LooLoo Kids - Nursery Rhymes and Children's Songs",
         "orientation": "v",
         "showlegend": true,
         "type": "scatter",
         "x": [
          553
         ],
         "xaxis": "x",
         "y": [
          29013984394
         ],
         "yaxis": "y"
        },
        {
         "alignmentgroup": "True",
         "boxpoints": "all",
         "fillcolor": "rgba(255,255,255,0)",
         "hoveron": "points",
         "hovertemplate": "Artist=LooLoo Kids - Nursery Rhymes and Children's Songs<br>Views=%{y}<extra></extra>",
         "jitter": 0,
         "legendgroup": "LooLoo Kids - Nursery Rhymes and Children's Songs",
         "line": {
          "color": "rgba(255,255,255,0)"
         },
         "marker": {
          "color": "#19d3f3",
          "symbol": "line-ew-open"
         },
         "name": "LooLoo Kids - Nursery Rhymes and Children's Songs",
         "offsetgroup": "LooLoo Kids - Nursery Rhymes and Children's Songs",
         "showlegend": false,
         "type": "box",
         "xaxis": "x2",
         "y": [
          29013984394
         ],
         "yaxis": "y2"
        },
        {
         "hovertemplate": "Artist=Taylor Swift<br>Video Count=%{x}<br>Views=%{marker.size}<extra></extra>",
         "legendgroup": "Taylor Swift",
         "marker": {
          "color": "#FF6692",
          "size": [
           25563795998
          ],
          "sizemode": "area",
          "sizeref": 79383600,
          "symbol": "circle"
         },
         "mode": "markers",
         "name": "Taylor Swift",
         "orientation": "v",
         "showlegend": true,
         "type": "scatter",
         "x": [
          189
         ],
         "xaxis": "x",
         "y": [
          25563795998
         ],
         "yaxis": "y"
        },
        {
         "alignmentgroup": "True",
         "boxpoints": "all",
         "fillcolor": "rgba(255,255,255,0)",
         "hoveron": "points",
         "hovertemplate": "Artist=Taylor Swift<br>Views=%{y}<extra></extra>",
         "jitter": 0,
         "legendgroup": "Taylor Swift",
         "line": {
          "color": "rgba(255,255,255,0)"
         },
         "marker": {
          "color": "#FF6692",
          "symbol": "line-ew-open"
         },
         "name": "Taylor Swift",
         "offsetgroup": "Taylor Swift",
         "showlegend": false,
         "type": "box",
         "xaxis": "x2",
         "y": [
          25563795998
         ],
         "yaxis": "y2"
        },
        {
         "hovertemplate": "Artist=Billie Eilish<br>Video Count=%{x}<br>Views=%{marker.size}<extra></extra>",
         "legendgroup": "Billie Eilish",
         "marker": {
          "color": "#B6E880",
          "size": [
           11999349578
          ],
          "sizemode": "area",
          "sizeref": 79383600,
          "symbol": "circle"
         },
         "mode": "markers",
         "name": "Billie Eilish",
         "orientation": "v",
         "showlegend": true,
         "type": "scatter",
         "x": [
          48
         ],
         "xaxis": "x",
         "y": [
          11999349578
         ],
         "yaxis": "y"
        },
        {
         "alignmentgroup": "True",
         "boxpoints": "all",
         "fillcolor": "rgba(255,255,255,0)",
         "hoveron": "points",
         "hovertemplate": "Artist=Billie Eilish<br>Views=%{y}<extra></extra>",
         "jitter": 0,
         "legendgroup": "Billie Eilish",
         "line": {
          "color": "rgba(255,255,255,0)"
         },
         "marker": {
          "color": "#B6E880",
          "symbol": "line-ew-open"
         },
         "name": "Billie Eilish",
         "offsetgroup": "Billie Eilish",
         "showlegend": false,
         "type": "box",
         "xaxis": "x2",
         "y": [
          11999349578
         ],
         "yaxis": "y2"
        },
        {
         "hovertemplate": "Artist=Katy Perry<br>Video Count=%{x}<br>Views=%{marker.size}<extra></extra>",
         "legendgroup": "Katy Perry",
         "marker": {
          "color": "#FF97FF",
          "size": [
           23966278157
          ],
          "sizemode": "area",
          "sizeref": 79383600,
          "symbol": "circle"
         },
         "mode": "markers",
         "name": "Katy Perry",
         "orientation": "v",
         "showlegend": true,
         "type": "scatter",
         "x": [
          118
         ],
         "xaxis": "x",
         "y": [
          23966278157
         ],
         "yaxis": "y"
        },
        {
         "alignmentgroup": "True",
         "boxpoints": "all",
         "fillcolor": "rgba(255,255,255,0)",
         "hoveron": "points",
         "hovertemplate": "Artist=Katy Perry<br>Views=%{y}<extra></extra>",
         "jitter": 0,
         "legendgroup": "Katy Perry",
         "line": {
          "color": "rgba(255,255,255,0)"
         },
         "marker": {
          "color": "#FF97FF",
          "symbol": "line-ew-open"
         },
         "name": "Katy Perry",
         "offsetgroup": "Katy Perry",
         "showlegend": false,
         "type": "box",
         "xaxis": "x2",
         "y": [
          23966278157
         ],
         "yaxis": "y2"
        },
        {
         "hovertemplate": "Artist=SonyMusicIndiaVEVO<br>Video Count=%{x}<br>Views=%{marker.size}<extra></extra>",
         "legendgroup": "SonyMusicIndiaVEVO",
         "marker": {
          "color": "#FECB52",
          "size": [
           23991411417
          ],
          "sizemode": "area",
          "sizeref": 79383600,
          "symbol": "circle"
         },
         "mode": "markers",
         "name": "SonyMusicIndiaVEVO",
         "orientation": "v",
         "showlegend": true,
         "type": "scatter",
         "x": [
          3309
         ],
         "xaxis": "x",
         "y": [
          23991411417
         ],
         "yaxis": "y"
        },
        {
         "alignmentgroup": "True",
         "boxpoints": "all",
         "fillcolor": "rgba(255,255,255,0)",
         "hoveron": "points",
         "hovertemplate": "Artist=SonyMusicIndiaVEVO<br>Views=%{y}<extra></extra>",
         "jitter": 0,
         "legendgroup": "SonyMusicIndiaVEVO",
         "line": {
          "color": "rgba(255,255,255,0)"
         },
         "marker": {
          "color": "#FECB52",
          "symbol": "line-ew-open"
         },
         "name": "SonyMusicIndiaVEVO",
         "offsetgroup": "SonyMusicIndiaVEVO",
         "showlegend": false,
         "type": "box",
         "xaxis": "x2",
         "y": [
          23991411417
         ],
         "yaxis": "y2"
        },
        {
         "hovertemplate": "Artist=Bad Bunny<br>Video Count=%{x}<br>Views=%{marker.size}<extra></extra>",
         "legendgroup": "Bad Bunny",
         "marker": {
          "color": "#636efa",
          "size": [
           23748805401
          ],
          "sizemode": "area",
          "sizeref": 79383600,
          "symbol": "circle"
         },
         "mode": "markers",
         "name": "Bad Bunny",
         "orientation": "v",
         "showlegend": true,
         "type": "scatter",
         "x": [
          123
         ],
         "xaxis": "x",
         "y": [
          23748805401
         ],
         "yaxis": "y"
        },
        {
         "alignmentgroup": "True",
         "boxpoints": "all",
         "fillcolor": "rgba(255,255,255,0)",
         "hoveron": "points",
         "hovertemplate": "Artist=Bad Bunny<br>Views=%{y}<extra></extra>",
         "jitter": 0,
         "legendgroup": "Bad Bunny",
         "line": {
          "color": "rgba(255,255,255,0)"
         },
         "marker": {
          "color": "#636efa",
          "symbol": "line-ew-open"
         },
         "name": "Bad Bunny",
         "offsetgroup": "Bad Bunny",
         "showlegend": false,
         "type": "box",
         "xaxis": "x2",
         "y": [
          23748805401
         ],
         "yaxis": "y2"
        },
        {
         "hovertemplate": "Artist=Alan Walker<br>Video Count=%{x}<br>Views=%{marker.size}<extra></extra>",
         "legendgroup": "Alan Walker",
         "marker": {
          "color": "#EF553B",
          "size": [
           11731228995
          ],
          "sizemode": "area",
          "sizeref": 79383600,
          "symbol": "circle"
         },
         "mode": "markers",
         "name": "Alan Walker",
         "orientation": "v",
         "showlegend": true,
         "type": "scatter",
         "x": [
          318
         ],
         "xaxis": "x",
         "y": [
          11731228995
         ],
         "yaxis": "y"
        },
        {
         "alignmentgroup": "True",
         "boxpoints": "all",
         "fillcolor": "rgba(255,255,255,0)",
         "hoveron": "points",
         "hovertemplate": "Artist=Alan Walker<br>Views=%{y}<extra></extra>",
         "jitter": 0,
         "legendgroup": "Alan Walker",
         "line": {
          "color": "rgba(255,255,255,0)"
         },
         "marker": {
          "color": "#EF553B",
          "symbol": "line-ew-open"
         },
         "name": "Alan Walker",
         "offsetgroup": "Alan Walker",
         "showlegend": false,
         "type": "box",
         "xaxis": "x2",
         "y": [
          11731228995
         ],
         "yaxis": "y2"
        },
        {
         "hovertemplate": "Artist=Speed Records<br>Video Count=%{x}<br>Views=%{marker.size}<extra></extra>",
         "legendgroup": "Speed Records",
         "marker": {
          "color": "#00cc96",
          "size": [
           24558172214
          ],
          "sizemode": "area",
          "sizeref": 79383600,
          "symbol": "circle"
         },
         "mode": "markers",
         "name": "Speed Records",
         "orientation": "v",
         "showlegend": true,
         "type": "scatter",
         "x": [
          10327
         ],
         "xaxis": "x",
         "y": [
          24558172214
         ],
         "yaxis": "y"
        },
        {
         "alignmentgroup": "True",
         "boxpoints": "all",
         "fillcolor": "rgba(255,255,255,0)",
         "hoveron": "points",
         "hovertemplate": "Artist=Speed Records<br>Views=%{y}<extra></extra>",
         "jitter": 0,
         "legendgroup": "Speed Records",
         "line": {
          "color": "rgba(255,255,255,0)"
         },
         "marker": {
          "color": "#00cc96",
          "symbol": "line-ew-open"
         },
         "name": "Speed Records",
         "offsetgroup": "Speed Records",
         "showlegend": false,
         "type": "box",
         "xaxis": "x2",
         "y": [
          24558172214
         ],
         "yaxis": "y2"
        },
        {
         "hovertemplate": "Artist=GR6 EXPLODE<br>Video Count=%{x}<br>Views=%{marker.size}<extra></extra>",
         "legendgroup": "GR6 EXPLODE",
         "marker": {
          "color": "#ab63fa",
          "size": [
           23912270526
          ],
          "sizemode": "area",
          "sizeref": 79383600,
          "symbol": "circle"
         },
         "mode": "markers",
         "name": "GR6 EXPLODE",
         "orientation": "v",
         "showlegend": true,
         "type": "scatter",
         "x": [
          4180
         ],
         "xaxis": "x",
         "y": [
          23912270526
         ],
         "yaxis": "y"
        },
        {
         "alignmentgroup": "True",
         "boxpoints": "all",
         "fillcolor": "rgba(255,255,255,0)",
         "hoveron": "points",
         "hovertemplate": "Artist=GR6 EXPLODE<br>Views=%{y}<extra></extra>",
         "jitter": 0,
         "legendgroup": "GR6 EXPLODE",
         "line": {
          "color": "rgba(255,255,255,0)"
         },
         "marker": {
          "color": "#ab63fa",
          "symbol": "line-ew-open"
         },
         "name": "GR6 EXPLODE",
         "offsetgroup": "GR6 EXPLODE",
         "showlegend": false,
         "type": "box",
         "xaxis": "x2",
         "y": [
          23912270526
         ],
         "yaxis": "y2"
        },
        {
         "hovertemplate": "Artist=XXXTENTACION<br>Video Count=%{x}<br>Views=%{marker.size}<extra></extra>",
         "legendgroup": "XXXTENTACION",
         "marker": {
          "color": "#FFA15A",
          "size": [
           9725253939
          ],
          "sizemode": "area",
          "sizeref": 79383600,
          "symbol": "circle"
         },
         "mode": "markers",
         "name": "XXXTENTACION",
         "orientation": "v",
         "showlegend": true,
         "type": "scatter",
         "x": [
          126
         ],
         "xaxis": "x",
         "y": [
          9725253939
         ],
         "yaxis": "y"
        },
        {
         "alignmentgroup": "True",
         "boxpoints": "all",
         "fillcolor": "rgba(255,255,255,0)",
         "hoveron": "points",
         "hovertemplate": "Artist=XXXTENTACION<br>Views=%{y}<extra></extra>",
         "jitter": 0,
         "legendgroup": "XXXTENTACION",
         "line": {
          "color": "rgba(255,255,255,0)"
         },
         "marker": {
          "color": "#FFA15A",
          "symbol": "line-ew-open"
         },
         "name": "XXXTENTACION",
         "offsetgroup": "XXXTENTACION",
         "showlegend": false,
         "type": "box",
         "xaxis": "x2",
         "y": [
          9725253939
         ],
         "yaxis": "y2"
        },
        {
         "hovertemplate": "Artist=One Direction<br>Video Count=%{x}<br>Views=%{marker.size}<extra></extra>",
         "legendgroup": "One Direction",
         "marker": {
          "color": "#19d3f3",
          "size": [
           12698961117
          ],
          "sizemode": "area",
          "sizeref": 79383600,
          "symbol": "circle"
         },
         "mode": "markers",
         "name": "One Direction",
         "orientation": "v",
         "showlegend": true,
         "type": "scatter",
         "x": [
          157
         ],
         "xaxis": "x",
         "y": [
          12698961117
         ],
         "yaxis": "y"
        },
        {
         "alignmentgroup": "True",
         "boxpoints": "all",
         "fillcolor": "rgba(255,255,255,0)",
         "hoveron": "points",
         "hovertemplate": "Artist=One Direction<br>Views=%{y}<extra></extra>",
         "jitter": 0,
         "legendgroup": "One Direction",
         "line": {
          "color": "rgba(255,255,255,0)"
         },
         "marker": {
          "color": "#19d3f3",
          "symbol": "line-ew-open"
         },
         "name": "One Direction",
         "offsetgroup": "One Direction",
         "showlegend": false,
         "type": "box",
         "xaxis": "x2",
         "y": [
          12698961117
         ],
         "yaxis": "y2"
        },
        {
         "hovertemplate": "Artist=Daddy Yankee<br>Video Count=%{x}<br>Views=%{marker.size}<extra></extra>",
         "legendgroup": "Daddy Yankee",
         "marker": {
          "color": "#FF6692",
          "size": [
           20479831396
          ],
          "sizemode": "area",
          "sizeref": 79383600,
          "symbol": "circle"
         },
         "mode": "markers",
         "name": "Daddy Yankee",
         "orientation": "v",
         "showlegend": true,
         "type": "scatter",
         "x": [
          423
         ],
         "xaxis": "x",
         "y": [
          20479831396
         ],
         "yaxis": "y"
        },
        {
         "alignmentgroup": "True",
         "boxpoints": "all",
         "fillcolor": "rgba(255,255,255,0)",
         "hoveron": "points",
         "hovertemplate": "Artist=Daddy Yankee<br>Views=%{y}<extra></extra>",
         "jitter": 0,
         "legendgroup": "Daddy Yankee",
         "line": {
          "color": "rgba(255,255,255,0)"
         },
         "marker": {
          "color": "#FF6692",
          "symbol": "line-ew-open"
         },
         "name": "Daddy Yankee",
         "offsetgroup": "Daddy Yankee",
         "showlegend": false,
         "type": "box",
         "xaxis": "x2",
         "y": [
          20479831396
         ],
         "yaxis": "y2"
        },
        {
         "hovertemplate": "Artist=Maroon 5<br>Video Count=%{x}<br>Views=%{marker.size}<extra></extra>",
         "legendgroup": "Maroon 5",
         "marker": {
          "color": "#B6E880",
          "size": [
           20838666788
          ],
          "sizemode": "area",
          "sizeref": 79383600,
          "symbol": "circle"
         },
         "mode": "markers",
         "name": "Maroon 5",
         "orientation": "v",
         "showlegend": true,
         "type": "scatter",
         "x": [
          163
         ],
         "xaxis": "x",
         "y": [
          20838666788
         ],
         "yaxis": "y"
        },
        {
         "alignmentgroup": "True",
         "boxpoints": "all",
         "fillcolor": "rgba(255,255,255,0)",
         "hoveron": "points",
         "hovertemplate": "Artist=Maroon 5<br>Views=%{y}<extra></extra>",
         "jitter": 0,
         "legendgroup": "Maroon 5",
         "line": {
          "color": "rgba(255,255,255,0)"
         },
         "marker": {
          "color": "#B6E880",
          "symbol": "line-ew-open"
         },
         "name": "Maroon 5",
         "offsetgroup": "Maroon 5",
         "showlegend": false,
         "type": "box",
         "xaxis": "x2",
         "y": [
          20838666788
         ],
         "yaxis": "y2"
        },
        {
         "hovertemplate": "Artist=Bruno Mars<br>Video Count=%{x}<br>Views=%{marker.size}<extra></extra>",
         "legendgroup": "Bruno Mars",
         "marker": {
          "color": "#FF97FF",
          "size": [
           17395825825
          ],
          "sizemode": "area",
          "sizeref": 79383600,
          "symbol": "circle"
         },
         "mode": "markers",
         "name": "Bruno Mars",
         "orientation": "v",
         "showlegend": true,
         "type": "scatter",
         "x": [
          97
         ],
         "xaxis": "x",
         "y": [
          17395825825
         ],
         "yaxis": "y"
        },
        {
         "alignmentgroup": "True",
         "boxpoints": "all",
         "fillcolor": "rgba(255,255,255,0)",
         "hoveron": "points",
         "hovertemplate": "Artist=Bruno Mars<br>Views=%{y}<extra></extra>",
         "jitter": 0,
         "legendgroup": "Bruno Mars",
         "line": {
          "color": "rgba(255,255,255,0)"
         },
         "marker": {
          "color": "#FF97FF",
          "symbol": "line-ew-open"
         },
         "name": "Bruno Mars",
         "offsetgroup": "Bruno Mars",
         "showlegend": false,
         "type": "box",
         "xaxis": "x2",
         "y": [
          17395825825
         ],
         "yaxis": "y2"
        },
        {
         "hovertemplate": "Artist=Ozuna<br>Video Count=%{x}<br>Views=%{marker.size}<extra></extra>",
         "legendgroup": "Ozuna",
         "marker": {
          "color": "#FECB52",
          "size": [
           21048440606
          ],
          "sizemode": "area",
          "sizeref": 79383600,
          "symbol": "circle"
         },
         "mode": "markers",
         "name": "Ozuna",
         "orientation": "v",
         "showlegend": true,
         "type": "scatter",
         "x": [
          137
         ],
         "xaxis": "x",
         "y": [
          21048440606
         ],
         "yaxis": "y"
        },
        {
         "alignmentgroup": "True",
         "boxpoints": "all",
         "fillcolor": "rgba(255,255,255,0)",
         "hoveron": "points",
         "hovertemplate": "Artist=Ozuna<br>Views=%{y}<extra></extra>",
         "jitter": 0,
         "legendgroup": "Ozuna",
         "line": {
          "color": "rgba(255,255,255,0)"
         },
         "marker": {
          "color": "#FECB52",
          "symbol": "line-ew-open"
         },
         "name": "Ozuna",
         "offsetgroup": "Ozuna",
         "showlegend": false,
         "type": "box",
         "xaxis": "x2",
         "y": [
          21048440606
         ],
         "yaxis": "y2"
        },
        {
         "hovertemplate": "Artist=Goldmines Gaane Sune Ansune<br>Video Count=%{x}<br>Views=%{marker.size}<extra></extra>",
         "legendgroup": "Goldmines Gaane Sune Ansune",
         "marker": {
          "color": "#636efa",
          "size": [
           14212434275
          ],
          "sizemode": "area",
          "sizeref": 79383600,
          "symbol": "circle"
         },
         "mode": "markers",
         "name": "Goldmines Gaane Sune Ansune",
         "orientation": "v",
         "showlegend": true,
         "type": "scatter",
         "x": [
          3171
         ],
         "xaxis": "x",
         "y": [
          14212434275
         ],
         "yaxis": "y"
        },
        {
         "alignmentgroup": "True",
         "boxpoints": "all",
         "fillcolor": "rgba(255,255,255,0)",
         "hoveron": "points",
         "hovertemplate": "Artist=Goldmines Gaane Sune Ansune<br>Views=%{y}<extra></extra>",
         "jitter": 0,
         "legendgroup": "Goldmines Gaane Sune Ansune",
         "line": {
          "color": "rgba(255,255,255,0)"
         },
         "marker": {
          "color": "#636efa",
          "symbol": "line-ew-open"
         },
         "name": "Goldmines Gaane Sune Ansune",
         "offsetgroup": "Goldmines Gaane Sune Ansune",
         "showlegend": false,
         "type": "box",
         "xaxis": "x2",
         "y": [
          14212434275
         ],
         "yaxis": "y2"
        },
        {
         "hovertemplate": "Artist=J Balvin<br>Video Count=%{x}<br>Views=%{marker.size}<extra></extra>",
         "legendgroup": "J Balvin",
         "marker": {
          "color": "#EF553B",
          "size": [
           21489532517
          ],
          "sizemode": "area",
          "sizeref": 79383600,
          "symbol": "circle"
         },
         "mode": "markers",
         "name": "J Balvin",
         "orientation": "v",
         "showlegend": true,
         "type": "scatter",
         "x": [
          134
         ],
         "xaxis": "x",
         "y": [
          21489532517
         ],
         "yaxis": "y"
        },
        {
         "alignmentgroup": "True",
         "boxpoints": "all",
         "fillcolor": "rgba(255,255,255,0)",
         "hoveron": "points",
         "hovertemplate": "Artist=J Balvin<br>Views=%{y}<extra></extra>",
         "jitter": 0,
         "legendgroup": "J Balvin",
         "line": {
          "color": "rgba(255,255,255,0)"
         },
         "marker": {
          "color": "#EF553B",
          "symbol": "line-ew-open"
         },
         "name": "J Balvin",
         "offsetgroup": "J Balvin",
         "showlegend": false,
         "type": "box",
         "xaxis": "x2",
         "y": [
          21489532517
         ],
         "yaxis": "y2"
        },
        {
         "hovertemplate": "Artist=Desi Music Factory<br>Video Count=%{x}<br>Views=%{marker.size}<extra></extra>",
         "legendgroup": "Desi Music Factory",
         "marker": {
          "color": "#00cc96",
          "size": [
           9481987642
          ],
          "sizemode": "area",
          "sizeref": 79383600,
          "symbol": "circle"
         },
         "mode": "markers",
         "name": "Desi Music Factory",
         "orientation": "v",
         "showlegend": true,
         "type": "scatter",
         "x": [
          125
         ],
         "xaxis": "x",
         "y": [
          9481987642
         ],
         "yaxis": "y"
        },
        {
         "alignmentgroup": "True",
         "boxpoints": "all",
         "fillcolor": "rgba(255,255,255,0)",
         "hoveron": "points",
         "hovertemplate": "Artist=Desi Music Factory<br>Views=%{y}<extra></extra>",
         "jitter": 0,
         "legendgroup": "Desi Music Factory",
         "line": {
          "color": "rgba(255,255,255,0)"
         },
         "marker": {
          "color": "#00cc96",
          "symbol": "line-ew-open"
         },
         "name": "Desi Music Factory",
         "offsetgroup": "Desi Music Factory",
         "showlegend": false,
         "type": "box",
         "xaxis": "x2",
         "y": [
          9481987642
         ],
         "yaxis": "y2"
        },
        {
         "hovertemplate": "Artist=Geet MP3<br>Video Count=%{x}<br>Views=%{marker.size}<extra></extra>",
         "legendgroup": "Geet MP3",
         "marker": {
          "color": "#ab63fa",
          "size": [
           11575367431
          ],
          "sizemode": "area",
          "sizeref": 79383600,
          "symbol": "circle"
         },
         "mode": "markers",
         "name": "Geet MP3",
         "orientation": "v",
         "showlegend": true,
         "type": "scatter",
         "x": [
          563
         ],
         "xaxis": "x",
         "y": [
          11575367431
         ],
         "yaxis": "y"
        },
        {
         "alignmentgroup": "True",
         "boxpoints": "all",
         "fillcolor": "rgba(255,255,255,0)",
         "hoveron": "points",
         "hovertemplate": "Artist=Geet MP3<br>Views=%{y}<extra></extra>",
         "jitter": 0,
         "legendgroup": "Geet MP3",
         "line": {
          "color": "rgba(255,255,255,0)"
         },
         "marker": {
          "color": "#ab63fa",
          "symbol": "line-ew-open"
         },
         "name": "Geet MP3",
         "offsetgroup": "Geet MP3",
         "showlegend": false,
         "type": "box",
         "xaxis": "x2",
         "y": [
          11575367431
         ],
         "yaxis": "y2"
        },
        {
         "hovertemplate": "Artist=NoCopyrightSounds<br>Video Count=%{x}<br>Views=%{marker.size}<extra></extra>",
         "legendgroup": "NoCopyrightSounds",
         "marker": {
          "color": "#FFA15A",
          "size": [
           10436881173
          ],
          "sizemode": "area",
          "sizeref": 79383600,
          "symbol": "circle"
         },
         "mode": "markers",
         "name": "NoCopyrightSounds",
         "orientation": "v",
         "showlegend": true,
         "type": "scatter",
         "x": [
          1116
         ],
         "xaxis": "x",
         "y": [
          10436881173
         ],
         "yaxis": "y"
        },
        {
         "alignmentgroup": "True",
         "boxpoints": "all",
         "fillcolor": "rgba(255,255,255,0)",
         "hoveron": "points",
         "hovertemplate": "Artist=NoCopyrightSounds<br>Views=%{y}<extra></extra>",
         "jitter": 0,
         "legendgroup": "NoCopyrightSounds",
         "line": {
          "color": "rgba(255,255,255,0)"
         },
         "marker": {
          "color": "#FFA15A",
          "symbol": "line-ew-open"
         },
         "name": "NoCopyrightSounds",
         "offsetgroup": "NoCopyrightSounds",
         "showlegend": false,
         "type": "box",
         "xaxis": "x2",
         "y": [
          10436881173
         ],
         "yaxis": "y2"
        },
        {
         "hovertemplate": "Artist=T-Series Apna Punjab<br>Video Count=%{x}<br>Views=%{marker.size}<extra></extra>",
         "legendgroup": "T-Series Apna Punjab",
         "marker": {
          "color": "#19d3f3",
          "size": [
           18933492606
          ],
          "sizemode": "area",
          "sizeref": 79383600,
          "symbol": "circle"
         },
         "mode": "markers",
         "name": "T-Series Apna Punjab",
         "orientation": "v",
         "showlegend": true,
         "type": "scatter",
         "x": [
          6524
         ],
         "xaxis": "x",
         "y": [
          18933492606
         ],
         "yaxis": "y"
        },
        {
         "alignmentgroup": "True",
         "boxpoints": "all",
         "fillcolor": "rgba(255,255,255,0)",
         "hoveron": "points",
         "hovertemplate": "Artist=T-Series Apna Punjab<br>Views=%{y}<extra></extra>",
         "jitter": 0,
         "legendgroup": "T-Series Apna Punjab",
         "line": {
          "color": "rgba(255,255,255,0)"
         },
         "marker": {
          "color": "#19d3f3",
          "symbol": "line-ew-open"
         },
         "name": "T-Series Apna Punjab",
         "offsetgroup": "T-Series Apna Punjab",
         "showlegend": false,
         "type": "box",
         "xaxis": "x2",
         "y": [
          18933492606
         ],
         "yaxis": "y2"
        },
        {
         "hovertemplate": "Artist=JustinBieberVEVO<br>Video Count=%{x}<br>Views=%{marker.size}<extra></extra>",
         "legendgroup": "JustinBieberVEVO",
         "marker": {
          "color": "#FF6692",
          "size": [
           25304909929
          ],
          "sizemode": "area",
          "sizeref": 79383600,
          "symbol": "circle"
         },
         "mode": "markers",
         "name": "JustinBieberVEVO",
         "orientation": "v",
         "showlegend": true,
         "type": "scatter",
         "x": [
          205
         ],
         "xaxis": "x",
         "y": [
          25304909929
         ],
         "yaxis": "y"
        },
        {
         "alignmentgroup": "True",
         "boxpoints": "all",
         "fillcolor": "rgba(255,255,255,0)",
         "hoveron": "points",
         "hovertemplate": "Artist=JustinBieberVEVO<br>Views=%{y}<extra></extra>",
         "jitter": 0,
         "legendgroup": "JustinBieberVEVO",
         "line": {
          "color": "rgba(255,255,255,0)"
         },
         "marker": {
          "color": "#FF6692",
          "symbol": "line-ew-open"
         },
         "name": "JustinBieberVEVO",
         "offsetgroup": "JustinBieberVEVO",
         "showlegend": false,
         "type": "box",
         "xaxis": "x2",
         "y": [
          25304909929
         ],
         "yaxis": "y2"
        },
        {
         "hovertemplate": "Artist=La Granja de Zenón<br>Video Count=%{x}<br>Views=%{marker.size}<extra></extra>",
         "legendgroup": "La Granja de Zenón",
         "marker": {
          "color": "#B6E880",
          "size": [
           22808879757
          ],
          "sizemode": "area",
          "sizeref": 79383600,
          "symbol": "circle"
         },
         "mode": "markers",
         "name": "La Granja de Zenón",
         "orientation": "v",
         "showlegend": true,
         "type": "scatter",
         "x": [
          558
         ],
         "xaxis": "x",
         "y": [
          22808879757
         ],
         "yaxis": "y"
        },
        {
         "alignmentgroup": "True",
         "boxpoints": "all",
         "fillcolor": "rgba(255,255,255,0)",
         "hoveron": "points",
         "hovertemplate": "Artist=La Granja de Zenón<br>Views=%{y}<extra></extra>",
         "jitter": 0,
         "legendgroup": "La Granja de Zenón",
         "line": {
          "color": "rgba(255,255,255,0)"
         },
         "marker": {
          "color": "#B6E880",
          "symbol": "line-ew-open"
         },
         "name": "La Granja de Zenón",
         "offsetgroup": "La Granja de Zenón",
         "showlegend": false,
         "type": "box",
         "xaxis": "x2",
         "y": [
          22808879757
         ],
         "yaxis": "y2"
        },
        {
         "hovertemplate": "Artist=SMTOWN<br>Video Count=%{x}<br>Views=%{marker.size}<extra></extra>",
         "legendgroup": "SMTOWN",
         "marker": {
          "color": "#FF97FF",
          "size": [
           25203004950
          ],
          "sizemode": "area",
          "sizeref": 79383600,
          "symbol": "circle"
         },
         "mode": "markers",
         "name": "SMTOWN",
         "orientation": "v",
         "showlegend": true,
         "type": "scatter",
         "x": [
          3951
         ],
         "xaxis": "x",
         "y": [
          25203004950
         ],
         "yaxis": "y"
        },
        {
         "alignmentgroup": "True",
         "boxpoints": "all",
         "fillcolor": "rgba(255,255,255,0)",
         "hoveron": "points",
         "hovertemplate": "Artist=SMTOWN<br>Views=%{y}<extra></extra>",
         "jitter": 0,
         "legendgroup": "SMTOWN",
         "line": {
          "color": "rgba(255,255,255,0)"
         },
         "marker": {
          "color": "#FF97FF",
          "symbol": "line-ew-open"
         },
         "name": "SMTOWN",
         "offsetgroup": "SMTOWN",
         "showlegend": false,
         "type": "box",
         "xaxis": "x2",
         "y": [
          25203004950
         ],
         "yaxis": "y2"
        },
        {
         "hovertemplate": "Artist=Bollywood Classics<br>Video Count=%{x}<br>Views=%{marker.size}<extra></extra>",
         "legendgroup": "Bollywood Classics",
         "marker": {
          "color": "#FECB52",
          "size": [
           19244430138
          ],
          "sizemode": "area",
          "sizeref": 79383600,
          "symbol": "circle"
         },
         "mode": "markers",
         "name": "Bollywood Classics",
         "orientation": "v",
         "showlegend": true,
         "type": "scatter",
         "x": [
          2008
         ],
         "xaxis": "x",
         "y": [
          19244430138
         ],
         "yaxis": "y"
        },
        {
         "alignmentgroup": "True",
         "boxpoints": "all",
         "fillcolor": "rgba(255,255,255,0)",
         "hoveron": "points",
         "hovertemplate": "Artist=Bollywood Classics<br>Views=%{y}<extra></extra>",
         "jitter": 0,
         "legendgroup": "Bollywood Classics",
         "line": {
          "color": "rgba(255,255,255,0)"
         },
         "marker": {
          "color": "#FECB52",
          "symbol": "line-ew-open"
         },
         "name": "Bollywood Classics",
         "offsetgroup": "Bollywood Classics",
         "showlegend": false,
         "type": "box",
         "xaxis": "x2",
         "y": [
          19244430138
         ],
         "yaxis": "y2"
        },
        {
         "hovertemplate": "Artist=Trap Nation<br>Video Count=%{x}<br>Views=%{marker.size}<extra></extra>",
         "legendgroup": "Trap Nation",
         "marker": {
          "color": "#636efa",
          "size": [
           13348694779
          ],
          "sizemode": "area",
          "sizeref": 79383600,
          "symbol": "circle"
         },
         "mode": "markers",
         "name": "Trap Nation",
         "orientation": "v",
         "showlegend": true,
         "type": "scatter",
         "x": [
          2472
         ],
         "xaxis": "x",
         "y": [
          13348694779
         ],
         "yaxis": "y"
        },
        {
         "alignmentgroup": "True",
         "boxpoints": "all",
         "fillcolor": "rgba(255,255,255,0)",
         "hoveron": "points",
         "hovertemplate": "Artist=Trap Nation<br>Views=%{y}<extra></extra>",
         "jitter": 0,
         "legendgroup": "Trap Nation",
         "line": {
          "color": "rgba(255,255,255,0)"
         },
         "marker": {
          "color": "#636efa",
          "symbol": "line-ew-open"
         },
         "name": "Trap Nation",
         "offsetgroup": "Trap Nation",
         "showlegend": false,
         "type": "box",
         "xaxis": "x2",
         "y": [
          13348694779
         ],
         "yaxis": "y2"
        },
        {
         "hovertemplate": "Artist=Rajshri<br>Video Count=%{x}<br>Views=%{marker.size}<extra></extra>",
         "legendgroup": "Rajshri",
         "marker": {
          "color": "#EF553B",
          "size": [
           13287506122
          ],
          "sizemode": "area",
          "sizeref": 79383600,
          "symbol": "circle"
         },
         "mode": "markers",
         "name": "Rajshri",
         "orientation": "v",
         "showlegend": true,
         "type": "scatter",
         "x": [
          3739
         ],
         "xaxis": "x",
         "y": [
          13287506122
         ],
         "yaxis": "y"
        },
        {
         "alignmentgroup": "True",
         "boxpoints": "all",
         "fillcolor": "rgba(255,255,255,0)",
         "hoveron": "points",
         "hovertemplate": "Artist=Rajshri<br>Views=%{y}<extra></extra>",
         "jitter": 0,
         "legendgroup": "Rajshri",
         "line": {
          "color": "rgba(255,255,255,0)"
         },
         "marker": {
          "color": "#EF553B",
          "symbol": "line-ew-open"
         },
         "name": "Rajshri",
         "offsetgroup": "Rajshri",
         "showlegend": false,
         "type": "box",
         "xaxis": "x2",
         "y": [
          13287506122
         ],
         "yaxis": "y2"
        },
        {
         "hovertemplate": "Artist=DisneyMusicVEVO<br>Video Count=%{x}<br>Views=%{marker.size}<extra></extra>",
         "legendgroup": "DisneyMusicVEVO",
         "marker": {
          "color": "#00cc96",
          "size": [
           24693346235
          ],
          "sizemode": "area",
          "sizeref": 79383600,
          "symbol": "circle"
         },
         "mode": "markers",
         "name": "DisneyMusicVEVO",
         "orientation": "v",
         "showlegend": true,
         "type": "scatter",
         "x": [
          1771
         ],
         "xaxis": "x",
         "y": [
          24693346235
         ],
         "yaxis": "y"
        },
        {
         "alignmentgroup": "True",
         "boxpoints": "all",
         "fillcolor": "rgba(255,255,255,0)",
         "hoveron": "points",
         "hovertemplate": "Artist=DisneyMusicVEVO<br>Views=%{y}<extra></extra>",
         "jitter": 0,
         "legendgroup": "DisneyMusicVEVO",
         "line": {
          "color": "rgba(255,255,255,0)"
         },
         "marker": {
          "color": "#00cc96",
          "symbol": "line-ew-open"
         },
         "name": "DisneyMusicVEVO",
         "offsetgroup": "DisneyMusicVEVO",
         "showlegend": false,
         "type": "box",
         "xaxis": "x2",
         "y": [
          24693346235
         ],
         "yaxis": "y2"
        },
        {
         "hovertemplate": "Artist=Spinnin' Records<br>Video Count=%{x}<br>Views=%{marker.size}<extra></extra>",
         "legendgroup": "Spinnin' Records",
         "marker": {
          "color": "#ab63fa",
          "size": [
           20075386002
          ],
          "sizemode": "area",
          "sizeref": 79383600,
          "symbol": "circle"
         },
         "mode": "markers",
         "name": "Spinnin' Records",
         "orientation": "v",
         "showlegend": true,
         "type": "scatter",
         "x": [
          10826
         ],
         "xaxis": "x",
         "y": [
          20075386002
         ],
         "yaxis": "y"
        },
        {
         "alignmentgroup": "True",
         "boxpoints": "all",
         "fillcolor": "rgba(255,255,255,0)",
         "hoveron": "points",
         "hovertemplate": "Artist=Spinnin' Records<br>Views=%{y}<extra></extra>",
         "jitter": 0,
         "legendgroup": "Spinnin' Records",
         "line": {
          "color": "rgba(255,255,255,0)"
         },
         "marker": {
          "color": "#ab63fa",
          "symbol": "line-ew-open"
         },
         "name": "Spinnin' Records",
         "offsetgroup": "Spinnin' Records",
         "showlegend": false,
         "type": "box",
         "xaxis": "x2",
         "y": [
          20075386002
         ],
         "yaxis": "y2"
        },
        {
         "hovertemplate": "Artist=Shawn Mendes<br>Video Count=%{x}<br>Views=%{marker.size}<extra></extra>",
         "legendgroup": "Shawn Mendes",
         "marker": {
          "color": "#FFA15A",
          "size": [
           11742431673
          ],
          "sizemode": "area",
          "sizeref": 79383600,
          "symbol": "circle"
         },
         "mode": "markers",
         "name": "Shawn Mendes",
         "orientation": "v",
         "showlegend": true,
         "type": "scatter",
         "x": [
          132
         ],
         "xaxis": "x",
         "y": [
          11742431673
         ],
         "yaxis": "y"
        },
        {
         "alignmentgroup": "True",
         "boxpoints": "all",
         "fillcolor": "rgba(255,255,255,0)",
         "hoveron": "points",
         "hovertemplate": "Artist=Shawn Mendes<br>Views=%{y}<extra></extra>",
         "jitter": 0,
         "legendgroup": "Shawn Mendes",
         "line": {
          "color": "rgba(255,255,255,0)"
         },
         "marker": {
          "color": "#FFA15A",
          "symbol": "line-ew-open"
         },
         "name": "Shawn Mendes",
         "offsetgroup": "Shawn Mendes",
         "showlegend": false,
         "type": "box",
         "xaxis": "x2",
         "y": [
          11742431673
         ],
         "yaxis": "y2"
        },
        {
         "hovertemplate": "Artist=The Weeknd<br>Video Count=%{x}<br>Views=%{marker.size}<extra></extra>",
         "legendgroup": "The Weeknd",
         "marker": {
          "color": "#19d3f3",
          "size": [
           19280816380
          ],
          "sizemode": "area",
          "sizeref": 79383600,
          "symbol": "circle"
         },
         "mode": "markers",
         "name": "The Weeknd",
         "orientation": "v",
         "showlegend": true,
         "type": "scatter",
         "x": [
          123
         ],
         "xaxis": "x",
         "y": [
          19280816380
         ],
         "yaxis": "y"
        },
        {
         "alignmentgroup": "True",
         "boxpoints": "all",
         "fillcolor": "rgba(255,255,255,0)",
         "hoveron": "points",
         "hovertemplate": "Artist=The Weeknd<br>Views=%{y}<extra></extra>",
         "jitter": 0,
         "legendgroup": "The Weeknd",
         "line": {
          "color": "rgba(255,255,255,0)"
         },
         "marker": {
          "color": "#19d3f3",
          "symbol": "line-ew-open"
         },
         "name": "The Weeknd",
         "offsetgroup": "The Weeknd",
         "showlegend": false,
         "type": "box",
         "xaxis": "x2",
         "y": [
          19280816380
         ],
         "yaxis": "y2"
        },
        {
         "hovertemplate": "Artist=Maluma<br>Video Count=%{x}<br>Views=%{marker.size}<extra></extra>",
         "legendgroup": "Maluma",
         "marker": {
          "color": "#FF6692",
          "size": [
           19638529002
          ],
          "sizemode": "area",
          "sizeref": 79383600,
          "symbol": "circle"
         },
         "mode": "markers",
         "name": "Maluma",
         "orientation": "v",
         "showlegend": true,
         "type": "scatter",
         "x": [
          20
         ],
         "xaxis": "x",
         "y": [
          19638529002
         ],
         "yaxis": "y"
        },
        {
         "alignmentgroup": "True",
         "boxpoints": "all",
         "fillcolor": "rgba(255,255,255,0)",
         "hoveron": "points",
         "hovertemplate": "Artist=Maluma<br>Views=%{y}<extra></extra>",
         "jitter": 0,
         "legendgroup": "Maluma",
         "line": {
          "color": "rgba(255,255,255,0)"
         },
         "marker": {
          "color": "#FF6692",
          "symbol": "line-ew-open"
         },
         "name": "Maluma",
         "offsetgroup": "Maluma",
         "showlegend": false,
         "type": "box",
         "xaxis": "x2",
         "y": [
          19638529002
         ],
         "yaxis": "y2"
        },
        {
         "hovertemplate": "Artist=Adele<br>Video Count=%{x}<br>Views=%{marker.size}<extra></extra>",
         "legendgroup": "Adele",
         "marker": {
          "color": "#B6E880",
          "size": [
           12650300730
          ],
          "sizemode": "area",
          "sizeref": 79383600,
          "symbol": "circle"
         },
         "mode": "markers",
         "name": "Adele",
         "orientation": "v",
         "showlegend": true,
         "type": "scatter",
         "x": [
          14
         ],
         "xaxis": "x",
         "y": [
          12650300730
         ],
         "yaxis": "y"
        },
        {
         "alignmentgroup": "True",
         "boxpoints": "all",
         "fillcolor": "rgba(255,255,255,0)",
         "hoveron": "points",
         "hovertemplate": "Artist=Adele<br>Views=%{y}<extra></extra>",
         "jitter": 0,
         "legendgroup": "Adele",
         "line": {
          "color": "rgba(255,255,255,0)"
         },
         "marker": {
          "color": "#B6E880",
          "symbol": "line-ew-open"
         },
         "name": "Adele",
         "offsetgroup": "Adele",
         "showlegend": false,
         "type": "box",
         "xaxis": "x2",
         "y": [
          12650300730
         ],
         "yaxis": "y2"
        },
        {
         "hovertemplate": "Artist=ImagineDragons<br>Video Count=%{x}<br>Views=%{marker.size}<extra></extra>",
         "legendgroup": "ImagineDragons",
         "marker": {
          "color": "#FF97FF",
          "size": [
           14307239074
          ],
          "sizemode": "area",
          "sizeref": 79383600,
          "symbol": "circle"
         },
         "mode": "markers",
         "name": "ImagineDragons",
         "orientation": "v",
         "showlegend": true,
         "type": "scatter",
         "x": [
          67
         ],
         "xaxis": "x",
         "y": [
          14307239074
         ],
         "yaxis": "y"
        },
        {
         "alignmentgroup": "True",
         "boxpoints": "all",
         "fillcolor": "rgba(255,255,255,0)",
         "hoveron": "points",
         "hovertemplate": "Artist=ImagineDragons<br>Views=%{y}<extra></extra>",
         "jitter": 0,
         "legendgroup": "ImagineDragons",
         "line": {
          "color": "rgba(255,255,255,0)"
         },
         "marker": {
          "color": "#FF97FF",
          "symbol": "line-ew-open"
         },
         "name": "ImagineDragons",
         "offsetgroup": "ImagineDragons",
         "showlegend": false,
         "type": "box",
         "xaxis": "x2",
         "y": [
          14307239074
         ],
         "yaxis": "y2"
        },
        {
         "hovertemplate": "Artist=Worldwide Records Bhojpuri<br>Video Count=%{x}<br>Views=%{marker.size}<extra></extra>",
         "legendgroup": "Worldwide Records Bhojpuri",
         "marker": {
          "color": "#FECB52",
          "size": [
           14501468946
          ],
          "sizemode": "area",
          "sizeref": 79383600,
          "symbol": "circle"
         },
         "mode": "markers",
         "name": "Worldwide Records Bhojpuri",
         "orientation": "v",
         "showlegend": true,
         "type": "scatter",
         "x": [
          5927
         ],
         "xaxis": "x",
         "y": [
          14501468946
         ],
         "yaxis": "y"
        },
        {
         "alignmentgroup": "True",
         "boxpoints": "all",
         "fillcolor": "rgba(255,255,255,0)",
         "hoveron": "points",
         "hovertemplate": "Artist=Worldwide Records Bhojpuri<br>Views=%{y}<extra></extra>",
         "jitter": 0,
         "legendgroup": "Worldwide Records Bhojpuri",
         "line": {
          "color": "rgba(255,255,255,0)"
         },
         "marker": {
          "color": "#FECB52",
          "symbol": "line-ew-open"
         },
         "name": "Worldwide Records Bhojpuri",
         "offsetgroup": "Worldwide Records Bhojpuri",
         "showlegend": false,
         "type": "box",
         "xaxis": "x2",
         "y": [
          14501468946
         ],
         "yaxis": "y2"
        },
        {
         "hovertemplate": "Artist=Ultra Music<br>Video Count=%{x}<br>Views=%{marker.size}<extra></extra>",
         "legendgroup": "Ultra Music",
         "marker": {
          "color": "#636efa",
          "size": [
           16201384834
          ],
          "sizemode": "area",
          "sizeref": 79383600,
          "symbol": "circle"
         },
         "mode": "markers",
         "name": "Ultra Music",
         "orientation": "v",
         "showlegend": true,
         "type": "scatter",
         "x": [
          4665
         ],
         "xaxis": "x",
         "y": [
          16201384834
         ],
         "yaxis": "y"
        },
        {
         "alignmentgroup": "True",
         "boxpoints": "all",
         "fillcolor": "rgba(255,255,255,0)",
         "hoveron": "points",
         "hovertemplate": "Artist=Ultra Music<br>Views=%{y}<extra></extra>",
         "jitter": 0,
         "legendgroup": "Ultra Music",
         "line": {
          "color": "rgba(255,255,255,0)"
         },
         "marker": {
          "color": "#636efa",
          "symbol": "line-ew-open"
         },
         "name": "Ultra Music",
         "offsetgroup": "Ultra Music",
         "showlegend": false,
         "type": "box",
         "xaxis": "x2",
         "y": [
          16201384834
         ],
         "yaxis": "y2"
        },
        {
         "hovertemplate": "Artist=KAROL G<br>Video Count=%{x}<br>Views=%{marker.size}<extra></extra>",
         "legendgroup": "KAROL G",
         "marker": {
          "color": "#EF553B",
          "size": [
           14040459862
          ],
          "sizemode": "area",
          "sizeref": 79383600,
          "symbol": "circle"
         },
         "mode": "markers",
         "name": "KAROL G",
         "orientation": "v",
         "showlegend": true,
         "type": "scatter",
         "x": [
          121
         ],
         "xaxis": "x",
         "y": [
          14040459862
         ],
         "yaxis": "y"
        },
        {
         "alignmentgroup": "True",
         "boxpoints": "all",
         "fillcolor": "rgba(255,255,255,0)",
         "hoveron": "points",
         "hovertemplate": "Artist=KAROL G<br>Views=%{y}<extra></extra>",
         "jitter": 0,
         "legendgroup": "KAROL G",
         "line": {
          "color": "rgba(255,255,255,0)"
         },
         "marker": {
          "color": "#EF553B",
          "symbol": "line-ew-open"
         },
         "name": "KAROL G",
         "offsetgroup": "KAROL G",
         "showlegend": false,
         "type": "box",
         "xaxis": "x2",
         "y": [
          14040459862
         ],
         "yaxis": "y2"
        },
        {
         "hovertemplate": "Artist=Drake<br>Video Count=%{x}<br>Views=%{marker.size}<extra></extra>",
         "legendgroup": "Drake",
         "marker": {
          "color": "#00cc96",
          "size": [
           12947966180
          ],
          "sizemode": "area",
          "sizeref": 79383600,
          "symbol": "circle"
         },
         "mode": "markers",
         "name": "Drake",
         "orientation": "v",
         "showlegend": true,
         "type": "scatter",
         "x": [
          53
         ],
         "xaxis": "x",
         "y": [
          12947966180
         ],
         "yaxis": "y"
        },
        {
         "alignmentgroup": "True",
         "boxpoints": "all",
         "fillcolor": "rgba(255,255,255,0)",
         "hoveron": "points",
         "hovertemplate": "Artist=Drake<br>Views=%{y}<extra></extra>",
         "jitter": 0,
         "legendgroup": "Drake",
         "line": {
          "color": "rgba(255,255,255,0)"
         },
         "marker": {
          "color": "#00cc96",
          "symbol": "line-ew-open"
         },
         "name": "Drake",
         "offsetgroup": "Drake",
         "showlegend": false,
         "type": "box",
         "xaxis": "x2",
         "y": [
          12947966180
         ],
         "yaxis": "y2"
        },
        {
         "hovertemplate": "Artist=Bounce Patrol - Kids Songs<br>Video Count=%{x}<br>Views=%{marker.size}<extra></extra>",
         "legendgroup": "Bounce Patrol - Kids Songs",
         "marker": {
          "color": "#ab63fa",
          "size": [
           18891028184
          ],
          "sizemode": "area",
          "sizeref": 79383600,
          "symbol": "circle"
         },
         "mode": "markers",
         "name": "Bounce Patrol - Kids Songs",
         "orientation": "v",
         "showlegend": true,
         "type": "scatter",
         "x": [
          205
         ],
         "xaxis": "x",
         "y": [
          18891028184
         ],
         "yaxis": "y"
        },
        {
         "alignmentgroup": "True",
         "boxpoints": "all",
         "fillcolor": "rgba(255,255,255,0)",
         "hoveron": "points",
         "hovertemplate": "Artist=Bounce Patrol - Kids Songs<br>Views=%{y}<extra></extra>",
         "jitter": 0,
         "legendgroup": "Bounce Patrol - Kids Songs",
         "line": {
          "color": "rgba(255,255,255,0)"
         },
         "marker": {
          "color": "#ab63fa",
          "symbol": "line-ew-open"
         },
         "name": "Bounce Patrol - Kids Songs",
         "offsetgroup": "Bounce Patrol - Kids Songs",
         "showlegend": false,
         "type": "box",
         "xaxis": "x2",
         "y": [
          18891028184
         ],
         "yaxis": "y2"
        },
        {
         "hovertemplate": "Artist=Wiz Khalifa<br>Video Count=%{x}<br>Views=%{marker.size}<extra></extra>",
         "legendgroup": "Wiz Khalifa",
         "marker": {
          "color": "#FFA15A",
          "size": [
           12528940373
          ],
          "sizemode": "area",
          "sizeref": 79383600,
          "symbol": "circle"
         },
         "mode": "markers",
         "name": "Wiz Khalifa",
         "orientation": "v",
         "showlegend": true,
         "type": "scatter",
         "x": [
          598
         ],
         "xaxis": "x",
         "y": [
          12528940373
         ],
         "yaxis": "y"
        },
        {
         "alignmentgroup": "True",
         "boxpoints": "all",
         "fillcolor": "rgba(255,255,255,0)",
         "hoveron": "points",
         "hovertemplate": "Artist=Wiz Khalifa<br>Views=%{y}<extra></extra>",
         "jitter": 0,
         "legendgroup": "Wiz Khalifa",
         "line": {
          "color": "rgba(255,255,255,0)"
         },
         "marker": {
          "color": "#FFA15A",
          "symbol": "line-ew-open"
         },
         "name": "Wiz Khalifa",
         "offsetgroup": "Wiz Khalifa",
         "showlegend": false,
         "type": "box",
         "xaxis": "x2",
         "y": [
          12528940373
         ],
         "yaxis": "y2"
        },
        {
         "hovertemplate": "Artist=Aditya Music<br>Video Count=%{x}<br>Views=%{marker.size}<extra></extra>",
         "legendgroup": "Aditya Music",
         "marker": {
          "color": "#19d3f3",
          "size": [
           22661822099
          ],
          "sizemode": "area",
          "sizeref": 79383600,
          "symbol": "circle"
         },
         "mode": "markers",
         "name": "Aditya Music",
         "orientation": "v",
         "showlegend": true,
         "type": "scatter",
         "x": [
          19992
         ],
         "xaxis": "x",
         "y": [
          22661822099
         ],
         "yaxis": "y"
        },
        {
         "alignmentgroup": "True",
         "boxpoints": "all",
         "fillcolor": "rgba(255,255,255,0)",
         "hoveron": "points",
         "hovertemplate": "Artist=Aditya Music<br>Views=%{y}<extra></extra>",
         "jitter": 0,
         "legendgroup": "Aditya Music",
         "line": {
          "color": "rgba(255,255,255,0)"
         },
         "marker": {
          "color": "#19d3f3",
          "symbol": "line-ew-open"
         },
         "name": "Aditya Music",
         "offsetgroup": "Aditya Music",
         "showlegend": false,
         "type": "box",
         "xaxis": "x2",
         "y": [
          22661822099
         ],
         "yaxis": "y2"
        },
        {
         "hovertemplate": "Artist=WORLDSTARHIPHOP<br>Video Count=%{x}<br>Views=%{marker.size}<extra></extra>",
         "legendgroup": "WORLDSTARHIPHOP",
         "marker": {
          "color": "#FF6692",
          "size": [
           19426357466
          ],
          "sizemode": "area",
          "sizeref": 79383600,
          "symbol": "circle"
         },
         "mode": "markers",
         "name": "WORLDSTARHIPHOP",
         "orientation": "v",
         "showlegend": true,
         "type": "scatter",
         "x": [
          6259
         ],
         "xaxis": "x",
         "y": [
          19426357466
         ],
         "yaxis": "y"
        },
        {
         "alignmentgroup": "True",
         "boxpoints": "all",
         "fillcolor": "rgba(255,255,255,0)",
         "hoveron": "points",
         "hovertemplate": "Artist=WORLDSTARHIPHOP<br>Views=%{y}<extra></extra>",
         "jitter": 0,
         "legendgroup": "WORLDSTARHIPHOP",
         "line": {
          "color": "rgba(255,255,255,0)"
         },
         "marker": {
          "color": "#FF6692",
          "symbol": "line-ew-open"
         },
         "name": "WORLDSTARHIPHOP",
         "offsetgroup": "WORLDSTARHIPHOP",
         "showlegend": false,
         "type": "box",
         "xaxis": "x2",
         "y": [
          19426357466
         ],
         "yaxis": "y2"
        },
        {
         "hovertemplate": "Artist=Michael Jackson<br>Video Count=%{x}<br>Views=%{marker.size}<extra></extra>",
         "legendgroup": "Michael Jackson",
         "marker": {
          "color": "#B6E880",
          "size": [
           12588288710
          ],
          "sizemode": "area",
          "sizeref": 79383600,
          "symbol": "circle"
         },
         "mode": "markers",
         "name": "Michael Jackson",
         "orientation": "v",
         "showlegend": true,
         "type": "scatter",
         "x": [
          7
         ],
         "xaxis": "x",
         "y": [
          12588288710
         ],
         "yaxis": "y"
        },
        {
         "alignmentgroup": "True",
         "boxpoints": "all",
         "fillcolor": "rgba(255,255,255,0)",
         "hoveron": "points",
         "hovertemplate": "Artist=Michael Jackson<br>Views=%{y}<extra></extra>",
         "jitter": 0,
         "legendgroup": "Michael Jackson",
         "line": {
          "color": "rgba(255,255,255,0)"
         },
         "marker": {
          "color": "#B6E880",
          "symbol": "line-ew-open"
         },
         "name": "Michael Jackson",
         "offsetgroup": "Michael Jackson",
         "showlegend": false,
         "type": "box",
         "xaxis": "x2",
         "y": [
          12588288710
         ],
         "yaxis": "y2"
        },
        {
         "hovertemplate": "Artist=TaylorSwiftVEVO<br>Video Count=%{x}<br>Views=%{marker.size}<extra></extra>",
         "legendgroup": "TaylorSwiftVEVO",
         "marker": {
          "color": "#FF97FF",
          "size": [
           23276597783
          ],
          "sizemode": "area",
          "sizeref": 79383600,
          "symbol": "circle"
         },
         "mode": "markers",
         "name": "TaylorSwiftVEVO",
         "orientation": "v",
         "showlegend": true,
         "type": "scatter",
         "x": [
          239
         ],
         "xaxis": "x",
         "y": [
          23276597783
         ],
         "yaxis": "y"
        },
        {
         "alignmentgroup": "True",
         "boxpoints": "all",
         "fillcolor": "rgba(255,255,255,0)",
         "hoveron": "points",
         "hovertemplate": "Artist=TaylorSwiftVEVO<br>Views=%{y}<extra></extra>",
         "jitter": 0,
         "legendgroup": "TaylorSwiftVEVO",
         "line": {
          "color": "rgba(255,255,255,0)"
         },
         "marker": {
          "color": "#FF97FF",
          "symbol": "line-ew-open"
         },
         "name": "TaylorSwiftVEVO",
         "offsetgroup": "TaylorSwiftVEVO",
         "showlegend": false,
         "type": "box",
         "xaxis": "x2",
         "y": [
          23276597783
         ],
         "yaxis": "y2"
        },
        {
         "hovertemplate": "Artist=toycantando<br>Video Count=%{x}<br>Views=%{marker.size}<extra></extra>",
         "legendgroup": "toycantando",
         "marker": {
          "color": "#FECB52",
          "size": [
           13948216340
          ],
          "sizemode": "area",
          "sizeref": 79383600,
          "symbol": "circle"
         },
         "mode": "markers",
         "name": "toycantando",
         "orientation": "v",
         "showlegend": true,
         "type": "scatter",
         "x": [
          496
         ],
         "xaxis": "x",
         "y": [
          13948216340
         ],
         "yaxis": "y"
        },
        {
         "alignmentgroup": "True",
         "boxpoints": "all",
         "fillcolor": "rgba(255,255,255,0)",
         "hoveron": "points",
         "hovertemplate": "Artist=toycantando<br>Views=%{y}<extra></extra>",
         "jitter": 0,
         "legendgroup": "toycantando",
         "line": {
          "color": "rgba(255,255,255,0)"
         },
         "marker": {
          "color": "#FECB52",
          "symbol": "line-ew-open"
         },
         "name": "toycantando",
         "offsetgroup": "toycantando",
         "showlegend": false,
         "type": "box",
         "xaxis": "x2",
         "y": [
          13948216340
         ],
         "yaxis": "y2"
        },
        {
         "hovertemplate": "Artist=JYP Entertainment<br>Video Count=%{x}<br>Views=%{marker.size}<extra></extra>",
         "legendgroup": "JYP Entertainment",
         "marker": {
          "color": "#636efa",
          "size": [
           17152981455
          ],
          "sizemode": "area",
          "sizeref": 79383600,
          "symbol": "circle"
         },
         "mode": "markers",
         "name": "JYP Entertainment",
         "orientation": "v",
         "showlegend": true,
         "type": "scatter",
         "x": [
          1502
         ],
         "xaxis": "x",
         "y": [
          17152981455
         ],
         "yaxis": "y"
        },
        {
         "alignmentgroup": "True",
         "boxpoints": "all",
         "fillcolor": "rgba(255,255,255,0)",
         "hoveron": "points",
         "hovertemplate": "Artist=JYP Entertainment<br>Views=%{y}<extra></extra>",
         "jitter": 0,
         "legendgroup": "JYP Entertainment",
         "line": {
          "color": "rgba(255,255,255,0)"
         },
         "marker": {
          "color": "#636efa",
          "symbol": "line-ew-open"
         },
         "name": "JYP Entertainment",
         "offsetgroup": "JYP Entertainment",
         "showlegend": false,
         "type": "box",
         "xaxis": "x2",
         "y": [
          17152981455
         ],
         "yaxis": "y2"
        },
        {
         "hovertemplate": "Artist=RihannaVEVO<br>Video Count=%{x}<br>Views=%{marker.size}<extra></extra>",
         "legendgroup": "RihannaVEVO",
         "marker": {
          "color": "#EF553B",
          "size": [
           18089677017
          ],
          "sizemode": "area",
          "sizeref": 79383600,
          "symbol": "circle"
         },
         "mode": "markers",
         "name": "RihannaVEVO",
         "orientation": "v",
         "showlegend": true,
         "type": "scatter",
         "x": [
          106
         ],
         "xaxis": "x",
         "y": [
          18089677017
         ],
         "yaxis": "y"
        },
        {
         "alignmentgroup": "True",
         "boxpoints": "all",
         "fillcolor": "rgba(255,255,255,0)",
         "hoveron": "points",
         "hovertemplate": "Artist=RihannaVEVO<br>Views=%{y}<extra></extra>",
         "jitter": 0,
         "legendgroup": "RihannaVEVO",
         "line": {
          "color": "rgba(255,255,255,0)"
         },
         "marker": {
          "color": "#EF553B",
          "symbol": "line-ew-open"
         },
         "name": "RihannaVEVO",
         "offsetgroup": "RihannaVEVO",
         "showlegend": false,
         "type": "box",
         "xaxis": "x2",
         "y": [
          18089677017
         ],
         "yaxis": "y2"
        },
        {
         "hovertemplate": "Artist=EminemVEVO<br>Video Count=%{x}<br>Views=%{marker.size}<extra></extra>",
         "legendgroup": "EminemVEVO",
         "marker": {
          "color": "#00cc96",
          "size": [
           18786748261
          ],
          "sizemode": "area",
          "sizeref": 79383600,
          "symbol": "circle"
         },
         "mode": "markers",
         "name": "EminemVEVO",
         "orientation": "v",
         "showlegend": true,
         "type": "scatter",
         "x": [
          98
         ],
         "xaxis": "x",
         "y": [
          18786748261
         ],
         "yaxis": "y"
        },
        {
         "alignmentgroup": "True",
         "boxpoints": "all",
         "fillcolor": "rgba(255,255,255,0)",
         "hoveron": "points",
         "hovertemplate": "Artist=EminemVEVO<br>Views=%{y}<extra></extra>",
         "jitter": 0,
         "legendgroup": "EminemVEVO",
         "line": {
          "color": "rgba(255,255,255,0)"
         },
         "marker": {
          "color": "#00cc96",
          "symbol": "line-ew-open"
         },
         "name": "EminemVEVO",
         "offsetgroup": "EminemVEVO",
         "showlegend": false,
         "type": "box",
         "xaxis": "x2",
         "y": [
          18786748261
         ],
         "yaxis": "y2"
        },
        {
         "hovertemplate": "Artist=Marília Mendonça<br>Video Count=%{x}<br>Views=%{marker.size}<extra></extra>",
         "legendgroup": "Marília Mendonça",
         "marker": {
          "color": "#ab63fa",
          "size": [
           16477333283
          ],
          "sizemode": "area",
          "sizeref": 79383600,
          "symbol": "circle"
         },
         "mode": "markers",
         "name": "Marília Mendonça",
         "orientation": "v",
         "showlegend": true,
         "type": "scatter",
         "x": [
          114
         ],
         "xaxis": "x",
         "y": [
          16477333283
         ],
         "yaxis": "y"
        },
        {
         "alignmentgroup": "True",
         "boxpoints": "all",
         "fillcolor": "rgba(255,255,255,0)",
         "hoveron": "points",
         "hovertemplate": "Artist=Marília Mendonça<br>Views=%{y}<extra></extra>",
         "jitter": 0,
         "legendgroup": "Marília Mendonça",
         "line": {
          "color": "rgba(255,255,255,0)"
         },
         "marker": {
          "color": "#ab63fa",
          "symbol": "line-ew-open"
         },
         "name": "Marília Mendonça",
         "offsetgroup": "Marília Mendonça",
         "showlegend": false,
         "type": "box",
         "xaxis": "x2",
         "y": [
          16477333283
         ],
         "yaxis": "y2"
        },
        {
         "hovertemplate": "Artist=Beyoncé<br>Video Count=%{x}<br>Views=%{marker.size}<extra></extra>",
         "legendgroup": "Beyoncé",
         "marker": {
          "color": "#FFA15A",
          "size": [
           15717379166
          ],
          "sizemode": "area",
          "sizeref": 79383600,
          "symbol": "circle"
         },
         "mode": "markers",
         "name": "Beyoncé",
         "orientation": "v",
         "showlegend": true,
         "type": "scatter",
         "x": [
          234
         ],
         "xaxis": "x",
         "y": [
          15717379166
         ],
         "yaxis": "y"
        },
        {
         "alignmentgroup": "True",
         "boxpoints": "all",
         "fillcolor": "rgba(255,255,255,0)",
         "hoveron": "points",
         "hovertemplate": "Artist=Beyoncé<br>Views=%{y}<extra></extra>",
         "jitter": 0,
         "legendgroup": "Beyoncé",
         "line": {
          "color": "rgba(255,255,255,0)"
         },
         "marker": {
          "color": "#FFA15A",
          "symbol": "line-ew-open"
         },
         "name": "Beyoncé",
         "offsetgroup": "Beyoncé",
         "showlegend": false,
         "type": "box",
         "xaxis": "x2",
         "y": [
          15717379166
         ],
         "yaxis": "y2"
        },
        {
         "hovertemplate": "Artist=KatyPerryVEVO<br>Video Count=%{x}<br>Views=%{marker.size}<extra></extra>",
         "legendgroup": "KatyPerryVEVO",
         "marker": {
          "color": "#19d3f3",
          "size": [
           22679485513
          ],
          "sizemode": "area",
          "sizeref": 79383600,
          "symbol": "circle"
         },
         "mode": "markers",
         "name": "KatyPerryVEVO",
         "orientation": "v",
         "showlegend": true,
         "type": "scatter",
         "x": [
          171
         ],
         "xaxis": "x",
         "y": [
          22679485513
         ],
         "yaxis": "y"
        },
        {
         "alignmentgroup": "True",
         "boxpoints": "all",
         "fillcolor": "rgba(255,255,255,0)",
         "hoveron": "points",
         "hovertemplate": "Artist=KatyPerryVEVO<br>Views=%{y}<extra></extra>",
         "jitter": 0,
         "legendgroup": "KatyPerryVEVO",
         "line": {
          "color": "rgba(255,255,255,0)"
         },
         "marker": {
          "color": "#19d3f3",
          "symbol": "line-ew-open"
         },
         "name": "KatyPerryVEVO",
         "offsetgroup": "KatyPerryVEVO",
         "showlegend": false,
         "type": "box",
         "xaxis": "x2",
         "y": [
          22679485513
         ],
         "yaxis": "y2"
        },
        {
         "hovertemplate": "Artist=WatchMojo.com<br>Video Count=%{x}<br>Views=%{marker.size}<extra></extra>",
         "legendgroup": "WatchMojo.com",
         "marker": {
          "color": "#FF6692",
          "size": [
           15650528115
          ],
          "sizemode": "area",
          "sizeref": 79383600,
          "symbol": "circle"
         },
         "mode": "markers",
         "name": "WatchMojo.com",
         "orientation": "v",
         "showlegend": true,
         "type": "scatter",
         "x": [
          22492
         ],
         "xaxis": "x",
         "y": [
          15650528115
         ],
         "yaxis": "y"
        },
        {
         "alignmentgroup": "True",
         "boxpoints": "all",
         "fillcolor": "rgba(255,255,255,0)",
         "hoveron": "points",
         "hovertemplate": "Artist=WatchMojo.com<br>Views=%{y}<extra></extra>",
         "jitter": 0,
         "legendgroup": "WatchMojo.com",
         "line": {
          "color": "rgba(255,255,255,0)"
         },
         "marker": {
          "color": "#FF6692",
          "symbol": "line-ew-open"
         },
         "name": "WatchMojo.com",
         "offsetgroup": "WatchMojo.com",
         "showlegend": false,
         "type": "box",
         "xaxis": "x2",
         "y": [
          15650528115
         ],
         "yaxis": "y2"
        },
        {
         "hovertemplate": "Artist=Nicki Minaj<br>Video Count=%{x}<br>Views=%{marker.size}<extra></extra>",
         "legendgroup": "Nicki Minaj",
         "marker": {
          "color": "#B6E880",
          "size": [
           9386490086
          ],
          "sizemode": "area",
          "sizeref": 79383600,
          "symbol": "circle"
         },
         "mode": "markers",
         "name": "Nicki Minaj",
         "orientation": "v",
         "showlegend": true,
         "type": "scatter",
         "x": [
          31
         ],
         "xaxis": "x",
         "y": [
          9386490086
         ],
         "yaxis": "y"
        },
        {
         "alignmentgroup": "True",
         "boxpoints": "all",
         "fillcolor": "rgba(255,255,255,0)",
         "hoveron": "points",
         "hovertemplate": "Artist=Nicki Minaj<br>Views=%{y}<extra></extra>",
         "jitter": 0,
         "legendgroup": "Nicki Minaj",
         "line": {
          "color": "rgba(255,255,255,0)"
         },
         "marker": {
          "color": "#B6E880",
          "symbol": "line-ew-open"
         },
         "name": "Nicki Minaj",
         "offsetgroup": "Nicki Minaj",
         "showlegend": false,
         "type": "box",
         "xaxis": "x2",
         "y": [
          9386490086
         ],
         "yaxis": "y2"
        },
        {
         "hovertemplate": "Artist=David Guetta<br>Video Count=%{x}<br>Views=%{marker.size}<extra></extra>",
         "legendgroup": "David Guetta",
         "marker": {
          "color": "#FF97FF",
          "size": [
           15959928823
          ],
          "sizemode": "area",
          "sizeref": 79383600,
          "symbol": "circle"
         },
         "mode": "markers",
         "name": "David Guetta",
         "orientation": "v",
         "showlegend": true,
         "type": "scatter",
         "x": [
          633
         ],
         "xaxis": "x",
         "y": [
          15959928823
         ],
         "yaxis": "y"
        },
        {
         "alignmentgroup": "True",
         "boxpoints": "all",
         "fillcolor": "rgba(255,255,255,0)",
         "hoveron": "points",
         "hovertemplate": "Artist=David Guetta<br>Views=%{y}<extra></extra>",
         "jitter": 0,
         "legendgroup": "David Guetta",
         "line": {
          "color": "rgba(255,255,255,0)"
         },
         "marker": {
          "color": "#FF97FF",
          "symbol": "line-ew-open"
         },
         "name": "David Guetta",
         "offsetgroup": "David Guetta",
         "showlegend": false,
         "type": "box",
         "xaxis": "x2",
         "y": [
          15959928823
         ],
         "yaxis": "y2"
        },
        {
         "hovertemplate": "Artist=Post Malone<br>Video Count=%{x}<br>Views=%{marker.size}<extra></extra>",
         "legendgroup": "Post Malone",
         "marker": {
          "color": "#FECB52",
          "size": [
           12492313399
          ],
          "sizemode": "area",
          "sizeref": 79383600,
          "symbol": "circle"
         },
         "mode": "markers",
         "name": "Post Malone",
         "orientation": "v",
         "showlegend": true,
         "type": "scatter",
         "x": [
          51
         ],
         "xaxis": "x",
         "y": [
          12492313399
         ],
         "yaxis": "y"
        },
        {
         "alignmentgroup": "True",
         "boxpoints": "all",
         "fillcolor": "rgba(255,255,255,0)",
         "hoveron": "points",
         "hovertemplate": "Artist=Post Malone<br>Views=%{y}<extra></extra>",
         "jitter": 0,
         "legendgroup": "Post Malone",
         "line": {
          "color": "rgba(255,255,255,0)"
         },
         "marker": {
          "color": "#FECB52",
          "symbol": "line-ew-open"
         },
         "name": "Post Malone",
         "offsetgroup": "Post Malone",
         "showlegend": false,
         "type": "box",
         "xaxis": "x2",
         "y": [
          12492313399
         ],
         "yaxis": "y2"
        },
        {
         "hovertemplate": "Artist=1theK (원더케이)<br>Video Count=%{x}<br>Views=%{marker.size}<extra></extra>",
         "legendgroup": "1theK (원더케이)",
         "marker": {
          "color": "#636efa",
          "size": [
           22605283252
          ],
          "sizemode": "area",
          "sizeref": 79383600,
          "symbol": "circle"
         },
         "mode": "markers",
         "name": "1theK (원더케이)",
         "orientation": "v",
         "showlegend": true,
         "type": "scatter",
         "x": [
          16928
         ],
         "xaxis": "x",
         "y": [
          22605283252
         ],
         "yaxis": "y"
        },
        {
         "alignmentgroup": "True",
         "boxpoints": "all",
         "fillcolor": "rgba(255,255,255,0)",
         "hoveron": "points",
         "hovertemplate": "Artist=1theK (원더케이)<br>Views=%{y}<extra></extra>",
         "jitter": 0,
         "legendgroup": "1theK (원더케이)",
         "line": {
          "color": "rgba(255,255,255,0)"
         },
         "marker": {
          "color": "#636efa",
          "symbol": "line-ew-open"
         },
         "name": "1theK (원더케이)",
         "offsetgroup": "1theK (원더케이)",
         "showlegend": false,
         "type": "box",
         "xaxis": "x2",
         "y": [
          22605283252
         ],
         "yaxis": "y2"
        },
        {
         "hovertemplate": "Artist=Coldplay<br>Video Count=%{x}<br>Views=%{marker.size}<extra></extra>",
         "legendgroup": "Coldplay",
         "marker": {
          "color": "#EF553B",
          "size": [
           15078170011
          ],
          "sizemode": "area",
          "sizeref": 79383600,
          "symbol": "circle"
         },
         "mode": "markers",
         "name": "Coldplay",
         "orientation": "v",
         "showlegend": true,
         "type": "scatter",
         "x": [
          347
         ],
         "xaxis": "x",
         "y": [
          15078170011
         ],
         "yaxis": "y"
        },
        {
         "alignmentgroup": "True",
         "boxpoints": "all",
         "fillcolor": "rgba(255,255,255,0)",
         "hoveron": "points",
         "hovertemplate": "Artist=Coldplay<br>Views=%{y}<extra></extra>",
         "jitter": 0,
         "legendgroup": "Coldplay",
         "line": {
          "color": "rgba(255,255,255,0)"
         },
         "marker": {
          "color": "#EF553B",
          "symbol": "line-ew-open"
         },
         "name": "Coldplay",
         "offsetgroup": "Coldplay",
         "showlegend": false,
         "type": "box",
         "xaxis": "x2",
         "y": [
          15078170011
         ],
         "yaxis": "y2"
        },
        {
         "hovertemplate": "Artist=DJ Snake<br>Video Count=%{x}<br>Views=%{marker.size}<extra></extra>",
         "legendgroup": "DJ Snake",
         "marker": {
          "color": "#00cc96",
          "size": [
           7645734689
          ],
          "sizemode": "area",
          "sizeref": 79383600,
          "symbol": "circle"
         },
         "mode": "markers",
         "name": "DJ Snake",
         "orientation": "v",
         "showlegend": true,
         "type": "scatter",
         "x": [
          209
         ],
         "xaxis": "x",
         "y": [
          7645734689
         ],
         "yaxis": "y"
        },
        {
         "alignmentgroup": "True",
         "boxpoints": "all",
         "fillcolor": "rgba(255,255,255,0)",
         "hoveron": "points",
         "hovertemplate": "Artist=DJ Snake<br>Views=%{y}<extra></extra>",
         "jitter": 0,
         "legendgroup": "DJ Snake",
         "line": {
          "color": "rgba(255,255,255,0)"
         },
         "marker": {
          "color": "#00cc96",
          "symbol": "line-ew-open"
         },
         "name": "DJ Snake",
         "offsetgroup": "DJ Snake",
         "showlegend": false,
         "type": "box",
         "xaxis": "x2",
         "y": [
          7645734689
         ],
         "yaxis": "y2"
        },
        {
         "hovertemplate": "Artist=Chris Brown<br>Video Count=%{x}<br>Views=%{marker.size}<extra></extra>",
         "legendgroup": "Chris Brown",
         "marker": {
          "color": "#ab63fa",
          "size": [
           13630944140
          ],
          "sizemode": "area",
          "sizeref": 79383600,
          "symbol": "circle"
         },
         "mode": "markers",
         "name": "Chris Brown",
         "orientation": "v",
         "showlegend": true,
         "type": "scatter",
         "x": [
          21
         ],
         "xaxis": "x",
         "y": [
          13630944140
         ],
         "yaxis": "y"
        },
        {
         "alignmentgroup": "True",
         "boxpoints": "all",
         "fillcolor": "rgba(255,255,255,0)",
         "hoveron": "points",
         "hovertemplate": "Artist=Chris Brown<br>Views=%{y}<extra></extra>",
         "jitter": 0,
         "legendgroup": "Chris Brown",
         "line": {
          "color": "rgba(255,255,255,0)"
         },
         "marker": {
          "color": "#ab63fa",
          "symbol": "line-ew-open"
         },
         "name": "Chris Brown",
         "offsetgroup": "Chris Brown",
         "showlegend": false,
         "type": "box",
         "xaxis": "x2",
         "y": [
          13630944140
         ],
         "yaxis": "y2"
        },
        {
         "hovertemplate": "Artist=NickyJamTV<br>Video Count=%{x}<br>Views=%{marker.size}<extra></extra>",
         "legendgroup": "NickyJamTV",
         "marker": {
          "color": "#FFA15A",
          "size": [
           15050718616
          ],
          "sizemode": "area",
          "sizeref": 79383600,
          "symbol": "circle"
         },
         "mode": "markers",
         "name": "NickyJamTV",
         "orientation": "v",
         "showlegend": true,
         "type": "scatter",
         "x": [
          328
         ],
         "xaxis": "x",
         "y": [
          15050718616
         ],
         "yaxis": "y"
        },
        {
         "alignmentgroup": "True",
         "boxpoints": "all",
         "fillcolor": "rgba(255,255,255,0)",
         "hoveron": "points",
         "hovertemplate": "Artist=NickyJamTV<br>Views=%{y}<extra></extra>",
         "jitter": 0,
         "legendgroup": "NickyJamTV",
         "line": {
          "color": "rgba(255,255,255,0)"
         },
         "marker": {
          "color": "#FFA15A",
          "symbol": "line-ew-open"
         },
         "name": "NickyJamTV",
         "offsetgroup": "NickyJamTV",
         "showlegend": false,
         "type": "box",
         "xaxis": "x2",
         "y": [
          15050718616
         ],
         "yaxis": "y2"
        },
        {
         "hovertemplate": "Artist=Enrique Iglesias<br>Video Count=%{x}<br>Views=%{marker.size}<extra></extra>",
         "legendgroup": "Enrique Iglesias",
         "marker": {
          "color": "#19d3f3",
          "size": [
           16539033540
          ],
          "sizemode": "area",
          "sizeref": 79383600,
          "symbol": "circle"
         },
         "mode": "markers",
         "name": "Enrique Iglesias",
         "orientation": "v",
         "showlegend": true,
         "type": "scatter",
         "x": [
          405
         ],
         "xaxis": "x",
         "y": [
          16539033540
         ],
         "yaxis": "y"
        },
        {
         "alignmentgroup": "True",
         "boxpoints": "all",
         "fillcolor": "rgba(255,255,255,0)",
         "hoveron": "points",
         "hovertemplate": "Artist=Enrique Iglesias<br>Views=%{y}<extra></extra>",
         "jitter": 0,
         "legendgroup": "Enrique Iglesias",
         "line": {
          "color": "rgba(255,255,255,0)"
         },
         "marker": {
          "color": "#19d3f3",
          "symbol": "line-ew-open"
         },
         "name": "Enrique Iglesias",
         "offsetgroup": "Enrique Iglesias",
         "showlegend": false,
         "type": "box",
         "xaxis": "x2",
         "y": [
          16539033540
         ],
         "yaxis": "y2"
        },
        {
         "hovertemplate": "Artist=netd müzik<br>Video Count=%{x}<br>Views=%{marker.size}<extra></extra>",
         "legendgroup": "netd müzik",
         "marker": {
          "color": "#FF6692",
          "size": [
           50658927334
          ],
          "sizemode": "area",
          "sizeref": 79383600,
          "symbol": "circle"
         },
         "mode": "markers",
         "name": "netd müzik",
         "orientation": "v",
         "showlegend": true,
         "type": "scatter",
         "x": [
          20482
         ],
         "xaxis": "x",
         "y": [
          50658927334
         ],
         "yaxis": "y"
        },
        {
         "alignmentgroup": "True",
         "boxpoints": "all",
         "fillcolor": "rgba(255,255,255,0)",
         "hoveron": "points",
         "hovertemplate": "Artist=netd müzik<br>Views=%{y}<extra></extra>",
         "jitter": 0,
         "legendgroup": "netd müzik",
         "line": {
          "color": "rgba(255,255,255,0)"
         },
         "marker": {
          "color": "#FF6692",
          "symbol": "line-ew-open"
         },
         "name": "netd müzik",
         "offsetgroup": "netd müzik",
         "showlegend": false,
         "type": "box",
         "xaxis": "x2",
         "y": [
          50658927334
         ],
         "yaxis": "y2"
        },
        {
         "hovertemplate": "Artist=Anuel AA<br>Video Count=%{x}<br>Views=%{marker.size}<extra></extra>",
         "legendgroup": "Anuel AA",
         "marker": {
          "color": "#B6E880",
          "size": [
           11627613226
          ],
          "sizemode": "area",
          "sizeref": 79383600,
          "symbol": "circle"
         },
         "mode": "markers",
         "name": "Anuel AA",
         "orientation": "v",
         "showlegend": true,
         "type": "scatter",
         "x": [
          92
         ],
         "xaxis": "x",
         "y": [
          11627613226
         ],
         "yaxis": "y"
        },
        {
         "alignmentgroup": "True",
         "boxpoints": "all",
         "fillcolor": "rgba(255,255,255,0)",
         "hoveron": "points",
         "hovertemplate": "Artist=Anuel AA<br>Views=%{y}<extra></extra>",
         "jitter": 0,
         "legendgroup": "Anuel AA",
         "line": {
          "color": "rgba(255,255,255,0)"
         },
         "marker": {
          "color": "#B6E880",
          "symbol": "line-ew-open"
         },
         "name": "Anuel AA",
         "offsetgroup": "Anuel AA",
         "showlegend": false,
         "type": "box",
         "xaxis": "x2",
         "y": [
          11627613226
         ],
         "yaxis": "y2"
        },
        {
         "hovertemplate": "Artist=The Chainsmokers<br>Video Count=%{x}<br>Views=%{marker.size}<extra></extra>",
         "legendgroup": "The Chainsmokers",
         "marker": {
          "color": "#FF97FF",
          "size": [
           13337815978
          ],
          "sizemode": "area",
          "sizeref": 79383600,
          "symbol": "circle"
         },
         "mode": "markers",
         "name": "The Chainsmokers",
         "orientation": "v",
         "showlegend": true,
         "type": "scatter",
         "x": [
          237
         ],
         "xaxis": "x",
         "y": [
          13337815978
         ],
         "yaxis": "y"
        },
        {
         "alignmentgroup": "True",
         "boxpoints": "all",
         "fillcolor": "rgba(255,255,255,0)",
         "hoveron": "points",
         "hovertemplate": "Artist=The Chainsmokers<br>Views=%{y}<extra></extra>",
         "jitter": 0,
         "legendgroup": "The Chainsmokers",
         "line": {
          "color": "rgba(255,255,255,0)"
         },
         "marker": {
          "color": "#FF97FF",
          "symbol": "line-ew-open"
         },
         "name": "The Chainsmokers",
         "offsetgroup": "The Chainsmokers",
         "showlegend": false,
         "type": "box",
         "xaxis": "x2",
         "y": [
          13337815978
         ],
         "yaxis": "y2"
        },
        {
         "hovertemplate": "Artist=GMM GRAMMY OFFICIAL<br>Video Count=%{x}<br>Views=%{marker.size}<extra></extra>",
         "legendgroup": "GMM GRAMMY OFFICIAL",
         "marker": {
          "color": "#FECB52",
          "size": [
           24128528075
          ],
          "sizemode": "area",
          "sizeref": 79383600,
          "symbol": "circle"
         },
         "mode": "markers",
         "name": "GMM GRAMMY OFFICIAL",
         "orientation": "v",
         "showlegend": true,
         "type": "scatter",
         "x": [
          13755
         ],
         "xaxis": "x",
         "y": [
          24128528075
         ],
         "yaxis": "y"
        },
        {
         "alignmentgroup": "True",
         "boxpoints": "all",
         "fillcolor": "rgba(255,255,255,0)",
         "hoveron": "points",
         "hovertemplate": "Artist=GMM GRAMMY OFFICIAL<br>Views=%{y}<extra></extra>",
         "jitter": 0,
         "legendgroup": "GMM GRAMMY OFFICIAL",
         "line": {
          "color": "rgba(255,255,255,0)"
         },
         "marker": {
          "color": "#FECB52",
          "symbol": "line-ew-open"
         },
         "name": "GMM GRAMMY OFFICIAL",
         "offsetgroup": "GMM GRAMMY OFFICIAL",
         "showlegend": false,
         "type": "box",
         "xaxis": "x2",
         "y": [
          24128528075
         ],
         "yaxis": "y2"
        },
        {
         "hovertemplate": "Artist=OneDirectionVEVO<br>Video Count=%{x}<br>Views=%{marker.size}<extra></extra>",
         "legendgroup": "OneDirectionVEVO",
         "marker": {
          "color": "#636efa",
          "size": [
           11550410746
          ],
          "sizemode": "area",
          "sizeref": 79383600,
          "symbol": "circle"
         },
         "mode": "markers",
         "name": "OneDirectionVEVO",
         "orientation": "v",
         "showlegend": true,
         "type": "scatter",
         "x": [
          266
         ],
         "xaxis": "x",
         "y": [
          11550410746
         ],
         "yaxis": "y"
        },
        {
         "alignmentgroup": "True",
         "boxpoints": "all",
         "fillcolor": "rgba(255,255,255,0)",
         "hoveron": "points",
         "hovertemplate": "Artist=OneDirectionVEVO<br>Views=%{y}<extra></extra>",
         "jitter": 0,
         "legendgroup": "OneDirectionVEVO",
         "line": {
          "color": "rgba(255,255,255,0)"
         },
         "marker": {
          "color": "#636efa",
          "symbol": "line-ew-open"
         },
         "name": "OneDirectionVEVO",
         "offsetgroup": "OneDirectionVEVO",
         "showlegend": false,
         "type": "box",
         "xaxis": "x2",
         "y": [
          11550410746
         ],
         "yaxis": "y2"
        },
        {
         "hovertemplate": "Artist=Paulo Londra<br>Video Count=%{x}<br>Views=%{marker.size}<extra></extra>",
         "legendgroup": "Paulo Londra",
         "marker": {
          "color": "#EF553B",
          "size": [
           7061442001
          ],
          "sizemode": "area",
          "sizeref": 79383600,
          "symbol": "circle"
         },
         "mode": "markers",
         "name": "Paulo Londra",
         "orientation": "v",
         "showlegend": true,
         "type": "scatter",
         "x": [
          52
         ],
         "xaxis": "x",
         "y": [
          7061442001
         ],
         "yaxis": "y"
        },
        {
         "alignmentgroup": "True",
         "boxpoints": "all",
         "fillcolor": "rgba(255,255,255,0)",
         "hoveron": "points",
         "hovertemplate": "Artist=Paulo Londra<br>Views=%{y}<extra></extra>",
         "jitter": 0,
         "legendgroup": "Paulo Londra",
         "line": {
          "color": "rgba(255,255,255,0)"
         },
         "marker": {
          "color": "#EF553B",
          "symbol": "line-ew-open"
         },
         "name": "Paulo Londra",
         "offsetgroup": "Paulo Londra",
         "showlegend": false,
         "type": "box",
         "xaxis": "x2",
         "y": [
          7061442001
         ],
         "yaxis": "y2"
        },
        {
         "hovertemplate": "Artist=Sia<br>Video Count=%{x}<br>Views=%{marker.size}<extra></extra>",
         "legendgroup": "Sia",
         "marker": {
          "color": "#00cc96",
          "size": [
           12150226022
          ],
          "sizemode": "area",
          "sizeref": 79383600,
          "symbol": "circle"
         },
         "mode": "markers",
         "name": "Sia",
         "orientation": "v",
         "showlegend": true,
         "type": "scatter",
         "x": [
          144
         ],
         "xaxis": "x",
         "y": [
          12150226022
         ],
         "yaxis": "y"
        },
        {
         "alignmentgroup": "True",
         "boxpoints": "all",
         "fillcolor": "rgba(255,255,255,0)",
         "hoveron": "points",
         "hovertemplate": "Artist=Sia<br>Views=%{y}<extra></extra>",
         "jitter": 0,
         "legendgroup": "Sia",
         "line": {
          "color": "rgba(255,255,255,0)"
         },
         "marker": {
          "color": "#00cc96",
          "symbol": "line-ew-open"
         },
         "name": "Sia",
         "offsetgroup": "Sia",
         "showlegend": false,
         "type": "box",
         "xaxis": "x2",
         "y": [
          12150226022
         ],
         "yaxis": "y2"
        },
        {
         "hovertemplate": "Artist=Wave Music Bhojpuri<br>Video Count=%{x}<br>Views=%{marker.size}<extra></extra>",
         "legendgroup": "Wave Music Bhojpuri",
         "marker": {
          "color": "#ab63fa",
          "size": [
           12148385591
          ],
          "sizemode": "area",
          "sizeref": 79383600,
          "symbol": "circle"
         },
         "mode": "markers",
         "name": "Wave Music Bhojpuri",
         "orientation": "v",
         "showlegend": true,
         "type": "scatter",
         "x": [
          21294
         ],
         "xaxis": "x",
         "y": [
          12148385591
         ],
         "yaxis": "y"
        },
        {
         "alignmentgroup": "True",
         "boxpoints": "all",
         "fillcolor": "rgba(255,255,255,0)",
         "hoveron": "points",
         "hovertemplate": "Artist=Wave Music Bhojpuri<br>Views=%{y}<extra></extra>",
         "jitter": 0,
         "legendgroup": "Wave Music Bhojpuri",
         "line": {
          "color": "rgba(255,255,255,0)"
         },
         "marker": {
          "color": "#ab63fa",
          "symbol": "line-ew-open"
         },
         "name": "Wave Music Bhojpuri",
         "offsetgroup": "Wave Music Bhojpuri",
         "showlegend": false,
         "type": "box",
         "xaxis": "x2",
         "y": [
          12148385591
         ],
         "yaxis": "y2"
        },
        {
         "hovertemplate": "Artist=Dua Lipa<br>Video Count=%{x}<br>Views=%{marker.size}<extra></extra>",
         "legendgroup": "Dua Lipa",
         "marker": {
          "color": "#FFA15A",
          "size": [
           9928011592
          ],
          "sizemode": "area",
          "sizeref": 79383600,
          "symbol": "circle"
         },
         "mode": "markers",
         "name": "Dua Lipa",
         "orientation": "v",
         "showlegend": true,
         "type": "scatter",
         "x": [
          164
         ],
         "xaxis": "x",
         "y": [
          9928011592
         ],
         "yaxis": "y"
        },
        {
         "alignmentgroup": "True",
         "boxpoints": "all",
         "fillcolor": "rgba(255,255,255,0)",
         "hoveron": "points",
         "hovertemplate": "Artist=Dua Lipa<br>Views=%{y}<extra></extra>",
         "jitter": 0,
         "legendgroup": "Dua Lipa",
         "line": {
          "color": "rgba(255,255,255,0)"
         },
         "marker": {
          "color": "#FFA15A",
          "symbol": "line-ew-open"
         },
         "name": "Dua Lipa",
         "offsetgroup": "Dua Lipa",
         "showlegend": false,
         "type": "box",
         "xaxis": "x2",
         "y": [
          9928011592
         ],
         "yaxis": "y2"
        },
        {
         "hovertemplate": "Artist=Indosiar<br>Video Count=%{x}<br>Views=%{marker.size}<extra></extra>",
         "legendgroup": "Indosiar",
         "marker": {
          "color": "#19d3f3",
          "size": [
           10126082404
          ],
          "sizemode": "area",
          "sizeref": 79383600,
          "symbol": "circle"
         },
         "mode": "markers",
         "name": "Indosiar",
         "orientation": "v",
         "showlegend": true,
         "type": "scatter",
         "x": [
          58623
         ],
         "xaxis": "x",
         "y": [
          10126082404
         ],
         "yaxis": "y"
        },
        {
         "alignmentgroup": "True",
         "boxpoints": "all",
         "fillcolor": "rgba(255,255,255,0)",
         "hoveron": "points",
         "hovertemplate": "Artist=Indosiar<br>Views=%{y}<extra></extra>",
         "jitter": 0,
         "legendgroup": "Indosiar",
         "line": {
          "color": "rgba(255,255,255,0)"
         },
         "marker": {
          "color": "#19d3f3",
          "symbol": "line-ew-open"
         },
         "name": "Indosiar",
         "offsetgroup": "Indosiar",
         "showlegend": false,
         "type": "box",
         "xaxis": "x2",
         "y": [
          10126082404
         ],
         "yaxis": "y2"
        },
        {
         "hovertemplate": "Artist=Charlie Puth<br>Video Count=%{x}<br>Views=%{marker.size}<extra></extra>",
         "legendgroup": "Charlie Puth",
         "marker": {
          "color": "#FF6692",
          "size": [
           8609202215
          ],
          "sizemode": "area",
          "sizeref": 79383600,
          "symbol": "circle"
         },
         "mode": "markers",
         "name": "Charlie Puth",
         "orientation": "v",
         "showlegend": true,
         "type": "scatter",
         "x": [
          132
         ],
         "xaxis": "x",
         "y": [
          8609202215
         ],
         "yaxis": "y"
        },
        {
         "alignmentgroup": "True",
         "boxpoints": "all",
         "fillcolor": "rgba(255,255,255,0)",
         "hoveron": "points",
         "hovertemplate": "Artist=Charlie Puth<br>Views=%{y}<extra></extra>",
         "jitter": 0,
         "legendgroup": "Charlie Puth",
         "line": {
          "color": "rgba(255,255,255,0)"
         },
         "marker": {
          "color": "#FF6692",
          "symbol": "line-ew-open"
         },
         "name": "Charlie Puth",
         "offsetgroup": "Charlie Puth",
         "showlegend": false,
         "type": "box",
         "xaxis": "x2",
         "y": [
          8609202215
         ],
         "yaxis": "y2"
        },
        {
         "hovertemplate": "Artist=Becky G<br>Video Count=%{x}<br>Views=%{marker.size}<extra></extra>",
         "legendgroup": "Becky G",
         "marker": {
          "color": "#B6E880",
          "size": [
           9552800638
          ],
          "sizemode": "area",
          "sizeref": 79383600,
          "symbol": "circle"
         },
         "mode": "markers",
         "name": "Becky G",
         "orientation": "v",
         "showlegend": true,
         "type": "scatter",
         "x": [
          73
         ],
         "xaxis": "x",
         "y": [
          9552800638
         ],
         "yaxis": "y"
        },
        {
         "alignmentgroup": "True",
         "boxpoints": "all",
         "fillcolor": "rgba(255,255,255,0)",
         "hoveron": "points",
         "hovertemplate": "Artist=Becky G<br>Views=%{y}<extra></extra>",
         "jitter": 0,
         "legendgroup": "Becky G",
         "line": {
          "color": "rgba(255,255,255,0)"
         },
         "marker": {
          "color": "#B6E880",
          "symbol": "line-ew-open"
         },
         "name": "Becky G",
         "offsetgroup": "Becky G",
         "showlegend": false,
         "type": "box",
         "xaxis": "x2",
         "y": [
          9552800638
         ],
         "yaxis": "y2"
        },
        {
         "hovertemplate": "Artist=Avicii<br>Video Count=%{x}<br>Views=%{marker.size}<extra></extra>",
         "legendgroup": "Avicii",
         "marker": {
          "color": "#FF97FF",
          "size": [
           9499913181
          ],
          "sizemode": "area",
          "sizeref": 79383600,
          "symbol": "circle"
         },
         "mode": "markers",
         "name": "Avicii",
         "orientation": "v",
         "showlegend": true,
         "type": "scatter",
         "x": [
          149
         ],
         "xaxis": "x",
         "y": [
          9499913181
         ],
         "yaxis": "y"
        },
        {
         "alignmentgroup": "True",
         "boxpoints": "all",
         "fillcolor": "rgba(255,255,255,0)",
         "hoveron": "points",
         "hovertemplate": "Artist=Avicii<br>Views=%{y}<extra></extra>",
         "jitter": 0,
         "legendgroup": "Avicii",
         "line": {
          "color": "rgba(255,255,255,0)"
         },
         "marker": {
          "color": "#FF97FF",
          "symbol": "line-ew-open"
         },
         "name": "Avicii",
         "offsetgroup": "Avicii",
         "showlegend": false,
         "type": "box",
         "xaxis": "x2",
         "y": [
          9499913181
         ],
         "yaxis": "y2"
        },
        {
         "hovertemplate": "Artist=Vevo<br>Video Count=%{x}<br>Views=%{marker.size}<extra></extra>",
         "legendgroup": "Vevo",
         "marker": {
          "color": "#FECB52",
          "size": [
           546905035
          ],
          "sizemode": "area",
          "sizeref": 79383600,
          "symbol": "circle"
         },
         "mode": "markers",
         "name": "Vevo",
         "orientation": "v",
         "showlegend": true,
         "type": "scatter",
         "x": [
          1519
         ],
         "xaxis": "x",
         "y": [
          546905035
         ],
         "yaxis": "y"
        },
        {
         "alignmentgroup": "True",
         "boxpoints": "all",
         "fillcolor": "rgba(255,255,255,0)",
         "hoveron": "points",
         "hovertemplate": "Artist=Vevo<br>Views=%{y}<extra></extra>",
         "jitter": 0,
         "legendgroup": "Vevo",
         "line": {
          "color": "rgba(255,255,255,0)"
         },
         "marker": {
          "color": "#FECB52",
          "symbol": "line-ew-open"
         },
         "name": "Vevo",
         "offsetgroup": "Vevo",
         "showlegend": false,
         "type": "box",
         "xaxis": "x2",
         "y": [
          546905035
         ],
         "yaxis": "y2"
        },
        {
         "hovertemplate": "Artist=Skrillex<br>Video Count=%{x}<br>Views=%{marker.size}<extra></extra>",
         "legendgroup": "Skrillex",
         "marker": {
          "color": "#636efa",
          "size": [
           6307539008
          ],
          "sizemode": "area",
          "sizeref": 79383600,
          "symbol": "circle"
         },
         "mode": "markers",
         "name": "Skrillex",
         "orientation": "v",
         "showlegend": true,
         "type": "scatter",
         "x": [
          180
         ],
         "xaxis": "x",
         "y": [
          6307539008
         ],
         "yaxis": "y"
        },
        {
         "alignmentgroup": "True",
         "boxpoints": "all",
         "fillcolor": "rgba(255,255,255,0)",
         "hoveron": "points",
         "hovertemplate": "Artist=Skrillex<br>Views=%{y}<extra></extra>",
         "jitter": 0,
         "legendgroup": "Skrillex",
         "line": {
          "color": "rgba(255,255,255,0)"
         },
         "marker": {
          "color": "#636efa",
          "symbol": "line-ew-open"
         },
         "name": "Skrillex",
         "offsetgroup": "Skrillex",
         "showlegend": false,
         "type": "box",
         "xaxis": "x2",
         "y": [
          6307539008
         ],
         "yaxis": "y2"
        },
        {
         "hovertemplate": "Artist=Rotana<br>Video Count=%{x}<br>Views=%{marker.size}<extra></extra>",
         "legendgroup": "Rotana",
         "marker": {
          "color": "#EF553B",
          "size": [
           16480938259
          ],
          "sizemode": "area",
          "sizeref": 79383600,
          "symbol": "circle"
         },
         "mode": "markers",
         "name": "Rotana",
         "orientation": "v",
         "showlegend": true,
         "type": "scatter",
         "x": [
          8109
         ],
         "xaxis": "x",
         "y": [
          16480938259
         ],
         "yaxis": "y"
        },
        {
         "alignmentgroup": "True",
         "boxpoints": "all",
         "fillcolor": "rgba(255,255,255,0)",
         "hoveron": "points",
         "hovertemplate": "Artist=Rotana<br>Views=%{y}<extra></extra>",
         "jitter": 0,
         "legendgroup": "Rotana",
         "line": {
          "color": "rgba(255,255,255,0)"
         },
         "marker": {
          "color": "#EF553B",
          "symbol": "line-ew-open"
         },
         "name": "Rotana",
         "offsetgroup": "Rotana",
         "showlegend": false,
         "type": "box",
         "xaxis": "x2",
         "y": [
          16480938259
         ],
         "yaxis": "y2"
        },
        {
         "hovertemplate": "Artist=Pentatonix<br>Video Count=%{x}<br>Views=%{marker.size}<extra></extra>",
         "legendgroup": "Pentatonix",
         "marker": {
          "color": "#00cc96",
          "size": [
           5694327707
          ],
          "sizemode": "area",
          "sizeref": 79383600,
          "symbol": "circle"
         },
         "mode": "markers",
         "name": "Pentatonix",
         "orientation": "v",
         "showlegend": true,
         "type": "scatter",
         "x": [
          235
         ],
         "xaxis": "x",
         "y": [
          5694327707
         ],
         "yaxis": "y"
        },
        {
         "alignmentgroup": "True",
         "boxpoints": "all",
         "fillcolor": "rgba(255,255,255,0)",
         "hoveron": "points",
         "hovertemplate": "Artist=Pentatonix<br>Views=%{y}<extra></extra>",
         "jitter": 0,
         "legendgroup": "Pentatonix",
         "line": {
          "color": "rgba(255,255,255,0)"
         },
         "marker": {
          "color": "#00cc96",
          "symbol": "line-ew-open"
         },
         "name": "Pentatonix",
         "offsetgroup": "Pentatonix",
         "showlegend": false,
         "type": "box",
         "xaxis": "x2",
         "y": [
          5694327707
         ],
         "yaxis": "y2"
        },
        {
         "hovertemplate": "Artist=toyorbabytv<br>Video Count=%{x}<br>Views=%{marker.size}<extra></extra>",
         "legendgroup": "toyorbabytv",
         "marker": {
          "color": "#ab63fa",
          "size": [
           13978892435
          ],
          "sizemode": "area",
          "sizeref": 79383600,
          "symbol": "circle"
         },
         "mode": "markers",
         "name": "toyorbabytv",
         "orientation": "v",
         "showlegend": true,
         "type": "scatter",
         "x": [
          1057
         ],
         "xaxis": "x",
         "y": [
          13978892435
         ],
         "yaxis": "y"
        },
        {
         "alignmentgroup": "True",
         "boxpoints": "all",
         "fillcolor": "rgba(255,255,255,0)",
         "hoveron": "points",
         "hovertemplate": "Artist=toyorbabytv<br>Views=%{y}<extra></extra>",
         "jitter": 0,
         "legendgroup": "toyorbabytv",
         "line": {
          "color": "rgba(255,255,255,0)"
         },
         "marker": {
          "color": "#ab63fa",
          "symbol": "line-ew-open"
         },
         "name": "toyorbabytv",
         "offsetgroup": "toyorbabytv",
         "showlegend": false,
         "type": "box",
         "xaxis": "x2",
         "y": [
          13978892435
         ],
         "yaxis": "y2"
        },
        {
         "hovertemplate": "Artist=Romeo Santos<br>Video Count=%{x}<br>Views=%{marker.size}<extra></extra>",
         "legendgroup": "Romeo Santos",
         "marker": {
          "color": "#FFA15A",
          "size": [
           14819598563
          ],
          "sizemode": "area",
          "sizeref": 79383600,
          "symbol": "circle"
         },
         "mode": "markers",
         "name": "Romeo Santos",
         "orientation": "v",
         "showlegend": true,
         "type": "scatter",
         "x": [
          28
         ],
         "xaxis": "x",
         "y": [
          14819598563
         ],
         "yaxis": "y"
        },
        {
         "alignmentgroup": "True",
         "boxpoints": "all",
         "fillcolor": "rgba(255,255,255,0)",
         "hoveron": "points",
         "hovertemplate": "Artist=Romeo Santos<br>Views=%{y}<extra></extra>",
         "jitter": 0,
         "legendgroup": "Romeo Santos",
         "line": {
          "color": "rgba(255,255,255,0)"
         },
         "marker": {
          "color": "#FFA15A",
          "symbol": "line-ew-open"
         },
         "name": "Romeo Santos",
         "offsetgroup": "Romeo Santos",
         "showlegend": false,
         "type": "box",
         "xaxis": "x2",
         "y": [
          14819598563
         ],
         "yaxis": "y2"
        },
        {
         "hovertemplate": "Artist=Linkin Park<br>Video Count=%{x}<br>Views=%{marker.size}<extra></extra>",
         "legendgroup": "Linkin Park",
         "marker": {
          "color": "#19d3f3",
          "size": [
           11783975855
          ],
          "sizemode": "area",
          "sizeref": 79383600,
          "symbol": "circle"
         },
         "mode": "markers",
         "name": "Linkin Park",
         "orientation": "v",
         "showlegend": true,
         "type": "scatter",
         "x": [
          592
         ],
         "xaxis": "x",
         "y": [
          11783975855
         ],
         "yaxis": "y"
        },
        {
         "alignmentgroup": "True",
         "boxpoints": "all",
         "fillcolor": "rgba(255,255,255,0)",
         "hoveron": "points",
         "hovertemplate": "Artist=Linkin Park<br>Views=%{y}<extra></extra>",
         "jitter": 0,
         "legendgroup": "Linkin Park",
         "line": {
          "color": "rgba(255,255,255,0)"
         },
         "marker": {
          "color": "#19d3f3",
          "symbol": "line-ew-open"
         },
         "name": "Linkin Park",
         "offsetgroup": "Linkin Park",
         "showlegend": false,
         "type": "box",
         "xaxis": "x2",
         "y": [
          11783975855
         ],
         "yaxis": "y2"
        },
        {
         "hovertemplate": "Artist=Gusttavo Lima Oficial<br>Video Count=%{x}<br>Views=%{marker.size}<extra></extra>",
         "legendgroup": "Gusttavo Lima Oficial",
         "marker": {
          "color": "#FF6692",
          "size": [
           11815001366
          ],
          "sizemode": "area",
          "sizeref": 79383600,
          "symbol": "circle"
         },
         "mode": "markers",
         "name": "Gusttavo Lima Oficial",
         "orientation": "v",
         "showlegend": true,
         "type": "scatter",
         "x": [
          335
         ],
         "xaxis": "x",
         "y": [
          11815001366
         ],
         "yaxis": "y"
        },
        {
         "alignmentgroup": "True",
         "boxpoints": "all",
         "fillcolor": "rgba(255,255,255,0)",
         "hoveron": "points",
         "hovertemplate": "Artist=Gusttavo Lima Oficial<br>Views=%{y}<extra></extra>",
         "jitter": 0,
         "legendgroup": "Gusttavo Lima Oficial",
         "line": {
          "color": "rgba(255,255,255,0)"
         },
         "marker": {
          "color": "#FF6692",
          "symbol": "line-ew-open"
         },
         "name": "Gusttavo Lima Oficial",
         "offsetgroup": "Gusttavo Lima Oficial",
         "showlegend": false,
         "type": "box",
         "xaxis": "x2",
         "y": [
          11815001366
         ],
         "yaxis": "y2"
        },
        {
         "hovertemplate": "Artist=Lil Nas X<br>Video Count=%{x}<br>Views=%{marker.size}<extra></extra>",
         "legendgroup": "Lil Nas X",
         "marker": {
          "color": "#B6E880",
          "size": [
           5659051618
          ],
          "sizemode": "area",
          "sizeref": 79383600,
          "symbol": "circle"
         },
         "mode": "markers",
         "name": "Lil Nas X",
         "orientation": "v",
         "showlegend": true,
         "type": "scatter",
         "x": [
          37
         ],
         "xaxis": "x",
         "y": [
          5659051618
         ],
         "yaxis": "y"
        },
        {
         "alignmentgroup": "True",
         "boxpoints": "all",
         "fillcolor": "rgba(255,255,255,0)",
         "hoveron": "points",
         "hovertemplate": "Artist=Lil Nas X<br>Views=%{y}<extra></extra>",
         "jitter": 0,
         "legendgroup": "Lil Nas X",
         "line": {
          "color": "rgba(255,255,255,0)"
         },
         "marker": {
          "color": "#B6E880",
          "symbol": "line-ew-open"
         },
         "name": "Lil Nas X",
         "offsetgroup": "Lil Nas X",
         "showlegend": false,
         "type": "box",
         "xaxis": "x2",
         "y": [
          5659051618
         ],
         "yaxis": "y2"
        },
        {
         "hovertemplate": "Artist=Calvin Harris<br>Video Count=%{x}<br>Views=%{marker.size}<extra></extra>",
         "legendgroup": "Calvin Harris",
         "marker": {
          "color": "#FF97FF",
          "size": [
           14886853329
          ],
          "sizemode": "area",
          "sizeref": 79383600,
          "symbol": "circle"
         },
         "mode": "markers",
         "name": "Calvin Harris",
         "orientation": "v",
         "showlegend": true,
         "type": "scatter",
         "x": [
          76
         ],
         "xaxis": "x",
         "y": [
          14886853329
         ],
         "yaxis": "y"
        },
        {
         "alignmentgroup": "True",
         "boxpoints": "all",
         "fillcolor": "rgba(255,255,255,0)",
         "hoveron": "points",
         "hovertemplate": "Artist=Calvin Harris<br>Views=%{y}<extra></extra>",
         "jitter": 0,
         "legendgroup": "Calvin Harris",
         "line": {
          "color": "rgba(255,255,255,0)"
         },
         "marker": {
          "color": "#FF97FF",
          "symbol": "line-ew-open"
         },
         "name": "Calvin Harris",
         "offsetgroup": "Calvin Harris",
         "showlegend": false,
         "type": "box",
         "xaxis": "x2",
         "y": [
          14886853329
         ],
         "yaxis": "y2"
        },
        {
         "hovertemplate": "Artist=shakiraVEVO<br>Video Count=%{x}<br>Views=%{marker.size}<extra></extra>",
         "legendgroup": "shakiraVEVO",
         "marker": {
          "color": "#FECB52",
          "size": [
           22257341033
          ],
          "sizemode": "area",
          "sizeref": 79383600,
          "symbol": "circle"
         },
         "mode": "markers",
         "name": "shakiraVEVO",
         "orientation": "v",
         "showlegend": true,
         "type": "scatter",
         "x": [
          189
         ],
         "xaxis": "x",
         "y": [
          22257341033
         ],
         "yaxis": "y"
        },
        {
         "alignmentgroup": "True",
         "boxpoints": "all",
         "fillcolor": "rgba(255,255,255,0)",
         "hoveron": "points",
         "hovertemplate": "Artist=shakiraVEVO<br>Views=%{y}<extra></extra>",
         "jitter": 0,
         "legendgroup": "shakiraVEVO",
         "line": {
          "color": "rgba(255,255,255,0)"
         },
         "marker": {
          "color": "#FECB52",
          "symbol": "line-ew-open"
         },
         "name": "shakiraVEVO",
         "offsetgroup": "shakiraVEVO",
         "showlegend": false,
         "type": "box",
         "xaxis": "x2",
         "y": [
          22257341033
         ],
         "yaxis": "y2"
        },
        {
         "hovertemplate": "Artist=Dan-Sa / Daniel Saboya<br>Video Count=%{x}<br>Views=%{marker.size}<extra></extra>",
         "legendgroup": "Dan-Sa / Daniel Saboya",
         "marker": {
          "color": "#636efa",
          "size": [
           6165702828
          ],
          "sizemode": "area",
          "sizeref": 79383600,
          "symbol": "circle"
         },
         "mode": "markers",
         "name": "Dan-Sa / Daniel Saboya",
         "orientation": "v",
         "showlegend": true,
         "type": "scatter",
         "x": [
          2062
         ],
         "xaxis": "x",
         "y": [
          6165702828
         ],
         "yaxis": "y"
        },
        {
         "alignmentgroup": "True",
         "boxpoints": "all",
         "fillcolor": "rgba(255,255,255,0)",
         "hoveron": "points",
         "hovertemplate": "Artist=Dan-Sa / Daniel Saboya<br>Views=%{y}<extra></extra>",
         "jitter": 0,
         "legendgroup": "Dan-Sa / Daniel Saboya",
         "line": {
          "color": "rgba(255,255,255,0)"
         },
         "marker": {
          "color": "#636efa",
          "symbol": "line-ew-open"
         },
         "name": "Dan-Sa / Daniel Saboya",
         "offsetgroup": "Dan-Sa / Daniel Saboya",
         "showlegend": false,
         "type": "box",
         "xaxis": "x2",
         "y": [
          6165702828
         ],
         "yaxis": "y2"
        },
        {
         "hovertemplate": "Artist=Emiway Bantai<br>Video Count=%{x}<br>Views=%{marker.size}<extra></extra>",
         "legendgroup": "Emiway Bantai",
         "marker": {
          "color": "#EF553B",
          "size": [
           3038899728
          ],
          "sizemode": "area",
          "sizeref": 79383600,
          "symbol": "circle"
         },
         "mode": "markers",
         "name": "Emiway Bantai",
         "orientation": "v",
         "showlegend": true,
         "type": "scatter",
         "x": [
          201
         ],
         "xaxis": "x",
         "y": [
          3038899728
         ],
         "yaxis": "y"
        },
        {
         "alignmentgroup": "True",
         "boxpoints": "all",
         "fillcolor": "rgba(255,255,255,0)",
         "hoveron": "points",
         "hovertemplate": "Artist=Emiway Bantai<br>Views=%{y}<extra></extra>",
         "jitter": 0,
         "legendgroup": "Emiway Bantai",
         "line": {
          "color": "rgba(255,255,255,0)"
         },
         "marker": {
          "color": "#EF553B",
          "symbol": "line-ew-open"
         },
         "name": "Emiway Bantai",
         "offsetgroup": "Emiway Bantai",
         "showlegend": false,
         "type": "box",
         "xaxis": "x2",
         "y": [
          3038899728
         ],
         "yaxis": "y2"
        },
        {
         "hovertemplate": "Artist=Farruko<br>Video Count=%{x}<br>Views=%{marker.size}<extra></extra>",
         "legendgroup": "Farruko",
         "marker": {
          "color": "#00cc96",
          "size": [
           8480000414
          ],
          "sizemode": "area",
          "sizeref": 79383600,
          "symbol": "circle"
         },
         "mode": "markers",
         "name": "Farruko",
         "orientation": "v",
         "showlegend": true,
         "type": "scatter",
         "x": [
          193
         ],
         "xaxis": "x",
         "y": [
          8480000414
         ],
         "yaxis": "y"
        },
        {
         "alignmentgroup": "True",
         "boxpoints": "all",
         "fillcolor": "rgba(255,255,255,0)",
         "hoveron": "points",
         "hovertemplate": "Artist=Farruko<br>Views=%{y}<extra></extra>",
         "jitter": 0,
         "legendgroup": "Farruko",
         "line": {
          "color": "rgba(255,255,255,0)"
         },
         "marker": {
          "color": "#00cc96",
          "symbol": "line-ew-open"
         },
         "name": "Farruko",
         "offsetgroup": "Farruko",
         "showlegend": false,
         "type": "box",
         "xaxis": "x2",
         "y": [
          8480000414
         ],
         "yaxis": "y2"
        },
        {
         "hovertemplate": "Artist=ArianaGrandeVevo<br>Video Count=%{x}<br>Views=%{marker.size}<extra></extra>",
         "legendgroup": "ArianaGrandeVevo",
         "marker": {
          "color": "#ab63fa",
          "size": [
           19011269725
          ],
          "sizemode": "area",
          "sizeref": 79383600,
          "symbol": "circle"
         },
         "mode": "markers",
         "name": "ArianaGrandeVevo",
         "orientation": "v",
         "showlegend": true,
         "type": "scatter",
         "x": [
          177
         ],
         "xaxis": "x",
         "y": [
          19011269725
         ],
         "yaxis": "y"
        },
        {
         "alignmentgroup": "True",
         "boxpoints": "all",
         "fillcolor": "rgba(255,255,255,0)",
         "hoveron": "points",
         "hovertemplate": "Artist=ArianaGrandeVevo<br>Views=%{y}<extra></extra>",
         "jitter": 0,
         "legendgroup": "ArianaGrandeVevo",
         "line": {
          "color": "rgba(255,255,255,0)"
         },
         "marker": {
          "color": "#ab63fa",
          "symbol": "line-ew-open"
         },
         "name": "ArianaGrandeVevo",
         "offsetgroup": "ArianaGrandeVevo",
         "showlegend": false,
         "type": "box",
         "xaxis": "x2",
         "y": [
          19011269725
         ],
         "yaxis": "y2"
        },
        {
         "hovertemplate": "Artist=Demi Lovato<br>Video Count=%{x}<br>Views=%{marker.size}<extra></extra>",
         "legendgroup": "Demi Lovato",
         "marker": {
          "color": "#FFA15A",
          "size": [
           6495131112
          ],
          "sizemode": "area",
          "sizeref": 79383600,
          "symbol": "circle"
         },
         "mode": "markers",
         "name": "Demi Lovato",
         "orientation": "v",
         "showlegend": true,
         "type": "scatter",
         "x": [
          282
         ],
         "xaxis": "x",
         "y": [
          6495131112
         ],
         "yaxis": "y"
        },
        {
         "alignmentgroup": "True",
         "boxpoints": "all",
         "fillcolor": "rgba(255,255,255,0)",
         "hoveron": "points",
         "hovertemplate": "Artist=Demi Lovato<br>Views=%{y}<extra></extra>",
         "jitter": 0,
         "legendgroup": "Demi Lovato",
         "line": {
          "color": "rgba(255,255,255,0)"
         },
         "marker": {
          "color": "#FFA15A",
          "symbol": "line-ew-open"
         },
         "name": "Demi Lovato",
         "offsetgroup": "Demi Lovato",
         "showlegend": false,
         "type": "box",
         "xaxis": "x2",
         "y": [
          6495131112
         ],
         "yaxis": "y2"
        },
        {
         "hovertemplate": "Artist=Lil Pump<br>Video Count=%{x}<br>Views=%{marker.size}<extra></extra>",
         "legendgroup": "Lil Pump",
         "marker": {
          "color": "#19d3f3",
          "size": [
           4091109829
          ],
          "sizemode": "area",
          "sizeref": 79383600,
          "symbol": "circle"
         },
         "mode": "markers",
         "name": "Lil Pump",
         "orientation": "v",
         "showlegend": true,
         "type": "scatter",
         "x": [
          59
         ],
         "xaxis": "x",
         "y": [
          4091109829
         ],
         "yaxis": "y"
        },
        {
         "alignmentgroup": "True",
         "boxpoints": "all",
         "fillcolor": "rgba(255,255,255,0)",
         "hoveron": "points",
         "hovertemplate": "Artist=Lil Pump<br>Views=%{y}<extra></extra>",
         "jitter": 0,
         "legendgroup": "Lil Pump",
         "line": {
          "color": "rgba(255,255,255,0)"
         },
         "marker": {
          "color": "#19d3f3",
          "symbol": "line-ew-open"
         },
         "name": "Lil Pump",
         "offsetgroup": "Lil Pump",
         "showlegend": false,
         "type": "box",
         "xaxis": "x2",
         "y": [
          4091109829
         ],
         "yaxis": "y2"
        },
        {
         "hovertemplate": "Artist=RsiamMusic : อาร์สยาม<br>Video Count=%{x}<br>Views=%{marker.size}<extra></extra>",
         "legendgroup": "RsiamMusic : อาร์สยาม",
         "marker": {
          "color": "#FF6692",
          "size": [
           10952154122
          ],
          "sizemode": "area",
          "sizeref": 79383600,
          "symbol": "circle"
         },
         "mode": "markers",
         "name": "RsiamMusic : อาร์สยาม",
         "orientation": "v",
         "showlegend": true,
         "type": "scatter",
         "x": [
          2663
         ],
         "xaxis": "x",
         "y": [
          10952154122
         ],
         "yaxis": "y"
        },
        {
         "alignmentgroup": "True",
         "boxpoints": "all",
         "fillcolor": "rgba(255,255,255,0)",
         "hoveron": "points",
         "hovertemplate": "Artist=RsiamMusic : อาร์สยาม<br>Views=%{y}<extra></extra>",
         "jitter": 0,
         "legendgroup": "RsiamMusic : อาร์สยาม",
         "line": {
          "color": "rgba(255,255,255,0)"
         },
         "marker": {
          "color": "#FF6692",
          "symbol": "line-ew-open"
         },
         "name": "RsiamMusic : อาร์สยาม",
         "offsetgroup": "RsiamMusic : อาร์สยาม",
         "showlegend": false,
         "type": "box",
         "xaxis": "x2",
         "y": [
          10952154122
         ],
         "yaxis": "y2"
        },
        {
         "hovertemplate": "Artist=JFlaMusic<br>Video Count=%{x}<br>Views=%{marker.size}<extra></extra>",
         "legendgroup": "JFlaMusic",
         "marker": {
          "color": "#B6E880",
          "size": [
           3657526529
          ],
          "sizemode": "area",
          "sizeref": 79383600,
          "symbol": "circle"
         },
         "mode": "markers",
         "name": "JFlaMusic",
         "orientation": "v",
         "showlegend": true,
         "type": "scatter",
         "x": [
          282
         ],
         "xaxis": "x",
         "y": [
          3657526529
         ],
         "yaxis": "y"
        },
        {
         "alignmentgroup": "True",
         "boxpoints": "all",
         "fillcolor": "rgba(255,255,255,0)",
         "hoveron": "points",
         "hovertemplate": "Artist=JFlaMusic<br>Views=%{y}<extra></extra>",
         "jitter": 0,
         "legendgroup": "JFlaMusic",
         "line": {
          "color": "rgba(255,255,255,0)"
         },
         "marker": {
          "color": "#B6E880",
          "symbol": "line-ew-open"
         },
         "name": "JFlaMusic",
         "offsetgroup": "JFlaMusic",
         "showlegend": false,
         "type": "box",
         "xaxis": "x2",
         "y": [
          3657526529
         ],
         "yaxis": "y2"
        },
        {
         "hovertemplate": "Artist=officialpsy<br>Video Count=%{x}<br>Views=%{marker.size}<extra></extra>",
         "legendgroup": "officialpsy",
         "marker": {
          "color": "#FF97FF",
          "size": [
           9825292199
          ],
          "sizemode": "area",
          "sizeref": 79383600,
          "symbol": "circle"
         },
         "mode": "markers",
         "name": "officialpsy",
         "orientation": "v",
         "showlegend": true,
         "type": "scatter",
         "x": [
          119
         ],
         "xaxis": "x",
         "y": [
          9825292199
         ],
         "yaxis": "y"
        },
        {
         "alignmentgroup": "True",
         "boxpoints": "all",
         "fillcolor": "rgba(255,255,255,0)",
         "hoveron": "points",
         "hovertemplate": "Artist=officialpsy<br>Views=%{y}<extra></extra>",
         "jitter": 0,
         "legendgroup": "officialpsy",
         "line": {
          "color": "rgba(255,255,255,0)"
         },
         "marker": {
          "color": "#FF97FF",
          "symbol": "line-ew-open"
         },
         "name": "officialpsy",
         "offsetgroup": "officialpsy",
         "showlegend": false,
         "type": "box",
         "xaxis": "x2",
         "y": [
          9825292199
         ],
         "yaxis": "y2"
        },
        {
         "hovertemplate": "Artist=LuisFonsiVEVO<br>Video Count=%{x}<br>Views=%{marker.size}<extra></extra>",
         "legendgroup": "LuisFonsiVEVO",
         "marker": {
          "color": "#FECB52",
          "size": [
           14008585257
          ],
          "sizemode": "area",
          "sizeref": 79383600,
          "symbol": "circle"
         },
         "mode": "markers",
         "name": "LuisFonsiVEVO",
         "orientation": "v",
         "showlegend": true,
         "type": "scatter",
         "x": [
          96
         ],
         "xaxis": "x",
         "y": [
          14008585257
         ],
         "yaxis": "y"
        },
        {
         "alignmentgroup": "True",
         "boxpoints": "all",
         "fillcolor": "rgba(255,255,255,0)",
         "hoveron": "points",
         "hovertemplate": "Artist=LuisFonsiVEVO<br>Views=%{y}<extra></extra>",
         "jitter": 0,
         "legendgroup": "LuisFonsiVEVO",
         "line": {
          "color": "rgba(255,255,255,0)"
         },
         "marker": {
          "color": "#FECB52",
          "symbol": "line-ew-open"
         },
         "name": "LuisFonsiVEVO",
         "offsetgroup": "LuisFonsiVEVO",
         "showlegend": false,
         "type": "box",
         "xaxis": "x2",
         "y": [
          14008585257
         ],
         "yaxis": "y2"
        },
        {
         "hovertemplate": "Artist=GRAMMY GOLD OFFICIAL<br>Video Count=%{x}<br>Views=%{marker.size}<extra></extra>",
         "legendgroup": "GRAMMY GOLD OFFICIAL",
         "marker": {
          "color": "#636efa",
          "size": [
           17974040182
          ],
          "sizemode": "area",
          "sizeref": 79383600,
          "symbol": "circle"
         },
         "mode": "markers",
         "name": "GRAMMY GOLD OFFICIAL",
         "orientation": "v",
         "showlegend": true,
         "type": "scatter",
         "x": [
          5334
         ],
         "xaxis": "x",
         "y": [
          17974040182
         ],
         "yaxis": "y"
        },
        {
         "alignmentgroup": "True",
         "boxpoints": "all",
         "fillcolor": "rgba(255,255,255,0)",
         "hoveron": "points",
         "hovertemplate": "Artist=GRAMMY GOLD OFFICIAL<br>Views=%{y}<extra></extra>",
         "jitter": 0,
         "legendgroup": "GRAMMY GOLD OFFICIAL",
         "line": {
          "color": "rgba(255,255,255,0)"
         },
         "marker": {
          "color": "#636efa",
          "symbol": "line-ew-open"
         },
         "name": "GRAMMY GOLD OFFICIAL",
         "offsetgroup": "GRAMMY GOLD OFFICIAL",
         "showlegend": false,
         "type": "box",
         "xaxis": "x2",
         "y": [
          17974040182
         ],
         "yaxis": "y2"
        },
        {
         "hovertemplate": "Artist=الـريماس - Al-Remas<br>Video Count=%{x}<br>Views=%{marker.size}<extra></extra>",
         "legendgroup": "الـريماس - Al-Remas",
         "marker": {
          "color": "#EF553B",
          "size": [
           10550888024
          ],
          "sizemode": "area",
          "sizeref": 79383600,
          "symbol": "circle"
         },
         "mode": "markers",
         "name": "الـريماس - Al-Remas",
         "orientation": "v",
         "showlegend": true,
         "type": "scatter",
         "x": [
          2047
         ],
         "xaxis": "x",
         "y": [
          10550888024
         ],
         "yaxis": "y"
        },
        {
         "alignmentgroup": "True",
         "boxpoints": "all",
         "fillcolor": "rgba(255,255,255,0)",
         "hoveron": "points",
         "hovertemplate": "Artist=الـريماس - Al-Remas<br>Views=%{y}<extra></extra>",
         "jitter": 0,
         "legendgroup": "الـريماس - Al-Remas",
         "line": {
          "color": "rgba(255,255,255,0)"
         },
         "marker": {
          "color": "#EF553B",
          "symbol": "line-ew-open"
         },
         "name": "الـريماس - Al-Remas",
         "offsetgroup": "الـريماس - Al-Remas",
         "showlegend": false,
         "type": "box",
         "xaxis": "x2",
         "y": [
          10550888024
         ],
         "yaxis": "y2"
        },
        {
         "hovertemplate": "Artist=Jason Derulo<br>Video Count=%{x}<br>Views=%{marker.size}<extra></extra>",
         "legendgroup": "Jason Derulo",
         "marker": {
          "color": "#00cc96",
          "size": [
           8808599101
          ],
          "sizemode": "area",
          "sizeref": 79383600,
          "symbol": "circle"
         },
         "mode": "markers",
         "name": "Jason Derulo",
         "orientation": "v",
         "showlegend": true,
         "type": "scatter",
         "x": [
          451
         ],
         "xaxis": "x",
         "y": [
          8808599101
         ],
         "yaxis": "y"
        },
        {
         "alignmentgroup": "True",
         "boxpoints": "all",
         "fillcolor": "rgba(255,255,255,0)",
         "hoveron": "points",
         "hovertemplate": "Artist=Jason Derulo<br>Views=%{y}<extra></extra>",
         "jitter": 0,
         "legendgroup": "Jason Derulo",
         "line": {
          "color": "rgba(255,255,255,0)"
         },
         "marker": {
          "color": "#00cc96",
          "symbol": "line-ew-open"
         },
         "name": "Jason Derulo",
         "offsetgroup": "Jason Derulo",
         "showlegend": false,
         "type": "box",
         "xaxis": "x2",
         "y": [
          8808599101
         ],
         "yaxis": "y2"
        },
        {
         "hovertemplate": "Artist=Anitta<br>Video Count=%{x}<br>Views=%{marker.size}<extra></extra>",
         "legendgroup": "Anitta",
         "marker": {
          "color": "#ab63fa",
          "size": [
           6610175435
          ],
          "sizemode": "area",
          "sizeref": 79383600,
          "symbol": "circle"
         },
         "mode": "markers",
         "name": "Anitta",
         "orientation": "v",
         "showlegend": true,
         "type": "scatter",
         "x": [
          99
         ],
         "xaxis": "x",
         "y": [
          6610175435
         ],
         "yaxis": "y"
        },
        {
         "alignmentgroup": "True",
         "boxpoints": "all",
         "fillcolor": "rgba(255,255,255,0)",
         "hoveron": "points",
         "hovertemplate": "Artist=Anitta<br>Views=%{y}<extra></extra>",
         "jitter": 0,
         "legendgroup": "Anitta",
         "line": {
          "color": "rgba(255,255,255,0)"
         },
         "marker": {
          "color": "#ab63fa",
          "symbol": "line-ew-open"
         },
         "name": "Anitta",
         "offsetgroup": "Anitta",
         "showlegend": false,
         "type": "box",
         "xaxis": "x2",
         "y": [
          6610175435
         ],
         "yaxis": "y2"
        },
        {
         "hovertemplate": "Artist=7clouds<br>Video Count=%{x}<br>Views=%{marker.size}<extra></extra>",
         "legendgroup": "7clouds",
         "marker": {
          "color": "#FFA15A",
          "size": [
           11637964945
          ],
          "sizemode": "area",
          "sizeref": 79383600,
          "symbol": "circle"
         },
         "mode": "markers",
         "name": "7clouds",
         "orientation": "v",
         "showlegend": true,
         "type": "scatter",
         "x": [
          1940
         ],
         "xaxis": "x",
         "y": [
          11637964945
         ],
         "yaxis": "y"
        },
        {
         "alignmentgroup": "True",
         "boxpoints": "all",
         "fillcolor": "rgba(255,255,255,0)",
         "hoveron": "points",
         "hovertemplate": "Artist=7clouds<br>Views=%{y}<extra></extra>",
         "jitter": 0,
         "legendgroup": "7clouds",
         "line": {
          "color": "rgba(255,255,255,0)"
         },
         "marker": {
          "color": "#FFA15A",
          "symbol": "line-ew-open"
         },
         "name": "7clouds",
         "offsetgroup": "7clouds",
         "showlegend": false,
         "type": "box",
         "xaxis": "x2",
         "y": [
          11637964945
         ],
         "yaxis": "y2"
        },
        {
         "hovertemplate": "Artist=SonyMusicSouthVEVO<br>Video Count=%{x}<br>Views=%{marker.size}<extra></extra>",
         "legendgroup": "SonyMusicSouthVEVO",
         "marker": {
          "color": "#19d3f3",
          "size": [
           15090557603
          ],
          "sizemode": "area",
          "sizeref": 79383600,
          "symbol": "circle"
         },
         "mode": "markers",
         "name": "SonyMusicSouthVEVO",
         "orientation": "v",
         "showlegend": true,
         "type": "scatter",
         "x": [
          4304
         ],
         "xaxis": "x",
         "y": [
          15090557603
         ],
         "yaxis": "y"
        },
        {
         "alignmentgroup": "True",
         "boxpoints": "all",
         "fillcolor": "rgba(255,255,255,0)",
         "hoveron": "points",
         "hovertemplate": "Artist=SonyMusicSouthVEVO<br>Views=%{y}<extra></extra>",
         "jitter": 0,
         "legendgroup": "SonyMusicSouthVEVO",
         "line": {
          "color": "rgba(255,255,255,0)"
         },
         "marker": {
          "color": "#19d3f3",
          "symbol": "line-ew-open"
         },
         "name": "SonyMusicSouthVEVO",
         "offsetgroup": "SonyMusicSouthVEVO",
         "showlegend": false,
         "type": "box",
         "xaxis": "x2",
         "y": [
          15090557603
         ],
         "yaxis": "y2"
        },
        {
         "hovertemplate": "Artist=Sidhu Moose Wala<br>Video Count=%{x}<br>Views=%{marker.size}<extra></extra>",
         "legendgroup": "Sidhu Moose Wala",
         "marker": {
          "color": "#FF6692",
          "size": [
           4078330367
          ],
          "sizemode": "area",
          "sizeref": 79383600,
          "symbol": "circle"
         },
         "mode": "markers",
         "name": "Sidhu Moose Wala",
         "orientation": "v",
         "showlegend": true,
         "type": "scatter",
         "x": [
          111
         ],
         "xaxis": "x",
         "y": [
          4078330367
         ],
         "yaxis": "y"
        },
        {
         "alignmentgroup": "True",
         "boxpoints": "all",
         "fillcolor": "rgba(255,255,255,0)",
         "hoveron": "points",
         "hovertemplate": "Artist=Sidhu Moose Wala<br>Views=%{y}<extra></extra>",
         "jitter": 0,
         "legendgroup": "Sidhu Moose Wala",
         "line": {
          "color": "rgba(255,255,255,0)"
         },
         "marker": {
          "color": "#FF6692",
          "symbol": "line-ew-open"
         },
         "name": "Sidhu Moose Wala",
         "offsetgroup": "Sidhu Moose Wala",
         "showlegend": false,
         "type": "box",
         "xaxis": "x2",
         "y": [
          4078330367
         ],
         "yaxis": "y2"
        },
        {
         "hovertemplate": "Artist=Queen Official<br>Video Count=%{x}<br>Views=%{marker.size}<extra></extra>",
         "legendgroup": "Queen Official",
         "marker": {
          "color": "#B6E880",
          "size": [
           9723539941
          ],
          "sizemode": "area",
          "sizeref": 79383600,
          "symbol": "circle"
         },
         "mode": "markers",
         "name": "Queen Official",
         "orientation": "v",
         "showlegend": true,
         "type": "scatter",
         "x": [
          908
         ],
         "xaxis": "x",
         "y": [
          9723539941
         ],
         "yaxis": "y"
        },
        {
         "alignmentgroup": "True",
         "boxpoints": "all",
         "fillcolor": "rgba(255,255,255,0)",
         "hoveron": "points",
         "hovertemplate": "Artist=Queen Official<br>Views=%{y}<extra></extra>",
         "jitter": 0,
         "legendgroup": "Queen Official",
         "line": {
          "color": "rgba(255,255,255,0)"
         },
         "marker": {
          "color": "#B6E880",
          "symbol": "line-ew-open"
         },
         "name": "Queen Official",
         "offsetgroup": "Queen Official",
         "showlegend": false,
         "type": "box",
         "xaxis": "x2",
         "y": [
          9723539941
         ],
         "yaxis": "y2"
        },
        {
         "hovertemplate": "Artist=Travis Scott<br>Video Count=%{x}<br>Views=%{marker.size}<extra></extra>",
         "legendgroup": "Travis Scott",
         "marker": {
          "color": "#FF97FF",
          "size": [
           7187033169
          ],
          "sizemode": "area",
          "sizeref": 79383600,
          "symbol": "circle"
         },
         "mode": "markers",
         "name": "Travis Scott",
         "orientation": "v",
         "showlegend": true,
         "type": "scatter",
         "x": [
          13
         ],
         "xaxis": "x",
         "y": [
          7187033169
         ],
         "yaxis": "y"
        },
        {
         "alignmentgroup": "True",
         "boxpoints": "all",
         "fillcolor": "rgba(255,255,255,0)",
         "hoveron": "points",
         "hovertemplate": "Artist=Travis Scott<br>Views=%{y}<extra></extra>",
         "jitter": 0,
         "legendgroup": "Travis Scott",
         "line": {
          "color": "rgba(255,255,255,0)"
         },
         "marker": {
          "color": "#FF97FF",
          "symbol": "line-ew-open"
         },
         "name": "Travis Scott",
         "offsetgroup": "Travis Scott",
         "showlegend": false,
         "type": "box",
         "xaxis": "x2",
         "y": [
          7187033169
         ],
         "yaxis": "y2"
        },
        {
         "hovertemplate": "Artist=Little Mix<br>Video Count=%{x}<br>Views=%{marker.size}<extra></extra>",
         "legendgroup": "Little Mix",
         "marker": {
          "color": "#FECB52",
          "size": [
           7047968268
          ],
          "sizemode": "area",
          "sizeref": 79383600,
          "symbol": "circle"
         },
         "mode": "markers",
         "name": "Little Mix",
         "orientation": "v",
         "showlegend": true,
         "type": "scatter",
         "x": [
          278
         ],
         "xaxis": "x",
         "y": [
          7047968268
         ],
         "yaxis": "y"
        },
        {
         "alignmentgroup": "True",
         "boxpoints": "all",
         "fillcolor": "rgba(255,255,255,0)",
         "hoveron": "points",
         "hovertemplate": "Artist=Little Mix<br>Views=%{y}<extra></extra>",
         "jitter": 0,
         "legendgroup": "Little Mix",
         "line": {
          "color": "rgba(255,255,255,0)"
         },
         "marker": {
          "color": "#FECB52",
          "symbol": "line-ew-open"
         },
         "name": "Little Mix",
         "offsetgroup": "Little Mix",
         "showlegend": false,
         "type": "box",
         "xaxis": "x2",
         "y": [
          7047968268
         ],
         "yaxis": "y2"
        },
        {
         "hovertemplate": "Artist=DopeLyrics<br>Video Count=%{x}<br>Views=%{marker.size}<extra></extra>",
         "legendgroup": "DopeLyrics",
         "marker": {
          "color": "#636efa",
          "size": [
           9803533121
          ],
          "sizemode": "area",
          "sizeref": 79383600,
          "symbol": "circle"
         },
         "mode": "markers",
         "name": "DopeLyrics",
         "orientation": "v",
         "showlegend": true,
         "type": "scatter",
         "x": [
          1937
         ],
         "xaxis": "x",
         "y": [
          9803533121
         ],
         "yaxis": "y"
        },
        {
         "alignmentgroup": "True",
         "boxpoints": "all",
         "fillcolor": "rgba(255,255,255,0)",
         "hoveron": "points",
         "hovertemplate": "Artist=DopeLyrics<br>Views=%{y}<extra></extra>",
         "jitter": 0,
         "legendgroup": "DopeLyrics",
         "line": {
          "color": "rgba(255,255,255,0)"
         },
         "marker": {
          "color": "#636efa",
          "symbol": "line-ew-open"
         },
         "name": "DopeLyrics",
         "offsetgroup": "DopeLyrics",
         "showlegend": false,
         "type": "box",
         "xaxis": "x2",
         "y": [
          9803533121
         ],
         "yaxis": "y2"
        },
        {
         "hovertemplate": "Artist=Boyce Avenue<br>Video Count=%{x}<br>Views=%{marker.size}<extra></extra>",
         "legendgroup": "Boyce Avenue",
         "marker": {
          "color": "#EF553B",
          "size": [
           6230190520
          ],
          "sizemode": "area",
          "sizeref": 79383600,
          "symbol": "circle"
         },
         "mode": "markers",
         "name": "Boyce Avenue",
         "orientation": "v",
         "showlegend": true,
         "type": "scatter",
         "x": [
          438
         ],
         "xaxis": "x",
         "y": [
          6230190520
         ],
         "yaxis": "y"
        },
        {
         "alignmentgroup": "True",
         "boxpoints": "all",
         "fillcolor": "rgba(255,255,255,0)",
         "hoveron": "points",
         "hovertemplate": "Artist=Boyce Avenue<br>Views=%{y}<extra></extra>",
         "jitter": 0,
         "legendgroup": "Boyce Avenue",
         "line": {
          "color": "rgba(255,255,255,0)"
         },
         "marker": {
          "color": "#EF553B",
          "symbol": "line-ew-open"
         },
         "name": "Boyce Avenue",
         "offsetgroup": "Boyce Avenue",
         "showlegend": false,
         "type": "box",
         "xaxis": "x2",
         "y": [
          6230190520
         ],
         "yaxis": "y2"
        },
        {
         "hovertemplate": "Artist=Camila Cabello<br>Video Count=%{x}<br>Views=%{marker.size}<extra></extra>",
         "legendgroup": "Camila Cabello",
         "marker": {
          "color": "#00cc96",
          "size": [
           6086165889
          ],
          "sizemode": "area",
          "sizeref": 79383600,
          "symbol": "circle"
         },
         "mode": "markers",
         "name": "Camila Cabello",
         "orientation": "v",
         "showlegend": true,
         "type": "scatter",
         "x": [
          61
         ],
         "xaxis": "x",
         "y": [
          6086165889
         ],
         "yaxis": "y"
        },
        {
         "alignmentgroup": "True",
         "boxpoints": "all",
         "fillcolor": "rgba(255,255,255,0)",
         "hoveron": "points",
         "hovertemplate": "Artist=Camila Cabello<br>Views=%{y}<extra></extra>",
         "jitter": 0,
         "legendgroup": "Camila Cabello",
         "line": {
          "color": "rgba(255,255,255,0)"
         },
         "marker": {
          "color": "#00cc96",
          "symbol": "line-ew-open"
         },
         "name": "Camila Cabello",
         "offsetgroup": "Camila Cabello",
         "showlegend": false,
         "type": "box",
         "xaxis": "x2",
         "y": [
          6086165889
         ],
         "yaxis": "y2"
        },
        {
         "hovertemplate": "Artist=Pitbull<br>Video Count=%{x}<br>Views=%{marker.size}<extra></extra>",
         "legendgroup": "Pitbull",
         "marker": {
          "color": "#ab63fa",
          "size": [
           11458130113
          ],
          "sizemode": "area",
          "sizeref": 79383600,
          "symbol": "circle"
         },
         "mode": "markers",
         "name": "Pitbull",
         "orientation": "v",
         "showlegend": true,
         "type": "scatter",
         "x": [
          302
         ],
         "xaxis": "x",
         "y": [
          11458130113
         ],
         "yaxis": "y"
        },
        {
         "alignmentgroup": "True",
         "boxpoints": "all",
         "fillcolor": "rgba(255,255,255,0)",
         "hoveron": "points",
         "hovertemplate": "Artist=Pitbull<br>Views=%{y}<extra></extra>",
         "jitter": 0,
         "legendgroup": "Pitbull",
         "line": {
          "color": "rgba(255,255,255,0)"
         },
         "marker": {
          "color": "#ab63fa",
          "symbol": "line-ew-open"
         },
         "name": "Pitbull",
         "offsetgroup": "Pitbull",
         "showlegend": false,
         "type": "box",
         "xaxis": "x2",
         "y": [
          11458130113
         ],
         "yaxis": "y2"
        },
        {
         "hovertemplate": "Artist=Jennifer Lopez<br>Video Count=%{x}<br>Views=%{marker.size}<extra></extra>",
         "legendgroup": "Jennifer Lopez",
         "marker": {
          "color": "#FFA15A",
          "size": [
           9512025119
          ],
          "sizemode": "area",
          "sizeref": 79383600,
          "symbol": "circle"
         },
         "mode": "markers",
         "name": "Jennifer Lopez",
         "orientation": "v",
         "showlegend": true,
         "type": "scatter",
         "x": [
          224
         ],
         "xaxis": "x",
         "y": [
          9512025119
         ],
         "yaxis": "y"
        },
        {
         "alignmentgroup": "True",
         "boxpoints": "all",
         "fillcolor": "rgba(255,255,255,0)",
         "hoveron": "points",
         "hovertemplate": "Artist=Jennifer Lopez<br>Views=%{y}<extra></extra>",
         "jitter": 0,
         "legendgroup": "Jennifer Lopez",
         "line": {
          "color": "rgba(255,255,255,0)"
         },
         "marker": {
          "color": "#FFA15A",
          "symbol": "line-ew-open"
         },
         "name": "Jennifer Lopez",
         "offsetgroup": "Jennifer Lopez",
         "showlegend": false,
         "type": "box",
         "xaxis": "x2",
         "y": [
          9512025119
         ],
         "yaxis": "y2"
        },
        {
         "hovertemplate": "Artist=Pop Chartbusters<br>Video Count=%{x}<br>Views=%{marker.size}<extra></extra>",
         "legendgroup": "Pop Chartbusters",
         "marker": {
          "color": "#19d3f3",
          "size": [
           7817983360
          ],
          "sizemode": "area",
          "sizeref": 79383600,
          "symbol": "circle"
         },
         "mode": "markers",
         "name": "Pop Chartbusters",
         "orientation": "v",
         "showlegend": true,
         "type": "scatter",
         "x": [
          2154
         ],
         "xaxis": "x",
         "y": [
          7817983360
         ],
         "yaxis": "y"
        },
        {
         "alignmentgroup": "True",
         "boxpoints": "all",
         "fillcolor": "rgba(255,255,255,0)",
         "hoveron": "points",
         "hovertemplate": "Artist=Pop Chartbusters<br>Views=%{y}<extra></extra>",
         "jitter": 0,
         "legendgroup": "Pop Chartbusters",
         "line": {
          "color": "rgba(255,255,255,0)"
         },
         "marker": {
          "color": "#19d3f3",
          "symbol": "line-ew-open"
         },
         "name": "Pop Chartbusters",
         "offsetgroup": "Pop Chartbusters",
         "showlegend": false,
         "type": "box",
         "xaxis": "x2",
         "y": [
          7817983360
         ],
         "yaxis": "y2"
        },
        {
         "hovertemplate": "Artist=FitDance<br>Video Count=%{x}<br>Views=%{marker.size}<extra></extra>",
         "legendgroup": "FitDance",
         "marker": {
          "color": "#FF6692",
          "size": [
           6541827030
          ],
          "sizemode": "area",
          "sizeref": 79383600,
          "symbol": "circle"
         },
         "mode": "markers",
         "name": "FitDance",
         "orientation": "v",
         "showlegend": true,
         "type": "scatter",
         "x": [
          3537
         ],
         "xaxis": "x",
         "y": [
          6541827030
         ],
         "yaxis": "y"
        },
        {
         "alignmentgroup": "True",
         "boxpoints": "all",
         "fillcolor": "rgba(255,255,255,0)",
         "hoveron": "points",
         "hovertemplate": "Artist=FitDance<br>Views=%{y}<extra></extra>",
         "jitter": 0,
         "legendgroup": "FitDance",
         "line": {
          "color": "rgba(255,255,255,0)"
         },
         "marker": {
          "color": "#FF6692",
          "symbol": "line-ew-open"
         },
         "name": "FitDance",
         "offsetgroup": "FitDance",
         "showlegend": false,
         "type": "box",
         "xaxis": "x2",
         "y": [
          6541827030
         ],
         "yaxis": "y2"
        },
        {
         "hovertemplate": "Artist=AdeleVEVO<br>Video Count=%{x}<br>Views=%{marker.size}<extra></extra>",
         "legendgroup": "AdeleVEVO",
         "marker": {
          "color": "#B6E880",
          "size": [
           11470355227
          ],
          "sizemode": "area",
          "sizeref": 79383600,
          "symbol": "circle"
         },
         "mode": "markers",
         "name": "AdeleVEVO",
         "orientation": "v",
         "showlegend": true,
         "type": "scatter",
         "x": [
          51
         ],
         "xaxis": "x",
         "y": [
          11470355227
         ],
         "yaxis": "y"
        },
        {
         "alignmentgroup": "True",
         "boxpoints": "all",
         "fillcolor": "rgba(255,255,255,0)",
         "hoveron": "points",
         "hovertemplate": "Artist=AdeleVEVO<br>Views=%{y}<extra></extra>",
         "jitter": 0,
         "legendgroup": "AdeleVEVO",
         "line": {
          "color": "rgba(255,255,255,0)"
         },
         "marker": {
          "color": "#B6E880",
          "symbol": "line-ew-open"
         },
         "name": "AdeleVEVO",
         "offsetgroup": "AdeleVEVO",
         "showlegend": false,
         "type": "box",
         "xaxis": "x2",
         "y": [
          11470355227
         ],
         "yaxis": "y2"
        },
        {
         "hovertemplate": "Artist=Camilo<br>Video Count=%{x}<br>Views=%{marker.size}<extra></extra>",
         "legendgroup": "Camilo",
         "marker": {
          "color": "#FF97FF",
          "size": [
           6003697328
          ],
          "sizemode": "area",
          "sizeref": 79383600,
          "symbol": "circle"
         },
         "mode": "markers",
         "name": "Camilo",
         "orientation": "v",
         "showlegend": true,
         "type": "scatter",
         "x": [
          80
         ],
         "xaxis": "x",
         "y": [
          6003697328
         ],
         "yaxis": "y"
        },
        {
         "alignmentgroup": "True",
         "boxpoints": "all",
         "fillcolor": "rgba(255,255,255,0)",
         "hoveron": "points",
         "hovertemplate": "Artist=Camilo<br>Views=%{y}<extra></extra>",
         "jitter": 0,
         "legendgroup": "Camilo",
         "line": {
          "color": "rgba(255,255,255,0)"
         },
         "marker": {
          "color": "#FF97FF",
          "symbol": "line-ew-open"
         },
         "name": "Camilo",
         "offsetgroup": "Camilo",
         "showlegend": false,
         "type": "box",
         "xaxis": "x2",
         "y": [
          6003697328
         ],
         "yaxis": "y2"
        },
        {
         "hovertemplate": "Artist=POPS Kids<br>Video Count=%{x}<br>Views=%{marker.size}<extra></extra>",
         "legendgroup": "POPS Kids",
         "marker": {
          "color": "#FECB52",
          "size": [
           8678492072
          ],
          "sizemode": "area",
          "sizeref": 79383600,
          "symbol": "circle"
         },
         "mode": "markers",
         "name": "POPS Kids",
         "orientation": "v",
         "showlegend": true,
         "type": "scatter",
         "x": [
          4478
         ],
         "xaxis": "x",
         "y": [
          8678492072
         ],
         "yaxis": "y"
        },
        {
         "alignmentgroup": "True",
         "boxpoints": "all",
         "fillcolor": "rgba(255,255,255,0)",
         "hoveron": "points",
         "hovertemplate": "Artist=POPS Kids<br>Views=%{y}<extra></extra>",
         "jitter": 0,
         "legendgroup": "POPS Kids",
         "line": {
          "color": "rgba(255,255,255,0)"
         },
         "marker": {
          "color": "#FECB52",
          "symbol": "line-ew-open"
         },
         "name": "POPS Kids",
         "offsetgroup": "POPS Kids",
         "showlegend": false,
         "type": "box",
         "xaxis": "x2",
         "y": [
          8678492072
         ],
         "yaxis": "y2"
        },
        {
         "hovertemplate": "Artist=SAM SMITH<br>Video Count=%{x}<br>Views=%{marker.size}<extra></extra>",
         "legendgroup": "SAM SMITH",
         "marker": {
          "color": "#636efa",
          "size": [
           8769075543
          ],
          "sizemode": "area",
          "sizeref": 79383600,
          "symbol": "circle"
         },
         "mode": "markers",
         "name": "SAM SMITH",
         "orientation": "v",
         "showlegend": true,
         "type": "scatter",
         "x": [
          67
         ],
         "xaxis": "x",
         "y": [
          8769075543
         ],
         "yaxis": "y"
        },
        {
         "alignmentgroup": "True",
         "boxpoints": "all",
         "fillcolor": "rgba(255,255,255,0)",
         "hoveron": "points",
         "hovertemplate": "Artist=SAM SMITH<br>Views=%{y}<extra></extra>",
         "jitter": 0,
         "legendgroup": "SAM SMITH",
         "line": {
          "color": "rgba(255,255,255,0)"
         },
         "marker": {
          "color": "#636efa",
          "symbol": "line-ew-open"
         },
         "name": "SAM SMITH",
         "offsetgroup": "SAM SMITH",
         "showlegend": false,
         "type": "box",
         "xaxis": "x2",
         "y": [
          8769075543
         ],
         "yaxis": "y2"
        },
        {
         "hovertemplate": "Artist=zayn<br>Video Count=%{x}<br>Views=%{marker.size}<extra></extra>",
         "legendgroup": "zayn",
         "marker": {
          "color": "#EF553B",
          "size": [
           4559692349
          ],
          "sizemode": "area",
          "sizeref": 79383600,
          "symbol": "circle"
         },
         "mode": "markers",
         "name": "zayn",
         "orientation": "v",
         "showlegend": true,
         "type": "scatter",
         "x": [
          14
         ],
         "xaxis": "x",
         "y": [
          4559692349
         ],
         "yaxis": "y"
        },
        {
         "alignmentgroup": "True",
         "boxpoints": "all",
         "fillcolor": "rgba(255,255,255,0)",
         "hoveron": "points",
         "hovertemplate": "Artist=zayn<br>Views=%{y}<extra></extra>",
         "jitter": 0,
         "legendgroup": "zayn",
         "line": {
          "color": "rgba(255,255,255,0)"
         },
         "marker": {
          "color": "#EF553B",
          "symbol": "line-ew-open"
         },
         "name": "zayn",
         "offsetgroup": "zayn",
         "showlegend": false,
         "type": "box",
         "xaxis": "x2",
         "y": [
          4559692349
         ],
         "yaxis": "y2"
        },
        {
         "hovertemplate": "Artist=Henrique e Juliano<br>Video Count=%{x}<br>Views=%{marker.size}<extra></extra>",
         "legendgroup": "Henrique e Juliano",
         "marker": {
          "color": "#00cc96",
          "size": [
           12484253152
          ],
          "sizemode": "area",
          "sizeref": 79383600,
          "symbol": "circle"
         },
         "mode": "markers",
         "name": "Henrique e Juliano",
         "orientation": "v",
         "showlegend": true,
         "type": "scatter",
         "x": [
          285
         ],
         "xaxis": "x",
         "y": [
          12484253152
         ],
         "yaxis": "y"
        },
        {
         "alignmentgroup": "True",
         "boxpoints": "all",
         "fillcolor": "rgba(255,255,255,0)",
         "hoveron": "points",
         "hovertemplate": "Artist=Henrique e Juliano<br>Views=%{y}<extra></extra>",
         "jitter": 0,
         "legendgroup": "Henrique e Juliano",
         "line": {
          "color": "rgba(255,255,255,0)"
         },
         "marker": {
          "color": "#00cc96",
          "symbol": "line-ew-open"
         },
         "name": "Henrique e Juliano",
         "offsetgroup": "Henrique e Juliano",
         "showlegend": false,
         "type": "box",
         "xaxis": "x2",
         "y": [
          12484253152
         ],
         "yaxis": "y2"
        },
        {
         "hovertemplate": "Artist=Lahari Music | T-Series<br>Video Count=%{x}<br>Views=%{marker.size}<extra></extra>",
         "legendgroup": "Lahari Music | T-Series",
         "marker": {
          "color": "#ab63fa",
          "size": [
           10469251425
          ],
          "sizemode": "area",
          "sizeref": 79383600,
          "symbol": "circle"
         },
         "mode": "markers",
         "name": "Lahari Music | T-Series",
         "orientation": "v",
         "showlegend": true,
         "type": "scatter",
         "x": [
          8169
         ],
         "xaxis": "x",
         "y": [
          10469251425
         ],
         "yaxis": "y"
        },
        {
         "alignmentgroup": "True",
         "boxpoints": "all",
         "fillcolor": "rgba(255,255,255,0)",
         "hoveron": "points",
         "hovertemplate": "Artist=Lahari Music | T-Series<br>Views=%{y}<extra></extra>",
         "jitter": 0,
         "legendgroup": "Lahari Music | T-Series",
         "line": {
          "color": "rgba(255,255,255,0)"
         },
         "marker": {
          "color": "#ab63fa",
          "symbol": "line-ew-open"
         },
         "name": "Lahari Music | T-Series",
         "offsetgroup": "Lahari Music | T-Series",
         "showlegend": false,
         "type": "box",
         "xaxis": "x2",
         "y": [
          10469251425
         ],
         "yaxis": "y2"
        },
        {
         "hovertemplate": "Artist=BIGBANG<br>Video Count=%{x}<br>Views=%{marker.size}<extra></extra>",
         "legendgroup": "BIGBANG",
         "marker": {
          "color": "#FFA15A",
          "size": [
           7353265213
          ],
          "sizemode": "area",
          "sizeref": 79383600,
          "symbol": "circle"
         },
         "mode": "markers",
         "name": "BIGBANG",
         "orientation": "v",
         "showlegend": true,
         "type": "scatter",
         "x": [
          776
         ],
         "xaxis": "x",
         "y": [
          7353265213
         ],
         "yaxis": "y"
        },
        {
         "alignmentgroup": "True",
         "boxpoints": "all",
         "fillcolor": "rgba(255,255,255,0)",
         "hoveron": "points",
         "hovertemplate": "Artist=BIGBANG<br>Views=%{y}<extra></extra>",
         "jitter": 0,
         "legendgroup": "BIGBANG",
         "line": {
          "color": "rgba(255,255,255,0)"
         },
         "marker": {
          "color": "#FFA15A",
          "symbol": "line-ew-open"
         },
         "name": "BIGBANG",
         "offsetgroup": "BIGBANG",
         "showlegend": false,
         "type": "box",
         "xaxis": "x2",
         "y": [
          7353265213
         ],
         "yaxis": "y2"
        },
        {
         "hovertemplate": "Artist=Zé Neto e Cristiano<br>Video Count=%{x}<br>Views=%{marker.size}<extra></extra>",
         "legendgroup": "Zé Neto e Cristiano",
         "marker": {
          "color": "#19d3f3",
          "size": [
           10398104437
          ],
          "sizemode": "area",
          "sizeref": 79383600,
          "symbol": "circle"
         },
         "mode": "markers",
         "name": "Zé Neto e Cristiano",
         "orientation": "v",
         "showlegend": true,
         "type": "scatter",
         "x": [
          212
         ],
         "xaxis": "x",
         "y": [
          10398104437
         ],
         "yaxis": "y"
        },
        {
         "alignmentgroup": "True",
         "boxpoints": "all",
         "fillcolor": "rgba(255,255,255,0)",
         "hoveron": "points",
         "hovertemplate": "Artist=Zé Neto e Cristiano<br>Views=%{y}<extra></extra>",
         "jitter": 0,
         "legendgroup": "Zé Neto e Cristiano",
         "line": {
          "color": "rgba(255,255,255,0)"
         },
         "marker": {
          "color": "#19d3f3",
          "symbol": "line-ew-open"
         },
         "name": "Zé Neto e Cristiano",
         "offsetgroup": "Zé Neto e Cristiano",
         "showlegend": false,
         "type": "box",
         "xaxis": "x2",
         "y": [
          10398104437
         ],
         "yaxis": "y2"
        },
        {
         "hovertemplate": "Artist=MK MUSIC<br>Video Count=%{x}<br>Views=%{marker.size}<extra></extra>",
         "legendgroup": "MK MUSIC",
         "marker": {
          "color": "#FF6692",
          "size": [
           7773089325
          ],
          "sizemode": "area",
          "sizeref": 79383600,
          "symbol": "circle"
         },
         "mode": "markers",
         "name": "MK MUSIC",
         "orientation": "v",
         "showlegend": true,
         "type": "scatter",
         "x": [
          4624
         ],
         "xaxis": "x",
         "y": [
          7773089325
         ],
         "yaxis": "y"
        },
        {
         "alignmentgroup": "True",
         "boxpoints": "all",
         "fillcolor": "rgba(255,255,255,0)",
         "hoveron": "points",
         "hovertemplate": "Artist=MK MUSIC<br>Views=%{y}<extra></extra>",
         "jitter": 0,
         "legendgroup": "MK MUSIC",
         "line": {
          "color": "rgba(255,255,255,0)"
         },
         "marker": {
          "color": "#FF6692",
          "symbol": "line-ew-open"
         },
         "name": "MK MUSIC",
         "offsetgroup": "MK MUSIC",
         "showlegend": false,
         "type": "box",
         "xaxis": "x2",
         "y": [
          7773089325
         ],
         "yaxis": "y2"
        },
        {
         "hovertemplate": "Artist=Maroon5VEVO<br>Video Count=%{x}<br>Views=%{marker.size}<extra></extra>",
         "legendgroup": "Maroon5VEVO",
         "marker": {
          "color": "#B6E880",
          "size": [
           18917303323
          ],
          "sizemode": "area",
          "sizeref": 79383600,
          "symbol": "circle"
         },
         "mode": "markers",
         "name": "Maroon5VEVO",
         "orientation": "v",
         "showlegend": true,
         "type": "scatter",
         "x": [
          143
         ],
         "xaxis": "x",
         "y": [
          18917303323
         ],
         "yaxis": "y"
        },
        {
         "alignmentgroup": "True",
         "boxpoints": "all",
         "fillcolor": "rgba(255,255,255,0)",
         "hoveron": "points",
         "hovertemplate": "Artist=Maroon5VEVO<br>Views=%{y}<extra></extra>",
         "jitter": 0,
         "legendgroup": "Maroon5VEVO",
         "line": {
          "color": "rgba(255,255,255,0)"
         },
         "marker": {
          "color": "#B6E880",
          "symbol": "line-ew-open"
         },
         "name": "Maroon5VEVO",
         "offsetgroup": "Maroon5VEVO",
         "showlegend": false,
         "type": "box",
         "xaxis": "x2",
         "y": [
          18917303323
         ],
         "yaxis": "y2"
        },
        {
         "hovertemplate": "Artist=Major Lazer Official<br>Video Count=%{x}<br>Views=%{marker.size}<extra></extra>",
         "legendgroup": "Major Lazer Official",
         "marker": {
          "color": "#FF97FF",
          "size": [
           8886913617
          ],
          "sizemode": "area",
          "sizeref": 79383600,
          "symbol": "circle"
         },
         "mode": "markers",
         "name": "Major Lazer Official",
         "orientation": "v",
         "showlegend": true,
         "type": "scatter",
         "x": [
          407
         ],
         "xaxis": "x",
         "y": [
          8886913617
         ],
         "yaxis": "y"
        },
        {
         "alignmentgroup": "True",
         "boxpoints": "all",
         "fillcolor": "rgba(255,255,255,0)",
         "hoveron": "points",
         "hovertemplate": "Artist=Major Lazer Official<br>Views=%{y}<extra></extra>",
         "jitter": 0,
         "legendgroup": "Major Lazer Official",
         "line": {
          "color": "rgba(255,255,255,0)"
         },
         "marker": {
          "color": "#FF97FF",
          "symbol": "line-ew-open"
         },
         "name": "Major Lazer Official",
         "offsetgroup": "Major Lazer Official",
         "showlegend": false,
         "type": "box",
         "xaxis": "x2",
         "y": [
          8886913617
         ],
         "yaxis": "y2"
        },
        {
         "hovertemplate": "Artist=Jorge & Mateus Oficial<br>Video Count=%{x}<br>Views=%{marker.size}<extra></extra>",
         "legendgroup": "Jorge & Mateus Oficial",
         "marker": {
          "color": "#FECB52",
          "size": [
           7981563626
          ],
          "sizemode": "area",
          "sizeref": 79383600,
          "symbol": "circle"
         },
         "mode": "markers",
         "name": "Jorge & Mateus Oficial",
         "orientation": "v",
         "showlegend": true,
         "type": "scatter",
         "x": [
          294
         ],
         "xaxis": "x",
         "y": [
          7981563626
         ],
         "yaxis": "y"
        },
        {
         "alignmentgroup": "True",
         "boxpoints": "all",
         "fillcolor": "rgba(255,255,255,0)",
         "hoveron": "points",
         "hovertemplate": "Artist=Jorge & Mateus Oficial<br>Views=%{y}<extra></extra>",
         "jitter": 0,
         "legendgroup": "Jorge & Mateus Oficial",
         "line": {
          "color": "rgba(255,255,255,0)"
         },
         "marker": {
          "color": "#FECB52",
          "symbol": "line-ew-open"
         },
         "name": "Jorge & Mateus Oficial",
         "offsetgroup": "Jorge & Mateus Oficial",
         "showlegend": false,
         "type": "box",
         "xaxis": "x2",
         "y": [
          7981563626
         ],
         "yaxis": "y2"
        },
        {
         "hovertemplate": "Artist=MattyBRaps<br>Video Count=%{x}<br>Views=%{marker.size}<extra></extra>",
         "legendgroup": "MattyBRaps",
         "marker": {
          "color": "#636efa",
          "size": [
           3226020734
          ],
          "sizemode": "area",
          "sizeref": 79383600,
          "symbol": "circle"
         },
         "mode": "markers",
         "name": "MattyBRaps",
         "orientation": "v",
         "showlegend": true,
         "type": "scatter",
         "x": [
          175
         ],
         "xaxis": "x",
         "y": [
          3226020734
         ],
         "yaxis": "y"
        },
        {
         "alignmentgroup": "True",
         "boxpoints": "all",
         "fillcolor": "rgba(255,255,255,0)",
         "hoveron": "points",
         "hovertemplate": "Artist=MattyBRaps<br>Views=%{y}<extra></extra>",
         "jitter": 0,
         "legendgroup": "MattyBRaps",
         "line": {
          "color": "rgba(255,255,255,0)"
         },
         "marker": {
          "color": "#636efa",
          "symbol": "line-ew-open"
         },
         "name": "MattyBRaps",
         "offsetgroup": "MattyBRaps",
         "showlegend": false,
         "type": "box",
         "xaxis": "x2",
         "y": [
          3226020734
         ],
         "yaxis": "y2"
        },
        {
         "hovertemplate": "Artist=LEGENDA FUNK<br>Video Count=%{x}<br>Views=%{marker.size}<extra></extra>",
         "legendgroup": "LEGENDA FUNK",
         "marker": {
          "color": "#EF553B",
          "size": [
           1310544121
          ],
          "sizemode": "area",
          "sizeref": 79383600,
          "symbol": "circle"
         },
         "mode": "markers",
         "name": "LEGENDA FUNK",
         "orientation": "v",
         "showlegend": true,
         "type": "scatter",
         "x": [
          2250
         ],
         "xaxis": "x",
         "y": [
          1310544121
         ],
         "yaxis": "y"
        },
        {
         "alignmentgroup": "True",
         "boxpoints": "all",
         "fillcolor": "rgba(255,255,255,0)",
         "hoveron": "points",
         "hovertemplate": "Artist=LEGENDA FUNK<br>Views=%{y}<extra></extra>",
         "jitter": 0,
         "legendgroup": "LEGENDA FUNK",
         "line": {
          "color": "rgba(255,255,255,0)"
         },
         "marker": {
          "color": "#EF553B",
          "symbol": "line-ew-open"
         },
         "name": "LEGENDA FUNK",
         "offsetgroup": "LEGENDA FUNK",
         "showlegend": false,
         "type": "box",
         "xaxis": "x2",
         "y": [
          1310544121
         ],
         "yaxis": "y2"
        },
        {
         "hovertemplate": "Artist=SelenaGomezVEVO<br>Video Count=%{x}<br>Views=%{marker.size}<extra></extra>",
         "legendgroup": "SelenaGomezVEVO",
         "marker": {
          "color": "#00cc96",
          "size": [
           10323589482
          ],
          "sizemode": "area",
          "sizeref": 79383600,
          "symbol": "circle"
         },
         "mode": "markers",
         "name": "SelenaGomezVEVO",
         "orientation": "v",
         "showlegend": true,
         "type": "scatter",
         "x": [
          183
         ],
         "xaxis": "x",
         "y": [
          10323589482
         ],
         "yaxis": "y"
        },
        {
         "alignmentgroup": "True",
         "boxpoints": "all",
         "fillcolor": "rgba(255,255,255,0)",
         "hoveron": "points",
         "hovertemplate": "Artist=SelenaGomezVEVO<br>Views=%{y}<extra></extra>",
         "jitter": 0,
         "legendgroup": "SelenaGomezVEVO",
         "line": {
          "color": "rgba(255,255,255,0)"
         },
         "marker": {
          "color": "#00cc96",
          "symbol": "line-ew-open"
         },
         "name": "SelenaGomezVEVO",
         "offsetgroup": "SelenaGomezVEVO",
         "showlegend": false,
         "type": "box",
         "xaxis": "x2",
         "y": [
          10323589482
         ],
         "yaxis": "y2"
        },
        {
         "hovertemplate": "Artist=Fueled By Ramen<br>Video Count=%{x}<br>Views=%{marker.size}<extra></extra>",
         "legendgroup": "Fueled By Ramen",
         "marker": {
          "color": "#ab63fa",
          "size": [
           12629200270
          ],
          "sizemode": "area",
          "sizeref": 79383600,
          "symbol": "circle"
         },
         "mode": "markers",
         "name": "Fueled By Ramen",
         "orientation": "v",
         "showlegend": true,
         "type": "scatter",
         "x": [
          1190
         ],
         "xaxis": "x",
         "y": [
          12629200270
         ],
         "yaxis": "y"
        },
        {
         "alignmentgroup": "True",
         "boxpoints": "all",
         "fillcolor": "rgba(255,255,255,0)",
         "hoveron": "points",
         "hovertemplate": "Artist=Fueled By Ramen<br>Views=%{y}<extra></extra>",
         "jitter": 0,
         "legendgroup": "Fueled By Ramen",
         "line": {
          "color": "rgba(255,255,255,0)"
         },
         "marker": {
          "color": "#ab63fa",
          "symbol": "line-ew-open"
         },
         "name": "Fueled By Ramen",
         "offsetgroup": "Fueled By Ramen",
         "showlegend": false,
         "type": "box",
         "xaxis": "x2",
         "y": [
          12629200270
         ],
         "yaxis": "y2"
        },
        {
         "hovertemplate": "Artist=Fifth Harmony<br>Video Count=%{x}<br>Views=%{marker.size}<extra></extra>",
         "legendgroup": "Fifth Harmony",
         "marker": {
          "color": "#FFA15A",
          "size": [
           7526971366
          ],
          "sizemode": "area",
          "sizeref": 79383600,
          "symbol": "circle"
         },
         "mode": "markers",
         "name": "Fifth Harmony",
         "orientation": "v",
         "showlegend": true,
         "type": "scatter",
         "x": [
          67
         ],
         "xaxis": "x",
         "y": [
          7526971366
         ],
         "yaxis": "y"
        },
        {
         "alignmentgroup": "True",
         "boxpoints": "all",
         "fillcolor": "rgba(255,255,255,0)",
         "hoveron": "points",
         "hovertemplate": "Artist=Fifth Harmony<br>Views=%{y}<extra></extra>",
         "jitter": 0,
         "legendgroup": "Fifth Harmony",
         "line": {
          "color": "rgba(255,255,255,0)"
         },
         "marker": {
          "color": "#FFA15A",
          "symbol": "line-ew-open"
         },
         "name": "Fifth Harmony",
         "offsetgroup": "Fifth Harmony",
         "showlegend": false,
         "type": "box",
         "xaxis": "x2",
         "y": [
          7526971366
         ],
         "yaxis": "y2"
        },
        {
         "hovertemplate": "Artist=Team Films Bhojpuri<br>Video Count=%{x}<br>Views=%{marker.size}<extra></extra>",
         "legendgroup": "Team Films Bhojpuri",
         "marker": {
          "color": "#19d3f3",
          "size": [
           6164527861
          ],
          "sizemode": "area",
          "sizeref": 79383600,
          "symbol": "circle"
         },
         "mode": "markers",
         "name": "Team Films Bhojpuri",
         "orientation": "v",
         "showlegend": true,
         "type": "scatter",
         "x": [
          20085
         ],
         "xaxis": "x",
         "y": [
          6164527861
         ],
         "yaxis": "y"
        },
        {
         "alignmentgroup": "True",
         "boxpoints": "all",
         "fillcolor": "rgba(255,255,255,0)",
         "hoveron": "points",
         "hovertemplate": "Artist=Team Films Bhojpuri<br>Views=%{y}<extra></extra>",
         "jitter": 0,
         "legendgroup": "Team Films Bhojpuri",
         "line": {
          "color": "rgba(255,255,255,0)"
         },
         "marker": {
          "color": "#19d3f3",
          "symbol": "line-ew-open"
         },
         "name": "Team Films Bhojpuri",
         "offsetgroup": "Team Films Bhojpuri",
         "showlegend": false,
         "type": "box",
         "xaxis": "x2",
         "y": [
          6164527861
         ],
         "yaxis": "y2"
        },
        {
         "hovertemplate": "Artist=Martin Garrix<br>Video Count=%{x}<br>Views=%{marker.size}<extra></extra>",
         "legendgroup": "Martin Garrix",
         "marker": {
          "color": "#FF6692",
          "size": [
           5558117744
          ],
          "sizemode": "area",
          "sizeref": 79383600,
          "symbol": "circle"
         },
         "mode": "markers",
         "name": "Martin Garrix",
         "orientation": "v",
         "showlegend": true,
         "type": "scatter",
         "x": [
          305
         ],
         "xaxis": "x",
         "y": [
          5558117744
         ],
         "yaxis": "y"
        },
        {
         "alignmentgroup": "True",
         "boxpoints": "all",
         "fillcolor": "rgba(255,255,255,0)",
         "hoveron": "points",
         "hovertemplate": "Artist=Martin Garrix<br>Views=%{y}<extra></extra>",
         "jitter": 0,
         "legendgroup": "Martin Garrix",
         "line": {
          "color": "rgba(255,255,255,0)"
         },
         "marker": {
          "color": "#FF6692",
          "symbol": "line-ew-open"
         },
         "name": "Martin Garrix",
         "offsetgroup": "Martin Garrix",
         "showlegend": false,
         "type": "box",
         "xaxis": "x2",
         "y": [
          5558117744
         ],
         "yaxis": "y2"
        },
        {
         "hovertemplate": "Artist=TWICE<br>Video Count=%{x}<br>Views=%{marker.size}<extra></extra>",
         "legendgroup": "TWICE",
         "marker": {
          "color": "#B6E880",
          "size": [
           3733683543
          ],
          "sizemode": "area",
          "sizeref": 79383600,
          "symbol": "circle"
         },
         "mode": "markers",
         "name": "TWICE",
         "orientation": "v",
         "showlegend": true,
         "type": "scatter",
         "x": [
          852
         ],
         "xaxis": "x",
         "y": [
          3733683543
         ],
         "yaxis": "y"
        },
        {
         "alignmentgroup": "True",
         "boxpoints": "all",
         "fillcolor": "rgba(255,255,255,0)",
         "hoveron": "points",
         "hovertemplate": "Artist=TWICE<br>Views=%{y}<extra></extra>",
         "jitter": 0,
         "legendgroup": "TWICE",
         "line": {
          "color": "rgba(255,255,255,0)"
         },
         "marker": {
          "color": "#B6E880",
          "symbol": "line-ew-open"
         },
         "name": "TWICE",
         "offsetgroup": "TWICE",
         "showlegend": false,
         "type": "box",
         "xaxis": "x2",
         "y": [
          3733683543
         ],
         "yaxis": "y2"
        },
        {
         "hovertemplate": "Artist=Genierock<br>Video Count=%{x}<br>Views=%{marker.size}<extra></extra>",
         "legendgroup": "Genierock",
         "marker": {
          "color": "#FF97FF",
          "size": [
           13310308313
          ],
          "sizemode": "area",
          "sizeref": 79383600,
          "symbol": "circle"
         },
         "mode": "markers",
         "name": "Genierock",
         "orientation": "v",
         "showlegend": true,
         "type": "scatter",
         "x": [
          1540
         ],
         "xaxis": "x",
         "y": [
          13310308313
         ],
         "yaxis": "y"
        },
        {
         "alignmentgroup": "True",
         "boxpoints": "all",
         "fillcolor": "rgba(255,255,255,0)",
         "hoveron": "points",
         "hovertemplate": "Artist=Genierock<br>Views=%{y}<extra></extra>",
         "jitter": 0,
         "legendgroup": "Genierock",
         "line": {
          "color": "rgba(255,255,255,0)"
         },
         "marker": {
          "color": "#FF97FF",
          "symbol": "line-ew-open"
         },
         "name": "Genierock",
         "offsetgroup": "Genierock",
         "showlegend": false,
         "type": "box",
         "xaxis": "x2",
         "y": [
          13310308313
         ],
         "yaxis": "y2"
        },
        {
         "hovertemplate": "Artist=Hear This Music<br>Video Count=%{x}<br>Views=%{marker.size}<extra></extra>",
         "legendgroup": "Hear This Music",
         "marker": {
          "color": "#FECB52",
          "size": [
           8511385256
          ],
          "sizemode": "area",
          "sizeref": 79383600,
          "symbol": "circle"
         },
         "mode": "markers",
         "name": "Hear This Music",
         "orientation": "v",
         "showlegend": true,
         "type": "scatter",
         "x": [
          38
         ],
         "xaxis": "x",
         "y": [
          8511385256
         ],
         "yaxis": "y"
        },
        {
         "alignmentgroup": "True",
         "boxpoints": "all",
         "fillcolor": "rgba(255,255,255,0)",
         "hoveron": "points",
         "hovertemplate": "Artist=Hear This Music<br>Views=%{y}<extra></extra>",
         "jitter": 0,
         "legendgroup": "Hear This Music",
         "line": {
          "color": "rgba(255,255,255,0)"
         },
         "marker": {
          "color": "#FECB52",
          "symbol": "line-ew-open"
         },
         "name": "Hear This Music",
         "offsetgroup": "Hear This Music",
         "showlegend": false,
         "type": "box",
         "xaxis": "x2",
         "y": [
          8511385256
         ],
         "yaxis": "y2"
        },
        {
         "hovertemplate": "Artist=Trap City<br>Video Count=%{x}<br>Views=%{marker.size}<extra></extra>",
         "legendgroup": "Trap City",
         "marker": {
          "color": "#636efa",
          "size": [
           4885163357
          ],
          "sizemode": "area",
          "sizeref": 79383600,
          "symbol": "circle"
         },
         "mode": "markers",
         "name": "Trap City",
         "orientation": "v",
         "showlegend": true,
         "type": "scatter",
         "x": [
          2554
         ],
         "xaxis": "x",
         "y": [
          4885163357
         ],
         "yaxis": "y"
        },
        {
         "alignmentgroup": "True",
         "boxpoints": "all",
         "fillcolor": "rgba(255,255,255,0)",
         "hoveron": "points",
         "hovertemplate": "Artist=Trap City<br>Views=%{y}<extra></extra>",
         "jitter": 0,
         "legendgroup": "Trap City",
         "line": {
          "color": "rgba(255,255,255,0)"
         },
         "marker": {
          "color": "#636efa",
          "symbol": "line-ew-open"
         },
         "name": "Trap City",
         "offsetgroup": "Trap City",
         "showlegend": false,
         "type": "box",
         "xaxis": "x2",
         "y": [
          4885163357
         ],
         "yaxis": "y2"
        },
        {
         "hovertemplate": "Artist=Camila Loures<br>Video Count=%{x}<br>Views=%{marker.size}<extra></extra>",
         "legendgroup": "Camila Loures",
         "marker": {
          "color": "#EF553B",
          "size": [
           4189052804
          ],
          "sizemode": "area",
          "sizeref": 79383600,
          "symbol": "circle"
         },
         "mode": "markers",
         "name": "Camila Loures",
         "orientation": "v",
         "showlegend": true,
         "type": "scatter",
         "x": [
          3429
         ],
         "xaxis": "x",
         "y": [
          4189052804
         ],
         "yaxis": "y"
        },
        {
         "alignmentgroup": "True",
         "boxpoints": "all",
         "fillcolor": "rgba(255,255,255,0)",
         "hoveron": "points",
         "hovertemplate": "Artist=Camila Loures<br>Views=%{y}<extra></extra>",
         "jitter": 0,
         "legendgroup": "Camila Loures",
         "line": {
          "color": "rgba(255,255,255,0)"
         },
         "marker": {
          "color": "#EF553B",
          "symbol": "line-ew-open"
         },
         "name": "Camila Loures",
         "offsetgroup": "Camila Loures",
         "showlegend": false,
         "type": "box",
         "xaxis": "x2",
         "y": [
          4189052804
         ],
         "yaxis": "y2"
        },
        {
         "hovertemplate": "Artist=MalumaVEVO<br>Video Count=%{x}<br>Views=%{marker.size}<extra></extra>",
         "legendgroup": "MalumaVEVO",
         "marker": {
          "color": "#00cc96",
          "size": [
           17905081262
          ],
          "sizemode": "area",
          "sizeref": 79383600,
          "symbol": "circle"
         },
         "mode": "markers",
         "name": "MalumaVEVO",
         "orientation": "v",
         "showlegend": true,
         "type": "scatter",
         "x": [
          168
         ],
         "xaxis": "x",
         "y": [
          17905081262
         ],
         "yaxis": "y"
        },
        {
         "alignmentgroup": "True",
         "boxpoints": "all",
         "fillcolor": "rgba(255,255,255,0)",
         "hoveron": "points",
         "hovertemplate": "Artist=MalumaVEVO<br>Views=%{y}<extra></extra>",
         "jitter": 0,
         "legendgroup": "MalumaVEVO",
         "line": {
          "color": "rgba(255,255,255,0)"
         },
         "marker": {
          "color": "#00cc96",
          "symbol": "line-ew-open"
         },
         "name": "MalumaVEVO",
         "offsetgroup": "MalumaVEVO",
         "showlegend": false,
         "type": "box",
         "xaxis": "x2",
         "y": [
          17905081262
         ],
         "yaxis": "y2"
        },
        {
         "hovertemplate": "Artist=Zee Music Classic<br>Video Count=%{x}<br>Views=%{marker.size}<extra></extra>",
         "legendgroup": "Zee Music Classic",
         "marker": {
          "color": "#ab63fa",
          "size": [
           5021164640
          ],
          "sizemode": "area",
          "sizeref": 79383600,
          "symbol": "circle"
         },
         "mode": "markers",
         "name": "Zee Music Classic",
         "orientation": "v",
         "showlegend": true,
         "type": "scatter",
         "x": [
          964
         ],
         "xaxis": "x",
         "y": [
          5021164640
         ],
         "yaxis": "y"
        },
        {
         "alignmentgroup": "True",
         "boxpoints": "all",
         "fillcolor": "rgba(255,255,255,0)",
         "hoveron": "points",
         "hovertemplate": "Artist=Zee Music Classic<br>Views=%{y}<extra></extra>",
         "jitter": 0,
         "legendgroup": "Zee Music Classic",
         "line": {
          "color": "rgba(255,255,255,0)"
         },
         "marker": {
          "color": "#ab63fa",
          "symbol": "line-ew-open"
         },
         "name": "Zee Music Classic",
         "offsetgroup": "Zee Music Classic",
         "showlegend": false,
         "type": "box",
         "xaxis": "x2",
         "y": [
          5021164640
         ],
         "yaxis": "y2"
        },
        {
         "hovertemplate": "Artist=DM - Desi Melodies<br>Video Count=%{x}<br>Views=%{marker.size}<extra></extra>",
         "legendgroup": "DM - Desi Melodies",
         "marker": {
          "color": "#FFA15A",
          "size": [
           5056080182
          ],
          "sizemode": "area",
          "sizeref": 79383600,
          "symbol": "circle"
         },
         "mode": "markers",
         "name": "DM - Desi Melodies",
         "orientation": "v",
         "showlegend": true,
         "type": "scatter",
         "x": [
          45
         ],
         "xaxis": "x",
         "y": [
          5056080182
         ],
         "yaxis": "y"
        },
        {
         "alignmentgroup": "True",
         "boxpoints": "all",
         "fillcolor": "rgba(255,255,255,0)",
         "hoveron": "points",
         "hovertemplate": "Artist=DM - Desi Melodies<br>Views=%{y}<extra></extra>",
         "jitter": 0,
         "legendgroup": "DM - Desi Melodies",
         "line": {
          "color": "rgba(255,255,255,0)"
         },
         "marker": {
          "color": "#FFA15A",
          "symbol": "line-ew-open"
         },
         "name": "DM - Desi Melodies",
         "offsetgroup": "DM - Desi Melodies",
         "showlegend": false,
         "type": "box",
         "xaxis": "x2",
         "y": [
          5056080182
         ],
         "yaxis": "y2"
        },
        {
         "hovertemplate": "Artist=Saad Lamjarred | سعد لمجرد<br>Video Count=%{x}<br>Views=%{marker.size}<extra></extra>",
         "legendgroup": "Saad Lamjarred | سعد لمجرد",
         "marker": {
          "color": "#19d3f3",
          "size": [
           3931202248
          ],
          "sizemode": "area",
          "sizeref": 79383600,
          "symbol": "circle"
         },
         "mode": "markers",
         "name": "Saad Lamjarred | سعد لمجرد",
         "orientation": "v",
         "showlegend": true,
         "type": "scatter",
         "x": [
          156
         ],
         "xaxis": "x",
         "y": [
          3931202248
         ],
         "yaxis": "y"
        },
        {
         "alignmentgroup": "True",
         "boxpoints": "all",
         "fillcolor": "rgba(255,255,255,0)",
         "hoveron": "points",
         "hovertemplate": "Artist=Saad Lamjarred | سعد لمجرد<br>Views=%{y}<extra></extra>",
         "jitter": 0,
         "legendgroup": "Saad Lamjarred | سعد لمجرد",
         "line": {
          "color": "rgba(255,255,255,0)"
         },
         "marker": {
          "color": "#19d3f3",
          "symbol": "line-ew-open"
         },
         "name": "Saad Lamjarred | سعد لمجرد",
         "offsetgroup": "Saad Lamjarred | سعد لمجرد",
         "showlegend": false,
         "type": "box",
         "xaxis": "x2",
         "y": [
          3931202248
         ],
         "yaxis": "y2"
        },
        {
         "hovertemplate": "Artist=melanie martinez<br>Video Count=%{x}<br>Views=%{marker.size}<extra></extra>",
         "legendgroup": "melanie martinez",
         "marker": {
          "color": "#FF6692",
          "size": [
           3835968267
          ],
          "sizemode": "area",
          "sizeref": 79383600,
          "symbol": "circle"
         },
         "mode": "markers",
         "name": "melanie martinez",
         "orientation": "v",
         "showlegend": true,
         "type": "scatter",
         "x": [
          96
         ],
         "xaxis": "x",
         "y": [
          3835968267
         ],
         "yaxis": "y"
        },
        {
         "alignmentgroup": "True",
         "boxpoints": "all",
         "fillcolor": "rgba(255,255,255,0)",
         "hoveron": "points",
         "hovertemplate": "Artist=melanie martinez<br>Views=%{y}<extra></extra>",
         "jitter": 0,
         "legendgroup": "melanie martinez",
         "line": {
          "color": "rgba(255,255,255,0)"
         },
         "marker": {
          "color": "#FF6692",
          "symbol": "line-ew-open"
         },
         "name": "melanie martinez",
         "offsetgroup": "melanie martinez",
         "showlegend": false,
         "type": "box",
         "xaxis": "x2",
         "y": [
          3835968267
         ],
         "yaxis": "y2"
        },
        {
         "hovertemplate": "Artist=50 Cent<br>Video Count=%{x}<br>Views=%{marker.size}<extra></extra>",
         "legendgroup": "50 Cent",
         "marker": {
          "color": "#B6E880",
          "size": [
           8649139354
          ],
          "sizemode": "area",
          "sizeref": 79383600,
          "symbol": "circle"
         },
         "mode": "markers",
         "name": "50 Cent",
         "orientation": "v",
         "showlegend": true,
         "type": "scatter",
         "x": [
          417
         ],
         "xaxis": "x",
         "y": [
          8649139354
         ],
         "yaxis": "y"
        },
        {
         "alignmentgroup": "True",
         "boxpoints": "all",
         "fillcolor": "rgba(255,255,255,0)",
         "hoveron": "points",
         "hovertemplate": "Artist=50 Cent<br>Views=%{y}<extra></extra>",
         "jitter": 0,
         "legendgroup": "50 Cent",
         "line": {
          "color": "rgba(255,255,255,0)"
         },
         "marker": {
          "color": "#B6E880",
          "symbol": "line-ew-open"
         },
         "name": "50 Cent",
         "offsetgroup": "50 Cent",
         "showlegend": false,
         "type": "box",
         "xaxis": "x2",
         "y": [
          8649139354
         ],
         "yaxis": "y2"
        },
        {
         "hovertemplate": "Artist=Aadishakti Films<br>Video Count=%{x}<br>Views=%{marker.size}<extra></extra>",
         "legendgroup": "Aadishakti Films",
         "marker": {
          "color": "#FF97FF",
          "size": [
           5860777243
          ],
          "sizemode": "area",
          "sizeref": 79383600,
          "symbol": "circle"
         },
         "mode": "markers",
         "name": "Aadishakti Films",
         "orientation": "v",
         "showlegend": true,
         "type": "scatter",
         "x": [
          4599
         ],
         "xaxis": "x",
         "y": [
          5860777243
         ],
         "yaxis": "y"
        },
        {
         "alignmentgroup": "True",
         "boxpoints": "all",
         "fillcolor": "rgba(255,255,255,0)",
         "hoveron": "points",
         "hovertemplate": "Artist=Aadishakti Films<br>Views=%{y}<extra></extra>",
         "jitter": 0,
         "legendgroup": "Aadishakti Films",
         "line": {
          "color": "rgba(255,255,255,0)"
         },
         "marker": {
          "color": "#FF97FF",
          "symbol": "line-ew-open"
         },
         "name": "Aadishakti Films",
         "offsetgroup": "Aadishakti Films",
         "showlegend": false,
         "type": "box",
         "xaxis": "x2",
         "y": [
          5860777243
         ],
         "yaxis": "y2"
        },
        {
         "hovertemplate": "Artist=Neha Kakkar<br>Video Count=%{x}<br>Views=%{marker.size}<extra></extra>",
         "legendgroup": "Neha Kakkar",
         "marker": {
          "color": "#FECB52",
          "size": [
           1792757553
          ],
          "sizemode": "area",
          "sizeref": 79383600,
          "symbol": "circle"
         },
         "mode": "markers",
         "name": "Neha Kakkar",
         "orientation": "v",
         "showlegend": true,
         "type": "scatter",
         "x": [
          122
         ],
         "xaxis": "x",
         "y": [
          1792757553
         ],
         "yaxis": "y"
        },
        {
         "alignmentgroup": "True",
         "boxpoints": "all",
         "fillcolor": "rgba(255,255,255,0)",
         "hoveron": "points",
         "hovertemplate": "Artist=Neha Kakkar<br>Views=%{y}<extra></extra>",
         "jitter": 0,
         "legendgroup": "Neha Kakkar",
         "line": {
          "color": "rgba(255,255,255,0)"
         },
         "marker": {
          "color": "#FECB52",
          "symbol": "line-ew-open"
         },
         "name": "Neha Kakkar",
         "offsetgroup": "Neha Kakkar",
         "showlegend": false,
         "type": "box",
         "xaxis": "x2",
         "y": [
          1792757553
         ],
         "yaxis": "y2"
        },
        {
         "hovertemplate": "Artist=Gallina Pintadita<br>Video Count=%{x}<br>Views=%{marker.size}<extra></extra>",
         "legendgroup": "Gallina Pintadita",
         "marker": {
          "color": "#636efa",
          "size": [
           9054727117
          ],
          "sizemode": "area",
          "sizeref": 79383600,
          "symbol": "circle"
         },
         "mode": "markers",
         "name": "Gallina Pintadita",
         "orientation": "v",
         "showlegend": true,
         "type": "scatter",
         "x": [
          59
         ],
         "xaxis": "x",
         "y": [
          9054727117
         ],
         "yaxis": "y"
        },
        {
         "alignmentgroup": "True",
         "boxpoints": "all",
         "fillcolor": "rgba(255,255,255,0)",
         "hoveron": "points",
         "hovertemplate": "Artist=Gallina Pintadita<br>Views=%{y}<extra></extra>",
         "jitter": 0,
         "legendgroup": "Gallina Pintadita",
         "line": {
          "color": "rgba(255,255,255,0)"
         },
         "marker": {
          "color": "#636efa",
          "symbol": "line-ew-open"
         },
         "name": "Gallina Pintadita",
         "offsetgroup": "Gallina Pintadita",
         "showlegend": false,
         "type": "box",
         "xaxis": "x2",
         "y": [
          9054727117
         ],
         "yaxis": "y2"
        },
        {
         "hovertemplate": "Artist=Wesley Safadão<br>Video Count=%{x}<br>Views=%{marker.size}<extra></extra>",
         "legendgroup": "Wesley Safadão",
         "marker": {
          "color": "#EF553B",
          "size": [
           7301307830
          ],
          "sizemode": "area",
          "sizeref": 79383600,
          "symbol": "circle"
         },
         "mode": "markers",
         "name": "Wesley Safadão",
         "orientation": "v",
         "showlegend": true,
         "type": "scatter",
         "x": [
          371
         ],
         "xaxis": "x",
         "y": [
          7301307830
         ],
         "yaxis": "y"
        },
        {
         "alignmentgroup": "True",
         "boxpoints": "all",
         "fillcolor": "rgba(255,255,255,0)",
         "hoveron": "points",
         "hovertemplate": "Artist=Wesley Safadão<br>Views=%{y}<extra></extra>",
         "jitter": 0,
         "legendgroup": "Wesley Safadão",
         "line": {
          "color": "rgba(255,255,255,0)"
         },
         "marker": {
          "color": "#EF553B",
          "symbol": "line-ew-open"
         },
         "name": "Wesley Safadão",
         "offsetgroup": "Wesley Safadão",
         "showlegend": false,
         "type": "box",
         "xaxis": "x2",
         "y": [
          7301307830
         ],
         "yaxis": "y2"
        },
        {
         "hovertemplate": "Artist=Lindsey Stirling<br>Video Count=%{x}<br>Views=%{marker.size}<extra></extra>",
         "legendgroup": "Lindsey Stirling",
         "marker": {
          "color": "#00cc96",
          "size": [
           3533680308
          ],
          "sizemode": "area",
          "sizeref": 79383600,
          "symbol": "circle"
         },
         "mode": "markers",
         "name": "Lindsey Stirling",
         "orientation": "v",
         "showlegend": true,
         "type": "scatter",
         "x": [
          172
         ],
         "xaxis": "x",
         "y": [
          3533680308
         ],
         "yaxis": "y"
        },
        {
         "alignmentgroup": "True",
         "boxpoints": "all",
         "fillcolor": "rgba(255,255,255,0)",
         "hoveron": "points",
         "hovertemplate": "Artist=Lindsey Stirling<br>Views=%{y}<extra></extra>",
         "jitter": 0,
         "legendgroup": "Lindsey Stirling",
         "line": {
          "color": "rgba(255,255,255,0)"
         },
         "marker": {
          "color": "#00cc96",
          "symbol": "line-ew-open"
         },
         "name": "Lindsey Stirling",
         "offsetgroup": "Lindsey Stirling",
         "showlegend": false,
         "type": "box",
         "xaxis": "x2",
         "y": [
          3533680308
         ],
         "yaxis": "y2"
        },
        {
         "hovertemplate": "Artist=Kim Loaiza<br>Video Count=%{x}<br>Views=%{marker.size}<extra></extra>",
         "legendgroup": "Kim Loaiza",
         "marker": {
          "color": "#ab63fa",
          "size": [
           1092248349
          ],
          "sizemode": "area",
          "sizeref": 79383600,
          "symbol": "circle"
         },
         "mode": "markers",
         "name": "Kim Loaiza",
         "orientation": "v",
         "showlegend": true,
         "type": "scatter",
         "x": [
          12
         ],
         "xaxis": "x",
         "y": [
          1092248349
         ],
         "yaxis": "y"
        },
        {
         "alignmentgroup": "True",
         "boxpoints": "all",
         "fillcolor": "rgba(255,255,255,0)",
         "hoveron": "points",
         "hovertemplate": "Artist=Kim Loaiza<br>Views=%{y}<extra></extra>",
         "jitter": 0,
         "legendgroup": "Kim Loaiza",
         "line": {
          "color": "rgba(255,255,255,0)"
         },
         "marker": {
          "color": "#ab63fa",
          "symbol": "line-ew-open"
         },
         "name": "Kim Loaiza",
         "offsetgroup": "Kim Loaiza",
         "showlegend": false,
         "type": "box",
         "xaxis": "x2",
         "y": [
          1092248349
         ],
         "yaxis": "y2"
        },
        {
         "hovertemplate": "Artist=jbalvinVEVO<br>Video Count=%{x}<br>Views=%{marker.size}<extra></extra>",
         "legendgroup": "jbalvinVEVO",
         "marker": {
          "color": "#FFA15A",
          "size": [
           19691312985
          ],
          "sizemode": "area",
          "sizeref": 79383600,
          "symbol": "circle"
         },
         "mode": "markers",
         "name": "jbalvinVEVO",
         "orientation": "v",
         "showlegend": true,
         "type": "scatter",
         "x": [
          235
         ],
         "xaxis": "x",
         "y": [
          19691312985
         ],
         "yaxis": "y"
        },
        {
         "alignmentgroup": "True",
         "boxpoints": "all",
         "fillcolor": "rgba(255,255,255,0)",
         "hoveron": "points",
         "hovertemplate": "Artist=jbalvinVEVO<br>Views=%{y}<extra></extra>",
         "jitter": 0,
         "legendgroup": "jbalvinVEVO",
         "line": {
          "color": "rgba(255,255,255,0)"
         },
         "marker": {
          "color": "#FFA15A",
          "symbol": "line-ew-open"
         },
         "name": "jbalvinVEVO",
         "offsetgroup": "jbalvinVEVO",
         "showlegend": false,
         "type": "box",
         "xaxis": "x2",
         "y": [
          19691312985
         ],
         "yaxis": "y2"
        },
        {
         "hovertemplate": "Artist=Atlantic Records<br>Video Count=%{x}<br>Views=%{marker.size}<extra></extra>",
         "legendgroup": "Atlantic Records",
         "marker": {
          "color": "#19d3f3",
          "size": [
           11695828552
          ],
          "sizemode": "area",
          "sizeref": 79383600,
          "symbol": "circle"
         },
         "mode": "markers",
         "name": "Atlantic Records",
         "orientation": "v",
         "showlegend": true,
         "type": "scatter",
         "x": [
          1421
         ],
         "xaxis": "x",
         "y": [
          11695828552
         ],
         "yaxis": "y"
        },
        {
         "alignmentgroup": "True",
         "boxpoints": "all",
         "fillcolor": "rgba(255,255,255,0)",
         "hoveron": "points",
         "hovertemplate": "Artist=Atlantic Records<br>Views=%{y}<extra></extra>",
         "jitter": 0,
         "legendgroup": "Atlantic Records",
         "line": {
          "color": "rgba(255,255,255,0)"
         },
         "marker": {
          "color": "#19d3f3",
          "symbol": "line-ew-open"
         },
         "name": "Atlantic Records",
         "offsetgroup": "Atlantic Records",
         "showlegend": false,
         "type": "box",
         "xaxis": "x2",
         "y": [
          11695828552
         ],
         "yaxis": "y2"
        },
        {
         "hovertemplate": "Artist=Wish 107.5<br>Video Count=%{x}<br>Views=%{marker.size}<extra></extra>",
         "legendgroup": "Wish 107.5",
         "marker": {
          "color": "#FF6692",
          "size": [
           5259245361
          ],
          "sizemode": "area",
          "sizeref": 79383600,
          "symbol": "circle"
         },
         "mode": "markers",
         "name": "Wish 107.5",
         "orientation": "v",
         "showlegend": true,
         "type": "scatter",
         "x": [
          1552
         ],
         "xaxis": "x",
         "y": [
          5259245361
         ],
         "yaxis": "y"
        },
        {
         "alignmentgroup": "True",
         "boxpoints": "all",
         "fillcolor": "rgba(255,255,255,0)",
         "hoveron": "points",
         "hovertemplate": "Artist=Wish 107.5<br>Views=%{y}<extra></extra>",
         "jitter": 0,
         "legendgroup": "Wish 107.5",
         "line": {
          "color": "rgba(255,255,255,0)"
         },
         "marker": {
          "color": "#FF6692",
          "symbol": "line-ew-open"
         },
         "name": "Wish 107.5",
         "offsetgroup": "Wish 107.5",
         "showlegend": false,
         "type": "box",
         "xaxis": "x2",
         "y": [
          5259245361
         ],
         "yaxis": "y2"
        },
        {
         "hovertemplate": "Artist=SRK MUSIC<br>Video Count=%{x}<br>Views=%{marker.size}<extra></extra>",
         "legendgroup": "SRK MUSIC",
         "marker": {
          "color": "#B6E880",
          "size": [
           5680652976
          ],
          "sizemode": "area",
          "sizeref": 79383600,
          "symbol": "circle"
         },
         "mode": "markers",
         "name": "SRK MUSIC",
         "orientation": "v",
         "showlegend": true,
         "type": "scatter",
         "x": [
          4895
         ],
         "xaxis": "x",
         "y": [
          5680652976
         ],
         "yaxis": "y"
        },
        {
         "alignmentgroup": "True",
         "boxpoints": "all",
         "fillcolor": "rgba(255,255,255,0)",
         "hoveron": "points",
         "hovertemplate": "Artist=SRK MUSIC<br>Views=%{y}<extra></extra>",
         "jitter": 0,
         "legendgroup": "SRK MUSIC",
         "line": {
          "color": "rgba(255,255,255,0)"
         },
         "marker": {
          "color": "#B6E880",
          "symbol": "line-ew-open"
         },
         "name": "SRK MUSIC",
         "offsetgroup": "SRK MUSIC",
         "showlegend": false,
         "type": "box",
         "xaxis": "x2",
         "y": [
          5680652976
         ],
         "yaxis": "y2"
        },
        {
         "hovertemplate": "Artist=EnriqueIglesiasVEVO<br>Video Count=%{x}<br>Views=%{marker.size}<extra></extra>",
         "legendgroup": "EnriqueIglesiasVEVO",
         "marker": {
          "color": "#FF97FF",
          "size": [
           14773705750
          ],
          "sizemode": "area",
          "sizeref": 79383600,
          "symbol": "circle"
         },
         "mode": "markers",
         "name": "EnriqueIglesiasVEVO",
         "orientation": "v",
         "showlegend": true,
         "type": "scatter",
         "x": [
          137
         ],
         "xaxis": "x",
         "y": [
          14773705750
         ],
         "yaxis": "y"
        },
        {
         "alignmentgroup": "True",
         "boxpoints": "all",
         "fillcolor": "rgba(255,255,255,0)",
         "hoveron": "points",
         "hovertemplate": "Artist=EnriqueIglesiasVEVO<br>Views=%{y}<extra></extra>",
         "jitter": 0,
         "legendgroup": "EnriqueIglesiasVEVO",
         "line": {
          "color": "rgba(255,255,255,0)"
         },
         "marker": {
          "color": "#FF97FF",
          "symbol": "line-ew-open"
         },
         "name": "EnriqueIglesiasVEVO",
         "offsetgroup": "EnriqueIglesiasVEVO",
         "showlegend": false,
         "type": "box",
         "xaxis": "x2",
         "y": [
          14773705750
         ],
         "yaxis": "y2"
        },
        {
         "hovertemplate": "Artist=Conor Maynard<br>Video Count=%{x}<br>Views=%{marker.size}<extra></extra>",
         "legendgroup": "Conor Maynard",
         "marker": {
          "color": "#FECB52",
          "size": [
           2581452824
          ],
          "sizemode": "area",
          "sizeref": 79383600,
          "symbol": "circle"
         },
         "mode": "markers",
         "name": "Conor Maynard",
         "orientation": "v",
         "showlegend": true,
         "type": "scatter",
         "x": [
          282
         ],
         "xaxis": "x",
         "y": [
          2581452824
         ],
         "yaxis": "y"
        },
        {
         "alignmentgroup": "True",
         "boxpoints": "all",
         "fillcolor": "rgba(255,255,255,0)",
         "hoveron": "points",
         "hovertemplate": "Artist=Conor Maynard<br>Views=%{y}<extra></extra>",
         "jitter": 0,
         "legendgroup": "Conor Maynard",
         "line": {
          "color": "rgba(255,255,255,0)"
         },
         "marker": {
          "color": "#FECB52",
          "symbol": "line-ew-open"
         },
         "name": "Conor Maynard",
         "offsetgroup": "Conor Maynard",
         "showlegend": false,
         "type": "box",
         "xaxis": "x2",
         "y": [
          2581452824
         ],
         "yaxis": "y2"
        },
        {
         "hovertemplate": "Artist=Coke Studio<br>Video Count=%{x}<br>Views=%{marker.size}<extra></extra>",
         "legendgroup": "Coke Studio",
         "marker": {
          "color": "#636efa",
          "size": [
           3274234309
          ],
          "sizemode": "area",
          "sizeref": 79383600,
          "symbol": "circle"
         },
         "mode": "markers",
         "name": "Coke Studio",
         "orientation": "v",
         "showlegend": true,
         "type": "scatter",
         "x": [
          529
         ],
         "xaxis": "x",
         "y": [
          3274234309
         ],
         "yaxis": "y"
        },
        {
         "alignmentgroup": "True",
         "boxpoints": "all",
         "fillcolor": "rgba(255,255,255,0)",
         "hoveron": "points",
         "hovertemplate": "Artist=Coke Studio<br>Views=%{y}<extra></extra>",
         "jitter": 0,
         "legendgroup": "Coke Studio",
         "line": {
          "color": "rgba(255,255,255,0)"
         },
         "marker": {
          "color": "#636efa",
          "symbol": "line-ew-open"
         },
         "name": "Coke Studio",
         "offsetgroup": "Coke Studio",
         "showlegend": false,
         "type": "box",
         "xaxis": "x2",
         "y": [
          3274234309
         ],
         "yaxis": "y2"
        },
        {
         "hovertemplate": "Artist=BeyoncéVEVO<br>Video Count=%{x}<br>Views=%{marker.size}<extra></extra>",
         "legendgroup": "BeyoncéVEVO",
         "marker": {
          "color": "#EF553B",
          "size": [
           13130570880
          ],
          "sizemode": "area",
          "sizeref": 79383600,
          "symbol": "circle"
         },
         "mode": "markers",
         "name": "BeyoncéVEVO",
         "orientation": "v",
         "showlegend": true,
         "type": "scatter",
         "x": [
          167
         ],
         "xaxis": "x",
         "y": [
          13130570880
         ],
         "yaxis": "y"
        },
        {
         "alignmentgroup": "True",
         "boxpoints": "all",
         "fillcolor": "rgba(255,255,255,0)",
         "hoveron": "points",
         "hovertemplate": "Artist=BeyoncéVEVO<br>Views=%{y}<extra></extra>",
         "jitter": 0,
         "legendgroup": "BeyoncéVEVO",
         "line": {
          "color": "rgba(255,255,255,0)"
         },
         "marker": {
          "color": "#EF553B",
          "symbol": "line-ew-open"
         },
         "name": "BeyoncéVEVO",
         "offsetgroup": "BeyoncéVEVO",
         "showlegend": false,
         "type": "box",
         "xaxis": "x2",
         "y": [
          13130570880
         ],
         "yaxis": "y2"
        },
        {
         "hovertemplate": "Artist=O Reino Infantil<br>Video Count=%{x}<br>Views=%{marker.size}<extra></extra>",
         "legendgroup": "O Reino Infantil",
         "marker": {
          "color": "#00cc96",
          "size": [
           9539435945
          ],
          "sizemode": "area",
          "sizeref": 79383600,
          "symbol": "circle"
         },
         "mode": "markers",
         "name": "O Reino Infantil",
         "orientation": "v",
         "showlegend": true,
         "type": "scatter",
         "x": [
          1055
         ],
         "xaxis": "x",
         "y": [
          9539435945
         ],
         "yaxis": "y"
        },
        {
         "alignmentgroup": "True",
         "boxpoints": "all",
         "fillcolor": "rgba(255,255,255,0)",
         "hoveron": "points",
         "hovertemplate": "Artist=O Reino Infantil<br>Views=%{y}<extra></extra>",
         "jitter": 0,
         "legendgroup": "O Reino Infantil",
         "line": {
          "color": "rgba(255,255,255,0)"
         },
         "marker": {
          "color": "#00cc96",
          "symbol": "line-ew-open"
         },
         "name": "O Reino Infantil",
         "offsetgroup": "O Reino Infantil",
         "showlegend": false,
         "type": "box",
         "xaxis": "x2",
         "y": [
          9539435945
         ],
         "yaxis": "y2"
        },
        {
         "hovertemplate": "Artist=twenty one pilots<br>Video Count=%{x}<br>Views=%{marker.size}<extra></extra>",
         "legendgroup": "twenty one pilots",
         "marker": {
          "color": "#ab63fa",
          "size": [
           4621224472
          ],
          "sizemode": "area",
          "sizeref": 79383600,
          "symbol": "circle"
         },
         "mode": "markers",
         "name": "twenty one pilots",
         "orientation": "v",
         "showlegend": true,
         "type": "scatter",
         "x": [
          173
         ],
         "xaxis": "x",
         "y": [
          4621224472
         ],
         "yaxis": "y"
        },
        {
         "alignmentgroup": "True",
         "boxpoints": "all",
         "fillcolor": "rgba(255,255,255,0)",
         "hoveron": "points",
         "hovertemplate": "Artist=twenty one pilots<br>Views=%{y}<extra></extra>",
         "jitter": 0,
         "legendgroup": "twenty one pilots",
         "line": {
          "color": "rgba(255,255,255,0)"
         },
         "marker": {
          "color": "#ab63fa",
          "symbol": "line-ew-open"
         },
         "name": "twenty one pilots",
         "offsetgroup": "twenty one pilots",
         "showlegend": false,
         "type": "box",
         "xaxis": "x2",
         "y": [
          4621224472
         ],
         "yaxis": "y2"
        },
        {
         "hovertemplate": "Artist=Crazy Frog<br>Video Count=%{x}<br>Views=%{marker.size}<extra></extra>",
         "legendgroup": "Crazy Frog",
         "marker": {
          "color": "#FFA15A",
          "size": [
           6887508307
          ],
          "sizemode": "area",
          "sizeref": 79383600,
          "symbol": "circle"
         },
         "mode": "markers",
         "name": "Crazy Frog",
         "orientation": "v",
         "showlegend": true,
         "type": "scatter",
         "x": [
          33
         ],
         "xaxis": "x",
         "y": [
          6887508307
         ],
         "yaxis": "y"
        },
        {
         "alignmentgroup": "True",
         "boxpoints": "all",
         "fillcolor": "rgba(255,255,255,0)",
         "hoveron": "points",
         "hovertemplate": "Artist=Crazy Frog<br>Views=%{y}<extra></extra>",
         "jitter": 0,
         "legendgroup": "Crazy Frog",
         "line": {
          "color": "rgba(255,255,255,0)"
         },
         "marker": {
          "color": "#FFA15A",
          "symbol": "line-ew-open"
         },
         "name": "Crazy Frog",
         "offsetgroup": "Crazy Frog",
         "showlegend": false,
         "type": "box",
         "xaxis": "x2",
         "y": [
          6887508307
         ],
         "yaxis": "y2"
        },
        {
         "hovertemplate": "Artist=Katakit Baby TV<br>Video Count=%{x}<br>Views=%{marker.size}<extra></extra>",
         "legendgroup": "Katakit Baby TV",
         "marker": {
          "color": "#19d3f3",
          "size": [
           5243185280
          ],
          "sizemode": "area",
          "sizeref": 79383600,
          "symbol": "circle"
         },
         "mode": "markers",
         "name": "Katakit Baby TV",
         "orientation": "v",
         "showlegend": true,
         "type": "scatter",
         "x": [
          169
         ],
         "xaxis": "x",
         "y": [
          5243185280
         ],
         "yaxis": "y"
        },
        {
         "alignmentgroup": "True",
         "boxpoints": "all",
         "fillcolor": "rgba(255,255,255,0)",
         "hoveron": "points",
         "hovertemplate": "Artist=Katakit Baby TV<br>Views=%{y}<extra></extra>",
         "jitter": 0,
         "legendgroup": "Katakit Baby TV",
         "line": {
          "color": "rgba(255,255,255,0)"
         },
         "marker": {
          "color": "#19d3f3",
          "symbol": "line-ew-open"
         },
         "name": "Katakit Baby TV",
         "offsetgroup": "Katakit Baby TV",
         "showlegend": false,
         "type": "box",
         "xaxis": "x2",
         "y": [
          5243185280
         ],
         "yaxis": "y2"
        },
        {
         "hovertemplate": "Artist=NickiMinajAtVEVO<br>Video Count=%{x}<br>Views=%{marker.size}<extra></extra>",
         "legendgroup": "NickiMinajAtVEVO",
         "marker": {
          "color": "#FF6692",
          "size": [
           8367047990
          ],
          "sizemode": "area",
          "sizeref": 79383600,
          "symbol": "circle"
         },
         "mode": "markers",
         "name": "NickiMinajAtVEVO",
         "orientation": "v",
         "showlegend": true,
         "type": "scatter",
         "x": [
          93
         ],
         "xaxis": "x",
         "y": [
          8367047990
         ],
         "yaxis": "y"
        },
        {
         "alignmentgroup": "True",
         "boxpoints": "all",
         "fillcolor": "rgba(255,255,255,0)",
         "hoveron": "points",
         "hovertemplate": "Artist=NickiMinajAtVEVO<br>Views=%{y}<extra></extra>",
         "jitter": 0,
         "legendgroup": "NickiMinajAtVEVO",
         "line": {
          "color": "rgba(255,255,255,0)"
         },
         "marker": {
          "color": "#FF6692",
          "symbol": "line-ew-open"
         },
         "name": "NickiMinajAtVEVO",
         "offsetgroup": "NickiMinajAtVEVO",
         "showlegend": false,
         "type": "box",
         "xaxis": "x2",
         "y": [
          8367047990
         ],
         "yaxis": "y2"
        },
        {
         "hovertemplate": "Artist=Hungria Hip Hop<br>Video Count=%{x}<br>Views=%{marker.size}<extra></extra>",
         "legendgroup": "Hungria Hip Hop",
         "marker": {
          "color": "#B6E880",
          "size": [
           3960601978
          ],
          "sizemode": "area",
          "sizeref": 79383600,
          "symbol": "circle"
         },
         "mode": "markers",
         "name": "Hungria Hip Hop",
         "orientation": "v",
         "showlegend": true,
         "type": "scatter",
         "x": [
          44
         ],
         "xaxis": "x",
         "y": [
          3960601978
         ],
         "yaxis": "y"
        },
        {
         "alignmentgroup": "True",
         "boxpoints": "all",
         "fillcolor": "rgba(255,255,255,0)",
         "hoveron": "points",
         "hovertemplate": "Artist=Hungria Hip Hop<br>Views=%{y}<extra></extra>",
         "jitter": 0,
         "legendgroup": "Hungria Hip Hop",
         "line": {
          "color": "rgba(255,255,255,0)"
         },
         "marker": {
          "color": "#B6E880",
          "symbol": "line-ew-open"
         },
         "name": "Hungria Hip Hop",
         "offsetgroup": "Hungria Hip Hop",
         "showlegend": false,
         "type": "box",
         "xaxis": "x2",
         "y": [
          3960601978
         ],
         "yaxis": "y2"
        },
        {
         "hovertemplate": "Artist=7 Minutoz<br>Video Count=%{x}<br>Views=%{marker.size}<extra></extra>",
         "legendgroup": "7 Minutoz",
         "marker": {
          "color": "#FF97FF",
          "size": [
           3916931694
          ],
          "sizemode": "area",
          "sizeref": 79383600,
          "symbol": "circle"
         },
         "mode": "markers",
         "name": "7 Minutoz",
         "orientation": "v",
         "showlegend": true,
         "type": "scatter",
         "x": [
          511
         ],
         "xaxis": "x",
         "y": [
          3916931694
         ],
         "yaxis": "y"
        },
        {
         "alignmentgroup": "True",
         "boxpoints": "all",
         "fillcolor": "rgba(255,255,255,0)",
         "hoveron": "points",
         "hovertemplate": "Artist=7 Minutoz<br>Views=%{y}<extra></extra>",
         "jitter": 0,
         "legendgroup": "7 Minutoz",
         "line": {
          "color": "rgba(255,255,255,0)"
         },
         "marker": {
          "color": "#FF97FF",
          "symbol": "line-ew-open"
         },
         "name": "7 Minutoz",
         "offsetgroup": "7 Minutoz",
         "showlegend": false,
         "type": "box",
         "xaxis": "x2",
         "y": [
          3916931694
         ],
         "yaxis": "y2"
        },
        {
         "hovertemplate": "Artist=Awakening Music<br>Video Count=%{x}<br>Views=%{marker.size}<extra></extra>",
         "legendgroup": "Awakening Music",
         "marker": {
          "color": "#FECB52",
          "size": [
           4944109812
          ],
          "sizemode": "area",
          "sizeref": 79383600,
          "symbol": "circle"
         },
         "mode": "markers",
         "name": "Awakening Music",
         "orientation": "v",
         "showlegend": true,
         "type": "scatter",
         "x": [
          709
         ],
         "xaxis": "x",
         "y": [
          4944109812
         ],
         "yaxis": "y"
        },
        {
         "alignmentgroup": "True",
         "boxpoints": "all",
         "fillcolor": "rgba(255,255,255,0)",
         "hoveron": "points",
         "hovertemplate": "Artist=Awakening Music<br>Views=%{y}<extra></extra>",
         "jitter": 0,
         "legendgroup": "Awakening Music",
         "line": {
          "color": "rgba(255,255,255,0)"
         },
         "marker": {
          "color": "#FECB52",
          "symbol": "line-ew-open"
         },
         "name": "Awakening Music",
         "offsetgroup": "Awakening Music",
         "showlegend": false,
         "type": "box",
         "xaxis": "x2",
         "y": [
          4944109812
         ],
         "yaxis": "y2"
        },
        {
         "hovertemplate": "Artist=Lokdhun Punjabi<br>Video Count=%{x}<br>Views=%{marker.size}<extra></extra>",
         "legendgroup": "Lokdhun Punjabi",
         "marker": {
          "color": "#636efa",
          "size": [
           4372757487
          ],
          "sizemode": "area",
          "sizeref": 79383600,
          "symbol": "circle"
         },
         "mode": "markers",
         "name": "Lokdhun Punjabi",
         "orientation": "v",
         "showlegend": true,
         "type": "scatter",
         "x": [
          1399
         ],
         "xaxis": "x",
         "y": [
          4372757487
         ],
         "yaxis": "y"
        },
        {
         "alignmentgroup": "True",
         "boxpoints": "all",
         "fillcolor": "rgba(255,255,255,0)",
         "hoveron": "points",
         "hovertemplate": "Artist=Lokdhun Punjabi<br>Views=%{y}<extra></extra>",
         "jitter": 0,
         "legendgroup": "Lokdhun Punjabi",
         "line": {
          "color": "rgba(255,255,255,0)"
         },
         "marker": {
          "color": "#636efa",
          "symbol": "line-ew-open"
         },
         "name": "Lokdhun Punjabi",
         "offsetgroup": "Lokdhun Punjabi",
         "showlegend": false,
         "type": "box",
         "xaxis": "x2",
         "y": [
          4372757487
         ],
         "yaxis": "y2"
        },
        {
         "hovertemplate": "Artist=elliegoulding<br>Video Count=%{x}<br>Views=%{marker.size}<extra></extra>",
         "legendgroup": "elliegoulding",
         "marker": {
          "color": "#EF553B",
          "size": [
           6556822629
          ],
          "sizemode": "area",
          "sizeref": 79383600,
          "symbol": "circle"
         },
         "mode": "markers",
         "name": "elliegoulding",
         "orientation": "v",
         "showlegend": true,
         "type": "scatter",
         "x": [
          104
         ],
         "xaxis": "x",
         "y": [
          6556822629
         ],
         "yaxis": "y"
        },
        {
         "alignmentgroup": "True",
         "boxpoints": "all",
         "fillcolor": "rgba(255,255,255,0)",
         "hoveron": "points",
         "hovertemplate": "Artist=elliegoulding<br>Views=%{y}<extra></extra>",
         "jitter": 0,
         "legendgroup": "elliegoulding",
         "line": {
          "color": "rgba(255,255,255,0)"
         },
         "marker": {
          "color": "#EF553B",
          "symbol": "line-ew-open"
         },
         "name": "elliegoulding",
         "offsetgroup": "elliegoulding",
         "showlegend": false,
         "type": "box",
         "xaxis": "x2",
         "y": [
          6556822629
         ],
         "yaxis": "y2"
        },
        {
         "hovertemplate": "Artist=Sony Music South<br>Video Count=%{x}<br>Views=%{marker.size}<extra></extra>",
         "legendgroup": "Sony Music South",
         "marker": {
          "color": "#00cc96",
          "size": [
           7036027389
          ],
          "sizemode": "area",
          "sizeref": 79383600,
          "symbol": "circle"
         },
         "mode": "markers",
         "name": "Sony Music South",
         "orientation": "v",
         "showlegend": true,
         "type": "scatter",
         "x": [
          1574
         ],
         "xaxis": "x",
         "y": [
          7036027389
         ],
         "yaxis": "y"
        },
        {
         "alignmentgroup": "True",
         "boxpoints": "all",
         "fillcolor": "rgba(255,255,255,0)",
         "hoveron": "points",
         "hovertemplate": "Artist=Sony Music South<br>Views=%{y}<extra></extra>",
         "jitter": 0,
         "legendgroup": "Sony Music South",
         "line": {
          "color": "rgba(255,255,255,0)"
         },
         "marker": {
          "color": "#00cc96",
          "symbol": "line-ew-open"
         },
         "name": "Sony Music South",
         "offsetgroup": "Sony Music South",
         "showlegend": false,
         "type": "box",
         "xaxis": "x2",
         "y": [
          7036027389
         ],
         "yaxis": "y2"
        },
        {
         "hovertemplate": "Artist=DJ Khaled<br>Video Count=%{x}<br>Views=%{marker.size}<extra></extra>",
         "legendgroup": "DJ Khaled",
         "marker": {
          "color": "#ab63fa",
          "size": [
           6054112231
          ],
          "sizemode": "area",
          "sizeref": 79383600,
          "symbol": "circle"
         },
         "mode": "markers",
         "name": "DJ Khaled",
         "orientation": "v",
         "showlegend": true,
         "type": "scatter",
         "x": [
          39
         ],
         "xaxis": "x",
         "y": [
          6054112231
         ],
         "yaxis": "y"
        },
        {
         "alignmentgroup": "True",
         "boxpoints": "all",
         "fillcolor": "rgba(255,255,255,0)",
         "hoveron": "points",
         "hovertemplate": "Artist=DJ Khaled<br>Views=%{y}<extra></extra>",
         "jitter": 0,
         "legendgroup": "DJ Khaled",
         "line": {
          "color": "rgba(255,255,255,0)"
         },
         "marker": {
          "color": "#ab63fa",
          "symbol": "line-ew-open"
         },
         "name": "DJ Khaled",
         "offsetgroup": "DJ Khaled",
         "showlegend": false,
         "type": "box",
         "xaxis": "x2",
         "y": [
          6054112231
         ],
         "yaxis": "y2"
        },
        {
         "hovertemplate": "Artist=Adexe & Nau<br>Video Count=%{x}<br>Views=%{marker.size}<extra></extra>",
         "legendgroup": "Adexe & Nau",
         "marker": {
          "color": "#FFA15A",
          "size": [
           4440271314
          ],
          "sizemode": "area",
          "sizeref": 79383600,
          "symbol": "circle"
         },
         "mode": "markers",
         "name": "Adexe & Nau",
         "orientation": "v",
         "showlegend": true,
         "type": "scatter",
         "x": [
          529
         ],
         "xaxis": "x",
         "y": [
          4440271314
         ],
         "yaxis": "y"
        },
        {
         "alignmentgroup": "True",
         "boxpoints": "all",
         "fillcolor": "rgba(255,255,255,0)",
         "hoveron": "points",
         "hovertemplate": "Artist=Adexe & Nau<br>Views=%{y}<extra></extra>",
         "jitter": 0,
         "legendgroup": "Adexe & Nau",
         "line": {
          "color": "rgba(255,255,255,0)"
         },
         "marker": {
          "color": "#FFA15A",
          "symbol": "line-ew-open"
         },
         "name": "Adexe & Nau",
         "offsetgroup": "Adexe & Nau",
         "showlegend": false,
         "type": "box",
         "xaxis": "x2",
         "y": [
          4440271314
         ],
         "yaxis": "y2"
        },
        {
         "hovertemplate": "Artist=DisneyChannelUK<br>Video Count=%{x}<br>Views=%{marker.size}<extra></extra>",
         "legendgroup": "DisneyChannelUK",
         "marker": {
          "color": "#19d3f3",
          "size": [
           11606288094
          ],
          "sizemode": "area",
          "sizeref": 79383600,
          "symbol": "circle"
         },
         "mode": "markers",
         "name": "DisneyChannelUK",
         "orientation": "v",
         "showlegend": true,
         "type": "scatter",
         "x": [
          3238
         ],
         "xaxis": "x",
         "y": [
          11606288094
         ],
         "yaxis": "y"
        },
        {
         "alignmentgroup": "True",
         "boxpoints": "all",
         "fillcolor": "rgba(255,255,255,0)",
         "hoveron": "points",
         "hovertemplate": "Artist=DisneyChannelUK<br>Views=%{y}<extra></extra>",
         "jitter": 0,
         "legendgroup": "DisneyChannelUK",
         "line": {
          "color": "rgba(255,255,255,0)"
         },
         "marker": {
          "color": "#19d3f3",
          "symbol": "line-ew-open"
         },
         "name": "DisneyChannelUK",
         "offsetgroup": "DisneyChannelUK",
         "showlegend": false,
         "type": "box",
         "xaxis": "x2",
         "y": [
          11606288094
         ],
         "yaxis": "y2"
        },
        {
         "hovertemplate": "Artist=Think Music India<br>Video Count=%{x}<br>Views=%{marker.size}<extra></extra>",
         "legendgroup": "Think Music India",
         "marker": {
          "color": "#FF6692",
          "size": [
           8959285840
          ],
          "sizemode": "area",
          "sizeref": 79383600,
          "symbol": "circle"
         },
         "mode": "markers",
         "name": "Think Music India",
         "orientation": "v",
         "showlegend": true,
         "type": "scatter",
         "x": [
          3931
         ],
         "xaxis": "x",
         "y": [
          8959285840
         ],
         "yaxis": "y"
        },
        {
         "alignmentgroup": "True",
         "boxpoints": "all",
         "fillcolor": "rgba(255,255,255,0)",
         "hoveron": "points",
         "hovertemplate": "Artist=Think Music India<br>Views=%{y}<extra></extra>",
         "jitter": 0,
         "legendgroup": "Think Music India",
         "line": {
          "color": "rgba(255,255,255,0)"
         },
         "marker": {
          "color": "#FF6692",
          "symbol": "line-ew-open"
         },
         "name": "Think Music India",
         "offsetgroup": "Think Music India",
         "showlegend": false,
         "type": "box",
         "xaxis": "x2",
         "y": [
          8959285840
         ],
         "yaxis": "y2"
        },
        {
         "hovertemplate": "Artist=Future<br>Video Count=%{x}<br>Views=%{marker.size}<extra></extra>",
         "legendgroup": "Future",
         "marker": {
          "color": "#B6E880",
          "size": [
           8747974258
          ],
          "sizemode": "area",
          "sizeref": 79383600,
          "symbol": "circle"
         },
         "mode": "markers",
         "name": "Future",
         "orientation": "v",
         "showlegend": true,
         "type": "scatter",
         "x": [
          48
         ],
         "xaxis": "x",
         "y": [
          8747974258
         ],
         "yaxis": "y"
        },
        {
         "alignmentgroup": "True",
         "boxpoints": "all",
         "fillcolor": "rgba(255,255,255,0)",
         "hoveron": "points",
         "hovertemplate": "Artist=Future<br>Views=%{y}<extra></extra>",
         "jitter": 0,
         "legendgroup": "Future",
         "line": {
          "color": "rgba(255,255,255,0)"
         },
         "marker": {
          "color": "#B6E880",
          "symbol": "line-ew-open"
         },
         "name": "Future",
         "offsetgroup": "Future",
         "showlegend": false,
         "type": "box",
         "xaxis": "x2",
         "y": [
          8747974258
         ],
         "yaxis": "y2"
        },
        {
         "hovertemplate": "Artist=Codiscos<br>Video Count=%{x}<br>Views=%{marker.size}<extra></extra>",
         "legendgroup": "Codiscos",
         "marker": {
          "color": "#FF97FF",
          "size": [
           9823385812
          ],
          "sizemode": "area",
          "sizeref": 79383600,
          "symbol": "circle"
         },
         "mode": "markers",
         "name": "Codiscos",
         "orientation": "v",
         "showlegend": true,
         "type": "scatter",
         "x": [
          6967
         ],
         "xaxis": "x",
         "y": [
          9823385812
         ],
         "yaxis": "y"
        },
        {
         "alignmentgroup": "True",
         "boxpoints": "all",
         "fillcolor": "rgba(255,255,255,0)",
         "hoveron": "points",
         "hovertemplate": "Artist=Codiscos<br>Views=%{y}<extra></extra>",
         "jitter": 0,
         "legendgroup": "Codiscos",
         "line": {
          "color": "rgba(255,255,255,0)"
         },
         "marker": {
          "color": "#FF97FF",
          "symbol": "line-ew-open"
         },
         "name": "Codiscos",
         "offsetgroup": "Codiscos",
         "showlegend": false,
         "type": "box",
         "xaxis": "x2",
         "y": [
          9823385812
         ],
         "yaxis": "y2"
        },
        {
         "hovertemplate": "Artist=Jass Records<br>Video Count=%{x}<br>Views=%{marker.size}<extra></extra>",
         "legendgroup": "Jass Records",
         "marker": {
          "color": "#FECB52",
          "size": [
           5294095545
          ],
          "sizemode": "area",
          "sizeref": 79383600,
          "symbol": "circle"
         },
         "mode": "markers",
         "name": "Jass Records",
         "orientation": "v",
         "showlegend": true,
         "type": "scatter",
         "x": [
          4241
         ],
         "xaxis": "x",
         "y": [
          5294095545
         ],
         "yaxis": "y"
        },
        {
         "alignmentgroup": "True",
         "boxpoints": "all",
         "fillcolor": "rgba(255,255,255,0)",
         "hoveron": "points",
         "hovertemplate": "Artist=Jass Records<br>Views=%{y}<extra></extra>",
         "jitter": 0,
         "legendgroup": "Jass Records",
         "line": {
          "color": "rgba(255,255,255,0)"
         },
         "marker": {
          "color": "#FECB52",
          "symbol": "line-ew-open"
         },
         "name": "Jass Records",
         "offsetgroup": "Jass Records",
         "showlegend": false,
         "type": "box",
         "xaxis": "x2",
         "y": [
          5294095545
         ],
         "yaxis": "y2"
        },
        {
         "hovertemplate": "Artist=ChrisBrownVEVO<br>Video Count=%{x}<br>Views=%{marker.size}<extra></extra>",
         "legendgroup": "ChrisBrownVEVO",
         "marker": {
          "color": "#636efa",
          "size": [
           12493403632
          ],
          "sizemode": "area",
          "sizeref": 79383600,
          "symbol": "circle"
         },
         "mode": "markers",
         "name": "ChrisBrownVEVO",
         "orientation": "v",
         "showlegend": true,
         "type": "scatter",
         "x": [
          290
         ],
         "xaxis": "x",
         "y": [
          12493403632
         ],
         "yaxis": "y"
        },
        {
         "alignmentgroup": "True",
         "boxpoints": "all",
         "fillcolor": "rgba(255,255,255,0)",
         "hoveron": "points",
         "hovertemplate": "Artist=ChrisBrownVEVO<br>Views=%{y}<extra></extra>",
         "jitter": 0,
         "legendgroup": "ChrisBrownVEVO",
         "line": {
          "color": "rgba(255,255,255,0)"
         },
         "marker": {
          "color": "#636efa",
          "symbol": "line-ew-open"
         },
         "name": "ChrisBrownVEVO",
         "offsetgroup": "ChrisBrownVEVO",
         "showlegend": false,
         "type": "box",
         "xaxis": "x2",
         "y": [
          12493403632
         ],
         "yaxis": "y2"
        },
        {
         "hovertemplate": "Artist=Migos ATL<br>Video Count=%{x}<br>Views=%{marker.size}<extra></extra>",
         "legendgroup": "Migos ATL",
         "marker": {
          "color": "#EF553B",
          "size": [
           6370982440
          ],
          "sizemode": "area",
          "sizeref": 79383600,
          "symbol": "circle"
         },
         "mode": "markers",
         "name": "Migos ATL",
         "orientation": "v",
         "showlegend": true,
         "type": "scatter",
         "x": [
          100
         ],
         "xaxis": "x",
         "y": [
          6370982440
         ],
         "yaxis": "y"
        },
        {
         "alignmentgroup": "True",
         "boxpoints": "all",
         "fillcolor": "rgba(255,255,255,0)",
         "hoveron": "points",
         "hovertemplate": "Artist=Migos ATL<br>Views=%{y}<extra></extra>",
         "jitter": 0,
         "legendgroup": "Migos ATL",
         "line": {
          "color": "rgba(255,255,255,0)"
         },
         "marker": {
          "color": "#EF553B",
          "symbol": "line-ew-open"
         },
         "name": "Migos ATL",
         "offsetgroup": "Migos ATL",
         "showlegend": false,
         "type": "box",
         "xaxis": "x2",
         "y": [
          6370982440
         ],
         "yaxis": "y2"
        },
        {
         "hovertemplate": "Artist=Lana Del Rey<br>Video Count=%{x}<br>Views=%{marker.size}<extra></extra>",
         "legendgroup": "Lana Del Rey",
         "marker": {
          "color": "#00cc96",
          "size": [
           5676001571
          ],
          "sizemode": "area",
          "sizeref": 79383600,
          "symbol": "circle"
         },
         "mode": "markers",
         "name": "Lana Del Rey",
         "orientation": "v",
         "showlegend": true,
         "type": "scatter",
         "x": [
          40
         ],
         "xaxis": "x",
         "y": [
          5676001571
         ],
         "yaxis": "y"
        },
        {
         "alignmentgroup": "True",
         "boxpoints": "all",
         "fillcolor": "rgba(255,255,255,0)",
         "hoveron": "points",
         "hovertemplate": "Artist=Lana Del Rey<br>Views=%{y}<extra></extra>",
         "jitter": 0,
         "legendgroup": "Lana Del Rey",
         "line": {
          "color": "rgba(255,255,255,0)"
         },
         "marker": {
          "color": "#00cc96",
          "symbol": "line-ew-open"
         },
         "name": "Lana Del Rey",
         "offsetgroup": "Lana Del Rey",
         "showlegend": false,
         "type": "box",
         "xaxis": "x2",
         "y": [
          5676001571
         ],
         "yaxis": "y2"
        },
        {
         "hovertemplate": "Artist=Avril Lavigne<br>Video Count=%{x}<br>Views=%{marker.size}<extra></extra>",
         "legendgroup": "Avril Lavigne",
         "marker": {
          "color": "#ab63fa",
          "size": [
           5636275144
          ],
          "sizemode": "area",
          "sizeref": 79383600,
          "symbol": "circle"
         },
         "mode": "markers",
         "name": "Avril Lavigne",
         "orientation": "v",
         "showlegend": true,
         "type": "scatter",
         "x": [
          140
         ],
         "xaxis": "x",
         "y": [
          5636275144
         ],
         "yaxis": "y"
        },
        {
         "alignmentgroup": "True",
         "boxpoints": "all",
         "fillcolor": "rgba(255,255,255,0)",
         "hoveron": "points",
         "hovertemplate": "Artist=Avril Lavigne<br>Views=%{y}<extra></extra>",
         "jitter": 0,
         "legendgroup": "Avril Lavigne",
         "line": {
          "color": "rgba(255,255,255,0)"
         },
         "marker": {
          "color": "#ab63fa",
          "symbol": "line-ew-open"
         },
         "name": "Avril Lavigne",
         "offsetgroup": "Avril Lavigne",
         "showlegend": false,
         "type": "box",
         "xaxis": "x2",
         "y": [
          5636275144
         ],
         "yaxis": "y2"
        },
        {
         "hovertemplate": "Artist=CalvinHarrisVEVO<br>Video Count=%{x}<br>Views=%{marker.size}<extra></extra>",
         "legendgroup": "CalvinHarrisVEVO",
         "marker": {
          "color": "#FFA15A",
          "size": [
           13615089843
          ],
          "sizemode": "area",
          "sizeref": 79383600,
          "symbol": "circle"
         },
         "mode": "markers",
         "name": "CalvinHarrisVEVO",
         "orientation": "v",
         "showlegend": true,
         "type": "scatter",
         "x": [
          173
         ],
         "xaxis": "x",
         "y": [
          13615089843
         ],
         "yaxis": "y"
        },
        {
         "alignmentgroup": "True",
         "boxpoints": "all",
         "fillcolor": "rgba(255,255,255,0)",
         "hoveron": "points",
         "hovertemplate": "Artist=CalvinHarrisVEVO<br>Views=%{y}<extra></extra>",
         "jitter": 0,
         "legendgroup": "CalvinHarrisVEVO",
         "line": {
          "color": "rgba(255,255,255,0)"
         },
         "marker": {
          "color": "#FFA15A",
          "symbol": "line-ew-open"
         },
         "name": "CalvinHarrisVEVO",
         "offsetgroup": "CalvinHarrisVEVO",
         "showlegend": false,
         "type": "box",
         "xaxis": "x2",
         "y": [
          13615089843
         ],
         "yaxis": "y2"
        },
        {
         "hovertemplate": "Artist=Rauw Alejandro<br>Video Count=%{x}<br>Views=%{marker.size}<extra></extra>",
         "legendgroup": "Rauw Alejandro",
         "marker": {
          "color": "#19d3f3",
          "size": [
           9232920975
          ],
          "sizemode": "area",
          "sizeref": 79383600,
          "symbol": "circle"
         },
         "mode": "markers",
         "name": "Rauw Alejandro",
         "orientation": "v",
         "showlegend": true,
         "type": "scatter",
         "x": [
          114
         ],
         "xaxis": "x",
         "y": [
          9232920975
         ],
         "yaxis": "y"
        },
        {
         "alignmentgroup": "True",
         "boxpoints": "all",
         "fillcolor": "rgba(255,255,255,0)",
         "hoveron": "points",
         "hovertemplate": "Artist=Rauw Alejandro<br>Views=%{y}<extra></extra>",
         "jitter": 0,
         "legendgroup": "Rauw Alejandro",
         "line": {
          "color": "rgba(255,255,255,0)"
         },
         "marker": {
          "color": "#19d3f3",
          "symbol": "line-ew-open"
         },
         "name": "Rauw Alejandro",
         "offsetgroup": "Rauw Alejandro",
         "showlegend": false,
         "type": "box",
         "xaxis": "x2",
         "y": [
          9232920975
         ],
         "yaxis": "y2"
        },
        {
         "hovertemplate": "Artist=CNCO<br>Video Count=%{x}<br>Views=%{marker.size}<extra></extra>",
         "legendgroup": "CNCO",
         "marker": {
          "color": "#FF6692",
          "size": [
           6881836992
          ],
          "sizemode": "area",
          "sizeref": 79383600,
          "symbol": "circle"
         },
         "mode": "markers",
         "name": "CNCO",
         "orientation": "v",
         "showlegend": true,
         "type": "scatter",
         "x": [
          172
         ],
         "xaxis": "x",
         "y": [
          6881836992
         ],
         "yaxis": "y"
        },
        {
         "alignmentgroup": "True",
         "boxpoints": "all",
         "fillcolor": "rgba(255,255,255,0)",
         "hoveron": "points",
         "hovertemplate": "Artist=CNCO<br>Views=%{y}<extra></extra>",
         "jitter": 0,
         "legendgroup": "CNCO",
         "line": {
          "color": "rgba(255,255,255,0)"
         },
         "marker": {
          "color": "#FF6692",
          "symbol": "line-ew-open"
         },
         "name": "CNCO",
         "offsetgroup": "CNCO",
         "showlegend": false,
         "type": "box",
         "xaxis": "x2",
         "y": [
          6881836992
         ],
         "yaxis": "y2"
        },
        {
         "hovertemplate": "Artist=MORGENSHTERN<br>Video Count=%{x}<br>Views=%{marker.size}<extra></extra>",
         "legendgroup": "MORGENSHTERN",
         "marker": {
          "color": "#B6E880",
          "size": [
           2085751416
          ],
          "sizemode": "area",
          "sizeref": 79383600,
          "symbol": "circle"
         },
         "mode": "markers",
         "name": "MORGENSHTERN",
         "orientation": "v",
         "showlegend": true,
         "type": "scatter",
         "x": [
          131
         ],
         "xaxis": "x",
         "y": [
          2085751416
         ],
         "yaxis": "y"
        },
        {
         "alignmentgroup": "True",
         "boxpoints": "all",
         "fillcolor": "rgba(255,255,255,0)",
         "hoveron": "points",
         "hovertemplate": "Artist=MORGENSHTERN<br>Views=%{y}<extra></extra>",
         "jitter": 0,
         "legendgroup": "MORGENSHTERN",
         "line": {
          "color": "rgba(255,255,255,0)"
         },
         "marker": {
          "color": "#B6E880",
          "symbol": "line-ew-open"
         },
         "name": "MORGENSHTERN",
         "offsetgroup": "MORGENSHTERN",
         "showlegend": false,
         "type": "box",
         "xaxis": "x2",
         "y": [
          2085751416
         ],
         "yaxis": "y2"
        },
        {
         "hovertemplate": "Artist=Wave Music Bhakti<br>Video Count=%{x}<br>Views=%{marker.size}<extra></extra>",
         "legendgroup": "Wave Music Bhakti",
         "marker": {
          "color": "#FF97FF",
          "size": [
           4770280667
          ],
          "sizemode": "area",
          "sizeref": 79383600,
          "symbol": "circle"
         },
         "mode": "markers",
         "name": "Wave Music Bhakti",
         "orientation": "v",
         "showlegend": true,
         "type": "scatter",
         "x": [
          19108
         ],
         "xaxis": "x",
         "y": [
          4770280667
         ],
         "yaxis": "y"
        },
        {
         "alignmentgroup": "True",
         "boxpoints": "all",
         "fillcolor": "rgba(255,255,255,0)",
         "hoveron": "points",
         "hovertemplate": "Artist=Wave Music Bhakti<br>Views=%{y}<extra></extra>",
         "jitter": 0,
         "legendgroup": "Wave Music Bhakti",
         "line": {
          "color": "rgba(255,255,255,0)"
         },
         "marker": {
          "color": "#FF97FF",
          "symbol": "line-ew-open"
         },
         "name": "Wave Music Bhakti",
         "offsetgroup": "Wave Music Bhakti",
         "showlegend": false,
         "type": "box",
         "xaxis": "x2",
         "y": [
          4770280667
         ],
         "yaxis": "y2"
        },
        {
         "hovertemplate": "Artist=Natti Natasha<br>Video Count=%{x}<br>Views=%{marker.size}<extra></extra>",
         "legendgroup": "Natti Natasha",
         "marker": {
          "color": "#FECB52",
          "size": [
           7264301648
          ],
          "sizemode": "area",
          "sizeref": 79383600,
          "symbol": "circle"
         },
         "mode": "markers",
         "name": "Natti Natasha",
         "orientation": "v",
         "showlegend": true,
         "type": "scatter",
         "x": [
          130
         ],
         "xaxis": "x",
         "y": [
          7264301648
         ],
         "yaxis": "y"
        },
        {
         "alignmentgroup": "True",
         "boxpoints": "all",
         "fillcolor": "rgba(255,255,255,0)",
         "hoveron": "points",
         "hovertemplate": "Artist=Natti Natasha<br>Views=%{y}<extra></extra>",
         "jitter": 0,
         "legendgroup": "Natti Natasha",
         "line": {
          "color": "rgba(255,255,255,0)"
         },
         "marker": {
          "color": "#FECB52",
          "symbol": "line-ew-open"
         },
         "name": "Natti Natasha",
         "offsetgroup": "Natti Natasha",
         "showlegend": false,
         "type": "box",
         "xaxis": "x2",
         "y": [
          7264301648
         ],
         "yaxis": "y2"
        },
        {
         "hovertemplate": "Artist=Mor Haryanvi<br>Video Count=%{x}<br>Views=%{marker.size}<extra></extra>",
         "legendgroup": "Mor Haryanvi",
         "marker": {
          "color": "#636efa",
          "size": [
           5768686721
          ],
          "sizemode": "area",
          "sizeref": 79383600,
          "symbol": "circle"
         },
         "mode": "markers",
         "name": "Mor Haryanvi",
         "orientation": "v",
         "showlegend": true,
         "type": "scatter",
         "x": [
          402
         ],
         "xaxis": "x",
         "y": [
          5768686721
         ],
         "yaxis": "y"
        },
        {
         "alignmentgroup": "True",
         "boxpoints": "all",
         "fillcolor": "rgba(255,255,255,0)",
         "hoveron": "points",
         "hovertemplate": "Artist=Mor Haryanvi<br>Views=%{y}<extra></extra>",
         "jitter": 0,
         "legendgroup": "Mor Haryanvi",
         "line": {
          "color": "rgba(255,255,255,0)"
         },
         "marker": {
          "color": "#636efa",
          "symbol": "line-ew-open"
         },
         "name": "Mor Haryanvi",
         "offsetgroup": "Mor Haryanvi",
         "showlegend": false,
         "type": "box",
         "xaxis": "x2",
         "y": [
          5768686721
         ],
         "yaxis": "y2"
        },
        {
         "hovertemplate": "Artist=Luan Santana<br>Video Count=%{x}<br>Views=%{marker.size}<extra></extra>",
         "legendgroup": "Luan Santana",
         "marker": {
          "color": "#EF553B",
          "size": [
           4908116204
          ],
          "sizemode": "area",
          "sizeref": 79383600,
          "symbol": "circle"
         },
         "mode": "markers",
         "name": "Luan Santana",
         "orientation": "v",
         "showlegend": true,
         "type": "scatter",
         "x": [
          371
         ],
         "xaxis": "x",
         "y": [
          4908116204
         ],
         "yaxis": "y"
        },
        {
         "alignmentgroup": "True",
         "boxpoints": "all",
         "fillcolor": "rgba(255,255,255,0)",
         "hoveron": "points",
         "hovertemplate": "Artist=Luan Santana<br>Views=%{y}<extra></extra>",
         "jitter": 0,
         "legendgroup": "Luan Santana",
         "line": {
          "color": "rgba(255,255,255,0)"
         },
         "marker": {
          "color": "#EF553B",
          "symbol": "line-ew-open"
         },
         "name": "Luan Santana",
         "offsetgroup": "Luan Santana",
         "showlegend": false,
         "type": "box",
         "xaxis": "x2",
         "y": [
          4908116204
         ],
         "yaxis": "y2"
        },
        {
         "hovertemplate": "Artist=Akon<br>Video Count=%{x}<br>Views=%{marker.size}<extra></extra>",
         "legendgroup": "Akon",
         "marker": {
          "color": "#00cc96",
          "size": [
           5289951047
          ],
          "sizemode": "area",
          "sizeref": 79383600,
          "symbol": "circle"
         },
         "mode": "markers",
         "name": "Akon",
         "orientation": "v",
         "showlegend": true,
         "type": "scatter",
         "x": [
          37
         ],
         "xaxis": "x",
         "y": [
          5289951047
         ],
         "yaxis": "y"
        },
        {
         "alignmentgroup": "True",
         "boxpoints": "all",
         "fillcolor": "rgba(255,255,255,0)",
         "hoveron": "points",
         "hovertemplate": "Artist=Akon<br>Views=%{y}<extra></extra>",
         "jitter": 0,
         "legendgroup": "Akon",
         "line": {
          "color": "rgba(255,255,255,0)"
         },
         "marker": {
          "color": "#00cc96",
          "symbol": "line-ew-open"
         },
         "name": "Akon",
         "offsetgroup": "Akon",
         "showlegend": false,
         "type": "box",
         "xaxis": "x2",
         "y": [
          5289951047
         ],
         "yaxis": "y2"
        },
        {
         "hovertemplate": "Artist=Halsey<br>Video Count=%{x}<br>Views=%{marker.size}<extra></extra>",
         "legendgroup": "Halsey",
         "marker": {
          "color": "#ab63fa",
          "size": [
           4412088740
          ],
          "sizemode": "area",
          "sizeref": 79383600,
          "symbol": "circle"
         },
         "mode": "markers",
         "name": "Halsey",
         "orientation": "v",
         "showlegend": true,
         "type": "scatter",
         "x": [
          51
         ],
         "xaxis": "x",
         "y": [
          4412088740
         ],
         "yaxis": "y"
        },
        {
         "alignmentgroup": "True",
         "boxpoints": "all",
         "fillcolor": "rgba(255,255,255,0)",
         "hoveron": "points",
         "hovertemplate": "Artist=Halsey<br>Views=%{y}<extra></extra>",
         "jitter": 0,
         "legendgroup": "Halsey",
         "line": {
          "color": "rgba(255,255,255,0)"
         },
         "marker": {
          "color": "#ab63fa",
          "symbol": "line-ew-open"
         },
         "name": "Halsey",
         "offsetgroup": "Halsey",
         "showlegend": false,
         "type": "box",
         "xaxis": "x2",
         "y": [
          4412088740
         ],
         "yaxis": "y2"
        },
        {
         "hovertemplate": "Artist=P!NK<br>Video Count=%{x}<br>Views=%{marker.size}<extra></extra>",
         "legendgroup": "P!NK",
         "marker": {
          "color": "#FFA15A",
          "size": [
           7211913487
          ],
          "sizemode": "area",
          "sizeref": 79383600,
          "symbol": "circle"
         },
         "mode": "markers",
         "name": "P!NK",
         "orientation": "v",
         "showlegend": true,
         "type": "scatter",
         "x": [
          13
         ],
         "xaxis": "x",
         "y": [
          7211913487
         ],
         "yaxis": "y"
        },
        {
         "alignmentgroup": "True",
         "boxpoints": "all",
         "fillcolor": "rgba(255,255,255,0)",
         "hoveron": "points",
         "hovertemplate": "Artist=P!NK<br>Views=%{y}<extra></extra>",
         "jitter": 0,
         "legendgroup": "P!NK",
         "line": {
          "color": "rgba(255,255,255,0)"
         },
         "marker": {
          "color": "#FFA15A",
          "symbol": "line-ew-open"
         },
         "name": "P!NK",
         "offsetgroup": "P!NK",
         "showlegend": false,
         "type": "box",
         "xaxis": "x2",
         "y": [
          7211913487
         ],
         "yaxis": "y2"
        },
        {
         "hovertemplate": "Artist=Luli Pampín<br>Video Count=%{x}<br>Views=%{marker.size}<extra></extra>",
         "legendgroup": "Luli Pampín",
         "marker": {
          "color": "#19d3f3",
          "size": [
           6102648062
          ],
          "sizemode": "area",
          "sizeref": 79383600,
          "symbol": "circle"
         },
         "mode": "markers",
         "name": "Luli Pampín",
         "orientation": "v",
         "showlegend": true,
         "type": "scatter",
         "x": [
          225
         ],
         "xaxis": "x",
         "y": [
          6102648062
         ],
         "yaxis": "y"
        },
        {
         "alignmentgroup": "True",
         "boxpoints": "all",
         "fillcolor": "rgba(255,255,255,0)",
         "hoveron": "points",
         "hovertemplate": "Artist=Luli Pampín<br>Views=%{y}<extra></extra>",
         "jitter": 0,
         "legendgroup": "Luli Pampín",
         "line": {
          "color": "rgba(255,255,255,0)"
         },
         "marker": {
          "color": "#19d3f3",
          "symbol": "line-ew-open"
         },
         "name": "Luli Pampín",
         "offsetgroup": "Luli Pampín",
         "showlegend": false,
         "type": "box",
         "xaxis": "x2",
         "y": [
          6102648062
         ],
         "yaxis": "y2"
        },
        {
         "hovertemplate": "Artist=Duo Tiempo De Sol<br>Video Count=%{x}<br>Views=%{marker.size}<extra></extra>",
         "legendgroup": "Duo Tiempo De Sol",
         "marker": {
          "color": "#FF6692",
          "size": [
           5733616887
          ],
          "sizemode": "area",
          "sizeref": 79383600,
          "symbol": "circle"
         },
         "mode": "markers",
         "name": "Duo Tiempo De Sol",
         "orientation": "v",
         "showlegend": true,
         "type": "scatter",
         "x": [
          278
         ],
         "xaxis": "x",
         "y": [
          5733616887
         ],
         "yaxis": "y"
        },
        {
         "alignmentgroup": "True",
         "boxpoints": "all",
         "fillcolor": "rgba(255,255,255,0)",
         "hoveron": "points",
         "hovertemplate": "Artist=Duo Tiempo De Sol<br>Views=%{y}<extra></extra>",
         "jitter": 0,
         "legendgroup": "Duo Tiempo De Sol",
         "line": {
          "color": "rgba(255,255,255,0)"
         },
         "marker": {
          "color": "#FF6692",
          "symbol": "line-ew-open"
         },
         "name": "Duo Tiempo De Sol",
         "offsetgroup": "Duo Tiempo De Sol",
         "showlegend": false,
         "type": "box",
         "xaxis": "x2",
         "y": [
          5733616887
         ],
         "yaxis": "y2"
        },
        {
         "hovertemplate": "Artist=Black Eyed Peas<br>Video Count=%{x}<br>Views=%{marker.size}<extra></extra>",
         "legendgroup": "Black Eyed Peas",
         "marker": {
          "color": "#B6E880",
          "size": [
           9492696997
          ],
          "sizemode": "area",
          "sizeref": 79383600,
          "symbol": "circle"
         },
         "mode": "markers",
         "name": "Black Eyed Peas",
         "orientation": "v",
         "showlegend": true,
         "type": "scatter",
         "x": [
          39
         ],
         "xaxis": "x",
         "y": [
          9492696997
         ],
         "yaxis": "y"
        },
        {
         "alignmentgroup": "True",
         "boxpoints": "all",
         "fillcolor": "rgba(255,255,255,0)",
         "hoveron": "points",
         "hovertemplate": "Artist=Black Eyed Peas<br>Views=%{y}<extra></extra>",
         "jitter": 0,
         "legendgroup": "Black Eyed Peas",
         "line": {
          "color": "rgba(255,255,255,0)"
         },
         "marker": {
          "color": "#B6E880",
          "symbol": "line-ew-open"
         },
         "name": "Black Eyed Peas",
         "offsetgroup": "Black Eyed Peas",
         "showlegend": false,
         "type": "box",
         "xaxis": "x2",
         "y": [
          9492696997
         ],
         "yaxis": "y2"
        },
        {
         "hovertemplate": "Artist=Biper y sus Amigos<br>Video Count=%{x}<br>Views=%{marker.size}<extra></extra>",
         "legendgroup": "Biper y sus Amigos",
         "marker": {
          "color": "#FF97FF",
          "size": [
           4991697738
          ],
          "sizemode": "area",
          "sizeref": 79383600,
          "symbol": "circle"
         },
         "mode": "markers",
         "name": "Biper y sus Amigos",
         "orientation": "v",
         "showlegend": true,
         "type": "scatter",
         "x": [
          119
         ],
         "xaxis": "x",
         "y": [
          4991697738
         ],
         "yaxis": "y"
        },
        {
         "alignmentgroup": "True",
         "boxpoints": "all",
         "fillcolor": "rgba(255,255,255,0)",
         "hoveron": "points",
         "hovertemplate": "Artist=Biper y sus Amigos<br>Views=%{y}<extra></extra>",
         "jitter": 0,
         "legendgroup": "Biper y sus Amigos",
         "line": {
          "color": "rgba(255,255,255,0)"
         },
         "marker": {
          "color": "#FF97FF",
          "symbol": "line-ew-open"
         },
         "name": "Biper y sus Amigos",
         "offsetgroup": "Biper y sus Amigos",
         "showlegend": false,
         "type": "box",
         "xaxis": "x2",
         "y": [
          4991697738
         ],
         "yaxis": "y2"
        },
        {
         "hovertemplate": "Artist=Lil Wayne<br>Video Count=%{x}<br>Views=%{marker.size}<extra></extra>",
         "legendgroup": "Lil Wayne",
         "marker": {
          "color": "#FECB52",
          "size": [
           5335786775
          ],
          "sizemode": "area",
          "sizeref": 79383600,
          "symbol": "circle"
         },
         "mode": "markers",
         "name": "Lil Wayne",
         "orientation": "v",
         "showlegend": true,
         "type": "scatter",
         "x": [
          254
         ],
         "xaxis": "x",
         "y": [
          5335786775
         ],
         "yaxis": "y"
        },
        {
         "alignmentgroup": "True",
         "boxpoints": "all",
         "fillcolor": "rgba(255,255,255,0)",
         "hoveron": "points",
         "hovertemplate": "Artist=Lil Wayne<br>Views=%{y}<extra></extra>",
         "jitter": 0,
         "legendgroup": "Lil Wayne",
         "line": {
          "color": "rgba(255,255,255,0)"
         },
         "marker": {
          "color": "#FECB52",
          "symbol": "line-ew-open"
         },
         "name": "Lil Wayne",
         "offsetgroup": "Lil Wayne",
         "showlegend": false,
         "type": "box",
         "xaxis": "x2",
         "y": [
          5335786775
         ],
         "yaxis": "y2"
        },
        {
         "hovertemplate": "Artist=elcarteldesantatv<br>Video Count=%{x}<br>Views=%{marker.size}<extra></extra>",
         "legendgroup": "elcarteldesantatv",
         "marker": {
          "color": "#636efa",
          "size": [
           6261374873
          ],
          "sizemode": "area",
          "sizeref": 79383600,
          "symbol": "circle"
         },
         "mode": "markers",
         "name": "elcarteldesantatv",
         "orientation": "v",
         "showlegend": true,
         "type": "scatter",
         "x": [
          313
         ],
         "xaxis": "x",
         "y": [
          6261374873
         ],
         "yaxis": "y"
        },
        {
         "alignmentgroup": "True",
         "boxpoints": "all",
         "fillcolor": "rgba(255,255,255,0)",
         "hoveron": "points",
         "hovertemplate": "Artist=elcarteldesantatv<br>Views=%{y}<extra></extra>",
         "jitter": 0,
         "legendgroup": "elcarteldesantatv",
         "line": {
          "color": "rgba(255,255,255,0)"
         },
         "marker": {
          "color": "#636efa",
          "symbol": "line-ew-open"
         },
         "name": "elcarteldesantatv",
         "offsetgroup": "elcarteldesantatv",
         "showlegend": false,
         "type": "box",
         "xaxis": "x2",
         "y": [
          6261374873
         ],
         "yaxis": "y2"
        },
        {
         "hovertemplate": "Artist=Star Casablanca | نجوم الدار البيضاء<br>Video Count=%{x}<br>Views=%{marker.size}<extra></extra>",
         "legendgroup": "Star Casablanca | نجوم الدار البيضاء",
         "marker": {
          "color": "#EF553B",
          "size": [
           5129031730
          ],
          "sizemode": "area",
          "sizeref": 79383600,
          "symbol": "circle"
         },
         "mode": "markers",
         "name": "Star Casablanca | نجوم الدار البيضاء",
         "orientation": "v",
         "showlegend": true,
         "type": "scatter",
         "x": [
          998
         ],
         "xaxis": "x",
         "y": [
          5129031730
         ],
         "yaxis": "y"
        },
        {
         "alignmentgroup": "True",
         "boxpoints": "all",
         "fillcolor": "rgba(255,255,255,0)",
         "hoveron": "points",
         "hovertemplate": "Artist=Star Casablanca | نجوم الدار البيضاء<br>Views=%{y}<extra></extra>",
         "jitter": 0,
         "legendgroup": "Star Casablanca | نجوم الدار البيضاء",
         "line": {
          "color": "rgba(255,255,255,0)"
         },
         "marker": {
          "color": "#EF553B",
          "symbol": "line-ew-open"
         },
         "name": "Star Casablanca | نجوم الدار البيضاء",
         "offsetgroup": "Star Casablanca | نجوم الدار البيضاء",
         "showlegend": false,
         "type": "box",
         "xaxis": "x2",
         "y": [
          5129031730
         ],
         "yaxis": "y2"
        },
        {
         "hovertemplate": "Artist=Simone e Simaria<br>Video Count=%{x}<br>Views=%{marker.size}<extra></extra>",
         "legendgroup": "Simone e Simaria",
         "marker": {
          "color": "#00cc96",
          "size": [
           4474548691
          ],
          "sizemode": "area",
          "sizeref": 79383600,
          "symbol": "circle"
         },
         "mode": "markers",
         "name": "Simone e Simaria",
         "orientation": "v",
         "showlegend": true,
         "type": "scatter",
         "x": [
          224
         ],
         "xaxis": "x",
         "y": [
          4474548691
         ],
         "yaxis": "y"
        },
        {
         "alignmentgroup": "True",
         "boxpoints": "all",
         "fillcolor": "rgba(255,255,255,0)",
         "hoveron": "points",
         "hovertemplate": "Artist=Simone e Simaria<br>Views=%{y}<extra></extra>",
         "jitter": 0,
         "legendgroup": "Simone e Simaria",
         "line": {
          "color": "rgba(255,255,255,0)"
         },
         "marker": {
          "color": "#00cc96",
          "symbol": "line-ew-open"
         },
         "name": "Simone e Simaria",
         "offsetgroup": "Simone e Simaria",
         "showlegend": false,
         "type": "box",
         "xaxis": "x2",
         "y": [
          4474548691
         ],
         "yaxis": "y2"
        },
        {
         "hovertemplate": "Artist=Lofi Girl<br>Video Count=%{x}<br>Views=%{marker.size}<extra></extra>",
         "legendgroup": "Lofi Girl",
         "marker": {
          "color": "#ab63fa",
          "size": [
           1311726533
          ],
          "sizemode": "area",
          "sizeref": 79383600,
          "symbol": "circle"
         },
         "mode": "markers",
         "name": "Lofi Girl",
         "orientation": "v",
         "showlegend": true,
         "type": "scatter",
         "x": [
          328
         ],
         "xaxis": "x",
         "y": [
          1311726533
         ],
         "yaxis": "y"
        },
        {
         "alignmentgroup": "True",
         "boxpoints": "all",
         "fillcolor": "rgba(255,255,255,0)",
         "hoveron": "points",
         "hovertemplate": "Artist=Lofi Girl<br>Views=%{y}<extra></extra>",
         "jitter": 0,
         "legendgroup": "Lofi Girl",
         "line": {
          "color": "rgba(255,255,255,0)"
         },
         "marker": {
          "color": "#ab63fa",
          "symbol": "line-ew-open"
         },
         "name": "Lofi Girl",
         "offsetgroup": "Lofi Girl",
         "showlegend": false,
         "type": "box",
         "xaxis": "x2",
         "y": [
          1311726533
         ],
         "yaxis": "y2"
        },
        {
         "hovertemplate": "Artist=ChainsmokersVEVO<br>Video Count=%{x}<br>Views=%{marker.size}<extra></extra>",
         "legendgroup": "ChainsmokersVEVO",
         "marker": {
          "color": "#FFA15A",
          "size": [
           11415809929
          ],
          "sizemode": "area",
          "sizeref": 79383600,
          "symbol": "circle"
         },
         "mode": "markers",
         "name": "ChainsmokersVEVO",
         "orientation": "v",
         "showlegend": true,
         "type": "scatter",
         "x": [
          231
         ],
         "xaxis": "x",
         "y": [
          11415809929
         ],
         "yaxis": "y"
        },
        {
         "alignmentgroup": "True",
         "boxpoints": "all",
         "fillcolor": "rgba(255,255,255,0)",
         "hoveron": "points",
         "hovertemplate": "Artist=ChainsmokersVEVO<br>Views=%{y}<extra></extra>",
         "jitter": 0,
         "legendgroup": "ChainsmokersVEVO",
         "line": {
          "color": "rgba(255,255,255,0)"
         },
         "marker": {
          "color": "#FFA15A",
          "symbol": "line-ew-open"
         },
         "name": "ChainsmokersVEVO",
         "offsetgroup": "ChainsmokersVEVO",
         "showlegend": false,
         "type": "box",
         "xaxis": "x2",
         "y": [
          11415809929
         ],
         "yaxis": "y2"
        },
        {
         "hovertemplate": "Artist=DemiLovatoVEVO<br>Video Count=%{x}<br>Views=%{marker.size}<extra></extra>",
         "legendgroup": "DemiLovatoVEVO",
         "marker": {
          "color": "#19d3f3",
          "size": [
           5543363992
          ],
          "sizemode": "area",
          "sizeref": 79383600,
          "symbol": "circle"
         },
         "mode": "markers",
         "name": "DemiLovatoVEVO",
         "orientation": "v",
         "showlegend": true,
         "type": "scatter",
         "x": [
          201
         ],
         "xaxis": "x",
         "y": [
          5543363992
         ],
         "yaxis": "y"
        },
        {
         "alignmentgroup": "True",
         "boxpoints": "all",
         "fillcolor": "rgba(255,255,255,0)",
         "hoveron": "points",
         "hovertemplate": "Artist=DemiLovatoVEVO<br>Views=%{y}<extra></extra>",
         "jitter": 0,
         "legendgroup": "DemiLovatoVEVO",
         "line": {
          "color": "rgba(255,255,255,0)"
         },
         "marker": {
          "color": "#19d3f3",
          "symbol": "line-ew-open"
         },
         "name": "DemiLovatoVEVO",
         "offsetgroup": "DemiLovatoVEVO",
         "showlegend": false,
         "type": "box",
         "xaxis": "x2",
         "y": [
          5543363992
         ],
         "yaxis": "y2"
        },
        {
         "hovertemplate": "Artist=Sky Does Everything<br>Video Count=%{x}<br>Views=%{marker.size}<extra></extra>",
         "legendgroup": "Sky Does Everything",
         "marker": {
          "color": "#FF6692",
          "size": [
           3823868578
          ],
          "sizemode": "area",
          "sizeref": 79383600,
          "symbol": "circle"
         },
         "mode": "markers",
         "name": "Sky Does Everything",
         "orientation": "v",
         "showlegend": true,
         "type": "scatter",
         "x": [
          2101
         ],
         "xaxis": "x",
         "y": [
          3823868578
         ],
         "yaxis": "y"
        },
        {
         "alignmentgroup": "True",
         "boxpoints": "all",
         "fillcolor": "rgba(255,255,255,0)",
         "hoveron": "points",
         "hovertemplate": "Artist=Sky Does Everything<br>Views=%{y}<extra></extra>",
         "jitter": 0,
         "legendgroup": "Sky Does Everything",
         "line": {
          "color": "rgba(255,255,255,0)"
         },
         "marker": {
          "color": "#FF6692",
          "symbol": "line-ew-open"
         },
         "name": "Sky Does Everything",
         "offsetgroup": "Sky Does Everything",
         "showlegend": false,
         "type": "box",
         "xaxis": "x2",
         "y": [
          3823868578
         ],
         "yaxis": "y2"
        },
        {
         "hovertemplate": "Artist=Genius<br>Video Count=%{x}<br>Views=%{marker.size}<extra></extra>",
         "legendgroup": "Genius",
         "marker": {
          "color": "#B6E880",
          "size": [
           2891052624
          ],
          "sizemode": "area",
          "sizeref": 79383600,
          "symbol": "circle"
         },
         "mode": "markers",
         "name": "Genius",
         "orientation": "v",
         "showlegend": true,
         "type": "scatter",
         "x": [
          2797
         ],
         "xaxis": "x",
         "y": [
          2891052624
         ],
         "yaxis": "y"
        },
        {
         "alignmentgroup": "True",
         "boxpoints": "all",
         "fillcolor": "rgba(255,255,255,0)",
         "hoveron": "points",
         "hovertemplate": "Artist=Genius<br>Views=%{y}<extra></extra>",
         "jitter": 0,
         "legendgroup": "Genius",
         "line": {
          "color": "rgba(255,255,255,0)"
         },
         "marker": {
          "color": "#B6E880",
          "symbol": "line-ew-open"
         },
         "name": "Genius",
         "offsetgroup": "Genius",
         "showlegend": false,
         "type": "box",
         "xaxis": "x2",
         "y": [
          2891052624
         ],
         "yaxis": "y2"
        },
        {
         "hovertemplate": "Artist=Doja Cat<br>Video Count=%{x}<br>Views=%{marker.size}<extra></extra>",
         "legendgroup": "Doja Cat",
         "marker": {
          "color": "#FF97FF",
          "size": [
           5459891400
          ],
          "sizemode": "area",
          "sizeref": 79383600,
          "symbol": "circle"
         },
         "mode": "markers",
         "name": "Doja Cat",
         "orientation": "v",
         "showlegend": true,
         "type": "scatter",
         "x": [
          25
         ],
         "xaxis": "x",
         "y": [
          5459891400
         ],
         "yaxis": "y"
        },
        {
         "alignmentgroup": "True",
         "boxpoints": "all",
         "fillcolor": "rgba(255,255,255,0)",
         "hoveron": "points",
         "hovertemplate": "Artist=Doja Cat<br>Views=%{y}<extra></extra>",
         "jitter": 0,
         "legendgroup": "Doja Cat",
         "line": {
          "color": "rgba(255,255,255,0)"
         },
         "marker": {
          "color": "#FF97FF",
          "symbol": "line-ew-open"
         },
         "name": "Doja Cat",
         "offsetgroup": "Doja Cat",
         "showlegend": false,
         "type": "box",
         "xaxis": "x2",
         "y": [
          5459891400
         ],
         "yaxis": "y2"
        },
        {
         "hovertemplate": "Artist=Tyga<br>Video Count=%{x}<br>Views=%{marker.size}<extra></extra>",
         "legendgroup": "Tyga",
         "marker": {
          "color": "#FECB52",
          "size": [
           5211071220
          ],
          "sizemode": "area",
          "sizeref": 79383600,
          "symbol": "circle"
         },
         "mode": "markers",
         "name": "Tyga",
         "orientation": "v",
         "showlegend": true,
         "type": "scatter",
         "x": [
          160
         ],
         "xaxis": "x",
         "y": [
          5211071220
         ],
         "yaxis": "y"
        },
        {
         "alignmentgroup": "True",
         "boxpoints": "all",
         "fillcolor": "rgba(255,255,255,0)",
         "hoveron": "points",
         "hovertemplate": "Artist=Tyga<br>Views=%{y}<extra></extra>",
         "jitter": 0,
         "legendgroup": "Tyga",
         "line": {
          "color": "rgba(255,255,255,0)"
         },
         "marker": {
          "color": "#FECB52",
          "symbol": "line-ew-open"
         },
         "name": "Tyga",
         "offsetgroup": "Tyga",
         "showlegend": false,
         "type": "box",
         "xaxis": "x2",
         "y": [
          5211071220
         ],
         "yaxis": "y2"
        },
        {
         "hovertemplate": "Artist=unknown boy varun<br>Video Count=%{x}<br>Views=%{marker.size}<extra></extra>",
         "legendgroup": "unknown boy varun",
         "marker": {
          "color": "#636efa",
          "size": [
           3263285883
          ],
          "sizemode": "area",
          "sizeref": 79383600,
          "symbol": "circle"
         },
         "mode": "markers",
         "name": "unknown boy varun",
         "orientation": "v",
         "showlegend": true,
         "type": "scatter",
         "x": [
          193
         ],
         "xaxis": "x",
         "y": [
          3263285883
         ],
         "yaxis": "y"
        },
        {
         "alignmentgroup": "True",
         "boxpoints": "all",
         "fillcolor": "rgba(255,255,255,0)",
         "hoveron": "points",
         "hovertemplate": "Artist=unknown boy varun<br>Views=%{y}<extra></extra>",
         "jitter": 0,
         "legendgroup": "unknown boy varun",
         "line": {
          "color": "rgba(255,255,255,0)"
         },
         "marker": {
          "color": "#636efa",
          "symbol": "line-ew-open"
         },
         "name": "unknown boy varun",
         "offsetgroup": "unknown boy varun",
         "showlegend": false,
         "type": "box",
         "xaxis": "x2",
         "y": [
          3263285883
         ],
         "yaxis": "y2"
        },
        {
         "hovertemplate": "Artist=TrapMusicHDTV<br>Video Count=%{x}<br>Views=%{marker.size}<extra></extra>",
         "legendgroup": "TrapMusicHDTV",
         "marker": {
          "color": "#EF553B",
          "size": [
           4070521973
          ],
          "sizemode": "area",
          "sizeref": 79383600,
          "symbol": "circle"
         },
         "mode": "markers",
         "name": "TrapMusicHDTV",
         "orientation": "v",
         "showlegend": true,
         "type": "scatter",
         "x": [
          690
         ],
         "xaxis": "x",
         "y": [
          4070521973
         ],
         "yaxis": "y"
        },
        {
         "alignmentgroup": "True",
         "boxpoints": "all",
         "fillcolor": "rgba(255,255,255,0)",
         "hoveron": "points",
         "hovertemplate": "Artist=TrapMusicHDTV<br>Views=%{y}<extra></extra>",
         "jitter": 0,
         "legendgroup": "TrapMusicHDTV",
         "line": {
          "color": "rgba(255,255,255,0)"
         },
         "marker": {
          "color": "#EF553B",
          "symbol": "line-ew-open"
         },
         "name": "TrapMusicHDTV",
         "offsetgroup": "TrapMusicHDTV",
         "showlegend": false,
         "type": "box",
         "xaxis": "x2",
         "y": [
          4070521973
         ],
         "yaxis": "y2"
        }
       ],
       "layout": {
        "legend": {
         "itemsizing": "constant",
         "title": {
          "text": "Artist"
         },
         "tracegroupgap": 0
        },
        "template": {
         "data": {
          "bar": [
           {
            "error_x": {
             "color": "#2a3f5f"
            },
            "error_y": {
             "color": "#2a3f5f"
            },
            "marker": {
             "line": {
              "color": "#E5ECF6",
              "width": 0.5
             },
             "pattern": {
              "fillmode": "overlay",
              "size": 10,
              "solidity": 0.2
             }
            },
            "type": "bar"
           }
          ],
          "barpolar": [
           {
            "marker": {
             "line": {
              "color": "#E5ECF6",
              "width": 0.5
             },
             "pattern": {
              "fillmode": "overlay",
              "size": 10,
              "solidity": 0.2
             }
            },
            "type": "barpolar"
           }
          ],
          "carpet": [
           {
            "aaxis": {
             "endlinecolor": "#2a3f5f",
             "gridcolor": "white",
             "linecolor": "white",
             "minorgridcolor": "white",
             "startlinecolor": "#2a3f5f"
            },
            "baxis": {
             "endlinecolor": "#2a3f5f",
             "gridcolor": "white",
             "linecolor": "white",
             "minorgridcolor": "white",
             "startlinecolor": "#2a3f5f"
            },
            "type": "carpet"
           }
          ],
          "choropleth": [
           {
            "colorbar": {
             "outlinewidth": 0,
             "ticks": ""
            },
            "type": "choropleth"
           }
          ],
          "contour": [
           {
            "colorbar": {
             "outlinewidth": 0,
             "ticks": ""
            },
            "colorscale": [
             [
              0,
              "#0d0887"
             ],
             [
              0.1111111111111111,
              "#46039f"
             ],
             [
              0.2222222222222222,
              "#7201a8"
             ],
             [
              0.3333333333333333,
              "#9c179e"
             ],
             [
              0.4444444444444444,
              "#bd3786"
             ],
             [
              0.5555555555555556,
              "#d8576b"
             ],
             [
              0.6666666666666666,
              "#ed7953"
             ],
             [
              0.7777777777777778,
              "#fb9f3a"
             ],
             [
              0.8888888888888888,
              "#fdca26"
             ],
             [
              1,
              "#f0f921"
             ]
            ],
            "type": "contour"
           }
          ],
          "contourcarpet": [
           {
            "colorbar": {
             "outlinewidth": 0,
             "ticks": ""
            },
            "type": "contourcarpet"
           }
          ],
          "heatmap": [
           {
            "colorbar": {
             "outlinewidth": 0,
             "ticks": ""
            },
            "colorscale": [
             [
              0,
              "#0d0887"
             ],
             [
              0.1111111111111111,
              "#46039f"
             ],
             [
              0.2222222222222222,
              "#7201a8"
             ],
             [
              0.3333333333333333,
              "#9c179e"
             ],
             [
              0.4444444444444444,
              "#bd3786"
             ],
             [
              0.5555555555555556,
              "#d8576b"
             ],
             [
              0.6666666666666666,
              "#ed7953"
             ],
             [
              0.7777777777777778,
              "#fb9f3a"
             ],
             [
              0.8888888888888888,
              "#fdca26"
             ],
             [
              1,
              "#f0f921"
             ]
            ],
            "type": "heatmap"
           }
          ],
          "heatmapgl": [
           {
            "colorbar": {
             "outlinewidth": 0,
             "ticks": ""
            },
            "colorscale": [
             [
              0,
              "#0d0887"
             ],
             [
              0.1111111111111111,
              "#46039f"
             ],
             [
              0.2222222222222222,
              "#7201a8"
             ],
             [
              0.3333333333333333,
              "#9c179e"
             ],
             [
              0.4444444444444444,
              "#bd3786"
             ],
             [
              0.5555555555555556,
              "#d8576b"
             ],
             [
              0.6666666666666666,
              "#ed7953"
             ],
             [
              0.7777777777777778,
              "#fb9f3a"
             ],
             [
              0.8888888888888888,
              "#fdca26"
             ],
             [
              1,
              "#f0f921"
             ]
            ],
            "type": "heatmapgl"
           }
          ],
          "histogram": [
           {
            "marker": {
             "pattern": {
              "fillmode": "overlay",
              "size": 10,
              "solidity": 0.2
             }
            },
            "type": "histogram"
           }
          ],
          "histogram2d": [
           {
            "colorbar": {
             "outlinewidth": 0,
             "ticks": ""
            },
            "colorscale": [
             [
              0,
              "#0d0887"
             ],
             [
              0.1111111111111111,
              "#46039f"
             ],
             [
              0.2222222222222222,
              "#7201a8"
             ],
             [
              0.3333333333333333,
              "#9c179e"
             ],
             [
              0.4444444444444444,
              "#bd3786"
             ],
             [
              0.5555555555555556,
              "#d8576b"
             ],
             [
              0.6666666666666666,
              "#ed7953"
             ],
             [
              0.7777777777777778,
              "#fb9f3a"
             ],
             [
              0.8888888888888888,
              "#fdca26"
             ],
             [
              1,
              "#f0f921"
             ]
            ],
            "type": "histogram2d"
           }
          ],
          "histogram2dcontour": [
           {
            "colorbar": {
             "outlinewidth": 0,
             "ticks": ""
            },
            "colorscale": [
             [
              0,
              "#0d0887"
             ],
             [
              0.1111111111111111,
              "#46039f"
             ],
             [
              0.2222222222222222,
              "#7201a8"
             ],
             [
              0.3333333333333333,
              "#9c179e"
             ],
             [
              0.4444444444444444,
              "#bd3786"
             ],
             [
              0.5555555555555556,
              "#d8576b"
             ],
             [
              0.6666666666666666,
              "#ed7953"
             ],
             [
              0.7777777777777778,
              "#fb9f3a"
             ],
             [
              0.8888888888888888,
              "#fdca26"
             ],
             [
              1,
              "#f0f921"
             ]
            ],
            "type": "histogram2dcontour"
           }
          ],
          "mesh3d": [
           {
            "colorbar": {
             "outlinewidth": 0,
             "ticks": ""
            },
            "type": "mesh3d"
           }
          ],
          "parcoords": [
           {
            "line": {
             "colorbar": {
              "outlinewidth": 0,
              "ticks": ""
             }
            },
            "type": "parcoords"
           }
          ],
          "pie": [
           {
            "automargin": true,
            "type": "pie"
           }
          ],
          "scatter": [
           {
            "fillpattern": {
             "fillmode": "overlay",
             "size": 10,
             "solidity": 0.2
            },
            "type": "scatter"
           }
          ],
          "scatter3d": [
           {
            "line": {
             "colorbar": {
              "outlinewidth": 0,
              "ticks": ""
             }
            },
            "marker": {
             "colorbar": {
              "outlinewidth": 0,
              "ticks": ""
             }
            },
            "type": "scatter3d"
           }
          ],
          "scattercarpet": [
           {
            "marker": {
             "colorbar": {
              "outlinewidth": 0,
              "ticks": ""
             }
            },
            "type": "scattercarpet"
           }
          ],
          "scattergeo": [
           {
            "marker": {
             "colorbar": {
              "outlinewidth": 0,
              "ticks": ""
             }
            },
            "type": "scattergeo"
           }
          ],
          "scattergl": [
           {
            "marker": {
             "colorbar": {
              "outlinewidth": 0,
              "ticks": ""
             }
            },
            "type": "scattergl"
           }
          ],
          "scattermapbox": [
           {
            "marker": {
             "colorbar": {
              "outlinewidth": 0,
              "ticks": ""
             }
            },
            "type": "scattermapbox"
           }
          ],
          "scatterpolar": [
           {
            "marker": {
             "colorbar": {
              "outlinewidth": 0,
              "ticks": ""
             }
            },
            "type": "scatterpolar"
           }
          ],
          "scatterpolargl": [
           {
            "marker": {
             "colorbar": {
              "outlinewidth": 0,
              "ticks": ""
             }
            },
            "type": "scatterpolargl"
           }
          ],
          "scatterternary": [
           {
            "marker": {
             "colorbar": {
              "outlinewidth": 0,
              "ticks": ""
             }
            },
            "type": "scatterternary"
           }
          ],
          "surface": [
           {
            "colorbar": {
             "outlinewidth": 0,
             "ticks": ""
            },
            "colorscale": [
             [
              0,
              "#0d0887"
             ],
             [
              0.1111111111111111,
              "#46039f"
             ],
             [
              0.2222222222222222,
              "#7201a8"
             ],
             [
              0.3333333333333333,
              "#9c179e"
             ],
             [
              0.4444444444444444,
              "#bd3786"
             ],
             [
              0.5555555555555556,
              "#d8576b"
             ],
             [
              0.6666666666666666,
              "#ed7953"
             ],
             [
              0.7777777777777778,
              "#fb9f3a"
             ],
             [
              0.8888888888888888,
              "#fdca26"
             ],
             [
              1,
              "#f0f921"
             ]
            ],
            "type": "surface"
           }
          ],
          "table": [
           {
            "cells": {
             "fill": {
              "color": "#EBF0F8"
             },
             "line": {
              "color": "white"
             }
            },
            "header": {
             "fill": {
              "color": "#C8D4E3"
             },
             "line": {
              "color": "white"
             }
            },
            "type": "table"
           }
          ]
         },
         "layout": {
          "annotationdefaults": {
           "arrowcolor": "#2a3f5f",
           "arrowhead": 0,
           "arrowwidth": 1
          },
          "autotypenumbers": "strict",
          "coloraxis": {
           "colorbar": {
            "outlinewidth": 0,
            "ticks": ""
           }
          },
          "colorscale": {
           "diverging": [
            [
             0,
             "#8e0152"
            ],
            [
             0.1,
             "#c51b7d"
            ],
            [
             0.2,
             "#de77ae"
            ],
            [
             0.3,
             "#f1b6da"
            ],
            [
             0.4,
             "#fde0ef"
            ],
            [
             0.5,
             "#f7f7f7"
            ],
            [
             0.6,
             "#e6f5d0"
            ],
            [
             0.7,
             "#b8e186"
            ],
            [
             0.8,
             "#7fbc41"
            ],
            [
             0.9,
             "#4d9221"
            ],
            [
             1,
             "#276419"
            ]
           ],
           "sequential": [
            [
             0,
             "#0d0887"
            ],
            [
             0.1111111111111111,
             "#46039f"
            ],
            [
             0.2222222222222222,
             "#7201a8"
            ],
            [
             0.3333333333333333,
             "#9c179e"
            ],
            [
             0.4444444444444444,
             "#bd3786"
            ],
            [
             0.5555555555555556,
             "#d8576b"
            ],
            [
             0.6666666666666666,
             "#ed7953"
            ],
            [
             0.7777777777777778,
             "#fb9f3a"
            ],
            [
             0.8888888888888888,
             "#fdca26"
            ],
            [
             1,
             "#f0f921"
            ]
           ],
           "sequentialminus": [
            [
             0,
             "#0d0887"
            ],
            [
             0.1111111111111111,
             "#46039f"
            ],
            [
             0.2222222222222222,
             "#7201a8"
            ],
            [
             0.3333333333333333,
             "#9c179e"
            ],
            [
             0.4444444444444444,
             "#bd3786"
            ],
            [
             0.5555555555555556,
             "#d8576b"
            ],
            [
             0.6666666666666666,
             "#ed7953"
            ],
            [
             0.7777777777777778,
             "#fb9f3a"
            ],
            [
             0.8888888888888888,
             "#fdca26"
            ],
            [
             1,
             "#f0f921"
            ]
           ]
          },
          "colorway": [
           "#636efa",
           "#EF553B",
           "#00cc96",
           "#ab63fa",
           "#FFA15A",
           "#19d3f3",
           "#FF6692",
           "#B6E880",
           "#FF97FF",
           "#FECB52"
          ],
          "font": {
           "color": "#2a3f5f"
          },
          "geo": {
           "bgcolor": "white",
           "lakecolor": "white",
           "landcolor": "#E5ECF6",
           "showlakes": true,
           "showland": true,
           "subunitcolor": "white"
          },
          "hoverlabel": {
           "align": "left"
          },
          "hovermode": "closest",
          "mapbox": {
           "style": "light"
          },
          "paper_bgcolor": "white",
          "plot_bgcolor": "#E5ECF6",
          "polar": {
           "angularaxis": {
            "gridcolor": "white",
            "linecolor": "white",
            "ticks": ""
           },
           "bgcolor": "#E5ECF6",
           "radialaxis": {
            "gridcolor": "white",
            "linecolor": "white",
            "ticks": ""
           }
          },
          "scene": {
           "xaxis": {
            "backgroundcolor": "#E5ECF6",
            "gridcolor": "white",
            "gridwidth": 2,
            "linecolor": "white",
            "showbackground": true,
            "ticks": "",
            "zerolinecolor": "white"
           },
           "yaxis": {
            "backgroundcolor": "#E5ECF6",
            "gridcolor": "white",
            "gridwidth": 2,
            "linecolor": "white",
            "showbackground": true,
            "ticks": "",
            "zerolinecolor": "white"
           },
           "zaxis": {
            "backgroundcolor": "#E5ECF6",
            "gridcolor": "white",
            "gridwidth": 2,
            "linecolor": "white",
            "showbackground": true,
            "ticks": "",
            "zerolinecolor": "white"
           }
          },
          "shapedefaults": {
           "line": {
            "color": "#2a3f5f"
           }
          },
          "ternary": {
           "aaxis": {
            "gridcolor": "white",
            "linecolor": "white",
            "ticks": ""
           },
           "baxis": {
            "gridcolor": "white",
            "linecolor": "white",
            "ticks": ""
           },
           "bgcolor": "#E5ECF6",
           "caxis": {
            "gridcolor": "white",
            "linecolor": "white",
            "ticks": ""
           }
          },
          "title": {
           "x": 0.05
          },
          "xaxis": {
           "automargin": true,
           "gridcolor": "white",
           "linecolor": "white",
           "ticks": "",
           "title": {
            "standoff": 15
           },
           "zerolinecolor": "white",
           "zerolinewidth": 2
          },
          "yaxis": {
           "automargin": true,
           "gridcolor": "white",
           "linecolor": "white",
           "ticks": "",
           "title": {
            "standoff": 15
           },
           "zerolinecolor": "white",
           "zerolinewidth": 2
          }
         }
        },
        "title": {
         "text": "Artists with Video views and Video count"
        },
        "xaxis": {
         "anchor": "y",
         "domain": [
          0,
          0.7363
         ],
         "title": {
          "text": "Video Count"
         },
         "type": "log"
        },
        "xaxis2": {
         "anchor": "y2",
         "domain": [
          0.7413,
          1
         ],
         "matches": "x2",
         "showgrid": false,
         "showline": false,
         "showticklabels": false,
         "ticks": ""
        },
        "yaxis": {
         "anchor": "x",
         "domain": [
          0,
          1
         ],
         "title": {
          "text": "Views"
         }
        },
        "yaxis2": {
         "anchor": "x2",
         "domain": [
          0,
          1
         ],
         "matches": "y",
         "showgrid": true,
         "showticklabels": false
        }
       }
      }
     },
     "metadata": {},
     "output_type": "display_data"
    }
   ],
   "source": [
    "fig = px.scatter(df, x=\"Video Count\", y=\"Views\",\n",
    "                 size=\"Views\", color=\"Artist\",\n",
    "                 log_x=True, size_max=50,\n",
    "                 title=\"Artists with Video views and Video count\",\n",
    "                 marginal_y='rug')\n",
    "fig.show()"
   ]
  },
  {
   "cell_type": "code",
   "execution_count": 34,
   "metadata": {},
   "outputs": [
    {
     "data": {
      "application/vnd.plotly.v1+json": {
       "config": {
        "plotlyServerURL": "https://plot.ly"
       },
       "data": [
        {
         "hovertemplate": "Artist=T-Series<br>Subscribers=%{x}<br>Views=%{marker.size}<extra></extra>",
         "legendgroup": "T-Series",
         "marker": {
          "color": "#636efa",
          "size": [
           198459000000
          ],
          "sizemode": "area",
          "sizeref": 79383600,
          "symbol": "circle"
         },
         "mode": "markers",
         "name": "T-Series",
         "orientation": "v",
         "showlegend": true,
         "type": "scatter",
         "x": [
          222000000
         ],
         "xaxis": "x",
         "y": [
          198459000000
         ],
         "yaxis": "y"
        },
        {
         "alignmentgroup": "True",
         "boxpoints": "all",
         "fillcolor": "rgba(255,255,255,0)",
         "hoveron": "points",
         "hovertemplate": "Artist=T-Series<br>Views=%{y}<extra></extra>",
         "jitter": 0,
         "legendgroup": "T-Series",
         "line": {
          "color": "rgba(255,255,255,0)"
         },
         "marker": {
          "color": "#636efa",
          "symbol": "line-ew-open"
         },
         "name": "T-Series",
         "offsetgroup": "T-Series",
         "showlegend": false,
         "type": "box",
         "xaxis": "x2",
         "y": [
          198459000000
         ],
         "yaxis": "y2"
        },
        {
         "hovertemplate": "Artist=Zee Music Company<br>Subscribers=%{x}<br>Views=%{marker.size}<extra></extra>",
         "legendgroup": "Zee Music Company",
         "marker": {
          "color": "#EF553B",
          "size": [
           49067711243
          ],
          "sizemode": "area",
          "sizeref": 79383600,
          "symbol": "circle"
         },
         "mode": "markers",
         "name": "Zee Music Company",
         "orientation": "v",
         "showlegend": true,
         "type": "scatter",
         "x": [
          86700000
         ],
         "xaxis": "x",
         "y": [
          49067711243
         ],
         "yaxis": "y"
        },
        {
         "alignmentgroup": "True",
         "boxpoints": "all",
         "fillcolor": "rgba(255,255,255,0)",
         "hoveron": "points",
         "hovertemplate": "Artist=Zee Music Company<br>Views=%{y}<extra></extra>",
         "jitter": 0,
         "legendgroup": "Zee Music Company",
         "line": {
          "color": "rgba(255,255,255,0)"
         },
         "marker": {
          "color": "#EF553B",
          "symbol": "line-ew-open"
         },
         "name": "Zee Music Company",
         "offsetgroup": "Zee Music Company",
         "showlegend": false,
         "type": "box",
         "xaxis": "x2",
         "y": [
          49067711243
         ],
         "yaxis": "y2"
        },
        {
         "hovertemplate": "Artist=BANGTANTV<br>Subscribers=%{x}<br>Views=%{marker.size}<extra></extra>",
         "legendgroup": "BANGTANTV",
         "marker": {
          "color": "#00cc96",
          "size": [
           17471090750
          ],
          "sizemode": "area",
          "sizeref": 79383600,
          "symbol": "circle"
         },
         "mode": "markers",
         "name": "BANGTANTV",
         "orientation": "v",
         "showlegend": true,
         "type": "scatter",
         "x": [
          70000000
         ],
         "xaxis": "x",
         "y": [
          17471090750
         ],
         "yaxis": "y"
        },
        {
         "alignmentgroup": "True",
         "boxpoints": "all",
         "fillcolor": "rgba(255,255,255,0)",
         "hoveron": "points",
         "hovertemplate": "Artist=BANGTANTV<br>Views=%{y}<extra></extra>",
         "jitter": 0,
         "legendgroup": "BANGTANTV",
         "line": {
          "color": "rgba(255,255,255,0)"
         },
         "marker": {
          "color": "#00cc96",
          "symbol": "line-ew-open"
         },
         "name": "BANGTANTV",
         "offsetgroup": "BANGTANTV",
         "showlegend": false,
         "type": "box",
         "xaxis": "x2",
         "y": [
          17471090750
         ],
         "yaxis": "y2"
        },
        {
         "hovertemplate": "Artist=Justin Bieber<br>Subscribers=%{x}<br>Views=%{marker.size}<extra></extra>",
         "legendgroup": "Justin Bieber",
         "marker": {
          "color": "#ab63fa",
          "size": [
           28567240999
          ],
          "sizemode": "area",
          "sizeref": 79383600,
          "symbol": "circle"
         },
         "mode": "markers",
         "name": "Justin Bieber",
         "orientation": "v",
         "showlegend": true,
         "type": "scatter",
         "x": [
          69700000
         ],
         "xaxis": "x",
         "y": [
          28567240999
         ],
         "yaxis": "y"
        },
        {
         "alignmentgroup": "True",
         "boxpoints": "all",
         "fillcolor": "rgba(255,255,255,0)",
         "hoveron": "points",
         "hovertemplate": "Artist=Justin Bieber<br>Views=%{y}<extra></extra>",
         "jitter": 0,
         "legendgroup": "Justin Bieber",
         "line": {
          "color": "rgba(255,255,255,0)"
         },
         "marker": {
          "color": "#ab63fa",
          "symbol": "line-ew-open"
         },
         "name": "Justin Bieber",
         "offsetgroup": "Justin Bieber",
         "showlegend": false,
         "type": "box",
         "xaxis": "x2",
         "y": [
          28567240999
         ],
         "yaxis": "y2"
        },
        {
         "hovertemplate": "Artist=HYBE LABELS<br>Subscribers=%{x}<br>Views=%{marker.size}<extra></extra>",
         "legendgroup": "HYBE LABELS",
         "marker": {
          "color": "#FFA15A",
          "size": [
           24013849120
          ],
          "sizemode": "area",
          "sizeref": 79383600,
          "symbol": "circle"
         },
         "mode": "markers",
         "name": "HYBE LABELS",
         "orientation": "v",
         "showlegend": true,
         "type": "scatter",
         "x": [
          67800000
         ],
         "xaxis": "x",
         "y": [
          24013849120
         ],
         "yaxis": "y"
        },
        {
         "alignmentgroup": "True",
         "boxpoints": "all",
         "fillcolor": "rgba(255,255,255,0)",
         "hoveron": "points",
         "hovertemplate": "Artist=HYBE LABELS<br>Views=%{y}<extra></extra>",
         "jitter": 0,
         "legendgroup": "HYBE LABELS",
         "line": {
          "color": "rgba(255,255,255,0)"
         },
         "marker": {
          "color": "#FFA15A",
          "symbol": "line-ew-open"
         },
         "name": "HYBE LABELS",
         "offsetgroup": "HYBE LABELS",
         "showlegend": false,
         "type": "box",
         "xaxis": "x2",
         "y": [
          24013849120
         ],
         "yaxis": "y2"
        },
        {
         "hovertemplate": "Artist=Canal KondZilla<br>Subscribers=%{x}<br>Views=%{marker.size}<extra></extra>",
         "legendgroup": "Canal KondZilla",
         "marker": {
          "color": "#19d3f3",
          "size": [
           36576704790
          ],
          "sizemode": "area",
          "sizeref": 79383600,
          "symbol": "circle"
         },
         "mode": "markers",
         "name": "Canal KondZilla",
         "orientation": "v",
         "showlegend": true,
         "type": "scatter",
         "x": [
          65900000
         ],
         "xaxis": "x",
         "y": [
          36576704790
         ],
         "yaxis": "y"
        },
        {
         "alignmentgroup": "True",
         "boxpoints": "all",
         "fillcolor": "rgba(255,255,255,0)",
         "hoveron": "points",
         "hovertemplate": "Artist=Canal KondZilla<br>Views=%{y}<extra></extra>",
         "jitter": 0,
         "legendgroup": "Canal KondZilla",
         "line": {
          "color": "rgba(255,255,255,0)"
         },
         "marker": {
          "color": "#19d3f3",
          "symbol": "line-ew-open"
         },
         "name": "Canal KondZilla",
         "offsetgroup": "Canal KondZilla",
         "showlegend": false,
         "type": "box",
         "xaxis": "x2",
         "y": [
          36576704790
         ],
         "yaxis": "y2"
        },
        {
         "hovertemplate": "Artist=Shemaroo Filmi Gaane<br>Subscribers=%{x}<br>Views=%{marker.size}<extra></extra>",
         "legendgroup": "Shemaroo Filmi Gaane",
         "marker": {
          "color": "#FF6692",
          "size": [
           28579945247
          ],
          "sizemode": "area",
          "sizeref": 79383600,
          "symbol": "circle"
         },
         "mode": "markers",
         "name": "Shemaroo Filmi Gaane",
         "orientation": "v",
         "showlegend": true,
         "type": "scatter",
         "x": [
          61300000
         ],
         "xaxis": "x",
         "y": [
          28579945247
         ],
         "yaxis": "y"
        },
        {
         "alignmentgroup": "True",
         "boxpoints": "all",
         "fillcolor": "rgba(255,255,255,0)",
         "hoveron": "points",
         "hovertemplate": "Artist=Shemaroo Filmi Gaane<br>Views=%{y}<extra></extra>",
         "jitter": 0,
         "legendgroup": "Shemaroo Filmi Gaane",
         "line": {
          "color": "rgba(255,255,255,0)"
         },
         "marker": {
          "color": "#FF6692",
          "symbol": "line-ew-open"
         },
         "name": "Shemaroo Filmi Gaane",
         "offsetgroup": "Shemaroo Filmi Gaane",
         "showlegend": false,
         "type": "box",
         "xaxis": "x2",
         "y": [
          28579945247
         ],
         "yaxis": "y2"
        },
        {
         "hovertemplate": "Artist=Wave Music<br>Subscribers=%{x}<br>Views=%{marker.size}<extra></extra>",
         "legendgroup": "Wave Music",
         "marker": {
          "color": "#B6E880",
          "size": [
           37230876862
          ],
          "sizemode": "area",
          "sizeref": 79383600,
          "symbol": "circle"
         },
         "mode": "markers",
         "name": "Wave Music",
         "orientation": "v",
         "showlegend": true,
         "type": "scatter",
         "x": [
          53400000
         ],
         "xaxis": "x",
         "y": [
          37230876862
         ],
         "yaxis": "y"
        },
        {
         "alignmentgroup": "True",
         "boxpoints": "all",
         "fillcolor": "rgba(255,255,255,0)",
         "hoveron": "points",
         "hovertemplate": "Artist=Wave Music<br>Views=%{y}<extra></extra>",
         "jitter": 0,
         "legendgroup": "Wave Music",
         "line": {
          "color": "rgba(255,255,255,0)"
         },
         "marker": {
          "color": "#B6E880",
          "symbol": "line-ew-open"
         },
         "name": "Wave Music",
         "offsetgroup": "Wave Music",
         "showlegend": false,
         "type": "box",
         "xaxis": "x2",
         "y": [
          37230876862
         ],
         "yaxis": "y2"
        },
        {
         "hovertemplate": "Artist=EminemMusic<br>Subscribers=%{x}<br>Views=%{marker.size}<extra></extra>",
         "legendgroup": "EminemMusic",
         "marker": {
          "color": "#FF97FF",
          "size": [
           23717869724
          ],
          "sizemode": "area",
          "sizeref": 79383600,
          "symbol": "circle"
         },
         "mode": "markers",
         "name": "EminemMusic",
         "orientation": "v",
         "showlegend": true,
         "type": "scatter",
         "x": [
          53000000
         ],
         "xaxis": "x",
         "y": [
          23717869724
         ],
         "yaxis": "y"
        },
        {
         "alignmentgroup": "True",
         "boxpoints": "all",
         "fillcolor": "rgba(255,255,255,0)",
         "hoveron": "points",
         "hovertemplate": "Artist=EminemMusic<br>Views=%{y}<extra></extra>",
         "jitter": 0,
         "legendgroup": "EminemMusic",
         "line": {
          "color": "rgba(255,255,255,0)"
         },
         "marker": {
          "color": "#FF97FF",
          "symbol": "line-ew-open"
         },
         "name": "EminemMusic",
         "offsetgroup": "EminemMusic",
         "showlegend": false,
         "type": "box",
         "xaxis": "x2",
         "y": [
          23717869724
         ],
         "yaxis": "y2"
        },
        {
         "hovertemplate": "Artist=Tips Official<br>Subscribers=%{x}<br>Views=%{marker.size}<extra></extra>",
         "legendgroup": "Tips Official",
         "marker": {
          "color": "#FECB52",
          "size": [
           27883080973
          ],
          "sizemode": "area",
          "sizeref": 79383600,
          "symbol": "circle"
         },
         "mode": "markers",
         "name": "Tips Official",
         "orientation": "v",
         "showlegend": true,
         "type": "scatter",
         "x": [
          52800000
         ],
         "xaxis": "x",
         "y": [
          27883080973
         ],
         "yaxis": "y"
        },
        {
         "alignmentgroup": "True",
         "boxpoints": "all",
         "fillcolor": "rgba(255,255,255,0)",
         "hoveron": "points",
         "hovertemplate": "Artist=Tips Official<br>Views=%{y}<extra></extra>",
         "jitter": 0,
         "legendgroup": "Tips Official",
         "line": {
          "color": "rgba(255,255,255,0)"
         },
         "marker": {
          "color": "#FECB52",
          "symbol": "line-ew-open"
         },
         "name": "Tips Official",
         "offsetgroup": "Tips Official",
         "showlegend": false,
         "type": "box",
         "xaxis": "x2",
         "y": [
          27883080973
         ],
         "yaxis": "y2"
        },
        {
         "hovertemplate": "Artist=T-Series Bhakti Sagar<br>Subscribers=%{x}<br>Views=%{marker.size}<extra></extra>",
         "legendgroup": "T-Series Bhakti Sagar",
         "marker": {
          "color": "#636efa",
          "size": [
           24278576197
          ],
          "sizemode": "area",
          "sizeref": 79383600,
          "symbol": "circle"
         },
         "mode": "markers",
         "name": "T-Series Bhakti Sagar",
         "orientation": "v",
         "showlegend": true,
         "type": "scatter",
         "x": [
          52500000
         ],
         "xaxis": "x",
         "y": [
          24278576197
         ],
         "yaxis": "y"
        },
        {
         "alignmentgroup": "True",
         "boxpoints": "all",
         "fillcolor": "rgba(255,255,255,0)",
         "hoveron": "points",
         "hovertemplate": "Artist=T-Series Bhakti Sagar<br>Views=%{y}<extra></extra>",
         "jitter": 0,
         "legendgroup": "T-Series Bhakti Sagar",
         "line": {
          "color": "rgba(255,255,255,0)"
         },
         "marker": {
          "color": "#636efa",
          "symbol": "line-ew-open"
         },
         "name": "T-Series Bhakti Sagar",
         "offsetgroup": "T-Series Bhakti Sagar",
         "showlegend": false,
         "type": "box",
         "xaxis": "x2",
         "y": [
          24278576197
         ],
         "yaxis": "y2"
        },
        {
         "hovertemplate": "Artist=Sony Music India<br>Subscribers=%{x}<br>Views=%{marker.size}<extra></extra>",
         "legendgroup": "Sony Music India",
         "marker": {
          "color": "#EF553B",
          "size": [
           24856641898
          ],
          "sizemode": "area",
          "sizeref": 79383600,
          "symbol": "circle"
         },
         "mode": "markers",
         "name": "Sony Music India",
         "orientation": "v",
         "showlegend": true,
         "type": "scatter",
         "x": [
          52400000
         ],
         "xaxis": "x",
         "y": [
          24856641898
         ],
         "yaxis": "y"
        },
        {
         "alignmentgroup": "True",
         "boxpoints": "all",
         "fillcolor": "rgba(255,255,255,0)",
         "hoveron": "points",
         "hovertemplate": "Artist=Sony Music India<br>Views=%{y}<extra></extra>",
         "jitter": 0,
         "legendgroup": "Sony Music India",
         "line": {
          "color": "rgba(255,255,255,0)"
         },
         "marker": {
          "color": "#EF553B",
          "symbol": "line-ew-open"
         },
         "name": "Sony Music India",
         "offsetgroup": "Sony Music India",
         "showlegend": false,
         "type": "box",
         "xaxis": "x2",
         "y": [
          24856641898
         ],
         "yaxis": "y2"
        },
        {
         "hovertemplate": "Artist=Ed Sheeran<br>Subscribers=%{x}<br>Views=%{marker.size}<extra></extra>",
         "legendgroup": "Ed Sheeran",
         "marker": {
          "color": "#00cc96",
          "size": [
           27881781761
          ],
          "sizemode": "area",
          "sizeref": 79383600,
          "symbol": "circle"
         },
         "mode": "markers",
         "name": "Ed Sheeran",
         "orientation": "v",
         "showlegend": true,
         "type": "scatter",
         "x": [
          52200000
         ],
         "xaxis": "x",
         "y": [
          27881781761
         ],
         "yaxis": "y"
        },
        {
         "alignmentgroup": "True",
         "boxpoints": "all",
         "fillcolor": "rgba(255,255,255,0)",
         "hoveron": "points",
         "hovertemplate": "Artist=Ed Sheeran<br>Views=%{y}<extra></extra>",
         "jitter": 0,
         "legendgroup": "Ed Sheeran",
         "line": {
          "color": "rgba(255,255,255,0)"
         },
         "marker": {
          "color": "#00cc96",
          "symbol": "line-ew-open"
         },
         "name": "Ed Sheeran",
         "offsetgroup": "Ed Sheeran",
         "showlegend": false,
         "type": "box",
         "xaxis": "x2",
         "y": [
          27881781761
         ],
         "yaxis": "y2"
        },
        {
         "hovertemplate": "Artist=El Reino Infantil<br>Subscribers=%{x}<br>Views=%{marker.size}<extra></extra>",
         "legendgroup": "El Reino Infantil",
         "marker": {
          "color": "#ab63fa",
          "size": [
           49895247456
          ],
          "sizemode": "area",
          "sizeref": 79383600,
          "symbol": "circle"
         },
         "mode": "markers",
         "name": "El Reino Infantil",
         "orientation": "v",
         "showlegend": true,
         "type": "scatter",
         "x": [
          51700000
         ],
         "xaxis": "x",
         "y": [
          49895247456
         ],
         "yaxis": "y"
        },
        {
         "alignmentgroup": "True",
         "boxpoints": "all",
         "fillcolor": "rgba(255,255,255,0)",
         "hoveron": "points",
         "hovertemplate": "Artist=El Reino Infantil<br>Views=%{y}<extra></extra>",
         "jitter": 0,
         "legendgroup": "El Reino Infantil",
         "line": {
          "color": "rgba(255,255,255,0)"
         },
         "marker": {
          "color": "#ab63fa",
          "symbol": "line-ew-open"
         },
         "name": "El Reino Infantil",
         "offsetgroup": "El Reino Infantil",
         "showlegend": false,
         "type": "box",
         "xaxis": "x2",
         "y": [
          49895247456
         ],
         "yaxis": "y2"
        },
        {
         "hovertemplate": "Artist=Ariana Grande<br>Subscribers=%{x}<br>Views=%{marker.size}<extra></extra>",
         "legendgroup": "Ariana Grande",
         "marker": {
          "color": "#FFA15A",
          "size": [
           22158094076
          ],
          "sizemode": "area",
          "sizeref": 79383600,
          "symbol": "circle"
         },
         "mode": "markers",
         "name": "Ariana Grande",
         "orientation": "v",
         "showlegend": true,
         "type": "scatter",
         "x": [
          51600000
         ],
         "xaxis": "x",
         "y": [
          22158094076
         ],
         "yaxis": "y"
        },
        {
         "alignmentgroup": "True",
         "boxpoints": "all",
         "fillcolor": "rgba(255,255,255,0)",
         "hoveron": "points",
         "hovertemplate": "Artist=Ariana Grande<br>Views=%{y}<extra></extra>",
         "jitter": 0,
         "legendgroup": "Ariana Grande",
         "line": {
          "color": "rgba(255,255,255,0)"
         },
         "marker": {
          "color": "#FFA15A",
          "symbol": "line-ew-open"
         },
         "name": "Ariana Grande",
         "offsetgroup": "Ariana Grande",
         "showlegend": false,
         "type": "box",
         "xaxis": "x2",
         "y": [
          22158094076
         ],
         "yaxis": "y2"
        },
        {
         "hovertemplate": "Artist=LooLoo Kids - Nursery Rhymes and Children's Songs<br>Subscribers=%{x}<br>Views=%{marker.size}<extra></extra>",
         "legendgroup": "LooLoo Kids - Nursery Rhymes and Children's Songs",
         "marker": {
          "color": "#19d3f3",
          "size": [
           29013984394
          ],
          "sizemode": "area",
          "sizeref": 79383600,
          "symbol": "circle"
         },
         "mode": "markers",
         "name": "LooLoo Kids - Nursery Rhymes and Children's Songs",
         "orientation": "v",
         "showlegend": true,
         "type": "scatter",
         "x": [
          49800000
         ],
         "xaxis": "x",
         "y": [
          29013984394
         ],
         "yaxis": "y"
        },
        {
         "alignmentgroup": "True",
         "boxpoints": "all",
         "fillcolor": "rgba(255,255,255,0)",
         "hoveron": "points",
         "hovertemplate": "Artist=LooLoo Kids - Nursery Rhymes and Children's Songs<br>Views=%{y}<extra></extra>",
         "jitter": 0,
         "legendgroup": "LooLoo Kids - Nursery Rhymes and Children's Songs",
         "line": {
          "color": "rgba(255,255,255,0)"
         },
         "marker": {
          "color": "#19d3f3",
          "symbol": "line-ew-open"
         },
         "name": "LooLoo Kids - Nursery Rhymes and Children's Songs",
         "offsetgroup": "LooLoo Kids - Nursery Rhymes and Children's Songs",
         "showlegend": false,
         "type": "box",
         "xaxis": "x2",
         "y": [
          29013984394
         ],
         "yaxis": "y2"
        },
        {
         "hovertemplate": "Artist=Taylor Swift<br>Subscribers=%{x}<br>Views=%{marker.size}<extra></extra>",
         "legendgroup": "Taylor Swift",
         "marker": {
          "color": "#FF6692",
          "size": [
           25563795998
          ],
          "sizemode": "area",
          "sizeref": 79383600,
          "symbol": "circle"
         },
         "mode": "markers",
         "name": "Taylor Swift",
         "orientation": "v",
         "showlegend": true,
         "type": "scatter",
         "x": [
          47100000
         ],
         "xaxis": "x",
         "y": [
          25563795998
         ],
         "yaxis": "y"
        },
        {
         "alignmentgroup": "True",
         "boxpoints": "all",
         "fillcolor": "rgba(255,255,255,0)",
         "hoveron": "points",
         "hovertemplate": "Artist=Taylor Swift<br>Views=%{y}<extra></extra>",
         "jitter": 0,
         "legendgroup": "Taylor Swift",
         "line": {
          "color": "rgba(255,255,255,0)"
         },
         "marker": {
          "color": "#FF6692",
          "symbol": "line-ew-open"
         },
         "name": "Taylor Swift",
         "offsetgroup": "Taylor Swift",
         "showlegend": false,
         "type": "box",
         "xaxis": "x2",
         "y": [
          25563795998
         ],
         "yaxis": "y2"
        },
        {
         "hovertemplate": "Artist=Billie Eilish<br>Subscribers=%{x}<br>Views=%{marker.size}<extra></extra>",
         "legendgroup": "Billie Eilish",
         "marker": {
          "color": "#B6E880",
          "size": [
           11999349578
          ],
          "sizemode": "area",
          "sizeref": 79383600,
          "symbol": "circle"
         },
         "mode": "markers",
         "name": "Billie Eilish",
         "orientation": "v",
         "showlegend": true,
         "type": "scatter",
         "x": [
          46200000
         ],
         "xaxis": "x",
         "y": [
          11999349578
         ],
         "yaxis": "y"
        },
        {
         "alignmentgroup": "True",
         "boxpoints": "all",
         "fillcolor": "rgba(255,255,255,0)",
         "hoveron": "points",
         "hovertemplate": "Artist=Billie Eilish<br>Views=%{y}<extra></extra>",
         "jitter": 0,
         "legendgroup": "Billie Eilish",
         "line": {
          "color": "rgba(255,255,255,0)"
         },
         "marker": {
          "color": "#B6E880",
          "symbol": "line-ew-open"
         },
         "name": "Billie Eilish",
         "offsetgroup": "Billie Eilish",
         "showlegend": false,
         "type": "box",
         "xaxis": "x2",
         "y": [
          11999349578
         ],
         "yaxis": "y2"
        },
        {
         "hovertemplate": "Artist=Katy Perry<br>Subscribers=%{x}<br>Views=%{marker.size}<extra></extra>",
         "legendgroup": "Katy Perry",
         "marker": {
          "color": "#FF97FF",
          "size": [
           23966278157
          ],
          "sizemode": "area",
          "sizeref": 79383600,
          "symbol": "circle"
         },
         "mode": "markers",
         "name": "Katy Perry",
         "orientation": "v",
         "showlegend": true,
         "type": "scatter",
         "x": [
          43200000
         ],
         "xaxis": "x",
         "y": [
          23966278157
         ],
         "yaxis": "y"
        },
        {
         "alignmentgroup": "True",
         "boxpoints": "all",
         "fillcolor": "rgba(255,255,255,0)",
         "hoveron": "points",
         "hovertemplate": "Artist=Katy Perry<br>Views=%{y}<extra></extra>",
         "jitter": 0,
         "legendgroup": "Katy Perry",
         "line": {
          "color": "rgba(255,255,255,0)"
         },
         "marker": {
          "color": "#FF97FF",
          "symbol": "line-ew-open"
         },
         "name": "Katy Perry",
         "offsetgroup": "Katy Perry",
         "showlegend": false,
         "type": "box",
         "xaxis": "x2",
         "y": [
          23966278157
         ],
         "yaxis": "y2"
        },
        {
         "hovertemplate": "Artist=SonyMusicIndiaVEVO<br>Subscribers=%{x}<br>Views=%{marker.size}<extra></extra>",
         "legendgroup": "SonyMusicIndiaVEVO",
         "marker": {
          "color": "#FECB52",
          "size": [
           23991411417
          ],
          "sizemode": "area",
          "sizeref": 79383600,
          "symbol": "circle"
         },
         "mode": "markers",
         "name": "SonyMusicIndiaVEVO",
         "orientation": "v",
         "showlegend": true,
         "type": "scatter",
         "x": [
          42700000
         ],
         "xaxis": "x",
         "y": [
          23991411417
         ],
         "yaxis": "y"
        },
        {
         "alignmentgroup": "True",
         "boxpoints": "all",
         "fillcolor": "rgba(255,255,255,0)",
         "hoveron": "points",
         "hovertemplate": "Artist=SonyMusicIndiaVEVO<br>Views=%{y}<extra></extra>",
         "jitter": 0,
         "legendgroup": "SonyMusicIndiaVEVO",
         "line": {
          "color": "rgba(255,255,255,0)"
         },
         "marker": {
          "color": "#FECB52",
          "symbol": "line-ew-open"
         },
         "name": "SonyMusicIndiaVEVO",
         "offsetgroup": "SonyMusicIndiaVEVO",
         "showlegend": false,
         "type": "box",
         "xaxis": "x2",
         "y": [
          23991411417
         ],
         "yaxis": "y2"
        },
        {
         "hovertemplate": "Artist=Bad Bunny<br>Subscribers=%{x}<br>Views=%{marker.size}<extra></extra>",
         "legendgroup": "Bad Bunny",
         "marker": {
          "color": "#636efa",
          "size": [
           23748805401
          ],
          "sizemode": "area",
          "sizeref": 79383600,
          "symbol": "circle"
         },
         "mode": "markers",
         "name": "Bad Bunny",
         "orientation": "v",
         "showlegend": true,
         "type": "scatter",
         "x": [
          42500000
         ],
         "xaxis": "x",
         "y": [
          23748805401
         ],
         "yaxis": "y"
        },
        {
         "alignmentgroup": "True",
         "boxpoints": "all",
         "fillcolor": "rgba(255,255,255,0)",
         "hoveron": "points",
         "hovertemplate": "Artist=Bad Bunny<br>Views=%{y}<extra></extra>",
         "jitter": 0,
         "legendgroup": "Bad Bunny",
         "line": {
          "color": "rgba(255,255,255,0)"
         },
         "marker": {
          "color": "#636efa",
          "symbol": "line-ew-open"
         },
         "name": "Bad Bunny",
         "offsetgroup": "Bad Bunny",
         "showlegend": false,
         "type": "box",
         "xaxis": "x2",
         "y": [
          23748805401
         ],
         "yaxis": "y2"
        },
        {
         "hovertemplate": "Artist=Alan Walker<br>Subscribers=%{x}<br>Views=%{marker.size}<extra></extra>",
         "legendgroup": "Alan Walker",
         "marker": {
          "color": "#EF553B",
          "size": [
           11731228995
          ],
          "sizemode": "area",
          "sizeref": 79383600,
          "symbol": "circle"
         },
         "mode": "markers",
         "name": "Alan Walker",
         "orientation": "v",
         "showlegend": true,
         "type": "scatter",
         "x": [
          42200000
         ],
         "xaxis": "x",
         "y": [
          11731228995
         ],
         "yaxis": "y"
        },
        {
         "alignmentgroup": "True",
         "boxpoints": "all",
         "fillcolor": "rgba(255,255,255,0)",
         "hoveron": "points",
         "hovertemplate": "Artist=Alan Walker<br>Views=%{y}<extra></extra>",
         "jitter": 0,
         "legendgroup": "Alan Walker",
         "line": {
          "color": "rgba(255,255,255,0)"
         },
         "marker": {
          "color": "#EF553B",
          "symbol": "line-ew-open"
         },
         "name": "Alan Walker",
         "offsetgroup": "Alan Walker",
         "showlegend": false,
         "type": "box",
         "xaxis": "x2",
         "y": [
          11731228995
         ],
         "yaxis": "y2"
        },
        {
         "hovertemplate": "Artist=Speed Records<br>Subscribers=%{x}<br>Views=%{marker.size}<extra></extra>",
         "legendgroup": "Speed Records",
         "marker": {
          "color": "#00cc96",
          "size": [
           24558172214
          ],
          "sizemode": "area",
          "sizeref": 79383600,
          "symbol": "circle"
         },
         "mode": "markers",
         "name": "Speed Records",
         "orientation": "v",
         "showlegend": true,
         "type": "scatter",
         "x": [
          40800000
         ],
         "xaxis": "x",
         "y": [
          24558172214
         ],
         "yaxis": "y"
        },
        {
         "alignmentgroup": "True",
         "boxpoints": "all",
         "fillcolor": "rgba(255,255,255,0)",
         "hoveron": "points",
         "hovertemplate": "Artist=Speed Records<br>Views=%{y}<extra></extra>",
         "jitter": 0,
         "legendgroup": "Speed Records",
         "line": {
          "color": "rgba(255,255,255,0)"
         },
         "marker": {
          "color": "#00cc96",
          "symbol": "line-ew-open"
         },
         "name": "Speed Records",
         "offsetgroup": "Speed Records",
         "showlegend": false,
         "type": "box",
         "xaxis": "x2",
         "y": [
          24558172214
         ],
         "yaxis": "y2"
        },
        {
         "hovertemplate": "Artist=GR6 EXPLODE<br>Subscribers=%{x}<br>Views=%{marker.size}<extra></extra>",
         "legendgroup": "GR6 EXPLODE",
         "marker": {
          "color": "#ab63fa",
          "size": [
           23912270526
          ],
          "sizemode": "area",
          "sizeref": 79383600,
          "symbol": "circle"
         },
         "mode": "markers",
         "name": "GR6 EXPLODE",
         "orientation": "v",
         "showlegend": true,
         "type": "scatter",
         "x": [
          37600000
         ],
         "xaxis": "x",
         "y": [
          23912270526
         ],
         "yaxis": "y"
        },
        {
         "alignmentgroup": "True",
         "boxpoints": "all",
         "fillcolor": "rgba(255,255,255,0)",
         "hoveron": "points",
         "hovertemplate": "Artist=GR6 EXPLODE<br>Views=%{y}<extra></extra>",
         "jitter": 0,
         "legendgroup": "GR6 EXPLODE",
         "line": {
          "color": "rgba(255,255,255,0)"
         },
         "marker": {
          "color": "#ab63fa",
          "symbol": "line-ew-open"
         },
         "name": "GR6 EXPLODE",
         "offsetgroup": "GR6 EXPLODE",
         "showlegend": false,
         "type": "box",
         "xaxis": "x2",
         "y": [
          23912270526
         ],
         "yaxis": "y2"
        },
        {
         "hovertemplate": "Artist=XXXTENTACION<br>Subscribers=%{x}<br>Views=%{marker.size}<extra></extra>",
         "legendgroup": "XXXTENTACION",
         "marker": {
          "color": "#FFA15A",
          "size": [
           9725253939
          ],
          "sizemode": "area",
          "sizeref": 79383600,
          "symbol": "circle"
         },
         "mode": "markers",
         "name": "XXXTENTACION",
         "orientation": "v",
         "showlegend": true,
         "type": "scatter",
         "x": [
          37600000
         ],
         "xaxis": "x",
         "y": [
          9725253939
         ],
         "yaxis": "y"
        },
        {
         "alignmentgroup": "True",
         "boxpoints": "all",
         "fillcolor": "rgba(255,255,255,0)",
         "hoveron": "points",
         "hovertemplate": "Artist=XXXTENTACION<br>Views=%{y}<extra></extra>",
         "jitter": 0,
         "legendgroup": "XXXTENTACION",
         "line": {
          "color": "rgba(255,255,255,0)"
         },
         "marker": {
          "color": "#FFA15A",
          "symbol": "line-ew-open"
         },
         "name": "XXXTENTACION",
         "offsetgroup": "XXXTENTACION",
         "showlegend": false,
         "type": "box",
         "xaxis": "x2",
         "y": [
          9725253939
         ],
         "yaxis": "y2"
        },
        {
         "hovertemplate": "Artist=One Direction<br>Subscribers=%{x}<br>Views=%{marker.size}<extra></extra>",
         "legendgroup": "One Direction",
         "marker": {
          "color": "#19d3f3",
          "size": [
           12698961117
          ],
          "sizemode": "area",
          "sizeref": 79383600,
          "symbol": "circle"
         },
         "mode": "markers",
         "name": "One Direction",
         "orientation": "v",
         "showlegend": true,
         "type": "scatter",
         "x": [
          37400000
         ],
         "xaxis": "x",
         "y": [
          12698961117
         ],
         "yaxis": "y"
        },
        {
         "alignmentgroup": "True",
         "boxpoints": "all",
         "fillcolor": "rgba(255,255,255,0)",
         "hoveron": "points",
         "hovertemplate": "Artist=One Direction<br>Views=%{y}<extra></extra>",
         "jitter": 0,
         "legendgroup": "One Direction",
         "line": {
          "color": "rgba(255,255,255,0)"
         },
         "marker": {
          "color": "#19d3f3",
          "symbol": "line-ew-open"
         },
         "name": "One Direction",
         "offsetgroup": "One Direction",
         "showlegend": false,
         "type": "box",
         "xaxis": "x2",
         "y": [
          12698961117
         ],
         "yaxis": "y2"
        },
        {
         "hovertemplate": "Artist=Daddy Yankee<br>Subscribers=%{x}<br>Views=%{marker.size}<extra></extra>",
         "legendgroup": "Daddy Yankee",
         "marker": {
          "color": "#FF6692",
          "size": [
           20479831396
          ],
          "sizemode": "area",
          "sizeref": 79383600,
          "symbol": "circle"
         },
         "mode": "markers",
         "name": "Daddy Yankee",
         "orientation": "v",
         "showlegend": true,
         "type": "scatter",
         "x": [
          36800000
         ],
         "xaxis": "x",
         "y": [
          20479831396
         ],
         "yaxis": "y"
        },
        {
         "alignmentgroup": "True",
         "boxpoints": "all",
         "fillcolor": "rgba(255,255,255,0)",
         "hoveron": "points",
         "hovertemplate": "Artist=Daddy Yankee<br>Views=%{y}<extra></extra>",
         "jitter": 0,
         "legendgroup": "Daddy Yankee",
         "line": {
          "color": "rgba(255,255,255,0)"
         },
         "marker": {
          "color": "#FF6692",
          "symbol": "line-ew-open"
         },
         "name": "Daddy Yankee",
         "offsetgroup": "Daddy Yankee",
         "showlegend": false,
         "type": "box",
         "xaxis": "x2",
         "y": [
          20479831396
         ],
         "yaxis": "y2"
        },
        {
         "hovertemplate": "Artist=Maroon 5<br>Subscribers=%{x}<br>Views=%{marker.size}<extra></extra>",
         "legendgroup": "Maroon 5",
         "marker": {
          "color": "#B6E880",
          "size": [
           20838666788
          ],
          "sizemode": "area",
          "sizeref": 79383600,
          "symbol": "circle"
         },
         "mode": "markers",
         "name": "Maroon 5",
         "orientation": "v",
         "showlegend": true,
         "type": "scatter",
         "x": [
          36000000
         ],
         "xaxis": "x",
         "y": [
          20838666788
         ],
         "yaxis": "y"
        },
        {
         "alignmentgroup": "True",
         "boxpoints": "all",
         "fillcolor": "rgba(255,255,255,0)",
         "hoveron": "points",
         "hovertemplate": "Artist=Maroon 5<br>Views=%{y}<extra></extra>",
         "jitter": 0,
         "legendgroup": "Maroon 5",
         "line": {
          "color": "rgba(255,255,255,0)"
         },
         "marker": {
          "color": "#B6E880",
          "symbol": "line-ew-open"
         },
         "name": "Maroon 5",
         "offsetgroup": "Maroon 5",
         "showlegend": false,
         "type": "box",
         "xaxis": "x2",
         "y": [
          20838666788
         ],
         "yaxis": "y2"
        },
        {
         "hovertemplate": "Artist=Bruno Mars<br>Subscribers=%{x}<br>Views=%{marker.size}<extra></extra>",
         "legendgroup": "Bruno Mars",
         "marker": {
          "color": "#FF97FF",
          "size": [
           17395825825
          ],
          "sizemode": "area",
          "sizeref": 79383600,
          "symbol": "circle"
         },
         "mode": "markers",
         "name": "Bruno Mars",
         "orientation": "v",
         "showlegend": true,
         "type": "scatter",
         "x": [
          35300000
         ],
         "xaxis": "x",
         "y": [
          17395825825
         ],
         "yaxis": "y"
        },
        {
         "alignmentgroup": "True",
         "boxpoints": "all",
         "fillcolor": "rgba(255,255,255,0)",
         "hoveron": "points",
         "hovertemplate": "Artist=Bruno Mars<br>Views=%{y}<extra></extra>",
         "jitter": 0,
         "legendgroup": "Bruno Mars",
         "line": {
          "color": "rgba(255,255,255,0)"
         },
         "marker": {
          "color": "#FF97FF",
          "symbol": "line-ew-open"
         },
         "name": "Bruno Mars",
         "offsetgroup": "Bruno Mars",
         "showlegend": false,
         "type": "box",
         "xaxis": "x2",
         "y": [
          17395825825
         ],
         "yaxis": "y2"
        },
        {
         "hovertemplate": "Artist=Ozuna<br>Subscribers=%{x}<br>Views=%{marker.size}<extra></extra>",
         "legendgroup": "Ozuna",
         "marker": {
          "color": "#FECB52",
          "size": [
           21048440606
          ],
          "sizemode": "area",
          "sizeref": 79383600,
          "symbol": "circle"
         },
         "mode": "markers",
         "name": "Ozuna",
         "orientation": "v",
         "showlegend": true,
         "type": "scatter",
         "x": [
          35200000
         ],
         "xaxis": "x",
         "y": [
          21048440606
         ],
         "yaxis": "y"
        },
        {
         "alignmentgroup": "True",
         "boxpoints": "all",
         "fillcolor": "rgba(255,255,255,0)",
         "hoveron": "points",
         "hovertemplate": "Artist=Ozuna<br>Views=%{y}<extra></extra>",
         "jitter": 0,
         "legendgroup": "Ozuna",
         "line": {
          "color": "rgba(255,255,255,0)"
         },
         "marker": {
          "color": "#FECB52",
          "symbol": "line-ew-open"
         },
         "name": "Ozuna",
         "offsetgroup": "Ozuna",
         "showlegend": false,
         "type": "box",
         "xaxis": "x2",
         "y": [
          21048440606
         ],
         "yaxis": "y2"
        },
        {
         "hovertemplate": "Artist=Goldmines Gaane Sune Ansune<br>Subscribers=%{x}<br>Views=%{marker.size}<extra></extra>",
         "legendgroup": "Goldmines Gaane Sune Ansune",
         "marker": {
          "color": "#636efa",
          "size": [
           14212434275
          ],
          "sizemode": "area",
          "sizeref": 79383600,
          "symbol": "circle"
         },
         "mode": "markers",
         "name": "Goldmines Gaane Sune Ansune",
         "orientation": "v",
         "showlegend": true,
         "type": "scatter",
         "x": [
          34300000
         ],
         "xaxis": "x",
         "y": [
          14212434275
         ],
         "yaxis": "y"
        },
        {
         "alignmentgroup": "True",
         "boxpoints": "all",
         "fillcolor": "rgba(255,255,255,0)",
         "hoveron": "points",
         "hovertemplate": "Artist=Goldmines Gaane Sune Ansune<br>Views=%{y}<extra></extra>",
         "jitter": 0,
         "legendgroup": "Goldmines Gaane Sune Ansune",
         "line": {
          "color": "rgba(255,255,255,0)"
         },
         "marker": {
          "color": "#636efa",
          "symbol": "line-ew-open"
         },
         "name": "Goldmines Gaane Sune Ansune",
         "offsetgroup": "Goldmines Gaane Sune Ansune",
         "showlegend": false,
         "type": "box",
         "xaxis": "x2",
         "y": [
          14212434275
         ],
         "yaxis": "y2"
        },
        {
         "hovertemplate": "Artist=J Balvin<br>Subscribers=%{x}<br>Views=%{marker.size}<extra></extra>",
         "legendgroup": "J Balvin",
         "marker": {
          "color": "#EF553B",
          "size": [
           21489532517
          ],
          "sizemode": "area",
          "sizeref": 79383600,
          "symbol": "circle"
         },
         "mode": "markers",
         "name": "J Balvin",
         "orientation": "v",
         "showlegend": true,
         "type": "scatter",
         "x": [
          33600000
         ],
         "xaxis": "x",
         "y": [
          21489532517
         ],
         "yaxis": "y"
        },
        {
         "alignmentgroup": "True",
         "boxpoints": "all",
         "fillcolor": "rgba(255,255,255,0)",
         "hoveron": "points",
         "hovertemplate": "Artist=J Balvin<br>Views=%{y}<extra></extra>",
         "jitter": 0,
         "legendgroup": "J Balvin",
         "line": {
          "color": "rgba(255,255,255,0)"
         },
         "marker": {
          "color": "#EF553B",
          "symbol": "line-ew-open"
         },
         "name": "J Balvin",
         "offsetgroup": "J Balvin",
         "showlegend": false,
         "type": "box",
         "xaxis": "x2",
         "y": [
          21489532517
         ],
         "yaxis": "y2"
        },
        {
         "hovertemplate": "Artist=Desi Music Factory<br>Subscribers=%{x}<br>Views=%{marker.size}<extra></extra>",
         "legendgroup": "Desi Music Factory",
         "marker": {
          "color": "#00cc96",
          "size": [
           9481987642
          ],
          "sizemode": "area",
          "sizeref": 79383600,
          "symbol": "circle"
         },
         "mode": "markers",
         "name": "Desi Music Factory",
         "orientation": "v",
         "showlegend": true,
         "type": "scatter",
         "x": [
          33000000
         ],
         "xaxis": "x",
         "y": [
          9481987642
         ],
         "yaxis": "y"
        },
        {
         "alignmentgroup": "True",
         "boxpoints": "all",
         "fillcolor": "rgba(255,255,255,0)",
         "hoveron": "points",
         "hovertemplate": "Artist=Desi Music Factory<br>Views=%{y}<extra></extra>",
         "jitter": 0,
         "legendgroup": "Desi Music Factory",
         "line": {
          "color": "rgba(255,255,255,0)"
         },
         "marker": {
          "color": "#00cc96",
          "symbol": "line-ew-open"
         },
         "name": "Desi Music Factory",
         "offsetgroup": "Desi Music Factory",
         "showlegend": false,
         "type": "box",
         "xaxis": "x2",
         "y": [
          9481987642
         ],
         "yaxis": "y2"
        },
        {
         "hovertemplate": "Artist=Geet MP3<br>Subscribers=%{x}<br>Views=%{marker.size}<extra></extra>",
         "legendgroup": "Geet MP3",
         "marker": {
          "color": "#ab63fa",
          "size": [
           11575367431
          ],
          "sizemode": "area",
          "sizeref": 79383600,
          "symbol": "circle"
         },
         "mode": "markers",
         "name": "Geet MP3",
         "orientation": "v",
         "showlegend": true,
         "type": "scatter",
         "x": [
          32800000
         ],
         "xaxis": "x",
         "y": [
          11575367431
         ],
         "yaxis": "y"
        },
        {
         "alignmentgroup": "True",
         "boxpoints": "all",
         "fillcolor": "rgba(255,255,255,0)",
         "hoveron": "points",
         "hovertemplate": "Artist=Geet MP3<br>Views=%{y}<extra></extra>",
         "jitter": 0,
         "legendgroup": "Geet MP3",
         "line": {
          "color": "rgba(255,255,255,0)"
         },
         "marker": {
          "color": "#ab63fa",
          "symbol": "line-ew-open"
         },
         "name": "Geet MP3",
         "offsetgroup": "Geet MP3",
         "showlegend": false,
         "type": "box",
         "xaxis": "x2",
         "y": [
          11575367431
         ],
         "yaxis": "y2"
        },
        {
         "hovertemplate": "Artist=NoCopyrightSounds<br>Subscribers=%{x}<br>Views=%{marker.size}<extra></extra>",
         "legendgroup": "NoCopyrightSounds",
         "marker": {
          "color": "#FFA15A",
          "size": [
           10436881173
          ],
          "sizemode": "area",
          "sizeref": 79383600,
          "symbol": "circle"
         },
         "mode": "markers",
         "name": "NoCopyrightSounds",
         "orientation": "v",
         "showlegend": true,
         "type": "scatter",
         "x": [
          32700000
         ],
         "xaxis": "x",
         "y": [
          10436881173
         ],
         "yaxis": "y"
        },
        {
         "alignmentgroup": "True",
         "boxpoints": "all",
         "fillcolor": "rgba(255,255,255,0)",
         "hoveron": "points",
         "hovertemplate": "Artist=NoCopyrightSounds<br>Views=%{y}<extra></extra>",
         "jitter": 0,
         "legendgroup": "NoCopyrightSounds",
         "line": {
          "color": "rgba(255,255,255,0)"
         },
         "marker": {
          "color": "#FFA15A",
          "symbol": "line-ew-open"
         },
         "name": "NoCopyrightSounds",
         "offsetgroup": "NoCopyrightSounds",
         "showlegend": false,
         "type": "box",
         "xaxis": "x2",
         "y": [
          10436881173
         ],
         "yaxis": "y2"
        },
        {
         "hovertemplate": "Artist=T-Series Apna Punjab<br>Subscribers=%{x}<br>Views=%{marker.size}<extra></extra>",
         "legendgroup": "T-Series Apna Punjab",
         "marker": {
          "color": "#19d3f3",
          "size": [
           18933492606
          ],
          "sizemode": "area",
          "sizeref": 79383600,
          "symbol": "circle"
         },
         "mode": "markers",
         "name": "T-Series Apna Punjab",
         "orientation": "v",
         "showlegend": true,
         "type": "scatter",
         "x": [
          32300000
         ],
         "xaxis": "x",
         "y": [
          18933492606
         ],
         "yaxis": "y"
        },
        {
         "alignmentgroup": "True",
         "boxpoints": "all",
         "fillcolor": "rgba(255,255,255,0)",
         "hoveron": "points",
         "hovertemplate": "Artist=T-Series Apna Punjab<br>Views=%{y}<extra></extra>",
         "jitter": 0,
         "legendgroup": "T-Series Apna Punjab",
         "line": {
          "color": "rgba(255,255,255,0)"
         },
         "marker": {
          "color": "#19d3f3",
          "symbol": "line-ew-open"
         },
         "name": "T-Series Apna Punjab",
         "offsetgroup": "T-Series Apna Punjab",
         "showlegend": false,
         "type": "box",
         "xaxis": "x2",
         "y": [
          18933492606
         ],
         "yaxis": "y2"
        },
        {
         "hovertemplate": "Artist=JustinBieberVEVO<br>Subscribers=%{x}<br>Views=%{marker.size}<extra></extra>",
         "legendgroup": "JustinBieberVEVO",
         "marker": {
          "color": "#FF6692",
          "size": [
           25304909929
          ],
          "sizemode": "area",
          "sizeref": 79383600,
          "symbol": "circle"
         },
         "mode": "markers",
         "name": "JustinBieberVEVO",
         "orientation": "v",
         "showlegend": true,
         "type": "scatter",
         "x": [
          31800000
         ],
         "xaxis": "x",
         "y": [
          25304909929
         ],
         "yaxis": "y"
        },
        {
         "alignmentgroup": "True",
         "boxpoints": "all",
         "fillcolor": "rgba(255,255,255,0)",
         "hoveron": "points",
         "hovertemplate": "Artist=JustinBieberVEVO<br>Views=%{y}<extra></extra>",
         "jitter": 0,
         "legendgroup": "JustinBieberVEVO",
         "line": {
          "color": "rgba(255,255,255,0)"
         },
         "marker": {
          "color": "#FF6692",
          "symbol": "line-ew-open"
         },
         "name": "JustinBieberVEVO",
         "offsetgroup": "JustinBieberVEVO",
         "showlegend": false,
         "type": "box",
         "xaxis": "x2",
         "y": [
          25304909929
         ],
         "yaxis": "y2"
        },
        {
         "hovertemplate": "Artist=La Granja de Zenón<br>Subscribers=%{x}<br>Views=%{marker.size}<extra></extra>",
         "legendgroup": "La Granja de Zenón",
         "marker": {
          "color": "#B6E880",
          "size": [
           22808879757
          ],
          "sizemode": "area",
          "sizeref": 79383600,
          "symbol": "circle"
         },
         "mode": "markers",
         "name": "La Granja de Zenón",
         "orientation": "v",
         "showlegend": true,
         "type": "scatter",
         "x": [
          31500000
         ],
         "xaxis": "x",
         "y": [
          22808879757
         ],
         "yaxis": "y"
        },
        {
         "alignmentgroup": "True",
         "boxpoints": "all",
         "fillcolor": "rgba(255,255,255,0)",
         "hoveron": "points",
         "hovertemplate": "Artist=La Granja de Zenón<br>Views=%{y}<extra></extra>",
         "jitter": 0,
         "legendgroup": "La Granja de Zenón",
         "line": {
          "color": "rgba(255,255,255,0)"
         },
         "marker": {
          "color": "#B6E880",
          "symbol": "line-ew-open"
         },
         "name": "La Granja de Zenón",
         "offsetgroup": "La Granja de Zenón",
         "showlegend": false,
         "type": "box",
         "xaxis": "x2",
         "y": [
          22808879757
         ],
         "yaxis": "y2"
        },
        {
         "hovertemplate": "Artist=SMTOWN<br>Subscribers=%{x}<br>Views=%{marker.size}<extra></extra>",
         "legendgroup": "SMTOWN",
         "marker": {
          "color": "#FF97FF",
          "size": [
           25203004950
          ],
          "sizemode": "area",
          "sizeref": 79383600,
          "symbol": "circle"
         },
         "mode": "markers",
         "name": "SMTOWN",
         "orientation": "v",
         "showlegend": true,
         "type": "scatter",
         "x": [
          30800000
         ],
         "xaxis": "x",
         "y": [
          25203004950
         ],
         "yaxis": "y"
        },
        {
         "alignmentgroup": "True",
         "boxpoints": "all",
         "fillcolor": "rgba(255,255,255,0)",
         "hoveron": "points",
         "hovertemplate": "Artist=SMTOWN<br>Views=%{y}<extra></extra>",
         "jitter": 0,
         "legendgroup": "SMTOWN",
         "line": {
          "color": "rgba(255,255,255,0)"
         },
         "marker": {
          "color": "#FF97FF",
          "symbol": "line-ew-open"
         },
         "name": "SMTOWN",
         "offsetgroup": "SMTOWN",
         "showlegend": false,
         "type": "box",
         "xaxis": "x2",
         "y": [
          25203004950
         ],
         "yaxis": "y2"
        },
        {
         "hovertemplate": "Artist=Bollywood Classics<br>Subscribers=%{x}<br>Views=%{marker.size}<extra></extra>",
         "legendgroup": "Bollywood Classics",
         "marker": {
          "color": "#FECB52",
          "size": [
           19244430138
          ],
          "sizemode": "area",
          "sizeref": 79383600,
          "symbol": "circle"
         },
         "mode": "markers",
         "name": "Bollywood Classics",
         "orientation": "v",
         "showlegend": true,
         "type": "scatter",
         "x": [
          30600000
         ],
         "xaxis": "x",
         "y": [
          19244430138
         ],
         "yaxis": "y"
        },
        {
         "alignmentgroup": "True",
         "boxpoints": "all",
         "fillcolor": "rgba(255,255,255,0)",
         "hoveron": "points",
         "hovertemplate": "Artist=Bollywood Classics<br>Views=%{y}<extra></extra>",
         "jitter": 0,
         "legendgroup": "Bollywood Classics",
         "line": {
          "color": "rgba(255,255,255,0)"
         },
         "marker": {
          "color": "#FECB52",
          "symbol": "line-ew-open"
         },
         "name": "Bollywood Classics",
         "offsetgroup": "Bollywood Classics",
         "showlegend": false,
         "type": "box",
         "xaxis": "x2",
         "y": [
          19244430138
         ],
         "yaxis": "y2"
        },
        {
         "hovertemplate": "Artist=Trap Nation<br>Subscribers=%{x}<br>Views=%{marker.size}<extra></extra>",
         "legendgroup": "Trap Nation",
         "marker": {
          "color": "#636efa",
          "size": [
           13348694779
          ],
          "sizemode": "area",
          "sizeref": 79383600,
          "symbol": "circle"
         },
         "mode": "markers",
         "name": "Trap Nation",
         "orientation": "v",
         "showlegend": true,
         "type": "scatter",
         "x": [
          30400000
         ],
         "xaxis": "x",
         "y": [
          13348694779
         ],
         "yaxis": "y"
        },
        {
         "alignmentgroup": "True",
         "boxpoints": "all",
         "fillcolor": "rgba(255,255,255,0)",
         "hoveron": "points",
         "hovertemplate": "Artist=Trap Nation<br>Views=%{y}<extra></extra>",
         "jitter": 0,
         "legendgroup": "Trap Nation",
         "line": {
          "color": "rgba(255,255,255,0)"
         },
         "marker": {
          "color": "#636efa",
          "symbol": "line-ew-open"
         },
         "name": "Trap Nation",
         "offsetgroup": "Trap Nation",
         "showlegend": false,
         "type": "box",
         "xaxis": "x2",
         "y": [
          13348694779
         ],
         "yaxis": "y2"
        },
        {
         "hovertemplate": "Artist=Rajshri<br>Subscribers=%{x}<br>Views=%{marker.size}<extra></extra>",
         "legendgroup": "Rajshri",
         "marker": {
          "color": "#EF553B",
          "size": [
           13287506122
          ],
          "sizemode": "area",
          "sizeref": 79383600,
          "symbol": "circle"
         },
         "mode": "markers",
         "name": "Rajshri",
         "orientation": "v",
         "showlegend": true,
         "type": "scatter",
         "x": [
          30300000
         ],
         "xaxis": "x",
         "y": [
          13287506122
         ],
         "yaxis": "y"
        },
        {
         "alignmentgroup": "True",
         "boxpoints": "all",
         "fillcolor": "rgba(255,255,255,0)",
         "hoveron": "points",
         "hovertemplate": "Artist=Rajshri<br>Views=%{y}<extra></extra>",
         "jitter": 0,
         "legendgroup": "Rajshri",
         "line": {
          "color": "rgba(255,255,255,0)"
         },
         "marker": {
          "color": "#EF553B",
          "symbol": "line-ew-open"
         },
         "name": "Rajshri",
         "offsetgroup": "Rajshri",
         "showlegend": false,
         "type": "box",
         "xaxis": "x2",
         "y": [
          13287506122
         ],
         "yaxis": "y2"
        },
        {
         "hovertemplate": "Artist=DisneyMusicVEVO<br>Subscribers=%{x}<br>Views=%{marker.size}<extra></extra>",
         "legendgroup": "DisneyMusicVEVO",
         "marker": {
          "color": "#00cc96",
          "size": [
           24693346235
          ],
          "sizemode": "area",
          "sizeref": 79383600,
          "symbol": "circle"
         },
         "mode": "markers",
         "name": "DisneyMusicVEVO",
         "orientation": "v",
         "showlegend": true,
         "type": "scatter",
         "x": [
          30100000
         ],
         "xaxis": "x",
         "y": [
          24693346235
         ],
         "yaxis": "y"
        },
        {
         "alignmentgroup": "True",
         "boxpoints": "all",
         "fillcolor": "rgba(255,255,255,0)",
         "hoveron": "points",
         "hovertemplate": "Artist=DisneyMusicVEVO<br>Views=%{y}<extra></extra>",
         "jitter": 0,
         "legendgroup": "DisneyMusicVEVO",
         "line": {
          "color": "rgba(255,255,255,0)"
         },
         "marker": {
          "color": "#00cc96",
          "symbol": "line-ew-open"
         },
         "name": "DisneyMusicVEVO",
         "offsetgroup": "DisneyMusicVEVO",
         "showlegend": false,
         "type": "box",
         "xaxis": "x2",
         "y": [
          24693346235
         ],
         "yaxis": "y2"
        },
        {
         "hovertemplate": "Artist=Spinnin' Records<br>Subscribers=%{x}<br>Views=%{marker.size}<extra></extra>",
         "legendgroup": "Spinnin' Records",
         "marker": {
          "color": "#ab63fa",
          "size": [
           20075386002
          ],
          "sizemode": "area",
          "sizeref": 79383600,
          "symbol": "circle"
         },
         "mode": "markers",
         "name": "Spinnin' Records",
         "orientation": "v",
         "showlegend": true,
         "type": "scatter",
         "x": [
          29600000
         ],
         "xaxis": "x",
         "y": [
          20075386002
         ],
         "yaxis": "y"
        },
        {
         "alignmentgroup": "True",
         "boxpoints": "all",
         "fillcolor": "rgba(255,255,255,0)",
         "hoveron": "points",
         "hovertemplate": "Artist=Spinnin' Records<br>Views=%{y}<extra></extra>",
         "jitter": 0,
         "legendgroup": "Spinnin' Records",
         "line": {
          "color": "rgba(255,255,255,0)"
         },
         "marker": {
          "color": "#ab63fa",
          "symbol": "line-ew-open"
         },
         "name": "Spinnin' Records",
         "offsetgroup": "Spinnin' Records",
         "showlegend": false,
         "type": "box",
         "xaxis": "x2",
         "y": [
          20075386002
         ],
         "yaxis": "y2"
        },
        {
         "hovertemplate": "Artist=Shawn Mendes<br>Subscribers=%{x}<br>Views=%{marker.size}<extra></extra>",
         "legendgroup": "Shawn Mendes",
         "marker": {
          "color": "#FFA15A",
          "size": [
           11742431673
          ],
          "sizemode": "area",
          "sizeref": 79383600,
          "symbol": "circle"
         },
         "mode": "markers",
         "name": "Shawn Mendes",
         "orientation": "v",
         "showlegend": true,
         "type": "scatter",
         "x": [
          29500000
         ],
         "xaxis": "x",
         "y": [
          11742431673
         ],
         "yaxis": "y"
        },
        {
         "alignmentgroup": "True",
         "boxpoints": "all",
         "fillcolor": "rgba(255,255,255,0)",
         "hoveron": "points",
         "hovertemplate": "Artist=Shawn Mendes<br>Views=%{y}<extra></extra>",
         "jitter": 0,
         "legendgroup": "Shawn Mendes",
         "line": {
          "color": "rgba(255,255,255,0)"
         },
         "marker": {
          "color": "#FFA15A",
          "symbol": "line-ew-open"
         },
         "name": "Shawn Mendes",
         "offsetgroup": "Shawn Mendes",
         "showlegend": false,
         "type": "box",
         "xaxis": "x2",
         "y": [
          11742431673
         ],
         "yaxis": "y2"
        },
        {
         "hovertemplate": "Artist=The Weeknd<br>Subscribers=%{x}<br>Views=%{marker.size}<extra></extra>",
         "legendgroup": "The Weeknd",
         "marker": {
          "color": "#19d3f3",
          "size": [
           19280816380
          ],
          "sizemode": "area",
          "sizeref": 79383600,
          "symbol": "circle"
         },
         "mode": "markers",
         "name": "The Weeknd",
         "orientation": "v",
         "showlegend": true,
         "type": "scatter",
         "x": [
          29100000
         ],
         "xaxis": "x",
         "y": [
          19280816380
         ],
         "yaxis": "y"
        },
        {
         "alignmentgroup": "True",
         "boxpoints": "all",
         "fillcolor": "rgba(255,255,255,0)",
         "hoveron": "points",
         "hovertemplate": "Artist=The Weeknd<br>Views=%{y}<extra></extra>",
         "jitter": 0,
         "legendgroup": "The Weeknd",
         "line": {
          "color": "rgba(255,255,255,0)"
         },
         "marker": {
          "color": "#19d3f3",
          "symbol": "line-ew-open"
         },
         "name": "The Weeknd",
         "offsetgroup": "The Weeknd",
         "showlegend": false,
         "type": "box",
         "xaxis": "x2",
         "y": [
          19280816380
         ],
         "yaxis": "y2"
        },
        {
         "hovertemplate": "Artist=Maluma<br>Subscribers=%{x}<br>Views=%{marker.size}<extra></extra>",
         "legendgroup": "Maluma",
         "marker": {
          "color": "#FF6692",
          "size": [
           19638529002
          ],
          "sizemode": "area",
          "sizeref": 79383600,
          "symbol": "circle"
         },
         "mode": "markers",
         "name": "Maluma",
         "orientation": "v",
         "showlegend": true,
         "type": "scatter",
         "x": [
          28700000
         ],
         "xaxis": "x",
         "y": [
          19638529002
         ],
         "yaxis": "y"
        },
        {
         "alignmentgroup": "True",
         "boxpoints": "all",
         "fillcolor": "rgba(255,255,255,0)",
         "hoveron": "points",
         "hovertemplate": "Artist=Maluma<br>Views=%{y}<extra></extra>",
         "jitter": 0,
         "legendgroup": "Maluma",
         "line": {
          "color": "rgba(255,255,255,0)"
         },
         "marker": {
          "color": "#FF6692",
          "symbol": "line-ew-open"
         },
         "name": "Maluma",
         "offsetgroup": "Maluma",
         "showlegend": false,
         "type": "box",
         "xaxis": "x2",
         "y": [
          19638529002
         ],
         "yaxis": "y2"
        },
        {
         "hovertemplate": "Artist=Adele<br>Subscribers=%{x}<br>Views=%{marker.size}<extra></extra>",
         "legendgroup": "Adele",
         "marker": {
          "color": "#B6E880",
          "size": [
           12650300730
          ],
          "sizemode": "area",
          "sizeref": 79383600,
          "symbol": "circle"
         },
         "mode": "markers",
         "name": "Adele",
         "orientation": "v",
         "showlegend": true,
         "type": "scatter",
         "x": [
          28700000
         ],
         "xaxis": "x",
         "y": [
          12650300730
         ],
         "yaxis": "y"
        },
        {
         "alignmentgroup": "True",
         "boxpoints": "all",
         "fillcolor": "rgba(255,255,255,0)",
         "hoveron": "points",
         "hovertemplate": "Artist=Adele<br>Views=%{y}<extra></extra>",
         "jitter": 0,
         "legendgroup": "Adele",
         "line": {
          "color": "rgba(255,255,255,0)"
         },
         "marker": {
          "color": "#B6E880",
          "symbol": "line-ew-open"
         },
         "name": "Adele",
         "offsetgroup": "Adele",
         "showlegend": false,
         "type": "box",
         "xaxis": "x2",
         "y": [
          12650300730
         ],
         "yaxis": "y2"
        },
        {
         "hovertemplate": "Artist=ImagineDragons<br>Subscribers=%{x}<br>Views=%{marker.size}<extra></extra>",
         "legendgroup": "ImagineDragons",
         "marker": {
          "color": "#FF97FF",
          "size": [
           14307239074
          ],
          "sizemode": "area",
          "sizeref": 79383600,
          "symbol": "circle"
         },
         "mode": "markers",
         "name": "ImagineDragons",
         "orientation": "v",
         "showlegend": true,
         "type": "scatter",
         "x": [
          28600000
         ],
         "xaxis": "x",
         "y": [
          14307239074
         ],
         "yaxis": "y"
        },
        {
         "alignmentgroup": "True",
         "boxpoints": "all",
         "fillcolor": "rgba(255,255,255,0)",
         "hoveron": "points",
         "hovertemplate": "Artist=ImagineDragons<br>Views=%{y}<extra></extra>",
         "jitter": 0,
         "legendgroup": "ImagineDragons",
         "line": {
          "color": "rgba(255,255,255,0)"
         },
         "marker": {
          "color": "#FF97FF",
          "symbol": "line-ew-open"
         },
         "name": "ImagineDragons",
         "offsetgroup": "ImagineDragons",
         "showlegend": false,
         "type": "box",
         "xaxis": "x2",
         "y": [
          14307239074
         ],
         "yaxis": "y2"
        },
        {
         "hovertemplate": "Artist=Worldwide Records Bhojpuri<br>Subscribers=%{x}<br>Views=%{marker.size}<extra></extra>",
         "legendgroup": "Worldwide Records Bhojpuri",
         "marker": {
          "color": "#FECB52",
          "size": [
           14501468946
          ],
          "sizemode": "area",
          "sizeref": 79383600,
          "symbol": "circle"
         },
         "mode": "markers",
         "name": "Worldwide Records Bhojpuri",
         "orientation": "v",
         "showlegend": true,
         "type": "scatter",
         "x": [
          28600000
         ],
         "xaxis": "x",
         "y": [
          14501468946
         ],
         "yaxis": "y"
        },
        {
         "alignmentgroup": "True",
         "boxpoints": "all",
         "fillcolor": "rgba(255,255,255,0)",
         "hoveron": "points",
         "hovertemplate": "Artist=Worldwide Records Bhojpuri<br>Views=%{y}<extra></extra>",
         "jitter": 0,
         "legendgroup": "Worldwide Records Bhojpuri",
         "line": {
          "color": "rgba(255,255,255,0)"
         },
         "marker": {
          "color": "#FECB52",
          "symbol": "line-ew-open"
         },
         "name": "Worldwide Records Bhojpuri",
         "offsetgroup": "Worldwide Records Bhojpuri",
         "showlegend": false,
         "type": "box",
         "xaxis": "x2",
         "y": [
          14501468946
         ],
         "yaxis": "y2"
        },
        {
         "hovertemplate": "Artist=Ultra Music<br>Subscribers=%{x}<br>Views=%{marker.size}<extra></extra>",
         "legendgroup": "Ultra Music",
         "marker": {
          "color": "#636efa",
          "size": [
           16201384834
          ],
          "sizemode": "area",
          "sizeref": 79383600,
          "symbol": "circle"
         },
         "mode": "markers",
         "name": "Ultra Music",
         "orientation": "v",
         "showlegend": true,
         "type": "scatter",
         "x": [
          28600000
         ],
         "xaxis": "x",
         "y": [
          16201384834
         ],
         "yaxis": "y"
        },
        {
         "alignmentgroup": "True",
         "boxpoints": "all",
         "fillcolor": "rgba(255,255,255,0)",
         "hoveron": "points",
         "hovertemplate": "Artist=Ultra Music<br>Views=%{y}<extra></extra>",
         "jitter": 0,
         "legendgroup": "Ultra Music",
         "line": {
          "color": "rgba(255,255,255,0)"
         },
         "marker": {
          "color": "#636efa",
          "symbol": "line-ew-open"
         },
         "name": "Ultra Music",
         "offsetgroup": "Ultra Music",
         "showlegend": false,
         "type": "box",
         "xaxis": "x2",
         "y": [
          16201384834
         ],
         "yaxis": "y2"
        },
        {
         "hovertemplate": "Artist=KAROL G<br>Subscribers=%{x}<br>Views=%{marker.size}<extra></extra>",
         "legendgroup": "KAROL G",
         "marker": {
          "color": "#EF553B",
          "size": [
           14040459862
          ],
          "sizemode": "area",
          "sizeref": 79383600,
          "symbol": "circle"
         },
         "mode": "markers",
         "name": "KAROL G",
         "orientation": "v",
         "showlegend": true,
         "type": "scatter",
         "x": [
          27400000
         ],
         "xaxis": "x",
         "y": [
          14040459862
         ],
         "yaxis": "y"
        },
        {
         "alignmentgroup": "True",
         "boxpoints": "all",
         "fillcolor": "rgba(255,255,255,0)",
         "hoveron": "points",
         "hovertemplate": "Artist=KAROL G<br>Views=%{y}<extra></extra>",
         "jitter": 0,
         "legendgroup": "KAROL G",
         "line": {
          "color": "rgba(255,255,255,0)"
         },
         "marker": {
          "color": "#EF553B",
          "symbol": "line-ew-open"
         },
         "name": "KAROL G",
         "offsetgroup": "KAROL G",
         "showlegend": false,
         "type": "box",
         "xaxis": "x2",
         "y": [
          14040459862
         ],
         "yaxis": "y2"
        },
        {
         "hovertemplate": "Artist=Drake<br>Subscribers=%{x}<br>Views=%{marker.size}<extra></extra>",
         "legendgroup": "Drake",
         "marker": {
          "color": "#00cc96",
          "size": [
           12947966180
          ],
          "sizemode": "area",
          "sizeref": 79383600,
          "symbol": "circle"
         },
         "mode": "markers",
         "name": "Drake",
         "orientation": "v",
         "showlegend": true,
         "type": "scatter",
         "x": [
          26800000
         ],
         "xaxis": "x",
         "y": [
          12947966180
         ],
         "yaxis": "y"
        },
        {
         "alignmentgroup": "True",
         "boxpoints": "all",
         "fillcolor": "rgba(255,255,255,0)",
         "hoveron": "points",
         "hovertemplate": "Artist=Drake<br>Views=%{y}<extra></extra>",
         "jitter": 0,
         "legendgroup": "Drake",
         "line": {
          "color": "rgba(255,255,255,0)"
         },
         "marker": {
          "color": "#00cc96",
          "symbol": "line-ew-open"
         },
         "name": "Drake",
         "offsetgroup": "Drake",
         "showlegend": false,
         "type": "box",
         "xaxis": "x2",
         "y": [
          12947966180
         ],
         "yaxis": "y2"
        },
        {
         "hovertemplate": "Artist=Bounce Patrol - Kids Songs<br>Subscribers=%{x}<br>Views=%{marker.size}<extra></extra>",
         "legendgroup": "Bounce Patrol - Kids Songs",
         "marker": {
          "color": "#ab63fa",
          "size": [
           18891028184
          ],
          "sizemode": "area",
          "sizeref": 79383600,
          "symbol": "circle"
         },
         "mode": "markers",
         "name": "Bounce Patrol - Kids Songs",
         "orientation": "v",
         "showlegend": true,
         "type": "scatter",
         "x": [
          26400000
         ],
         "xaxis": "x",
         "y": [
          18891028184
         ],
         "yaxis": "y"
        },
        {
         "alignmentgroup": "True",
         "boxpoints": "all",
         "fillcolor": "rgba(255,255,255,0)",
         "hoveron": "points",
         "hovertemplate": "Artist=Bounce Patrol - Kids Songs<br>Views=%{y}<extra></extra>",
         "jitter": 0,
         "legendgroup": "Bounce Patrol - Kids Songs",
         "line": {
          "color": "rgba(255,255,255,0)"
         },
         "marker": {
          "color": "#ab63fa",
          "symbol": "line-ew-open"
         },
         "name": "Bounce Patrol - Kids Songs",
         "offsetgroup": "Bounce Patrol - Kids Songs",
         "showlegend": false,
         "type": "box",
         "xaxis": "x2",
         "y": [
          18891028184
         ],
         "yaxis": "y2"
        },
        {
         "hovertemplate": "Artist=Wiz Khalifa<br>Subscribers=%{x}<br>Views=%{marker.size}<extra></extra>",
         "legendgroup": "Wiz Khalifa",
         "marker": {
          "color": "#FFA15A",
          "size": [
           12528940373
          ],
          "sizemode": "area",
          "sizeref": 79383600,
          "symbol": "circle"
         },
         "mode": "markers",
         "name": "Wiz Khalifa",
         "orientation": "v",
         "showlegend": true,
         "type": "scatter",
         "x": [
          26400000
         ],
         "xaxis": "x",
         "y": [
          12528940373
         ],
         "yaxis": "y"
        },
        {
         "alignmentgroup": "True",
         "boxpoints": "all",
         "fillcolor": "rgba(255,255,255,0)",
         "hoveron": "points",
         "hovertemplate": "Artist=Wiz Khalifa<br>Views=%{y}<extra></extra>",
         "jitter": 0,
         "legendgroup": "Wiz Khalifa",
         "line": {
          "color": "rgba(255,255,255,0)"
         },
         "marker": {
          "color": "#FFA15A",
          "symbol": "line-ew-open"
         },
         "name": "Wiz Khalifa",
         "offsetgroup": "Wiz Khalifa",
         "showlegend": false,
         "type": "box",
         "xaxis": "x2",
         "y": [
          12528940373
         ],
         "yaxis": "y2"
        },
        {
         "hovertemplate": "Artist=Aditya Music<br>Subscribers=%{x}<br>Views=%{marker.size}<extra></extra>",
         "legendgroup": "Aditya Music",
         "marker": {
          "color": "#19d3f3",
          "size": [
           22661822099
          ],
          "sizemode": "area",
          "sizeref": 79383600,
          "symbol": "circle"
         },
         "mode": "markers",
         "name": "Aditya Music",
         "orientation": "v",
         "showlegend": true,
         "type": "scatter",
         "x": [
          26100000
         ],
         "xaxis": "x",
         "y": [
          22661822099
         ],
         "yaxis": "y"
        },
        {
         "alignmentgroup": "True",
         "boxpoints": "all",
         "fillcolor": "rgba(255,255,255,0)",
         "hoveron": "points",
         "hovertemplate": "Artist=Aditya Music<br>Views=%{y}<extra></extra>",
         "jitter": 0,
         "legendgroup": "Aditya Music",
         "line": {
          "color": "rgba(255,255,255,0)"
         },
         "marker": {
          "color": "#19d3f3",
          "symbol": "line-ew-open"
         },
         "name": "Aditya Music",
         "offsetgroup": "Aditya Music",
         "showlegend": false,
         "type": "box",
         "xaxis": "x2",
         "y": [
          22661822099
         ],
         "yaxis": "y2"
        },
        {
         "hovertemplate": "Artist=WORLDSTARHIPHOP<br>Subscribers=%{x}<br>Views=%{marker.size}<extra></extra>",
         "legendgroup": "WORLDSTARHIPHOP",
         "marker": {
          "color": "#FF6692",
          "size": [
           19426357466
          ],
          "sizemode": "area",
          "sizeref": 79383600,
          "symbol": "circle"
         },
         "mode": "markers",
         "name": "WORLDSTARHIPHOP",
         "orientation": "v",
         "showlegend": true,
         "type": "scatter",
         "x": [
          25900000
         ],
         "xaxis": "x",
         "y": [
          19426357466
         ],
         "yaxis": "y"
        },
        {
         "alignmentgroup": "True",
         "boxpoints": "all",
         "fillcolor": "rgba(255,255,255,0)",
         "hoveron": "points",
         "hovertemplate": "Artist=WORLDSTARHIPHOP<br>Views=%{y}<extra></extra>",
         "jitter": 0,
         "legendgroup": "WORLDSTARHIPHOP",
         "line": {
          "color": "rgba(255,255,255,0)"
         },
         "marker": {
          "color": "#FF6692",
          "symbol": "line-ew-open"
         },
         "name": "WORLDSTARHIPHOP",
         "offsetgroup": "WORLDSTARHIPHOP",
         "showlegend": false,
         "type": "box",
         "xaxis": "x2",
         "y": [
          19426357466
         ],
         "yaxis": "y2"
        },
        {
         "hovertemplate": "Artist=Michael Jackson<br>Subscribers=%{x}<br>Views=%{marker.size}<extra></extra>",
         "legendgroup": "Michael Jackson",
         "marker": {
          "color": "#B6E880",
          "size": [
           12588288710
          ],
          "sizemode": "area",
          "sizeref": 79383600,
          "symbol": "circle"
         },
         "mode": "markers",
         "name": "Michael Jackson",
         "orientation": "v",
         "showlegend": true,
         "type": "scatter",
         "x": [
          25800000
         ],
         "xaxis": "x",
         "y": [
          12588288710
         ],
         "yaxis": "y"
        },
        {
         "alignmentgroup": "True",
         "boxpoints": "all",
         "fillcolor": "rgba(255,255,255,0)",
         "hoveron": "points",
         "hovertemplate": "Artist=Michael Jackson<br>Views=%{y}<extra></extra>",
         "jitter": 0,
         "legendgroup": "Michael Jackson",
         "line": {
          "color": "rgba(255,255,255,0)"
         },
         "marker": {
          "color": "#B6E880",
          "symbol": "line-ew-open"
         },
         "name": "Michael Jackson",
         "offsetgroup": "Michael Jackson",
         "showlegend": false,
         "type": "box",
         "xaxis": "x2",
         "y": [
          12588288710
         ],
         "yaxis": "y2"
        },
        {
         "hovertemplate": "Artist=TaylorSwiftVEVO<br>Subscribers=%{x}<br>Views=%{marker.size}<extra></extra>",
         "legendgroup": "TaylorSwiftVEVO",
         "marker": {
          "color": "#FF97FF",
          "size": [
           23276597783
          ],
          "sizemode": "area",
          "sizeref": 79383600,
          "symbol": "circle"
         },
         "mode": "markers",
         "name": "TaylorSwiftVEVO",
         "orientation": "v",
         "showlegend": true,
         "type": "scatter",
         "x": [
          25800000
         ],
         "xaxis": "x",
         "y": [
          23276597783
         ],
         "yaxis": "y"
        },
        {
         "alignmentgroup": "True",
         "boxpoints": "all",
         "fillcolor": "rgba(255,255,255,0)",
         "hoveron": "points",
         "hovertemplate": "Artist=TaylorSwiftVEVO<br>Views=%{y}<extra></extra>",
         "jitter": 0,
         "legendgroup": "TaylorSwiftVEVO",
         "line": {
          "color": "rgba(255,255,255,0)"
         },
         "marker": {
          "color": "#FF97FF",
          "symbol": "line-ew-open"
         },
         "name": "TaylorSwiftVEVO",
         "offsetgroup": "TaylorSwiftVEVO",
         "showlegend": false,
         "type": "box",
         "xaxis": "x2",
         "y": [
          23276597783
         ],
         "yaxis": "y2"
        },
        {
         "hovertemplate": "Artist=toycantando<br>Subscribers=%{x}<br>Views=%{marker.size}<extra></extra>",
         "legendgroup": "toycantando",
         "marker": {
          "color": "#FECB52",
          "size": [
           13948216340
          ],
          "sizemode": "area",
          "sizeref": 79383600,
          "symbol": "circle"
         },
         "mode": "markers",
         "name": "toycantando",
         "orientation": "v",
         "showlegend": true,
         "type": "scatter",
         "x": [
          25800000
         ],
         "xaxis": "x",
         "y": [
          13948216340
         ],
         "yaxis": "y"
        },
        {
         "alignmentgroup": "True",
         "boxpoints": "all",
         "fillcolor": "rgba(255,255,255,0)",
         "hoveron": "points",
         "hovertemplate": "Artist=toycantando<br>Views=%{y}<extra></extra>",
         "jitter": 0,
         "legendgroup": "toycantando",
         "line": {
          "color": "rgba(255,255,255,0)"
         },
         "marker": {
          "color": "#FECB52",
          "symbol": "line-ew-open"
         },
         "name": "toycantando",
         "offsetgroup": "toycantando",
         "showlegend": false,
         "type": "box",
         "xaxis": "x2",
         "y": [
          13948216340
         ],
         "yaxis": "y2"
        },
        {
         "hovertemplate": "Artist=JYP Entertainment<br>Subscribers=%{x}<br>Views=%{marker.size}<extra></extra>",
         "legendgroup": "JYP Entertainment",
         "marker": {
          "color": "#636efa",
          "size": [
           17152981455
          ],
          "sizemode": "area",
          "sizeref": 79383600,
          "symbol": "circle"
         },
         "mode": "markers",
         "name": "JYP Entertainment",
         "orientation": "v",
         "showlegend": true,
         "type": "scatter",
         "x": [
          25200000
         ],
         "xaxis": "x",
         "y": [
          17152981455
         ],
         "yaxis": "y"
        },
        {
         "alignmentgroup": "True",
         "boxpoints": "all",
         "fillcolor": "rgba(255,255,255,0)",
         "hoveron": "points",
         "hovertemplate": "Artist=JYP Entertainment<br>Views=%{y}<extra></extra>",
         "jitter": 0,
         "legendgroup": "JYP Entertainment",
         "line": {
          "color": "rgba(255,255,255,0)"
         },
         "marker": {
          "color": "#636efa",
          "symbol": "line-ew-open"
         },
         "name": "JYP Entertainment",
         "offsetgroup": "JYP Entertainment",
         "showlegend": false,
         "type": "box",
         "xaxis": "x2",
         "y": [
          17152981455
         ],
         "yaxis": "y2"
        },
        {
         "hovertemplate": "Artist=RihannaVEVO<br>Subscribers=%{x}<br>Views=%{marker.size}<extra></extra>",
         "legendgroup": "RihannaVEVO",
         "marker": {
          "color": "#EF553B",
          "size": [
           18089677017
          ],
          "sizemode": "area",
          "sizeref": 79383600,
          "symbol": "circle"
         },
         "mode": "markers",
         "name": "RihannaVEVO",
         "orientation": "v",
         "showlegend": true,
         "type": "scatter",
         "x": [
          25200000
         ],
         "xaxis": "x",
         "y": [
          18089677017
         ],
         "yaxis": "y"
        },
        {
         "alignmentgroup": "True",
         "boxpoints": "all",
         "fillcolor": "rgba(255,255,255,0)",
         "hoveron": "points",
         "hovertemplate": "Artist=RihannaVEVO<br>Views=%{y}<extra></extra>",
         "jitter": 0,
         "legendgroup": "RihannaVEVO",
         "line": {
          "color": "rgba(255,255,255,0)"
         },
         "marker": {
          "color": "#EF553B",
          "symbol": "line-ew-open"
         },
         "name": "RihannaVEVO",
         "offsetgroup": "RihannaVEVO",
         "showlegend": false,
         "type": "box",
         "xaxis": "x2",
         "y": [
          18089677017
         ],
         "yaxis": "y2"
        },
        {
         "hovertemplate": "Artist=EminemVEVO<br>Subscribers=%{x}<br>Views=%{marker.size}<extra></extra>",
         "legendgroup": "EminemVEVO",
         "marker": {
          "color": "#00cc96",
          "size": [
           18786748261
          ],
          "sizemode": "area",
          "sizeref": 79383600,
          "symbol": "circle"
         },
         "mode": "markers",
         "name": "EminemVEVO",
         "orientation": "v",
         "showlegend": true,
         "type": "scatter",
         "x": [
          24900000
         ],
         "xaxis": "x",
         "y": [
          18786748261
         ],
         "yaxis": "y"
        },
        {
         "alignmentgroup": "True",
         "boxpoints": "all",
         "fillcolor": "rgba(255,255,255,0)",
         "hoveron": "points",
         "hovertemplate": "Artist=EminemVEVO<br>Views=%{y}<extra></extra>",
         "jitter": 0,
         "legendgroup": "EminemVEVO",
         "line": {
          "color": "rgba(255,255,255,0)"
         },
         "marker": {
          "color": "#00cc96",
          "symbol": "line-ew-open"
         },
         "name": "EminemVEVO",
         "offsetgroup": "EminemVEVO",
         "showlegend": false,
         "type": "box",
         "xaxis": "x2",
         "y": [
          18786748261
         ],
         "yaxis": "y2"
        },
        {
         "hovertemplate": "Artist=Marília Mendonça<br>Subscribers=%{x}<br>Views=%{marker.size}<extra></extra>",
         "legendgroup": "Marília Mendonça",
         "marker": {
          "color": "#ab63fa",
          "size": [
           16477333283
          ],
          "sizemode": "area",
          "sizeref": 79383600,
          "symbol": "circle"
         },
         "mode": "markers",
         "name": "Marília Mendonça",
         "orientation": "v",
         "showlegend": true,
         "type": "scatter",
         "x": [
          24900000
         ],
         "xaxis": "x",
         "y": [
          16477333283
         ],
         "yaxis": "y"
        },
        {
         "alignmentgroup": "True",
         "boxpoints": "all",
         "fillcolor": "rgba(255,255,255,0)",
         "hoveron": "points",
         "hovertemplate": "Artist=Marília Mendonça<br>Views=%{y}<extra></extra>",
         "jitter": 0,
         "legendgroup": "Marília Mendonça",
         "line": {
          "color": "rgba(255,255,255,0)"
         },
         "marker": {
          "color": "#ab63fa",
          "symbol": "line-ew-open"
         },
         "name": "Marília Mendonça",
         "offsetgroup": "Marília Mendonça",
         "showlegend": false,
         "type": "box",
         "xaxis": "x2",
         "y": [
          16477333283
         ],
         "yaxis": "y2"
        },
        {
         "hovertemplate": "Artist=Beyoncé<br>Subscribers=%{x}<br>Views=%{marker.size}<extra></extra>",
         "legendgroup": "Beyoncé",
         "marker": {
          "color": "#FFA15A",
          "size": [
           15717379166
          ],
          "sizemode": "area",
          "sizeref": 79383600,
          "symbol": "circle"
         },
         "mode": "markers",
         "name": "Beyoncé",
         "orientation": "v",
         "showlegend": true,
         "type": "scatter",
         "x": [
          24900000
         ],
         "xaxis": "x",
         "y": [
          15717379166
         ],
         "yaxis": "y"
        },
        {
         "alignmentgroup": "True",
         "boxpoints": "all",
         "fillcolor": "rgba(255,255,255,0)",
         "hoveron": "points",
         "hovertemplate": "Artist=Beyoncé<br>Views=%{y}<extra></extra>",
         "jitter": 0,
         "legendgroup": "Beyoncé",
         "line": {
          "color": "rgba(255,255,255,0)"
         },
         "marker": {
          "color": "#FFA15A",
          "symbol": "line-ew-open"
         },
         "name": "Beyoncé",
         "offsetgroup": "Beyoncé",
         "showlegend": false,
         "type": "box",
         "xaxis": "x2",
         "y": [
          15717379166
         ],
         "yaxis": "y2"
        },
        {
         "hovertemplate": "Artist=KatyPerryVEVO<br>Subscribers=%{x}<br>Views=%{marker.size}<extra></extra>",
         "legendgroup": "KatyPerryVEVO",
         "marker": {
          "color": "#19d3f3",
          "size": [
           22679485513
          ],
          "sizemode": "area",
          "sizeref": 79383600,
          "symbol": "circle"
         },
         "mode": "markers",
         "name": "KatyPerryVEVO",
         "orientation": "v",
         "showlegend": true,
         "type": "scatter",
         "x": [
          24800000
         ],
         "xaxis": "x",
         "y": [
          22679485513
         ],
         "yaxis": "y"
        },
        {
         "alignmentgroup": "True",
         "boxpoints": "all",
         "fillcolor": "rgba(255,255,255,0)",
         "hoveron": "points",
         "hovertemplate": "Artist=KatyPerryVEVO<br>Views=%{y}<extra></extra>",
         "jitter": 0,
         "legendgroup": "KatyPerryVEVO",
         "line": {
          "color": "rgba(255,255,255,0)"
         },
         "marker": {
          "color": "#19d3f3",
          "symbol": "line-ew-open"
         },
         "name": "KatyPerryVEVO",
         "offsetgroup": "KatyPerryVEVO",
         "showlegend": false,
         "type": "box",
         "xaxis": "x2",
         "y": [
          22679485513
         ],
         "yaxis": "y2"
        },
        {
         "hovertemplate": "Artist=WatchMojo.com<br>Subscribers=%{x}<br>Views=%{marker.size}<extra></extra>",
         "legendgroup": "WatchMojo.com",
         "marker": {
          "color": "#FF6692",
          "size": [
           15650528115
          ],
          "sizemode": "area",
          "sizeref": 79383600,
          "symbol": "circle"
         },
         "mode": "markers",
         "name": "WatchMojo.com",
         "orientation": "v",
         "showlegend": true,
         "type": "scatter",
         "x": [
          24600000
         ],
         "xaxis": "x",
         "y": [
          15650528115
         ],
         "yaxis": "y"
        },
        {
         "alignmentgroup": "True",
         "boxpoints": "all",
         "fillcolor": "rgba(255,255,255,0)",
         "hoveron": "points",
         "hovertemplate": "Artist=WatchMojo.com<br>Views=%{y}<extra></extra>",
         "jitter": 0,
         "legendgroup": "WatchMojo.com",
         "line": {
          "color": "rgba(255,255,255,0)"
         },
         "marker": {
          "color": "#FF6692",
          "symbol": "line-ew-open"
         },
         "name": "WatchMojo.com",
         "offsetgroup": "WatchMojo.com",
         "showlegend": false,
         "type": "box",
         "xaxis": "x2",
         "y": [
          15650528115
         ],
         "yaxis": "y2"
        },
        {
         "hovertemplate": "Artist=Nicki Minaj<br>Subscribers=%{x}<br>Views=%{marker.size}<extra></extra>",
         "legendgroup": "Nicki Minaj",
         "marker": {
          "color": "#B6E880",
          "size": [
           9386490086
          ],
          "sizemode": "area",
          "sizeref": 79383600,
          "symbol": "circle"
         },
         "mode": "markers",
         "name": "Nicki Minaj",
         "orientation": "v",
         "showlegend": true,
         "type": "scatter",
         "x": [
          24500000
         ],
         "xaxis": "x",
         "y": [
          9386490086
         ],
         "yaxis": "y"
        },
        {
         "alignmentgroup": "True",
         "boxpoints": "all",
         "fillcolor": "rgba(255,255,255,0)",
         "hoveron": "points",
         "hovertemplate": "Artist=Nicki Minaj<br>Views=%{y}<extra></extra>",
         "jitter": 0,
         "legendgroup": "Nicki Minaj",
         "line": {
          "color": "rgba(255,255,255,0)"
         },
         "marker": {
          "color": "#B6E880",
          "symbol": "line-ew-open"
         },
         "name": "Nicki Minaj",
         "offsetgroup": "Nicki Minaj",
         "showlegend": false,
         "type": "box",
         "xaxis": "x2",
         "y": [
          9386490086
         ],
         "yaxis": "y2"
        },
        {
         "hovertemplate": "Artist=David Guetta<br>Subscribers=%{x}<br>Views=%{marker.size}<extra></extra>",
         "legendgroup": "David Guetta",
         "marker": {
          "color": "#FF97FF",
          "size": [
           15959928823
          ],
          "sizemode": "area",
          "sizeref": 79383600,
          "symbol": "circle"
         },
         "mode": "markers",
         "name": "David Guetta",
         "orientation": "v",
         "showlegend": true,
         "type": "scatter",
         "x": [
          24300000
         ],
         "xaxis": "x",
         "y": [
          15959928823
         ],
         "yaxis": "y"
        },
        {
         "alignmentgroup": "True",
         "boxpoints": "all",
         "fillcolor": "rgba(255,255,255,0)",
         "hoveron": "points",
         "hovertemplate": "Artist=David Guetta<br>Views=%{y}<extra></extra>",
         "jitter": 0,
         "legendgroup": "David Guetta",
         "line": {
          "color": "rgba(255,255,255,0)"
         },
         "marker": {
          "color": "#FF97FF",
          "symbol": "line-ew-open"
         },
         "name": "David Guetta",
         "offsetgroup": "David Guetta",
         "showlegend": false,
         "type": "box",
         "xaxis": "x2",
         "y": [
          15959928823
         ],
         "yaxis": "y2"
        },
        {
         "hovertemplate": "Artist=Post Malone<br>Subscribers=%{x}<br>Views=%{marker.size}<extra></extra>",
         "legendgroup": "Post Malone",
         "marker": {
          "color": "#FECB52",
          "size": [
           12492313399
          ],
          "sizemode": "area",
          "sizeref": 79383600,
          "symbol": "circle"
         },
         "mode": "markers",
         "name": "Post Malone",
         "orientation": "v",
         "showlegend": true,
         "type": "scatter",
         "x": [
          24200000
         ],
         "xaxis": "x",
         "y": [
          12492313399
         ],
         "yaxis": "y"
        },
        {
         "alignmentgroup": "True",
         "boxpoints": "all",
         "fillcolor": "rgba(255,255,255,0)",
         "hoveron": "points",
         "hovertemplate": "Artist=Post Malone<br>Views=%{y}<extra></extra>",
         "jitter": 0,
         "legendgroup": "Post Malone",
         "line": {
          "color": "rgba(255,255,255,0)"
         },
         "marker": {
          "color": "#FECB52",
          "symbol": "line-ew-open"
         },
         "name": "Post Malone",
         "offsetgroup": "Post Malone",
         "showlegend": false,
         "type": "box",
         "xaxis": "x2",
         "y": [
          12492313399
         ],
         "yaxis": "y2"
        },
        {
         "hovertemplate": "Artist=1theK (원더케이)<br>Subscribers=%{x}<br>Views=%{marker.size}<extra></extra>",
         "legendgroup": "1theK (원더케이)",
         "marker": {
          "color": "#636efa",
          "size": [
           22605283252
          ],
          "sizemode": "area",
          "sizeref": 79383600,
          "symbol": "circle"
         },
         "mode": "markers",
         "name": "1theK (원더케이)",
         "orientation": "v",
         "showlegend": true,
         "type": "scatter",
         "x": [
          24200000
         ],
         "xaxis": "x",
         "y": [
          22605283252
         ],
         "yaxis": "y"
        },
        {
         "alignmentgroup": "True",
         "boxpoints": "all",
         "fillcolor": "rgba(255,255,255,0)",
         "hoveron": "points",
         "hovertemplate": "Artist=1theK (원더케이)<br>Views=%{y}<extra></extra>",
         "jitter": 0,
         "legendgroup": "1theK (원더케이)",
         "line": {
          "color": "rgba(255,255,255,0)"
         },
         "marker": {
          "color": "#636efa",
          "symbol": "line-ew-open"
         },
         "name": "1theK (원더케이)",
         "offsetgroup": "1theK (원더케이)",
         "showlegend": false,
         "type": "box",
         "xaxis": "x2",
         "y": [
          22605283252
         ],
         "yaxis": "y2"
        },
        {
         "hovertemplate": "Artist=Coldplay<br>Subscribers=%{x}<br>Views=%{marker.size}<extra></extra>",
         "legendgroup": "Coldplay",
         "marker": {
          "color": "#EF553B",
          "size": [
           15078170011
          ],
          "sizemode": "area",
          "sizeref": 79383600,
          "symbol": "circle"
         },
         "mode": "markers",
         "name": "Coldplay",
         "orientation": "v",
         "showlegend": true,
         "type": "scatter",
         "x": [
          23500000
         ],
         "xaxis": "x",
         "y": [
          15078170011
         ],
         "yaxis": "y"
        },
        {
         "alignmentgroup": "True",
         "boxpoints": "all",
         "fillcolor": "rgba(255,255,255,0)",
         "hoveron": "points",
         "hovertemplate": "Artist=Coldplay<br>Views=%{y}<extra></extra>",
         "jitter": 0,
         "legendgroup": "Coldplay",
         "line": {
          "color": "rgba(255,255,255,0)"
         },
         "marker": {
          "color": "#EF553B",
          "symbol": "line-ew-open"
         },
         "name": "Coldplay",
         "offsetgroup": "Coldplay",
         "showlegend": false,
         "type": "box",
         "xaxis": "x2",
         "y": [
          15078170011
         ],
         "yaxis": "y2"
        },
        {
         "hovertemplate": "Artist=DJ Snake<br>Subscribers=%{x}<br>Views=%{marker.size}<extra></extra>",
         "legendgroup": "DJ Snake",
         "marker": {
          "color": "#00cc96",
          "size": [
           7645734689
          ],
          "sizemode": "area",
          "sizeref": 79383600,
          "symbol": "circle"
         },
         "mode": "markers",
         "name": "DJ Snake",
         "orientation": "v",
         "showlegend": true,
         "type": "scatter",
         "x": [
          23400000
         ],
         "xaxis": "x",
         "y": [
          7645734689
         ],
         "yaxis": "y"
        },
        {
         "alignmentgroup": "True",
         "boxpoints": "all",
         "fillcolor": "rgba(255,255,255,0)",
         "hoveron": "points",
         "hovertemplate": "Artist=DJ Snake<br>Views=%{y}<extra></extra>",
         "jitter": 0,
         "legendgroup": "DJ Snake",
         "line": {
          "color": "rgba(255,255,255,0)"
         },
         "marker": {
          "color": "#00cc96",
          "symbol": "line-ew-open"
         },
         "name": "DJ Snake",
         "offsetgroup": "DJ Snake",
         "showlegend": false,
         "type": "box",
         "xaxis": "x2",
         "y": [
          7645734689
         ],
         "yaxis": "y2"
        },
        {
         "hovertemplate": "Artist=Chris Brown<br>Subscribers=%{x}<br>Views=%{marker.size}<extra></extra>",
         "legendgroup": "Chris Brown",
         "marker": {
          "color": "#ab63fa",
          "size": [
           13630944140
          ],
          "sizemode": "area",
          "sizeref": 79383600,
          "symbol": "circle"
         },
         "mode": "markers",
         "name": "Chris Brown",
         "orientation": "v",
         "showlegend": true,
         "type": "scatter",
         "x": [
          23400000
         ],
         "xaxis": "x",
         "y": [
          13630944140
         ],
         "yaxis": "y"
        },
        {
         "alignmentgroup": "True",
         "boxpoints": "all",
         "fillcolor": "rgba(255,255,255,0)",
         "hoveron": "points",
         "hovertemplate": "Artist=Chris Brown<br>Views=%{y}<extra></extra>",
         "jitter": 0,
         "legendgroup": "Chris Brown",
         "line": {
          "color": "rgba(255,255,255,0)"
         },
         "marker": {
          "color": "#ab63fa",
          "symbol": "line-ew-open"
         },
         "name": "Chris Brown",
         "offsetgroup": "Chris Brown",
         "showlegend": false,
         "type": "box",
         "xaxis": "x2",
         "y": [
          13630944140
         ],
         "yaxis": "y2"
        },
        {
         "hovertemplate": "Artist=NickyJamTV<br>Subscribers=%{x}<br>Views=%{marker.size}<extra></extra>",
         "legendgroup": "NickyJamTV",
         "marker": {
          "color": "#FFA15A",
          "size": [
           15050718616
          ],
          "sizemode": "area",
          "sizeref": 79383600,
          "symbol": "circle"
         },
         "mode": "markers",
         "name": "NickyJamTV",
         "orientation": "v",
         "showlegend": true,
         "type": "scatter",
         "x": [
          23100000
         ],
         "xaxis": "x",
         "y": [
          15050718616
         ],
         "yaxis": "y"
        },
        {
         "alignmentgroup": "True",
         "boxpoints": "all",
         "fillcolor": "rgba(255,255,255,0)",
         "hoveron": "points",
         "hovertemplate": "Artist=NickyJamTV<br>Views=%{y}<extra></extra>",
         "jitter": 0,
         "legendgroup": "NickyJamTV",
         "line": {
          "color": "rgba(255,255,255,0)"
         },
         "marker": {
          "color": "#FFA15A",
          "symbol": "line-ew-open"
         },
         "name": "NickyJamTV",
         "offsetgroup": "NickyJamTV",
         "showlegend": false,
         "type": "box",
         "xaxis": "x2",
         "y": [
          15050718616
         ],
         "yaxis": "y2"
        },
        {
         "hovertemplate": "Artist=Enrique Iglesias<br>Subscribers=%{x}<br>Views=%{marker.size}<extra></extra>",
         "legendgroup": "Enrique Iglesias",
         "marker": {
          "color": "#19d3f3",
          "size": [
           16539033540
          ],
          "sizemode": "area",
          "sizeref": 79383600,
          "symbol": "circle"
         },
         "mode": "markers",
         "name": "Enrique Iglesias",
         "orientation": "v",
         "showlegend": true,
         "type": "scatter",
         "x": [
          22900000
         ],
         "xaxis": "x",
         "y": [
          16539033540
         ],
         "yaxis": "y"
        },
        {
         "alignmentgroup": "True",
         "boxpoints": "all",
         "fillcolor": "rgba(255,255,255,0)",
         "hoveron": "points",
         "hovertemplate": "Artist=Enrique Iglesias<br>Views=%{y}<extra></extra>",
         "jitter": 0,
         "legendgroup": "Enrique Iglesias",
         "line": {
          "color": "rgba(255,255,255,0)"
         },
         "marker": {
          "color": "#19d3f3",
          "symbol": "line-ew-open"
         },
         "name": "Enrique Iglesias",
         "offsetgroup": "Enrique Iglesias",
         "showlegend": false,
         "type": "box",
         "xaxis": "x2",
         "y": [
          16539033540
         ],
         "yaxis": "y2"
        },
        {
         "hovertemplate": "Artist=netd müzik<br>Subscribers=%{x}<br>Views=%{marker.size}<extra></extra>",
         "legendgroup": "netd müzik",
         "marker": {
          "color": "#FF6692",
          "size": [
           50658927334
          ],
          "sizemode": "area",
          "sizeref": 79383600,
          "symbol": "circle"
         },
         "mode": "markers",
         "name": "netd müzik",
         "orientation": "v",
         "showlegend": true,
         "type": "scatter",
         "x": [
          22800000
         ],
         "xaxis": "x",
         "y": [
          50658927334
         ],
         "yaxis": "y"
        },
        {
         "alignmentgroup": "True",
         "boxpoints": "all",
         "fillcolor": "rgba(255,255,255,0)",
         "hoveron": "points",
         "hovertemplate": "Artist=netd müzik<br>Views=%{y}<extra></extra>",
         "jitter": 0,
         "legendgroup": "netd müzik",
         "line": {
          "color": "rgba(255,255,255,0)"
         },
         "marker": {
          "color": "#FF6692",
          "symbol": "line-ew-open"
         },
         "name": "netd müzik",
         "offsetgroup": "netd müzik",
         "showlegend": false,
         "type": "box",
         "xaxis": "x2",
         "y": [
          50658927334
         ],
         "yaxis": "y2"
        },
        {
         "hovertemplate": "Artist=Anuel AA<br>Subscribers=%{x}<br>Views=%{marker.size}<extra></extra>",
         "legendgroup": "Anuel AA",
         "marker": {
          "color": "#B6E880",
          "size": [
           11627613226
          ],
          "sizemode": "area",
          "sizeref": 79383600,
          "symbol": "circle"
         },
         "mode": "markers",
         "name": "Anuel AA",
         "orientation": "v",
         "showlegend": true,
         "type": "scatter",
         "x": [
          22400000
         ],
         "xaxis": "x",
         "y": [
          11627613226
         ],
         "yaxis": "y"
        },
        {
         "alignmentgroup": "True",
         "boxpoints": "all",
         "fillcolor": "rgba(255,255,255,0)",
         "hoveron": "points",
         "hovertemplate": "Artist=Anuel AA<br>Views=%{y}<extra></extra>",
         "jitter": 0,
         "legendgroup": "Anuel AA",
         "line": {
          "color": "rgba(255,255,255,0)"
         },
         "marker": {
          "color": "#B6E880",
          "symbol": "line-ew-open"
         },
         "name": "Anuel AA",
         "offsetgroup": "Anuel AA",
         "showlegend": false,
         "type": "box",
         "xaxis": "x2",
         "y": [
          11627613226
         ],
         "yaxis": "y2"
        },
        {
         "hovertemplate": "Artist=The Chainsmokers<br>Subscribers=%{x}<br>Views=%{marker.size}<extra></extra>",
         "legendgroup": "The Chainsmokers",
         "marker": {
          "color": "#FF97FF",
          "size": [
           13337815978
          ],
          "sizemode": "area",
          "sizeref": 79383600,
          "symbol": "circle"
         },
         "mode": "markers",
         "name": "The Chainsmokers",
         "orientation": "v",
         "showlegend": true,
         "type": "scatter",
         "x": [
          22300000
         ],
         "xaxis": "x",
         "y": [
          13337815978
         ],
         "yaxis": "y"
        },
        {
         "alignmentgroup": "True",
         "boxpoints": "all",
         "fillcolor": "rgba(255,255,255,0)",
         "hoveron": "points",
         "hovertemplate": "Artist=The Chainsmokers<br>Views=%{y}<extra></extra>",
         "jitter": 0,
         "legendgroup": "The Chainsmokers",
         "line": {
          "color": "rgba(255,255,255,0)"
         },
         "marker": {
          "color": "#FF97FF",
          "symbol": "line-ew-open"
         },
         "name": "The Chainsmokers",
         "offsetgroup": "The Chainsmokers",
         "showlegend": false,
         "type": "box",
         "xaxis": "x2",
         "y": [
          13337815978
         ],
         "yaxis": "y2"
        },
        {
         "hovertemplate": "Artist=GMM GRAMMY OFFICIAL<br>Subscribers=%{x}<br>Views=%{marker.size}<extra></extra>",
         "legendgroup": "GMM GRAMMY OFFICIAL",
         "marker": {
          "color": "#FECB52",
          "size": [
           24128528075
          ],
          "sizemode": "area",
          "sizeref": 79383600,
          "symbol": "circle"
         },
         "mode": "markers",
         "name": "GMM GRAMMY OFFICIAL",
         "orientation": "v",
         "showlegend": true,
         "type": "scatter",
         "x": [
          22100000
         ],
         "xaxis": "x",
         "y": [
          24128528075
         ],
         "yaxis": "y"
        },
        {
         "alignmentgroup": "True",
         "boxpoints": "all",
         "fillcolor": "rgba(255,255,255,0)",
         "hoveron": "points",
         "hovertemplate": "Artist=GMM GRAMMY OFFICIAL<br>Views=%{y}<extra></extra>",
         "jitter": 0,
         "legendgroup": "GMM GRAMMY OFFICIAL",
         "line": {
          "color": "rgba(255,255,255,0)"
         },
         "marker": {
          "color": "#FECB52",
          "symbol": "line-ew-open"
         },
         "name": "GMM GRAMMY OFFICIAL",
         "offsetgroup": "GMM GRAMMY OFFICIAL",
         "showlegend": false,
         "type": "box",
         "xaxis": "x2",
         "y": [
          24128528075
         ],
         "yaxis": "y2"
        },
        {
         "hovertemplate": "Artist=OneDirectionVEVO<br>Subscribers=%{x}<br>Views=%{marker.size}<extra></extra>",
         "legendgroup": "OneDirectionVEVO",
         "marker": {
          "color": "#636efa",
          "size": [
           11550410746
          ],
          "sizemode": "area",
          "sizeref": 79383600,
          "symbol": "circle"
         },
         "mode": "markers",
         "name": "OneDirectionVEVO",
         "orientation": "v",
         "showlegend": true,
         "type": "scatter",
         "x": [
          22000000
         ],
         "xaxis": "x",
         "y": [
          11550410746
         ],
         "yaxis": "y"
        },
        {
         "alignmentgroup": "True",
         "boxpoints": "all",
         "fillcolor": "rgba(255,255,255,0)",
         "hoveron": "points",
         "hovertemplate": "Artist=OneDirectionVEVO<br>Views=%{y}<extra></extra>",
         "jitter": 0,
         "legendgroup": "OneDirectionVEVO",
         "line": {
          "color": "rgba(255,255,255,0)"
         },
         "marker": {
          "color": "#636efa",
          "symbol": "line-ew-open"
         },
         "name": "OneDirectionVEVO",
         "offsetgroup": "OneDirectionVEVO",
         "showlegend": false,
         "type": "box",
         "xaxis": "x2",
         "y": [
          11550410746
         ],
         "yaxis": "y2"
        },
        {
         "hovertemplate": "Artist=Paulo Londra<br>Subscribers=%{x}<br>Views=%{marker.size}<extra></extra>",
         "legendgroup": "Paulo Londra",
         "marker": {
          "color": "#EF553B",
          "size": [
           7061442001
          ],
          "sizemode": "area",
          "sizeref": 79383600,
          "symbol": "circle"
         },
         "mode": "markers",
         "name": "Paulo Londra",
         "orientation": "v",
         "showlegend": true,
         "type": "scatter",
         "x": [
          21700000
         ],
         "xaxis": "x",
         "y": [
          7061442001
         ],
         "yaxis": "y"
        },
        {
         "alignmentgroup": "True",
         "boxpoints": "all",
         "fillcolor": "rgba(255,255,255,0)",
         "hoveron": "points",
         "hovertemplate": "Artist=Paulo Londra<br>Views=%{y}<extra></extra>",
         "jitter": 0,
         "legendgroup": "Paulo Londra",
         "line": {
          "color": "rgba(255,255,255,0)"
         },
         "marker": {
          "color": "#EF553B",
          "symbol": "line-ew-open"
         },
         "name": "Paulo Londra",
         "offsetgroup": "Paulo Londra",
         "showlegend": false,
         "type": "box",
         "xaxis": "x2",
         "y": [
          7061442001
         ],
         "yaxis": "y2"
        },
        {
         "hovertemplate": "Artist=Sia<br>Subscribers=%{x}<br>Views=%{marker.size}<extra></extra>",
         "legendgroup": "Sia",
         "marker": {
          "color": "#00cc96",
          "size": [
           12150226022
          ],
          "sizemode": "area",
          "sizeref": 79383600,
          "symbol": "circle"
         },
         "mode": "markers",
         "name": "Sia",
         "orientation": "v",
         "showlegend": true,
         "type": "scatter",
         "x": [
          21600000
         ],
         "xaxis": "x",
         "y": [
          12150226022
         ],
         "yaxis": "y"
        },
        {
         "alignmentgroup": "True",
         "boxpoints": "all",
         "fillcolor": "rgba(255,255,255,0)",
         "hoveron": "points",
         "hovertemplate": "Artist=Sia<br>Views=%{y}<extra></extra>",
         "jitter": 0,
         "legendgroup": "Sia",
         "line": {
          "color": "rgba(255,255,255,0)"
         },
         "marker": {
          "color": "#00cc96",
          "symbol": "line-ew-open"
         },
         "name": "Sia",
         "offsetgroup": "Sia",
         "showlegend": false,
         "type": "box",
         "xaxis": "x2",
         "y": [
          12150226022
         ],
         "yaxis": "y2"
        },
        {
         "hovertemplate": "Artist=Wave Music Bhojpuri<br>Subscribers=%{x}<br>Views=%{marker.size}<extra></extra>",
         "legendgroup": "Wave Music Bhojpuri",
         "marker": {
          "color": "#ab63fa",
          "size": [
           12148385591
          ],
          "sizemode": "area",
          "sizeref": 79383600,
          "symbol": "circle"
         },
         "mode": "markers",
         "name": "Wave Music Bhojpuri",
         "orientation": "v",
         "showlegend": true,
         "type": "scatter",
         "x": [
          21500000
         ],
         "xaxis": "x",
         "y": [
          12148385591
         ],
         "yaxis": "y"
        },
        {
         "alignmentgroup": "True",
         "boxpoints": "all",
         "fillcolor": "rgba(255,255,255,0)",
         "hoveron": "points",
         "hovertemplate": "Artist=Wave Music Bhojpuri<br>Views=%{y}<extra></extra>",
         "jitter": 0,
         "legendgroup": "Wave Music Bhojpuri",
         "line": {
          "color": "rgba(255,255,255,0)"
         },
         "marker": {
          "color": "#ab63fa",
          "symbol": "line-ew-open"
         },
         "name": "Wave Music Bhojpuri",
         "offsetgroup": "Wave Music Bhojpuri",
         "showlegend": false,
         "type": "box",
         "xaxis": "x2",
         "y": [
          12148385591
         ],
         "yaxis": "y2"
        },
        {
         "hovertemplate": "Artist=Dua Lipa<br>Subscribers=%{x}<br>Views=%{marker.size}<extra></extra>",
         "legendgroup": "Dua Lipa",
         "marker": {
          "color": "#FFA15A",
          "size": [
           9928011592
          ],
          "sizemode": "area",
          "sizeref": 79383600,
          "symbol": "circle"
         },
         "mode": "markers",
         "name": "Dua Lipa",
         "orientation": "v",
         "showlegend": true,
         "type": "scatter",
         "x": [
          20900000
         ],
         "xaxis": "x",
         "y": [
          9928011592
         ],
         "yaxis": "y"
        },
        {
         "alignmentgroup": "True",
         "boxpoints": "all",
         "fillcolor": "rgba(255,255,255,0)",
         "hoveron": "points",
         "hovertemplate": "Artist=Dua Lipa<br>Views=%{y}<extra></extra>",
         "jitter": 0,
         "legendgroup": "Dua Lipa",
         "line": {
          "color": "rgba(255,255,255,0)"
         },
         "marker": {
          "color": "#FFA15A",
          "symbol": "line-ew-open"
         },
         "name": "Dua Lipa",
         "offsetgroup": "Dua Lipa",
         "showlegend": false,
         "type": "box",
         "xaxis": "x2",
         "y": [
          9928011592
         ],
         "yaxis": "y2"
        },
        {
         "hovertemplate": "Artist=Indosiar<br>Subscribers=%{x}<br>Views=%{marker.size}<extra></extra>",
         "legendgroup": "Indosiar",
         "marker": {
          "color": "#19d3f3",
          "size": [
           10126082404
          ],
          "sizemode": "area",
          "sizeref": 79383600,
          "symbol": "circle"
         },
         "mode": "markers",
         "name": "Indosiar",
         "orientation": "v",
         "showlegend": true,
         "type": "scatter",
         "x": [
          20800000
         ],
         "xaxis": "x",
         "y": [
          10126082404
         ],
         "yaxis": "y"
        },
        {
         "alignmentgroup": "True",
         "boxpoints": "all",
         "fillcolor": "rgba(255,255,255,0)",
         "hoveron": "points",
         "hovertemplate": "Artist=Indosiar<br>Views=%{y}<extra></extra>",
         "jitter": 0,
         "legendgroup": "Indosiar",
         "line": {
          "color": "rgba(255,255,255,0)"
         },
         "marker": {
          "color": "#19d3f3",
          "symbol": "line-ew-open"
         },
         "name": "Indosiar",
         "offsetgroup": "Indosiar",
         "showlegend": false,
         "type": "box",
         "xaxis": "x2",
         "y": [
          10126082404
         ],
         "yaxis": "y2"
        },
        {
         "hovertemplate": "Artist=Charlie Puth<br>Subscribers=%{x}<br>Views=%{marker.size}<extra></extra>",
         "legendgroup": "Charlie Puth",
         "marker": {
          "color": "#FF6692",
          "size": [
           8609202215
          ],
          "sizemode": "area",
          "sizeref": 79383600,
          "symbol": "circle"
         },
         "mode": "markers",
         "name": "Charlie Puth",
         "orientation": "v",
         "showlegend": true,
         "type": "scatter",
         "x": [
          20700000
         ],
         "xaxis": "x",
         "y": [
          8609202215
         ],
         "yaxis": "y"
        },
        {
         "alignmentgroup": "True",
         "boxpoints": "all",
         "fillcolor": "rgba(255,255,255,0)",
         "hoveron": "points",
         "hovertemplate": "Artist=Charlie Puth<br>Views=%{y}<extra></extra>",
         "jitter": 0,
         "legendgroup": "Charlie Puth",
         "line": {
          "color": "rgba(255,255,255,0)"
         },
         "marker": {
          "color": "#FF6692",
          "symbol": "line-ew-open"
         },
         "name": "Charlie Puth",
         "offsetgroup": "Charlie Puth",
         "showlegend": false,
         "type": "box",
         "xaxis": "x2",
         "y": [
          8609202215
         ],
         "yaxis": "y2"
        },
        {
         "hovertemplate": "Artist=Becky G<br>Subscribers=%{x}<br>Views=%{marker.size}<extra></extra>",
         "legendgroup": "Becky G",
         "marker": {
          "color": "#B6E880",
          "size": [
           9552800638
          ],
          "sizemode": "area",
          "sizeref": 79383600,
          "symbol": "circle"
         },
         "mode": "markers",
         "name": "Becky G",
         "orientation": "v",
         "showlegend": true,
         "type": "scatter",
         "x": [
          20400000
         ],
         "xaxis": "x",
         "y": [
          9552800638
         ],
         "yaxis": "y"
        },
        {
         "alignmentgroup": "True",
         "boxpoints": "all",
         "fillcolor": "rgba(255,255,255,0)",
         "hoveron": "points",
         "hovertemplate": "Artist=Becky G<br>Views=%{y}<extra></extra>",
         "jitter": 0,
         "legendgroup": "Becky G",
         "line": {
          "color": "rgba(255,255,255,0)"
         },
         "marker": {
          "color": "#B6E880",
          "symbol": "line-ew-open"
         },
         "name": "Becky G",
         "offsetgroup": "Becky G",
         "showlegend": false,
         "type": "box",
         "xaxis": "x2",
         "y": [
          9552800638
         ],
         "yaxis": "y2"
        },
        {
         "hovertemplate": "Artist=Avicii<br>Subscribers=%{x}<br>Views=%{marker.size}<extra></extra>",
         "legendgroup": "Avicii",
         "marker": {
          "color": "#FF97FF",
          "size": [
           9499913181
          ],
          "sizemode": "area",
          "sizeref": 79383600,
          "symbol": "circle"
         },
         "mode": "markers",
         "name": "Avicii",
         "orientation": "v",
         "showlegend": true,
         "type": "scatter",
         "x": [
          20200000
         ],
         "xaxis": "x",
         "y": [
          9499913181
         ],
         "yaxis": "y"
        },
        {
         "alignmentgroup": "True",
         "boxpoints": "all",
         "fillcolor": "rgba(255,255,255,0)",
         "hoveron": "points",
         "hovertemplate": "Artist=Avicii<br>Views=%{y}<extra></extra>",
         "jitter": 0,
         "legendgroup": "Avicii",
         "line": {
          "color": "rgba(255,255,255,0)"
         },
         "marker": {
          "color": "#FF97FF",
          "symbol": "line-ew-open"
         },
         "name": "Avicii",
         "offsetgroup": "Avicii",
         "showlegend": false,
         "type": "box",
         "xaxis": "x2",
         "y": [
          9499913181
         ],
         "yaxis": "y2"
        },
        {
         "hovertemplate": "Artist=Vevo<br>Subscribers=%{x}<br>Views=%{marker.size}<extra></extra>",
         "legendgroup": "Vevo",
         "marker": {
          "color": "#FECB52",
          "size": [
           546905035
          ],
          "sizemode": "area",
          "sizeref": 79383600,
          "symbol": "circle"
         },
         "mode": "markers",
         "name": "Vevo",
         "orientation": "v",
         "showlegend": true,
         "type": "scatter",
         "x": [
          20000000
         ],
         "xaxis": "x",
         "y": [
          546905035
         ],
         "yaxis": "y"
        },
        {
         "alignmentgroup": "True",
         "boxpoints": "all",
         "fillcolor": "rgba(255,255,255,0)",
         "hoveron": "points",
         "hovertemplate": "Artist=Vevo<br>Views=%{y}<extra></extra>",
         "jitter": 0,
         "legendgroup": "Vevo",
         "line": {
          "color": "rgba(255,255,255,0)"
         },
         "marker": {
          "color": "#FECB52",
          "symbol": "line-ew-open"
         },
         "name": "Vevo",
         "offsetgroup": "Vevo",
         "showlegend": false,
         "type": "box",
         "xaxis": "x2",
         "y": [
          546905035
         ],
         "yaxis": "y2"
        },
        {
         "hovertemplate": "Artist=Skrillex<br>Subscribers=%{x}<br>Views=%{marker.size}<extra></extra>",
         "legendgroup": "Skrillex",
         "marker": {
          "color": "#636efa",
          "size": [
           6307539008
          ],
          "sizemode": "area",
          "sizeref": 79383600,
          "symbol": "circle"
         },
         "mode": "markers",
         "name": "Skrillex",
         "orientation": "v",
         "showlegend": true,
         "type": "scatter",
         "x": [
          20000000
         ],
         "xaxis": "x",
         "y": [
          6307539008
         ],
         "yaxis": "y"
        },
        {
         "alignmentgroup": "True",
         "boxpoints": "all",
         "fillcolor": "rgba(255,255,255,0)",
         "hoveron": "points",
         "hovertemplate": "Artist=Skrillex<br>Views=%{y}<extra></extra>",
         "jitter": 0,
         "legendgroup": "Skrillex",
         "line": {
          "color": "rgba(255,255,255,0)"
         },
         "marker": {
          "color": "#636efa",
          "symbol": "line-ew-open"
         },
         "name": "Skrillex",
         "offsetgroup": "Skrillex",
         "showlegend": false,
         "type": "box",
         "xaxis": "x2",
         "y": [
          6307539008
         ],
         "yaxis": "y2"
        },
        {
         "hovertemplate": "Artist=Rotana<br>Subscribers=%{x}<br>Views=%{marker.size}<extra></extra>",
         "legendgroup": "Rotana",
         "marker": {
          "color": "#EF553B",
          "size": [
           16480938259
          ],
          "sizemode": "area",
          "sizeref": 79383600,
          "symbol": "circle"
         },
         "mode": "markers",
         "name": "Rotana",
         "orientation": "v",
         "showlegend": true,
         "type": "scatter",
         "x": [
          20000000
         ],
         "xaxis": "x",
         "y": [
          16480938259
         ],
         "yaxis": "y"
        },
        {
         "alignmentgroup": "True",
         "boxpoints": "all",
         "fillcolor": "rgba(255,255,255,0)",
         "hoveron": "points",
         "hovertemplate": "Artist=Rotana<br>Views=%{y}<extra></extra>",
         "jitter": 0,
         "legendgroup": "Rotana",
         "line": {
          "color": "rgba(255,255,255,0)"
         },
         "marker": {
          "color": "#EF553B",
          "symbol": "line-ew-open"
         },
         "name": "Rotana",
         "offsetgroup": "Rotana",
         "showlegend": false,
         "type": "box",
         "xaxis": "x2",
         "y": [
          16480938259
         ],
         "yaxis": "y2"
        },
        {
         "hovertemplate": "Artist=Pentatonix<br>Subscribers=%{x}<br>Views=%{marker.size}<extra></extra>",
         "legendgroup": "Pentatonix",
         "marker": {
          "color": "#00cc96",
          "size": [
           5694327707
          ],
          "sizemode": "area",
          "sizeref": 79383600,
          "symbol": "circle"
         },
         "mode": "markers",
         "name": "Pentatonix",
         "orientation": "v",
         "showlegend": true,
         "type": "scatter",
         "x": [
          19700000
         ],
         "xaxis": "x",
         "y": [
          5694327707
         ],
         "yaxis": "y"
        },
        {
         "alignmentgroup": "True",
         "boxpoints": "all",
         "fillcolor": "rgba(255,255,255,0)",
         "hoveron": "points",
         "hovertemplate": "Artist=Pentatonix<br>Views=%{y}<extra></extra>",
         "jitter": 0,
         "legendgroup": "Pentatonix",
         "line": {
          "color": "rgba(255,255,255,0)"
         },
         "marker": {
          "color": "#00cc96",
          "symbol": "line-ew-open"
         },
         "name": "Pentatonix",
         "offsetgroup": "Pentatonix",
         "showlegend": false,
         "type": "box",
         "xaxis": "x2",
         "y": [
          5694327707
         ],
         "yaxis": "y2"
        },
        {
         "hovertemplate": "Artist=toyorbabytv<br>Subscribers=%{x}<br>Views=%{marker.size}<extra></extra>",
         "legendgroup": "toyorbabytv",
         "marker": {
          "color": "#ab63fa",
          "size": [
           13978892435
          ],
          "sizemode": "area",
          "sizeref": 79383600,
          "symbol": "circle"
         },
         "mode": "markers",
         "name": "toyorbabytv",
         "orientation": "v",
         "showlegend": true,
         "type": "scatter",
         "x": [
          19600000
         ],
         "xaxis": "x",
         "y": [
          13978892435
         ],
         "yaxis": "y"
        },
        {
         "alignmentgroup": "True",
         "boxpoints": "all",
         "fillcolor": "rgba(255,255,255,0)",
         "hoveron": "points",
         "hovertemplate": "Artist=toyorbabytv<br>Views=%{y}<extra></extra>",
         "jitter": 0,
         "legendgroup": "toyorbabytv",
         "line": {
          "color": "rgba(255,255,255,0)"
         },
         "marker": {
          "color": "#ab63fa",
          "symbol": "line-ew-open"
         },
         "name": "toyorbabytv",
         "offsetgroup": "toyorbabytv",
         "showlegend": false,
         "type": "box",
         "xaxis": "x2",
         "y": [
          13978892435
         ],
         "yaxis": "y2"
        },
        {
         "hovertemplate": "Artist=Romeo Santos<br>Subscribers=%{x}<br>Views=%{marker.size}<extra></extra>",
         "legendgroup": "Romeo Santos",
         "marker": {
          "color": "#FFA15A",
          "size": [
           14819598563
          ],
          "sizemode": "area",
          "sizeref": 79383600,
          "symbol": "circle"
         },
         "mode": "markers",
         "name": "Romeo Santos",
         "orientation": "v",
         "showlegend": true,
         "type": "scatter",
         "x": [
          19400000
         ],
         "xaxis": "x",
         "y": [
          14819598563
         ],
         "yaxis": "y"
        },
        {
         "alignmentgroup": "True",
         "boxpoints": "all",
         "fillcolor": "rgba(255,255,255,0)",
         "hoveron": "points",
         "hovertemplate": "Artist=Romeo Santos<br>Views=%{y}<extra></extra>",
         "jitter": 0,
         "legendgroup": "Romeo Santos",
         "line": {
          "color": "rgba(255,255,255,0)"
         },
         "marker": {
          "color": "#FFA15A",
          "symbol": "line-ew-open"
         },
         "name": "Romeo Santos",
         "offsetgroup": "Romeo Santos",
         "showlegend": false,
         "type": "box",
         "xaxis": "x2",
         "y": [
          14819598563
         ],
         "yaxis": "y2"
        },
        {
         "hovertemplate": "Artist=Linkin Park<br>Subscribers=%{x}<br>Views=%{marker.size}<extra></extra>",
         "legendgroup": "Linkin Park",
         "marker": {
          "color": "#19d3f3",
          "size": [
           11783975855
          ],
          "sizemode": "area",
          "sizeref": 79383600,
          "symbol": "circle"
         },
         "mode": "markers",
         "name": "Linkin Park",
         "orientation": "v",
         "showlegend": true,
         "type": "scatter",
         "x": [
          19300000
         ],
         "xaxis": "x",
         "y": [
          11783975855
         ],
         "yaxis": "y"
        },
        {
         "alignmentgroup": "True",
         "boxpoints": "all",
         "fillcolor": "rgba(255,255,255,0)",
         "hoveron": "points",
         "hovertemplate": "Artist=Linkin Park<br>Views=%{y}<extra></extra>",
         "jitter": 0,
         "legendgroup": "Linkin Park",
         "line": {
          "color": "rgba(255,255,255,0)"
         },
         "marker": {
          "color": "#19d3f3",
          "symbol": "line-ew-open"
         },
         "name": "Linkin Park",
         "offsetgroup": "Linkin Park",
         "showlegend": false,
         "type": "box",
         "xaxis": "x2",
         "y": [
          11783975855
         ],
         "yaxis": "y2"
        },
        {
         "hovertemplate": "Artist=Gusttavo Lima Oficial<br>Subscribers=%{x}<br>Views=%{marker.size}<extra></extra>",
         "legendgroup": "Gusttavo Lima Oficial",
         "marker": {
          "color": "#FF6692",
          "size": [
           11815001366
          ],
          "sizemode": "area",
          "sizeref": 79383600,
          "symbol": "circle"
         },
         "mode": "markers",
         "name": "Gusttavo Lima Oficial",
         "orientation": "v",
         "showlegend": true,
         "type": "scatter",
         "x": [
          19200000
         ],
         "xaxis": "x",
         "y": [
          11815001366
         ],
         "yaxis": "y"
        },
        {
         "alignmentgroup": "True",
         "boxpoints": "all",
         "fillcolor": "rgba(255,255,255,0)",
         "hoveron": "points",
         "hovertemplate": "Artist=Gusttavo Lima Oficial<br>Views=%{y}<extra></extra>",
         "jitter": 0,
         "legendgroup": "Gusttavo Lima Oficial",
         "line": {
          "color": "rgba(255,255,255,0)"
         },
         "marker": {
          "color": "#FF6692",
          "symbol": "line-ew-open"
         },
         "name": "Gusttavo Lima Oficial",
         "offsetgroup": "Gusttavo Lima Oficial",
         "showlegend": false,
         "type": "box",
         "xaxis": "x2",
         "y": [
          11815001366
         ],
         "yaxis": "y2"
        },
        {
         "hovertemplate": "Artist=Lil Nas X<br>Subscribers=%{x}<br>Views=%{marker.size}<extra></extra>",
         "legendgroup": "Lil Nas X",
         "marker": {
          "color": "#B6E880",
          "size": [
           5659051618
          ],
          "sizemode": "area",
          "sizeref": 79383600,
          "symbol": "circle"
         },
         "mode": "markers",
         "name": "Lil Nas X",
         "orientation": "v",
         "showlegend": true,
         "type": "scatter",
         "x": [
          18600000
         ],
         "xaxis": "x",
         "y": [
          5659051618
         ],
         "yaxis": "y"
        },
        {
         "alignmentgroup": "True",
         "boxpoints": "all",
         "fillcolor": "rgba(255,255,255,0)",
         "hoveron": "points",
         "hovertemplate": "Artist=Lil Nas X<br>Views=%{y}<extra></extra>",
         "jitter": 0,
         "legendgroup": "Lil Nas X",
         "line": {
          "color": "rgba(255,255,255,0)"
         },
         "marker": {
          "color": "#B6E880",
          "symbol": "line-ew-open"
         },
         "name": "Lil Nas X",
         "offsetgroup": "Lil Nas X",
         "showlegend": false,
         "type": "box",
         "xaxis": "x2",
         "y": [
          5659051618
         ],
         "yaxis": "y2"
        },
        {
         "hovertemplate": "Artist=Calvin Harris<br>Subscribers=%{x}<br>Views=%{marker.size}<extra></extra>",
         "legendgroup": "Calvin Harris",
         "marker": {
          "color": "#FF97FF",
          "size": [
           14886853329
          ],
          "sizemode": "area",
          "sizeref": 79383600,
          "symbol": "circle"
         },
         "mode": "markers",
         "name": "Calvin Harris",
         "orientation": "v",
         "showlegend": true,
         "type": "scatter",
         "x": [
          18500000
         ],
         "xaxis": "x",
         "y": [
          14886853329
         ],
         "yaxis": "y"
        },
        {
         "alignmentgroup": "True",
         "boxpoints": "all",
         "fillcolor": "rgba(255,255,255,0)",
         "hoveron": "points",
         "hovertemplate": "Artist=Calvin Harris<br>Views=%{y}<extra></extra>",
         "jitter": 0,
         "legendgroup": "Calvin Harris",
         "line": {
          "color": "rgba(255,255,255,0)"
         },
         "marker": {
          "color": "#FF97FF",
          "symbol": "line-ew-open"
         },
         "name": "Calvin Harris",
         "offsetgroup": "Calvin Harris",
         "showlegend": false,
         "type": "box",
         "xaxis": "x2",
         "y": [
          14886853329
         ],
         "yaxis": "y2"
        },
        {
         "hovertemplate": "Artist=shakiraVEVO<br>Subscribers=%{x}<br>Views=%{marker.size}<extra></extra>",
         "legendgroup": "shakiraVEVO",
         "marker": {
          "color": "#FECB52",
          "size": [
           22257341033
          ],
          "sizemode": "area",
          "sizeref": 79383600,
          "symbol": "circle"
         },
         "mode": "markers",
         "name": "shakiraVEVO",
         "orientation": "v",
         "showlegend": true,
         "type": "scatter",
         "x": [
          18400000
         ],
         "xaxis": "x",
         "y": [
          22257341033
         ],
         "yaxis": "y"
        },
        {
         "alignmentgroup": "True",
         "boxpoints": "all",
         "fillcolor": "rgba(255,255,255,0)",
         "hoveron": "points",
         "hovertemplate": "Artist=shakiraVEVO<br>Views=%{y}<extra></extra>",
         "jitter": 0,
         "legendgroup": "shakiraVEVO",
         "line": {
          "color": "rgba(255,255,255,0)"
         },
         "marker": {
          "color": "#FECB52",
          "symbol": "line-ew-open"
         },
         "name": "shakiraVEVO",
         "offsetgroup": "shakiraVEVO",
         "showlegend": false,
         "type": "box",
         "xaxis": "x2",
         "y": [
          22257341033
         ],
         "yaxis": "y2"
        },
        {
         "hovertemplate": "Artist=Dan-Sa / Daniel Saboya<br>Subscribers=%{x}<br>Views=%{marker.size}<extra></extra>",
         "legendgroup": "Dan-Sa / Daniel Saboya",
         "marker": {
          "color": "#636efa",
          "size": [
           6165702828
          ],
          "sizemode": "area",
          "sizeref": 79383600,
          "symbol": "circle"
         },
         "mode": "markers",
         "name": "Dan-Sa / Daniel Saboya",
         "orientation": "v",
         "showlegend": true,
         "type": "scatter",
         "x": [
          18100000
         ],
         "xaxis": "x",
         "y": [
          6165702828
         ],
         "yaxis": "y"
        },
        {
         "alignmentgroup": "True",
         "boxpoints": "all",
         "fillcolor": "rgba(255,255,255,0)",
         "hoveron": "points",
         "hovertemplate": "Artist=Dan-Sa / Daniel Saboya<br>Views=%{y}<extra></extra>",
         "jitter": 0,
         "legendgroup": "Dan-Sa / Daniel Saboya",
         "line": {
          "color": "rgba(255,255,255,0)"
         },
         "marker": {
          "color": "#636efa",
          "symbol": "line-ew-open"
         },
         "name": "Dan-Sa / Daniel Saboya",
         "offsetgroup": "Dan-Sa / Daniel Saboya",
         "showlegend": false,
         "type": "box",
         "xaxis": "x2",
         "y": [
          6165702828
         ],
         "yaxis": "y2"
        },
        {
         "hovertemplate": "Artist=Emiway Bantai<br>Subscribers=%{x}<br>Views=%{marker.size}<extra></extra>",
         "legendgroup": "Emiway Bantai",
         "marker": {
          "color": "#EF553B",
          "size": [
           3038899728
          ],
          "sizemode": "area",
          "sizeref": 79383600,
          "symbol": "circle"
         },
         "mode": "markers",
         "name": "Emiway Bantai",
         "orientation": "v",
         "showlegend": true,
         "type": "scatter",
         "x": [
          18000000
         ],
         "xaxis": "x",
         "y": [
          3038899728
         ],
         "yaxis": "y"
        },
        {
         "alignmentgroup": "True",
         "boxpoints": "all",
         "fillcolor": "rgba(255,255,255,0)",
         "hoveron": "points",
         "hovertemplate": "Artist=Emiway Bantai<br>Views=%{y}<extra></extra>",
         "jitter": 0,
         "legendgroup": "Emiway Bantai",
         "line": {
          "color": "rgba(255,255,255,0)"
         },
         "marker": {
          "color": "#EF553B",
          "symbol": "line-ew-open"
         },
         "name": "Emiway Bantai",
         "offsetgroup": "Emiway Bantai",
         "showlegend": false,
         "type": "box",
         "xaxis": "x2",
         "y": [
          3038899728
         ],
         "yaxis": "y2"
        },
        {
         "hovertemplate": "Artist=Farruko<br>Subscribers=%{x}<br>Views=%{marker.size}<extra></extra>",
         "legendgroup": "Farruko",
         "marker": {
          "color": "#00cc96",
          "size": [
           8480000414
          ],
          "sizemode": "area",
          "sizeref": 79383600,
          "symbol": "circle"
         },
         "mode": "markers",
         "name": "Farruko",
         "orientation": "v",
         "showlegend": true,
         "type": "scatter",
         "x": [
          17900000
         ],
         "xaxis": "x",
         "y": [
          8480000414
         ],
         "yaxis": "y"
        },
        {
         "alignmentgroup": "True",
         "boxpoints": "all",
         "fillcolor": "rgba(255,255,255,0)",
         "hoveron": "points",
         "hovertemplate": "Artist=Farruko<br>Views=%{y}<extra></extra>",
         "jitter": 0,
         "legendgroup": "Farruko",
         "line": {
          "color": "rgba(255,255,255,0)"
         },
         "marker": {
          "color": "#00cc96",
          "symbol": "line-ew-open"
         },
         "name": "Farruko",
         "offsetgroup": "Farruko",
         "showlegend": false,
         "type": "box",
         "xaxis": "x2",
         "y": [
          8480000414
         ],
         "yaxis": "y2"
        },
        {
         "hovertemplate": "Artist=ArianaGrandeVevo<br>Subscribers=%{x}<br>Views=%{marker.size}<extra></extra>",
         "legendgroup": "ArianaGrandeVevo",
         "marker": {
          "color": "#ab63fa",
          "size": [
           19011269725
          ],
          "sizemode": "area",
          "sizeref": 79383600,
          "symbol": "circle"
         },
         "mode": "markers",
         "name": "ArianaGrandeVevo",
         "orientation": "v",
         "showlegend": true,
         "type": "scatter",
         "x": [
          17800000
         ],
         "xaxis": "x",
         "y": [
          19011269725
         ],
         "yaxis": "y"
        },
        {
         "alignmentgroup": "True",
         "boxpoints": "all",
         "fillcolor": "rgba(255,255,255,0)",
         "hoveron": "points",
         "hovertemplate": "Artist=ArianaGrandeVevo<br>Views=%{y}<extra></extra>",
         "jitter": 0,
         "legendgroup": "ArianaGrandeVevo",
         "line": {
          "color": "rgba(255,255,255,0)"
         },
         "marker": {
          "color": "#ab63fa",
          "symbol": "line-ew-open"
         },
         "name": "ArianaGrandeVevo",
         "offsetgroup": "ArianaGrandeVevo",
         "showlegend": false,
         "type": "box",
         "xaxis": "x2",
         "y": [
          19011269725
         ],
         "yaxis": "y2"
        },
        {
         "hovertemplate": "Artist=Demi Lovato<br>Subscribers=%{x}<br>Views=%{marker.size}<extra></extra>",
         "legendgroup": "Demi Lovato",
         "marker": {
          "color": "#FFA15A",
          "size": [
           6495131112
          ],
          "sizemode": "area",
          "sizeref": 79383600,
          "symbol": "circle"
         },
         "mode": "markers",
         "name": "Demi Lovato",
         "orientation": "v",
         "showlegend": true,
         "type": "scatter",
         "x": [
          17800000
         ],
         "xaxis": "x",
         "y": [
          6495131112
         ],
         "yaxis": "y"
        },
        {
         "alignmentgroup": "True",
         "boxpoints": "all",
         "fillcolor": "rgba(255,255,255,0)",
         "hoveron": "points",
         "hovertemplate": "Artist=Demi Lovato<br>Views=%{y}<extra></extra>",
         "jitter": 0,
         "legendgroup": "Demi Lovato",
         "line": {
          "color": "rgba(255,255,255,0)"
         },
         "marker": {
          "color": "#FFA15A",
          "symbol": "line-ew-open"
         },
         "name": "Demi Lovato",
         "offsetgroup": "Demi Lovato",
         "showlegend": false,
         "type": "box",
         "xaxis": "x2",
         "y": [
          6495131112
         ],
         "yaxis": "y2"
        },
        {
         "hovertemplate": "Artist=Lil Pump<br>Subscribers=%{x}<br>Views=%{marker.size}<extra></extra>",
         "legendgroup": "Lil Pump",
         "marker": {
          "color": "#19d3f3",
          "size": [
           4091109829
          ],
          "sizemode": "area",
          "sizeref": 79383600,
          "symbol": "circle"
         },
         "mode": "markers",
         "name": "Lil Pump",
         "orientation": "v",
         "showlegend": true,
         "type": "scatter",
         "x": [
          17800000
         ],
         "xaxis": "x",
         "y": [
          4091109829
         ],
         "yaxis": "y"
        },
        {
         "alignmentgroup": "True",
         "boxpoints": "all",
         "fillcolor": "rgba(255,255,255,0)",
         "hoveron": "points",
         "hovertemplate": "Artist=Lil Pump<br>Views=%{y}<extra></extra>",
         "jitter": 0,
         "legendgroup": "Lil Pump",
         "line": {
          "color": "rgba(255,255,255,0)"
         },
         "marker": {
          "color": "#19d3f3",
          "symbol": "line-ew-open"
         },
         "name": "Lil Pump",
         "offsetgroup": "Lil Pump",
         "showlegend": false,
         "type": "box",
         "xaxis": "x2",
         "y": [
          4091109829
         ],
         "yaxis": "y2"
        },
        {
         "hovertemplate": "Artist=RsiamMusic : อาร์สยาม<br>Subscribers=%{x}<br>Views=%{marker.size}<extra></extra>",
         "legendgroup": "RsiamMusic : อาร์สยาม",
         "marker": {
          "color": "#FF6692",
          "size": [
           10952154122
          ],
          "sizemode": "area",
          "sizeref": 79383600,
          "symbol": "circle"
         },
         "mode": "markers",
         "name": "RsiamMusic : อาร์สยาม",
         "orientation": "v",
         "showlegend": true,
         "type": "scatter",
         "x": [
          17600000
         ],
         "xaxis": "x",
         "y": [
          10952154122
         ],
         "yaxis": "y"
        },
        {
         "alignmentgroup": "True",
         "boxpoints": "all",
         "fillcolor": "rgba(255,255,255,0)",
         "hoveron": "points",
         "hovertemplate": "Artist=RsiamMusic : อาร์สยาม<br>Views=%{y}<extra></extra>",
         "jitter": 0,
         "legendgroup": "RsiamMusic : อาร์สยาม",
         "line": {
          "color": "rgba(255,255,255,0)"
         },
         "marker": {
          "color": "#FF6692",
          "symbol": "line-ew-open"
         },
         "name": "RsiamMusic : อาร์สยาม",
         "offsetgroup": "RsiamMusic : อาร์สยาม",
         "showlegend": false,
         "type": "box",
         "xaxis": "x2",
         "y": [
          10952154122
         ],
         "yaxis": "y2"
        },
        {
         "hovertemplate": "Artist=JFlaMusic<br>Subscribers=%{x}<br>Views=%{marker.size}<extra></extra>",
         "legendgroup": "JFlaMusic",
         "marker": {
          "color": "#B6E880",
          "size": [
           3657526529
          ],
          "sizemode": "area",
          "sizeref": 79383600,
          "symbol": "circle"
         },
         "mode": "markers",
         "name": "JFlaMusic",
         "orientation": "v",
         "showlegend": true,
         "type": "scatter",
         "x": [
          17600000
         ],
         "xaxis": "x",
         "y": [
          3657526529
         ],
         "yaxis": "y"
        },
        {
         "alignmentgroup": "True",
         "boxpoints": "all",
         "fillcolor": "rgba(255,255,255,0)",
         "hoveron": "points",
         "hovertemplate": "Artist=JFlaMusic<br>Views=%{y}<extra></extra>",
         "jitter": 0,
         "legendgroup": "JFlaMusic",
         "line": {
          "color": "rgba(255,255,255,0)"
         },
         "marker": {
          "color": "#B6E880",
          "symbol": "line-ew-open"
         },
         "name": "JFlaMusic",
         "offsetgroup": "JFlaMusic",
         "showlegend": false,
         "type": "box",
         "xaxis": "x2",
         "y": [
          3657526529
         ],
         "yaxis": "y2"
        },
        {
         "hovertemplate": "Artist=officialpsy<br>Subscribers=%{x}<br>Views=%{marker.size}<extra></extra>",
         "legendgroup": "officialpsy",
         "marker": {
          "color": "#FF97FF",
          "size": [
           9825292199
          ],
          "sizemode": "area",
          "sizeref": 79383600,
          "symbol": "circle"
         },
         "mode": "markers",
         "name": "officialpsy",
         "orientation": "v",
         "showlegend": true,
         "type": "scatter",
         "x": [
          17400000
         ],
         "xaxis": "x",
         "y": [
          9825292199
         ],
         "yaxis": "y"
        },
        {
         "alignmentgroup": "True",
         "boxpoints": "all",
         "fillcolor": "rgba(255,255,255,0)",
         "hoveron": "points",
         "hovertemplate": "Artist=officialpsy<br>Views=%{y}<extra></extra>",
         "jitter": 0,
         "legendgroup": "officialpsy",
         "line": {
          "color": "rgba(255,255,255,0)"
         },
         "marker": {
          "color": "#FF97FF",
          "symbol": "line-ew-open"
         },
         "name": "officialpsy",
         "offsetgroup": "officialpsy",
         "showlegend": false,
         "type": "box",
         "xaxis": "x2",
         "y": [
          9825292199
         ],
         "yaxis": "y2"
        },
        {
         "hovertemplate": "Artist=LuisFonsiVEVO<br>Subscribers=%{x}<br>Views=%{marker.size}<extra></extra>",
         "legendgroup": "LuisFonsiVEVO",
         "marker": {
          "color": "#FECB52",
          "size": [
           14008585257
          ],
          "sizemode": "area",
          "sizeref": 79383600,
          "symbol": "circle"
         },
         "mode": "markers",
         "name": "LuisFonsiVEVO",
         "orientation": "v",
         "showlegend": true,
         "type": "scatter",
         "x": [
          17100000
         ],
         "xaxis": "x",
         "y": [
          14008585257
         ],
         "yaxis": "y"
        },
        {
         "alignmentgroup": "True",
         "boxpoints": "all",
         "fillcolor": "rgba(255,255,255,0)",
         "hoveron": "points",
         "hovertemplate": "Artist=LuisFonsiVEVO<br>Views=%{y}<extra></extra>",
         "jitter": 0,
         "legendgroup": "LuisFonsiVEVO",
         "line": {
          "color": "rgba(255,255,255,0)"
         },
         "marker": {
          "color": "#FECB52",
          "symbol": "line-ew-open"
         },
         "name": "LuisFonsiVEVO",
         "offsetgroup": "LuisFonsiVEVO",
         "showlegend": false,
         "type": "box",
         "xaxis": "x2",
         "y": [
          14008585257
         ],
         "yaxis": "y2"
        },
        {
         "hovertemplate": "Artist=GRAMMY GOLD OFFICIAL<br>Subscribers=%{x}<br>Views=%{marker.size}<extra></extra>",
         "legendgroup": "GRAMMY GOLD OFFICIAL",
         "marker": {
          "color": "#636efa",
          "size": [
           17974040182
          ],
          "sizemode": "area",
          "sizeref": 79383600,
          "symbol": "circle"
         },
         "mode": "markers",
         "name": "GRAMMY GOLD OFFICIAL",
         "orientation": "v",
         "showlegend": true,
         "type": "scatter",
         "x": [
          17100000
         ],
         "xaxis": "x",
         "y": [
          17974040182
         ],
         "yaxis": "y"
        },
        {
         "alignmentgroup": "True",
         "boxpoints": "all",
         "fillcolor": "rgba(255,255,255,0)",
         "hoveron": "points",
         "hovertemplate": "Artist=GRAMMY GOLD OFFICIAL<br>Views=%{y}<extra></extra>",
         "jitter": 0,
         "legendgroup": "GRAMMY GOLD OFFICIAL",
         "line": {
          "color": "rgba(255,255,255,0)"
         },
         "marker": {
          "color": "#636efa",
          "symbol": "line-ew-open"
         },
         "name": "GRAMMY GOLD OFFICIAL",
         "offsetgroup": "GRAMMY GOLD OFFICIAL",
         "showlegend": false,
         "type": "box",
         "xaxis": "x2",
         "y": [
          17974040182
         ],
         "yaxis": "y2"
        },
        {
         "hovertemplate": "Artist=الـريماس - Al-Remas<br>Subscribers=%{x}<br>Views=%{marker.size}<extra></extra>",
         "legendgroup": "الـريماس - Al-Remas",
         "marker": {
          "color": "#EF553B",
          "size": [
           10550888024
          ],
          "sizemode": "area",
          "sizeref": 79383600,
          "symbol": "circle"
         },
         "mode": "markers",
         "name": "الـريماس - Al-Remas",
         "orientation": "v",
         "showlegend": true,
         "type": "scatter",
         "x": [
          16900000
         ],
         "xaxis": "x",
         "y": [
          10550888024
         ],
         "yaxis": "y"
        },
        {
         "alignmentgroup": "True",
         "boxpoints": "all",
         "fillcolor": "rgba(255,255,255,0)",
         "hoveron": "points",
         "hovertemplate": "Artist=الـريماس - Al-Remas<br>Views=%{y}<extra></extra>",
         "jitter": 0,
         "legendgroup": "الـريماس - Al-Remas",
         "line": {
          "color": "rgba(255,255,255,0)"
         },
         "marker": {
          "color": "#EF553B",
          "symbol": "line-ew-open"
         },
         "name": "الـريماس - Al-Remas",
         "offsetgroup": "الـريماس - Al-Remas",
         "showlegend": false,
         "type": "box",
         "xaxis": "x2",
         "y": [
          10550888024
         ],
         "yaxis": "y2"
        },
        {
         "hovertemplate": "Artist=Jason Derulo<br>Subscribers=%{x}<br>Views=%{marker.size}<extra></extra>",
         "legendgroup": "Jason Derulo",
         "marker": {
          "color": "#00cc96",
          "size": [
           8808599101
          ],
          "sizemode": "area",
          "sizeref": 79383600,
          "symbol": "circle"
         },
         "mode": "markers",
         "name": "Jason Derulo",
         "orientation": "v",
         "showlegend": true,
         "type": "scatter",
         "x": [
          16800000
         ],
         "xaxis": "x",
         "y": [
          8808599101
         ],
         "yaxis": "y"
        },
        {
         "alignmentgroup": "True",
         "boxpoints": "all",
         "fillcolor": "rgba(255,255,255,0)",
         "hoveron": "points",
         "hovertemplate": "Artist=Jason Derulo<br>Views=%{y}<extra></extra>",
         "jitter": 0,
         "legendgroup": "Jason Derulo",
         "line": {
          "color": "rgba(255,255,255,0)"
         },
         "marker": {
          "color": "#00cc96",
          "symbol": "line-ew-open"
         },
         "name": "Jason Derulo",
         "offsetgroup": "Jason Derulo",
         "showlegend": false,
         "type": "box",
         "xaxis": "x2",
         "y": [
          8808599101
         ],
         "yaxis": "y2"
        },
        {
         "hovertemplate": "Artist=Anitta<br>Subscribers=%{x}<br>Views=%{marker.size}<extra></extra>",
         "legendgroup": "Anitta",
         "marker": {
          "color": "#ab63fa",
          "size": [
           6610175435
          ],
          "sizemode": "area",
          "sizeref": 79383600,
          "symbol": "circle"
         },
         "mode": "markers",
         "name": "Anitta",
         "orientation": "v",
         "showlegend": true,
         "type": "scatter",
         "x": [
          16700000
         ],
         "xaxis": "x",
         "y": [
          6610175435
         ],
         "yaxis": "y"
        },
        {
         "alignmentgroup": "True",
         "boxpoints": "all",
         "fillcolor": "rgba(255,255,255,0)",
         "hoveron": "points",
         "hovertemplate": "Artist=Anitta<br>Views=%{y}<extra></extra>",
         "jitter": 0,
         "legendgroup": "Anitta",
         "line": {
          "color": "rgba(255,255,255,0)"
         },
         "marker": {
          "color": "#ab63fa",
          "symbol": "line-ew-open"
         },
         "name": "Anitta",
         "offsetgroup": "Anitta",
         "showlegend": false,
         "type": "box",
         "xaxis": "x2",
         "y": [
          6610175435
         ],
         "yaxis": "y2"
        },
        {
         "hovertemplate": "Artist=7clouds<br>Subscribers=%{x}<br>Views=%{marker.size}<extra></extra>",
         "legendgroup": "7clouds",
         "marker": {
          "color": "#FFA15A",
          "size": [
           11637964945
          ],
          "sizemode": "area",
          "sizeref": 79383600,
          "symbol": "circle"
         },
         "mode": "markers",
         "name": "7clouds",
         "orientation": "v",
         "showlegend": true,
         "type": "scatter",
         "x": [
          16600000
         ],
         "xaxis": "x",
         "y": [
          11637964945
         ],
         "yaxis": "y"
        },
        {
         "alignmentgroup": "True",
         "boxpoints": "all",
         "fillcolor": "rgba(255,255,255,0)",
         "hoveron": "points",
         "hovertemplate": "Artist=7clouds<br>Views=%{y}<extra></extra>",
         "jitter": 0,
         "legendgroup": "7clouds",
         "line": {
          "color": "rgba(255,255,255,0)"
         },
         "marker": {
          "color": "#FFA15A",
          "symbol": "line-ew-open"
         },
         "name": "7clouds",
         "offsetgroup": "7clouds",
         "showlegend": false,
         "type": "box",
         "xaxis": "x2",
         "y": [
          11637964945
         ],
         "yaxis": "y2"
        },
        {
         "hovertemplate": "Artist=SonyMusicSouthVEVO<br>Subscribers=%{x}<br>Views=%{marker.size}<extra></extra>",
         "legendgroup": "SonyMusicSouthVEVO",
         "marker": {
          "color": "#19d3f3",
          "size": [
           15090557603
          ],
          "sizemode": "area",
          "sizeref": 79383600,
          "symbol": "circle"
         },
         "mode": "markers",
         "name": "SonyMusicSouthVEVO",
         "orientation": "v",
         "showlegend": true,
         "type": "scatter",
         "x": [
          16400000
         ],
         "xaxis": "x",
         "y": [
          15090557603
         ],
         "yaxis": "y"
        },
        {
         "alignmentgroup": "True",
         "boxpoints": "all",
         "fillcolor": "rgba(255,255,255,0)",
         "hoveron": "points",
         "hovertemplate": "Artist=SonyMusicSouthVEVO<br>Views=%{y}<extra></extra>",
         "jitter": 0,
         "legendgroup": "SonyMusicSouthVEVO",
         "line": {
          "color": "rgba(255,255,255,0)"
         },
         "marker": {
          "color": "#19d3f3",
          "symbol": "line-ew-open"
         },
         "name": "SonyMusicSouthVEVO",
         "offsetgroup": "SonyMusicSouthVEVO",
         "showlegend": false,
         "type": "box",
         "xaxis": "x2",
         "y": [
          15090557603
         ],
         "yaxis": "y2"
        },
        {
         "hovertemplate": "Artist=Sidhu Moose Wala<br>Subscribers=%{x}<br>Views=%{marker.size}<extra></extra>",
         "legendgroup": "Sidhu Moose Wala",
         "marker": {
          "color": "#FF6692",
          "size": [
           4078330367
          ],
          "sizemode": "area",
          "sizeref": 79383600,
          "symbol": "circle"
         },
         "mode": "markers",
         "name": "Sidhu Moose Wala",
         "orientation": "v",
         "showlegend": true,
         "type": "scatter",
         "x": [
          16200000
         ],
         "xaxis": "x",
         "y": [
          4078330367
         ],
         "yaxis": "y"
        },
        {
         "alignmentgroup": "True",
         "boxpoints": "all",
         "fillcolor": "rgba(255,255,255,0)",
         "hoveron": "points",
         "hovertemplate": "Artist=Sidhu Moose Wala<br>Views=%{y}<extra></extra>",
         "jitter": 0,
         "legendgroup": "Sidhu Moose Wala",
         "line": {
          "color": "rgba(255,255,255,0)"
         },
         "marker": {
          "color": "#FF6692",
          "symbol": "line-ew-open"
         },
         "name": "Sidhu Moose Wala",
         "offsetgroup": "Sidhu Moose Wala",
         "showlegend": false,
         "type": "box",
         "xaxis": "x2",
         "y": [
          4078330367
         ],
         "yaxis": "y2"
        },
        {
         "hovertemplate": "Artist=Queen Official<br>Subscribers=%{x}<br>Views=%{marker.size}<extra></extra>",
         "legendgroup": "Queen Official",
         "marker": {
          "color": "#B6E880",
          "size": [
           9723539941
          ],
          "sizemode": "area",
          "sizeref": 79383600,
          "symbol": "circle"
         },
         "mode": "markers",
         "name": "Queen Official",
         "orientation": "v",
         "showlegend": true,
         "type": "scatter",
         "x": [
          16100000
         ],
         "xaxis": "x",
         "y": [
          9723539941
         ],
         "yaxis": "y"
        },
        {
         "alignmentgroup": "True",
         "boxpoints": "all",
         "fillcolor": "rgba(255,255,255,0)",
         "hoveron": "points",
         "hovertemplate": "Artist=Queen Official<br>Views=%{y}<extra></extra>",
         "jitter": 0,
         "legendgroup": "Queen Official",
         "line": {
          "color": "rgba(255,255,255,0)"
         },
         "marker": {
          "color": "#B6E880",
          "symbol": "line-ew-open"
         },
         "name": "Queen Official",
         "offsetgroup": "Queen Official",
         "showlegend": false,
         "type": "box",
         "xaxis": "x2",
         "y": [
          9723539941
         ],
         "yaxis": "y2"
        },
        {
         "hovertemplate": "Artist=Travis Scott<br>Subscribers=%{x}<br>Views=%{marker.size}<extra></extra>",
         "legendgroup": "Travis Scott",
         "marker": {
          "color": "#FF97FF",
          "size": [
           7187033169
          ],
          "sizemode": "area",
          "sizeref": 79383600,
          "symbol": "circle"
         },
         "mode": "markers",
         "name": "Travis Scott",
         "orientation": "v",
         "showlegend": true,
         "type": "scatter",
         "x": [
          16100000
         ],
         "xaxis": "x",
         "y": [
          7187033169
         ],
         "yaxis": "y"
        },
        {
         "alignmentgroup": "True",
         "boxpoints": "all",
         "fillcolor": "rgba(255,255,255,0)",
         "hoveron": "points",
         "hovertemplate": "Artist=Travis Scott<br>Views=%{y}<extra></extra>",
         "jitter": 0,
         "legendgroup": "Travis Scott",
         "line": {
          "color": "rgba(255,255,255,0)"
         },
         "marker": {
          "color": "#FF97FF",
          "symbol": "line-ew-open"
         },
         "name": "Travis Scott",
         "offsetgroup": "Travis Scott",
         "showlegend": false,
         "type": "box",
         "xaxis": "x2",
         "y": [
          7187033169
         ],
         "yaxis": "y2"
        },
        {
         "hovertemplate": "Artist=Little Mix<br>Subscribers=%{x}<br>Views=%{marker.size}<extra></extra>",
         "legendgroup": "Little Mix",
         "marker": {
          "color": "#FECB52",
          "size": [
           7047968268
          ],
          "sizemode": "area",
          "sizeref": 79383600,
          "symbol": "circle"
         },
         "mode": "markers",
         "name": "Little Mix",
         "orientation": "v",
         "showlegend": true,
         "type": "scatter",
         "x": [
          16000000
         ],
         "xaxis": "x",
         "y": [
          7047968268
         ],
         "yaxis": "y"
        },
        {
         "alignmentgroup": "True",
         "boxpoints": "all",
         "fillcolor": "rgba(255,255,255,0)",
         "hoveron": "points",
         "hovertemplate": "Artist=Little Mix<br>Views=%{y}<extra></extra>",
         "jitter": 0,
         "legendgroup": "Little Mix",
         "line": {
          "color": "rgba(255,255,255,0)"
         },
         "marker": {
          "color": "#FECB52",
          "symbol": "line-ew-open"
         },
         "name": "Little Mix",
         "offsetgroup": "Little Mix",
         "showlegend": false,
         "type": "box",
         "xaxis": "x2",
         "y": [
          7047968268
         ],
         "yaxis": "y2"
        },
        {
         "hovertemplate": "Artist=DopeLyrics<br>Subscribers=%{x}<br>Views=%{marker.size}<extra></extra>",
         "legendgroup": "DopeLyrics",
         "marker": {
          "color": "#636efa",
          "size": [
           9803533121
          ],
          "sizemode": "area",
          "sizeref": 79383600,
          "symbol": "circle"
         },
         "mode": "markers",
         "name": "DopeLyrics",
         "orientation": "v",
         "showlegend": true,
         "type": "scatter",
         "x": [
          15900000
         ],
         "xaxis": "x",
         "y": [
          9803533121
         ],
         "yaxis": "y"
        },
        {
         "alignmentgroup": "True",
         "boxpoints": "all",
         "fillcolor": "rgba(255,255,255,0)",
         "hoveron": "points",
         "hovertemplate": "Artist=DopeLyrics<br>Views=%{y}<extra></extra>",
         "jitter": 0,
         "legendgroup": "DopeLyrics",
         "line": {
          "color": "rgba(255,255,255,0)"
         },
         "marker": {
          "color": "#636efa",
          "symbol": "line-ew-open"
         },
         "name": "DopeLyrics",
         "offsetgroup": "DopeLyrics",
         "showlegend": false,
         "type": "box",
         "xaxis": "x2",
         "y": [
          9803533121
         ],
         "yaxis": "y2"
        },
        {
         "hovertemplate": "Artist=Boyce Avenue<br>Subscribers=%{x}<br>Views=%{marker.size}<extra></extra>",
         "legendgroup": "Boyce Avenue",
         "marker": {
          "color": "#EF553B",
          "size": [
           6230190520
          ],
          "sizemode": "area",
          "sizeref": 79383600,
          "symbol": "circle"
         },
         "mode": "markers",
         "name": "Boyce Avenue",
         "orientation": "v",
         "showlegend": true,
         "type": "scatter",
         "x": [
          15900000
         ],
         "xaxis": "x",
         "y": [
          6230190520
         ],
         "yaxis": "y"
        },
        {
         "alignmentgroup": "True",
         "boxpoints": "all",
         "fillcolor": "rgba(255,255,255,0)",
         "hoveron": "points",
         "hovertemplate": "Artist=Boyce Avenue<br>Views=%{y}<extra></extra>",
         "jitter": 0,
         "legendgroup": "Boyce Avenue",
         "line": {
          "color": "rgba(255,255,255,0)"
         },
         "marker": {
          "color": "#EF553B",
          "symbol": "line-ew-open"
         },
         "name": "Boyce Avenue",
         "offsetgroup": "Boyce Avenue",
         "showlegend": false,
         "type": "box",
         "xaxis": "x2",
         "y": [
          6230190520
         ],
         "yaxis": "y2"
        },
        {
         "hovertemplate": "Artist=Camila Cabello<br>Subscribers=%{x}<br>Views=%{marker.size}<extra></extra>",
         "legendgroup": "Camila Cabello",
         "marker": {
          "color": "#00cc96",
          "size": [
           6086165889
          ],
          "sizemode": "area",
          "sizeref": 79383600,
          "symbol": "circle"
         },
         "mode": "markers",
         "name": "Camila Cabello",
         "orientation": "v",
         "showlegend": true,
         "type": "scatter",
         "x": [
          15900000
         ],
         "xaxis": "x",
         "y": [
          6086165889
         ],
         "yaxis": "y"
        },
        {
         "alignmentgroup": "True",
         "boxpoints": "all",
         "fillcolor": "rgba(255,255,255,0)",
         "hoveron": "points",
         "hovertemplate": "Artist=Camila Cabello<br>Views=%{y}<extra></extra>",
         "jitter": 0,
         "legendgroup": "Camila Cabello",
         "line": {
          "color": "rgba(255,255,255,0)"
         },
         "marker": {
          "color": "#00cc96",
          "symbol": "line-ew-open"
         },
         "name": "Camila Cabello",
         "offsetgroup": "Camila Cabello",
         "showlegend": false,
         "type": "box",
         "xaxis": "x2",
         "y": [
          6086165889
         ],
         "yaxis": "y2"
        },
        {
         "hovertemplate": "Artist=Pitbull<br>Subscribers=%{x}<br>Views=%{marker.size}<extra></extra>",
         "legendgroup": "Pitbull",
         "marker": {
          "color": "#ab63fa",
          "size": [
           11458130113
          ],
          "sizemode": "area",
          "sizeref": 79383600,
          "symbol": "circle"
         },
         "mode": "markers",
         "name": "Pitbull",
         "orientation": "v",
         "showlegend": true,
         "type": "scatter",
         "x": [
          15700000
         ],
         "xaxis": "x",
         "y": [
          11458130113
         ],
         "yaxis": "y"
        },
        {
         "alignmentgroup": "True",
         "boxpoints": "all",
         "fillcolor": "rgba(255,255,255,0)",
         "hoveron": "points",
         "hovertemplate": "Artist=Pitbull<br>Views=%{y}<extra></extra>",
         "jitter": 0,
         "legendgroup": "Pitbull",
         "line": {
          "color": "rgba(255,255,255,0)"
         },
         "marker": {
          "color": "#ab63fa",
          "symbol": "line-ew-open"
         },
         "name": "Pitbull",
         "offsetgroup": "Pitbull",
         "showlegend": false,
         "type": "box",
         "xaxis": "x2",
         "y": [
          11458130113
         ],
         "yaxis": "y2"
        },
        {
         "hovertemplate": "Artist=Jennifer Lopez<br>Subscribers=%{x}<br>Views=%{marker.size}<extra></extra>",
         "legendgroup": "Jennifer Lopez",
         "marker": {
          "color": "#FFA15A",
          "size": [
           9512025119
          ],
          "sizemode": "area",
          "sizeref": 79383600,
          "symbol": "circle"
         },
         "mode": "markers",
         "name": "Jennifer Lopez",
         "orientation": "v",
         "showlegend": true,
         "type": "scatter",
         "x": [
          15700000
         ],
         "xaxis": "x",
         "y": [
          9512025119
         ],
         "yaxis": "y"
        },
        {
         "alignmentgroup": "True",
         "boxpoints": "all",
         "fillcolor": "rgba(255,255,255,0)",
         "hoveron": "points",
         "hovertemplate": "Artist=Jennifer Lopez<br>Views=%{y}<extra></extra>",
         "jitter": 0,
         "legendgroup": "Jennifer Lopez",
         "line": {
          "color": "rgba(255,255,255,0)"
         },
         "marker": {
          "color": "#FFA15A",
          "symbol": "line-ew-open"
         },
         "name": "Jennifer Lopez",
         "offsetgroup": "Jennifer Lopez",
         "showlegend": false,
         "type": "box",
         "xaxis": "x2",
         "y": [
          9512025119
         ],
         "yaxis": "y2"
        },
        {
         "hovertemplate": "Artist=Pop Chartbusters<br>Subscribers=%{x}<br>Views=%{marker.size}<extra></extra>",
         "legendgroup": "Pop Chartbusters",
         "marker": {
          "color": "#19d3f3",
          "size": [
           7817983360
          ],
          "sizemode": "area",
          "sizeref": 79383600,
          "symbol": "circle"
         },
         "mode": "markers",
         "name": "Pop Chartbusters",
         "orientation": "v",
         "showlegend": true,
         "type": "scatter",
         "x": [
          15600000
         ],
         "xaxis": "x",
         "y": [
          7817983360
         ],
         "yaxis": "y"
        },
        {
         "alignmentgroup": "True",
         "boxpoints": "all",
         "fillcolor": "rgba(255,255,255,0)",
         "hoveron": "points",
         "hovertemplate": "Artist=Pop Chartbusters<br>Views=%{y}<extra></extra>",
         "jitter": 0,
         "legendgroup": "Pop Chartbusters",
         "line": {
          "color": "rgba(255,255,255,0)"
         },
         "marker": {
          "color": "#19d3f3",
          "symbol": "line-ew-open"
         },
         "name": "Pop Chartbusters",
         "offsetgroup": "Pop Chartbusters",
         "showlegend": false,
         "type": "box",
         "xaxis": "x2",
         "y": [
          7817983360
         ],
         "yaxis": "y2"
        },
        {
         "hovertemplate": "Artist=FitDance<br>Subscribers=%{x}<br>Views=%{marker.size}<extra></extra>",
         "legendgroup": "FitDance",
         "marker": {
          "color": "#FF6692",
          "size": [
           6541827030
          ],
          "sizemode": "area",
          "sizeref": 79383600,
          "symbol": "circle"
         },
         "mode": "markers",
         "name": "FitDance",
         "orientation": "v",
         "showlegend": true,
         "type": "scatter",
         "x": [
          15400000
         ],
         "xaxis": "x",
         "y": [
          6541827030
         ],
         "yaxis": "y"
        },
        {
         "alignmentgroup": "True",
         "boxpoints": "all",
         "fillcolor": "rgba(255,255,255,0)",
         "hoveron": "points",
         "hovertemplate": "Artist=FitDance<br>Views=%{y}<extra></extra>",
         "jitter": 0,
         "legendgroup": "FitDance",
         "line": {
          "color": "rgba(255,255,255,0)"
         },
         "marker": {
          "color": "#FF6692",
          "symbol": "line-ew-open"
         },
         "name": "FitDance",
         "offsetgroup": "FitDance",
         "showlegend": false,
         "type": "box",
         "xaxis": "x2",
         "y": [
          6541827030
         ],
         "yaxis": "y2"
        },
        {
         "hovertemplate": "Artist=AdeleVEVO<br>Subscribers=%{x}<br>Views=%{marker.size}<extra></extra>",
         "legendgroup": "AdeleVEVO",
         "marker": {
          "color": "#B6E880",
          "size": [
           11470355227
          ],
          "sizemode": "area",
          "sizeref": 79383600,
          "symbol": "circle"
         },
         "mode": "markers",
         "name": "AdeleVEVO",
         "orientation": "v",
         "showlegend": true,
         "type": "scatter",
         "x": [
          15200000
         ],
         "xaxis": "x",
         "y": [
          11470355227
         ],
         "yaxis": "y"
        },
        {
         "alignmentgroup": "True",
         "boxpoints": "all",
         "fillcolor": "rgba(255,255,255,0)",
         "hoveron": "points",
         "hovertemplate": "Artist=AdeleVEVO<br>Views=%{y}<extra></extra>",
         "jitter": 0,
         "legendgroup": "AdeleVEVO",
         "line": {
          "color": "rgba(255,255,255,0)"
         },
         "marker": {
          "color": "#B6E880",
          "symbol": "line-ew-open"
         },
         "name": "AdeleVEVO",
         "offsetgroup": "AdeleVEVO",
         "showlegend": false,
         "type": "box",
         "xaxis": "x2",
         "y": [
          11470355227
         ],
         "yaxis": "y2"
        },
        {
         "hovertemplate": "Artist=Camilo<br>Subscribers=%{x}<br>Views=%{marker.size}<extra></extra>",
         "legendgroup": "Camilo",
         "marker": {
          "color": "#FF97FF",
          "size": [
           6003697328
          ],
          "sizemode": "area",
          "sizeref": 79383600,
          "symbol": "circle"
         },
         "mode": "markers",
         "name": "Camilo",
         "orientation": "v",
         "showlegend": true,
         "type": "scatter",
         "x": [
          15200000
         ],
         "xaxis": "x",
         "y": [
          6003697328
         ],
         "yaxis": "y"
        },
        {
         "alignmentgroup": "True",
         "boxpoints": "all",
         "fillcolor": "rgba(255,255,255,0)",
         "hoveron": "points",
         "hovertemplate": "Artist=Camilo<br>Views=%{y}<extra></extra>",
         "jitter": 0,
         "legendgroup": "Camilo",
         "line": {
          "color": "rgba(255,255,255,0)"
         },
         "marker": {
          "color": "#FF97FF",
          "symbol": "line-ew-open"
         },
         "name": "Camilo",
         "offsetgroup": "Camilo",
         "showlegend": false,
         "type": "box",
         "xaxis": "x2",
         "y": [
          6003697328
         ],
         "yaxis": "y2"
        },
        {
         "hovertemplate": "Artist=POPS Kids<br>Subscribers=%{x}<br>Views=%{marker.size}<extra></extra>",
         "legendgroup": "POPS Kids",
         "marker": {
          "color": "#FECB52",
          "size": [
           8678492072
          ],
          "sizemode": "area",
          "sizeref": 79383600,
          "symbol": "circle"
         },
         "mode": "markers",
         "name": "POPS Kids",
         "orientation": "v",
         "showlegend": true,
         "type": "scatter",
         "x": [
          15000000
         ],
         "xaxis": "x",
         "y": [
          8678492072
         ],
         "yaxis": "y"
        },
        {
         "alignmentgroup": "True",
         "boxpoints": "all",
         "fillcolor": "rgba(255,255,255,0)",
         "hoveron": "points",
         "hovertemplate": "Artist=POPS Kids<br>Views=%{y}<extra></extra>",
         "jitter": 0,
         "legendgroup": "POPS Kids",
         "line": {
          "color": "rgba(255,255,255,0)"
         },
         "marker": {
          "color": "#FECB52",
          "symbol": "line-ew-open"
         },
         "name": "POPS Kids",
         "offsetgroup": "POPS Kids",
         "showlegend": false,
         "type": "box",
         "xaxis": "x2",
         "y": [
          8678492072
         ],
         "yaxis": "y2"
        },
        {
         "hovertemplate": "Artist=SAM SMITH<br>Subscribers=%{x}<br>Views=%{marker.size}<extra></extra>",
         "legendgroup": "SAM SMITH",
         "marker": {
          "color": "#636efa",
          "size": [
           8769075543
          ],
          "sizemode": "area",
          "sizeref": 79383600,
          "symbol": "circle"
         },
         "mode": "markers",
         "name": "SAM SMITH",
         "orientation": "v",
         "showlegend": true,
         "type": "scatter",
         "x": [
          15000000
         ],
         "xaxis": "x",
         "y": [
          8769075543
         ],
         "yaxis": "y"
        },
        {
         "alignmentgroup": "True",
         "boxpoints": "all",
         "fillcolor": "rgba(255,255,255,0)",
         "hoveron": "points",
         "hovertemplate": "Artist=SAM SMITH<br>Views=%{y}<extra></extra>",
         "jitter": 0,
         "legendgroup": "SAM SMITH",
         "line": {
          "color": "rgba(255,255,255,0)"
         },
         "marker": {
          "color": "#636efa",
          "symbol": "line-ew-open"
         },
         "name": "SAM SMITH",
         "offsetgroup": "SAM SMITH",
         "showlegend": false,
         "type": "box",
         "xaxis": "x2",
         "y": [
          8769075543
         ],
         "yaxis": "y2"
        },
        {
         "hovertemplate": "Artist=zayn<br>Subscribers=%{x}<br>Views=%{marker.size}<extra></extra>",
         "legendgroup": "zayn",
         "marker": {
          "color": "#EF553B",
          "size": [
           4559692349
          ],
          "sizemode": "area",
          "sizeref": 79383600,
          "symbol": "circle"
         },
         "mode": "markers",
         "name": "zayn",
         "orientation": "v",
         "showlegend": true,
         "type": "scatter",
         "x": [
          15000000
         ],
         "xaxis": "x",
         "y": [
          4559692349
         ],
         "yaxis": "y"
        },
        {
         "alignmentgroup": "True",
         "boxpoints": "all",
         "fillcolor": "rgba(255,255,255,0)",
         "hoveron": "points",
         "hovertemplate": "Artist=zayn<br>Views=%{y}<extra></extra>",
         "jitter": 0,
         "legendgroup": "zayn",
         "line": {
          "color": "rgba(255,255,255,0)"
         },
         "marker": {
          "color": "#EF553B",
          "symbol": "line-ew-open"
         },
         "name": "zayn",
         "offsetgroup": "zayn",
         "showlegend": false,
         "type": "box",
         "xaxis": "x2",
         "y": [
          4559692349
         ],
         "yaxis": "y2"
        },
        {
         "hovertemplate": "Artist=Henrique e Juliano<br>Subscribers=%{x}<br>Views=%{marker.size}<extra></extra>",
         "legendgroup": "Henrique e Juliano",
         "marker": {
          "color": "#00cc96",
          "size": [
           12484253152
          ],
          "sizemode": "area",
          "sizeref": 79383600,
          "symbol": "circle"
         },
         "mode": "markers",
         "name": "Henrique e Juliano",
         "orientation": "v",
         "showlegend": true,
         "type": "scatter",
         "x": [
          14900000
         ],
         "xaxis": "x",
         "y": [
          12484253152
         ],
         "yaxis": "y"
        },
        {
         "alignmentgroup": "True",
         "boxpoints": "all",
         "fillcolor": "rgba(255,255,255,0)",
         "hoveron": "points",
         "hovertemplate": "Artist=Henrique e Juliano<br>Views=%{y}<extra></extra>",
         "jitter": 0,
         "legendgroup": "Henrique e Juliano",
         "line": {
          "color": "rgba(255,255,255,0)"
         },
         "marker": {
          "color": "#00cc96",
          "symbol": "line-ew-open"
         },
         "name": "Henrique e Juliano",
         "offsetgroup": "Henrique e Juliano",
         "showlegend": false,
         "type": "box",
         "xaxis": "x2",
         "y": [
          12484253152
         ],
         "yaxis": "y2"
        },
        {
         "hovertemplate": "Artist=Lahari Music | T-Series<br>Subscribers=%{x}<br>Views=%{marker.size}<extra></extra>",
         "legendgroup": "Lahari Music | T-Series",
         "marker": {
          "color": "#ab63fa",
          "size": [
           10469251425
          ],
          "sizemode": "area",
          "sizeref": 79383600,
          "symbol": "circle"
         },
         "mode": "markers",
         "name": "Lahari Music | T-Series",
         "orientation": "v",
         "showlegend": true,
         "type": "scatter",
         "x": [
          14900000
         ],
         "xaxis": "x",
         "y": [
          10469251425
         ],
         "yaxis": "y"
        },
        {
         "alignmentgroup": "True",
         "boxpoints": "all",
         "fillcolor": "rgba(255,255,255,0)",
         "hoveron": "points",
         "hovertemplate": "Artist=Lahari Music | T-Series<br>Views=%{y}<extra></extra>",
         "jitter": 0,
         "legendgroup": "Lahari Music | T-Series",
         "line": {
          "color": "rgba(255,255,255,0)"
         },
         "marker": {
          "color": "#ab63fa",
          "symbol": "line-ew-open"
         },
         "name": "Lahari Music | T-Series",
         "offsetgroup": "Lahari Music | T-Series",
         "showlegend": false,
         "type": "box",
         "xaxis": "x2",
         "y": [
          10469251425
         ],
         "yaxis": "y2"
        },
        {
         "hovertemplate": "Artist=BIGBANG<br>Subscribers=%{x}<br>Views=%{marker.size}<extra></extra>",
         "legendgroup": "BIGBANG",
         "marker": {
          "color": "#FFA15A",
          "size": [
           7353265213
          ],
          "sizemode": "area",
          "sizeref": 79383600,
          "symbol": "circle"
         },
         "mode": "markers",
         "name": "BIGBANG",
         "orientation": "v",
         "showlegend": true,
         "type": "scatter",
         "x": [
          14800000
         ],
         "xaxis": "x",
         "y": [
          7353265213
         ],
         "yaxis": "y"
        },
        {
         "alignmentgroup": "True",
         "boxpoints": "all",
         "fillcolor": "rgba(255,255,255,0)",
         "hoveron": "points",
         "hovertemplate": "Artist=BIGBANG<br>Views=%{y}<extra></extra>",
         "jitter": 0,
         "legendgroup": "BIGBANG",
         "line": {
          "color": "rgba(255,255,255,0)"
         },
         "marker": {
          "color": "#FFA15A",
          "symbol": "line-ew-open"
         },
         "name": "BIGBANG",
         "offsetgroup": "BIGBANG",
         "showlegend": false,
         "type": "box",
         "xaxis": "x2",
         "y": [
          7353265213
         ],
         "yaxis": "y2"
        },
        {
         "hovertemplate": "Artist=Zé Neto e Cristiano<br>Subscribers=%{x}<br>Views=%{marker.size}<extra></extra>",
         "legendgroup": "Zé Neto e Cristiano",
         "marker": {
          "color": "#19d3f3",
          "size": [
           10398104437
          ],
          "sizemode": "area",
          "sizeref": 79383600,
          "symbol": "circle"
         },
         "mode": "markers",
         "name": "Zé Neto e Cristiano",
         "orientation": "v",
         "showlegend": true,
         "type": "scatter",
         "x": [
          14700000
         ],
         "xaxis": "x",
         "y": [
          10398104437
         ],
         "yaxis": "y"
        },
        {
         "alignmentgroup": "True",
         "boxpoints": "all",
         "fillcolor": "rgba(255,255,255,0)",
         "hoveron": "points",
         "hovertemplate": "Artist=Zé Neto e Cristiano<br>Views=%{y}<extra></extra>",
         "jitter": 0,
         "legendgroup": "Zé Neto e Cristiano",
         "line": {
          "color": "rgba(255,255,255,0)"
         },
         "marker": {
          "color": "#19d3f3",
          "symbol": "line-ew-open"
         },
         "name": "Zé Neto e Cristiano",
         "offsetgroup": "Zé Neto e Cristiano",
         "showlegend": false,
         "type": "box",
         "xaxis": "x2",
         "y": [
          10398104437
         ],
         "yaxis": "y2"
        },
        {
         "hovertemplate": "Artist=MK MUSIC<br>Subscribers=%{x}<br>Views=%{marker.size}<extra></extra>",
         "legendgroup": "MK MUSIC",
         "marker": {
          "color": "#FF6692",
          "size": [
           7773089325
          ],
          "sizemode": "area",
          "sizeref": 79383600,
          "symbol": "circle"
         },
         "mode": "markers",
         "name": "MK MUSIC",
         "orientation": "v",
         "showlegend": true,
         "type": "scatter",
         "x": [
          14700000
         ],
         "xaxis": "x",
         "y": [
          7773089325
         ],
         "yaxis": "y"
        },
        {
         "alignmentgroup": "True",
         "boxpoints": "all",
         "fillcolor": "rgba(255,255,255,0)",
         "hoveron": "points",
         "hovertemplate": "Artist=MK MUSIC<br>Views=%{y}<extra></extra>",
         "jitter": 0,
         "legendgroup": "MK MUSIC",
         "line": {
          "color": "rgba(255,255,255,0)"
         },
         "marker": {
          "color": "#FF6692",
          "symbol": "line-ew-open"
         },
         "name": "MK MUSIC",
         "offsetgroup": "MK MUSIC",
         "showlegend": false,
         "type": "box",
         "xaxis": "x2",
         "y": [
          7773089325
         ],
         "yaxis": "y2"
        },
        {
         "hovertemplate": "Artist=Maroon5VEVO<br>Subscribers=%{x}<br>Views=%{marker.size}<extra></extra>",
         "legendgroup": "Maroon5VEVO",
         "marker": {
          "color": "#B6E880",
          "size": [
           18917303323
          ],
          "sizemode": "area",
          "sizeref": 79383600,
          "symbol": "circle"
         },
         "mode": "markers",
         "name": "Maroon5VEVO",
         "orientation": "v",
         "showlegend": true,
         "type": "scatter",
         "x": [
          14600000
         ],
         "xaxis": "x",
         "y": [
          18917303323
         ],
         "yaxis": "y"
        },
        {
         "alignmentgroup": "True",
         "boxpoints": "all",
         "fillcolor": "rgba(255,255,255,0)",
         "hoveron": "points",
         "hovertemplate": "Artist=Maroon5VEVO<br>Views=%{y}<extra></extra>",
         "jitter": 0,
         "legendgroup": "Maroon5VEVO",
         "line": {
          "color": "rgba(255,255,255,0)"
         },
         "marker": {
          "color": "#B6E880",
          "symbol": "line-ew-open"
         },
         "name": "Maroon5VEVO",
         "offsetgroup": "Maroon5VEVO",
         "showlegend": false,
         "type": "box",
         "xaxis": "x2",
         "y": [
          18917303323
         ],
         "yaxis": "y2"
        },
        {
         "hovertemplate": "Artist=Major Lazer Official<br>Subscribers=%{x}<br>Views=%{marker.size}<extra></extra>",
         "legendgroup": "Major Lazer Official",
         "marker": {
          "color": "#FF97FF",
          "size": [
           8886913617
          ],
          "sizemode": "area",
          "sizeref": 79383600,
          "symbol": "circle"
         },
         "mode": "markers",
         "name": "Major Lazer Official",
         "orientation": "v",
         "showlegend": true,
         "type": "scatter",
         "x": [
          14600000
         ],
         "xaxis": "x",
         "y": [
          8886913617
         ],
         "yaxis": "y"
        },
        {
         "alignmentgroup": "True",
         "boxpoints": "all",
         "fillcolor": "rgba(255,255,255,0)",
         "hoveron": "points",
         "hovertemplate": "Artist=Major Lazer Official<br>Views=%{y}<extra></extra>",
         "jitter": 0,
         "legendgroup": "Major Lazer Official",
         "line": {
          "color": "rgba(255,255,255,0)"
         },
         "marker": {
          "color": "#FF97FF",
          "symbol": "line-ew-open"
         },
         "name": "Major Lazer Official",
         "offsetgroup": "Major Lazer Official",
         "showlegend": false,
         "type": "box",
         "xaxis": "x2",
         "y": [
          8886913617
         ],
         "yaxis": "y2"
        },
        {
         "hovertemplate": "Artist=Jorge & Mateus Oficial<br>Subscribers=%{x}<br>Views=%{marker.size}<extra></extra>",
         "legendgroup": "Jorge & Mateus Oficial",
         "marker": {
          "color": "#FECB52",
          "size": [
           7981563626
          ],
          "sizemode": "area",
          "sizeref": 79383600,
          "symbol": "circle"
         },
         "mode": "markers",
         "name": "Jorge & Mateus Oficial",
         "orientation": "v",
         "showlegend": true,
         "type": "scatter",
         "x": [
          14600000
         ],
         "xaxis": "x",
         "y": [
          7981563626
         ],
         "yaxis": "y"
        },
        {
         "alignmentgroup": "True",
         "boxpoints": "all",
         "fillcolor": "rgba(255,255,255,0)",
         "hoveron": "points",
         "hovertemplate": "Artist=Jorge & Mateus Oficial<br>Views=%{y}<extra></extra>",
         "jitter": 0,
         "legendgroup": "Jorge & Mateus Oficial",
         "line": {
          "color": "rgba(255,255,255,0)"
         },
         "marker": {
          "color": "#FECB52",
          "symbol": "line-ew-open"
         },
         "name": "Jorge & Mateus Oficial",
         "offsetgroup": "Jorge & Mateus Oficial",
         "showlegend": false,
         "type": "box",
         "xaxis": "x2",
         "y": [
          7981563626
         ],
         "yaxis": "y2"
        },
        {
         "hovertemplate": "Artist=MattyBRaps<br>Subscribers=%{x}<br>Views=%{marker.size}<extra></extra>",
         "legendgroup": "MattyBRaps",
         "marker": {
          "color": "#636efa",
          "size": [
           3226020734
          ],
          "sizemode": "area",
          "sizeref": 79383600,
          "symbol": "circle"
         },
         "mode": "markers",
         "name": "MattyBRaps",
         "orientation": "v",
         "showlegend": true,
         "type": "scatter",
         "x": [
          14600000
         ],
         "xaxis": "x",
         "y": [
          3226020734
         ],
         "yaxis": "y"
        },
        {
         "alignmentgroup": "True",
         "boxpoints": "all",
         "fillcolor": "rgba(255,255,255,0)",
         "hoveron": "points",
         "hovertemplate": "Artist=MattyBRaps<br>Views=%{y}<extra></extra>",
         "jitter": 0,
         "legendgroup": "MattyBRaps",
         "line": {
          "color": "rgba(255,255,255,0)"
         },
         "marker": {
          "color": "#636efa",
          "symbol": "line-ew-open"
         },
         "name": "MattyBRaps",
         "offsetgroup": "MattyBRaps",
         "showlegend": false,
         "type": "box",
         "xaxis": "x2",
         "y": [
          3226020734
         ],
         "yaxis": "y2"
        },
        {
         "hovertemplate": "Artist=LEGENDA FUNK<br>Subscribers=%{x}<br>Views=%{marker.size}<extra></extra>",
         "legendgroup": "LEGENDA FUNK",
         "marker": {
          "color": "#EF553B",
          "size": [
           1310544121
          ],
          "sizemode": "area",
          "sizeref": 79383600,
          "symbol": "circle"
         },
         "mode": "markers",
         "name": "LEGENDA FUNK",
         "orientation": "v",
         "showlegend": true,
         "type": "scatter",
         "x": [
          14600000
         ],
         "xaxis": "x",
         "y": [
          1310544121
         ],
         "yaxis": "y"
        },
        {
         "alignmentgroup": "True",
         "boxpoints": "all",
         "fillcolor": "rgba(255,255,255,0)",
         "hoveron": "points",
         "hovertemplate": "Artist=LEGENDA FUNK<br>Views=%{y}<extra></extra>",
         "jitter": 0,
         "legendgroup": "LEGENDA FUNK",
         "line": {
          "color": "rgba(255,255,255,0)"
         },
         "marker": {
          "color": "#EF553B",
          "symbol": "line-ew-open"
         },
         "name": "LEGENDA FUNK",
         "offsetgroup": "LEGENDA FUNK",
         "showlegend": false,
         "type": "box",
         "xaxis": "x2",
         "y": [
          1310544121
         ],
         "yaxis": "y2"
        },
        {
         "hovertemplate": "Artist=SelenaGomezVEVO<br>Subscribers=%{x}<br>Views=%{marker.size}<extra></extra>",
         "legendgroup": "SelenaGomezVEVO",
         "marker": {
          "color": "#00cc96",
          "size": [
           10323589482
          ],
          "sizemode": "area",
          "sizeref": 79383600,
          "symbol": "circle"
         },
         "mode": "markers",
         "name": "SelenaGomezVEVO",
         "orientation": "v",
         "showlegend": true,
         "type": "scatter",
         "x": [
          14500000
         ],
         "xaxis": "x",
         "y": [
          10323589482
         ],
         "yaxis": "y"
        },
        {
         "alignmentgroup": "True",
         "boxpoints": "all",
         "fillcolor": "rgba(255,255,255,0)",
         "hoveron": "points",
         "hovertemplate": "Artist=SelenaGomezVEVO<br>Views=%{y}<extra></extra>",
         "jitter": 0,
         "legendgroup": "SelenaGomezVEVO",
         "line": {
          "color": "rgba(255,255,255,0)"
         },
         "marker": {
          "color": "#00cc96",
          "symbol": "line-ew-open"
         },
         "name": "SelenaGomezVEVO",
         "offsetgroup": "SelenaGomezVEVO",
         "showlegend": false,
         "type": "box",
         "xaxis": "x2",
         "y": [
          10323589482
         ],
         "yaxis": "y2"
        },
        {
         "hovertemplate": "Artist=Fueled By Ramen<br>Subscribers=%{x}<br>Views=%{marker.size}<extra></extra>",
         "legendgroup": "Fueled By Ramen",
         "marker": {
          "color": "#ab63fa",
          "size": [
           12629200270
          ],
          "sizemode": "area",
          "sizeref": 79383600,
          "symbol": "circle"
         },
         "mode": "markers",
         "name": "Fueled By Ramen",
         "orientation": "v",
         "showlegend": true,
         "type": "scatter",
         "x": [
          14500000
         ],
         "xaxis": "x",
         "y": [
          12629200270
         ],
         "yaxis": "y"
        },
        {
         "alignmentgroup": "True",
         "boxpoints": "all",
         "fillcolor": "rgba(255,255,255,0)",
         "hoveron": "points",
         "hovertemplate": "Artist=Fueled By Ramen<br>Views=%{y}<extra></extra>",
         "jitter": 0,
         "legendgroup": "Fueled By Ramen",
         "line": {
          "color": "rgba(255,255,255,0)"
         },
         "marker": {
          "color": "#ab63fa",
          "symbol": "line-ew-open"
         },
         "name": "Fueled By Ramen",
         "offsetgroup": "Fueled By Ramen",
         "showlegend": false,
         "type": "box",
         "xaxis": "x2",
         "y": [
          12629200270
         ],
         "yaxis": "y2"
        },
        {
         "hovertemplate": "Artist=Fifth Harmony<br>Subscribers=%{x}<br>Views=%{marker.size}<extra></extra>",
         "legendgroup": "Fifth Harmony",
         "marker": {
          "color": "#FFA15A",
          "size": [
           7526971366
          ],
          "sizemode": "area",
          "sizeref": 79383600,
          "symbol": "circle"
         },
         "mode": "markers",
         "name": "Fifth Harmony",
         "orientation": "v",
         "showlegend": true,
         "type": "scatter",
         "x": [
          14400000
         ],
         "xaxis": "x",
         "y": [
          7526971366
         ],
         "yaxis": "y"
        },
        {
         "alignmentgroup": "True",
         "boxpoints": "all",
         "fillcolor": "rgba(255,255,255,0)",
         "hoveron": "points",
         "hovertemplate": "Artist=Fifth Harmony<br>Views=%{y}<extra></extra>",
         "jitter": 0,
         "legendgroup": "Fifth Harmony",
         "line": {
          "color": "rgba(255,255,255,0)"
         },
         "marker": {
          "color": "#FFA15A",
          "symbol": "line-ew-open"
         },
         "name": "Fifth Harmony",
         "offsetgroup": "Fifth Harmony",
         "showlegend": false,
         "type": "box",
         "xaxis": "x2",
         "y": [
          7526971366
         ],
         "yaxis": "y2"
        },
        {
         "hovertemplate": "Artist=Team Films Bhojpuri<br>Subscribers=%{x}<br>Views=%{marker.size}<extra></extra>",
         "legendgroup": "Team Films Bhojpuri",
         "marker": {
          "color": "#19d3f3",
          "size": [
           6164527861
          ],
          "sizemode": "area",
          "sizeref": 79383600,
          "symbol": "circle"
         },
         "mode": "markers",
         "name": "Team Films Bhojpuri",
         "orientation": "v",
         "showlegend": true,
         "type": "scatter",
         "x": [
          14400000
         ],
         "xaxis": "x",
         "y": [
          6164527861
         ],
         "yaxis": "y"
        },
        {
         "alignmentgroup": "True",
         "boxpoints": "all",
         "fillcolor": "rgba(255,255,255,0)",
         "hoveron": "points",
         "hovertemplate": "Artist=Team Films Bhojpuri<br>Views=%{y}<extra></extra>",
         "jitter": 0,
         "legendgroup": "Team Films Bhojpuri",
         "line": {
          "color": "rgba(255,255,255,0)"
         },
         "marker": {
          "color": "#19d3f3",
          "symbol": "line-ew-open"
         },
         "name": "Team Films Bhojpuri",
         "offsetgroup": "Team Films Bhojpuri",
         "showlegend": false,
         "type": "box",
         "xaxis": "x2",
         "y": [
          6164527861
         ],
         "yaxis": "y2"
        },
        {
         "hovertemplate": "Artist=Martin Garrix<br>Subscribers=%{x}<br>Views=%{marker.size}<extra></extra>",
         "legendgroup": "Martin Garrix",
         "marker": {
          "color": "#FF6692",
          "size": [
           5558117744
          ],
          "sizemode": "area",
          "sizeref": 79383600,
          "symbol": "circle"
         },
         "mode": "markers",
         "name": "Martin Garrix",
         "orientation": "v",
         "showlegend": true,
         "type": "scatter",
         "x": [
          14400000
         ],
         "xaxis": "x",
         "y": [
          5558117744
         ],
         "yaxis": "y"
        },
        {
         "alignmentgroup": "True",
         "boxpoints": "all",
         "fillcolor": "rgba(255,255,255,0)",
         "hoveron": "points",
         "hovertemplate": "Artist=Martin Garrix<br>Views=%{y}<extra></extra>",
         "jitter": 0,
         "legendgroup": "Martin Garrix",
         "line": {
          "color": "rgba(255,255,255,0)"
         },
         "marker": {
          "color": "#FF6692",
          "symbol": "line-ew-open"
         },
         "name": "Martin Garrix",
         "offsetgroup": "Martin Garrix",
         "showlegend": false,
         "type": "box",
         "xaxis": "x2",
         "y": [
          5558117744
         ],
         "yaxis": "y2"
        },
        {
         "hovertemplate": "Artist=TWICE<br>Subscribers=%{x}<br>Views=%{marker.size}<extra></extra>",
         "legendgroup": "TWICE",
         "marker": {
          "color": "#B6E880",
          "size": [
           3733683543
          ],
          "sizemode": "area",
          "sizeref": 79383600,
          "symbol": "circle"
         },
         "mode": "markers",
         "name": "TWICE",
         "orientation": "v",
         "showlegend": true,
         "type": "scatter",
         "x": [
          14400000
         ],
         "xaxis": "x",
         "y": [
          3733683543
         ],
         "yaxis": "y"
        },
        {
         "alignmentgroup": "True",
         "boxpoints": "all",
         "fillcolor": "rgba(255,255,255,0)",
         "hoveron": "points",
         "hovertemplate": "Artist=TWICE<br>Views=%{y}<extra></extra>",
         "jitter": 0,
         "legendgroup": "TWICE",
         "line": {
          "color": "rgba(255,255,255,0)"
         },
         "marker": {
          "color": "#B6E880",
          "symbol": "line-ew-open"
         },
         "name": "TWICE",
         "offsetgroup": "TWICE",
         "showlegend": false,
         "type": "box",
         "xaxis": "x2",
         "y": [
          3733683543
         ],
         "yaxis": "y2"
        },
        {
         "hovertemplate": "Artist=Genierock<br>Subscribers=%{x}<br>Views=%{marker.size}<extra></extra>",
         "legendgroup": "Genierock",
         "marker": {
          "color": "#FF97FF",
          "size": [
           13310308313
          ],
          "sizemode": "area",
          "sizeref": 79383600,
          "symbol": "circle"
         },
         "mode": "markers",
         "name": "Genierock",
         "orientation": "v",
         "showlegend": true,
         "type": "scatter",
         "x": [
          14300000
         ],
         "xaxis": "x",
         "y": [
          13310308313
         ],
         "yaxis": "y"
        },
        {
         "alignmentgroup": "True",
         "boxpoints": "all",
         "fillcolor": "rgba(255,255,255,0)",
         "hoveron": "points",
         "hovertemplate": "Artist=Genierock<br>Views=%{y}<extra></extra>",
         "jitter": 0,
         "legendgroup": "Genierock",
         "line": {
          "color": "rgba(255,255,255,0)"
         },
         "marker": {
          "color": "#FF97FF",
          "symbol": "line-ew-open"
         },
         "name": "Genierock",
         "offsetgroup": "Genierock",
         "showlegend": false,
         "type": "box",
         "xaxis": "x2",
         "y": [
          13310308313
         ],
         "yaxis": "y2"
        },
        {
         "hovertemplate": "Artist=Hear This Music<br>Subscribers=%{x}<br>Views=%{marker.size}<extra></extra>",
         "legendgroup": "Hear This Music",
         "marker": {
          "color": "#FECB52",
          "size": [
           8511385256
          ],
          "sizemode": "area",
          "sizeref": 79383600,
          "symbol": "circle"
         },
         "mode": "markers",
         "name": "Hear This Music",
         "orientation": "v",
         "showlegend": true,
         "type": "scatter",
         "x": [
          14200000
         ],
         "xaxis": "x",
         "y": [
          8511385256
         ],
         "yaxis": "y"
        },
        {
         "alignmentgroup": "True",
         "boxpoints": "all",
         "fillcolor": "rgba(255,255,255,0)",
         "hoveron": "points",
         "hovertemplate": "Artist=Hear This Music<br>Views=%{y}<extra></extra>",
         "jitter": 0,
         "legendgroup": "Hear This Music",
         "line": {
          "color": "rgba(255,255,255,0)"
         },
         "marker": {
          "color": "#FECB52",
          "symbol": "line-ew-open"
         },
         "name": "Hear This Music",
         "offsetgroup": "Hear This Music",
         "showlegend": false,
         "type": "box",
         "xaxis": "x2",
         "y": [
          8511385256
         ],
         "yaxis": "y2"
        },
        {
         "hovertemplate": "Artist=Trap City<br>Subscribers=%{x}<br>Views=%{marker.size}<extra></extra>",
         "legendgroup": "Trap City",
         "marker": {
          "color": "#636efa",
          "size": [
           4885163357
          ],
          "sizemode": "area",
          "sizeref": 79383600,
          "symbol": "circle"
         },
         "mode": "markers",
         "name": "Trap City",
         "orientation": "v",
         "showlegend": true,
         "type": "scatter",
         "x": [
          14200000
         ],
         "xaxis": "x",
         "y": [
          4885163357
         ],
         "yaxis": "y"
        },
        {
         "alignmentgroup": "True",
         "boxpoints": "all",
         "fillcolor": "rgba(255,255,255,0)",
         "hoveron": "points",
         "hovertemplate": "Artist=Trap City<br>Views=%{y}<extra></extra>",
         "jitter": 0,
         "legendgroup": "Trap City",
         "line": {
          "color": "rgba(255,255,255,0)"
         },
         "marker": {
          "color": "#636efa",
          "symbol": "line-ew-open"
         },
         "name": "Trap City",
         "offsetgroup": "Trap City",
         "showlegend": false,
         "type": "box",
         "xaxis": "x2",
         "y": [
          4885163357
         ],
         "yaxis": "y2"
        },
        {
         "hovertemplate": "Artist=Camila Loures<br>Subscribers=%{x}<br>Views=%{marker.size}<extra></extra>",
         "legendgroup": "Camila Loures",
         "marker": {
          "color": "#EF553B",
          "size": [
           4189052804
          ],
          "sizemode": "area",
          "sizeref": 79383600,
          "symbol": "circle"
         },
         "mode": "markers",
         "name": "Camila Loures",
         "orientation": "v",
         "showlegend": true,
         "type": "scatter",
         "x": [
          14200000
         ],
         "xaxis": "x",
         "y": [
          4189052804
         ],
         "yaxis": "y"
        },
        {
         "alignmentgroup": "True",
         "boxpoints": "all",
         "fillcolor": "rgba(255,255,255,0)",
         "hoveron": "points",
         "hovertemplate": "Artist=Camila Loures<br>Views=%{y}<extra></extra>",
         "jitter": 0,
         "legendgroup": "Camila Loures",
         "line": {
          "color": "rgba(255,255,255,0)"
         },
         "marker": {
          "color": "#EF553B",
          "symbol": "line-ew-open"
         },
         "name": "Camila Loures",
         "offsetgroup": "Camila Loures",
         "showlegend": false,
         "type": "box",
         "xaxis": "x2",
         "y": [
          4189052804
         ],
         "yaxis": "y2"
        },
        {
         "hovertemplate": "Artist=MalumaVEVO<br>Subscribers=%{x}<br>Views=%{marker.size}<extra></extra>",
         "legendgroup": "MalumaVEVO",
         "marker": {
          "color": "#00cc96",
          "size": [
           17905081262
          ],
          "sizemode": "area",
          "sizeref": 79383600,
          "symbol": "circle"
         },
         "mode": "markers",
         "name": "MalumaVEVO",
         "orientation": "v",
         "showlegend": true,
         "type": "scatter",
         "x": [
          14100000
         ],
         "xaxis": "x",
         "y": [
          17905081262
         ],
         "yaxis": "y"
        },
        {
         "alignmentgroup": "True",
         "boxpoints": "all",
         "fillcolor": "rgba(255,255,255,0)",
         "hoveron": "points",
         "hovertemplate": "Artist=MalumaVEVO<br>Views=%{y}<extra></extra>",
         "jitter": 0,
         "legendgroup": "MalumaVEVO",
         "line": {
          "color": "rgba(255,255,255,0)"
         },
         "marker": {
          "color": "#00cc96",
          "symbol": "line-ew-open"
         },
         "name": "MalumaVEVO",
         "offsetgroup": "MalumaVEVO",
         "showlegend": false,
         "type": "box",
         "xaxis": "x2",
         "y": [
          17905081262
         ],
         "yaxis": "y2"
        },
        {
         "hovertemplate": "Artist=Zee Music Classic<br>Subscribers=%{x}<br>Views=%{marker.size}<extra></extra>",
         "legendgroup": "Zee Music Classic",
         "marker": {
          "color": "#ab63fa",
          "size": [
           5021164640
          ],
          "sizemode": "area",
          "sizeref": 79383600,
          "symbol": "circle"
         },
         "mode": "markers",
         "name": "Zee Music Classic",
         "orientation": "v",
         "showlegend": true,
         "type": "scatter",
         "x": [
          14100000
         ],
         "xaxis": "x",
         "y": [
          5021164640
         ],
         "yaxis": "y"
        },
        {
         "alignmentgroup": "True",
         "boxpoints": "all",
         "fillcolor": "rgba(255,255,255,0)",
         "hoveron": "points",
         "hovertemplate": "Artist=Zee Music Classic<br>Views=%{y}<extra></extra>",
         "jitter": 0,
         "legendgroup": "Zee Music Classic",
         "line": {
          "color": "rgba(255,255,255,0)"
         },
         "marker": {
          "color": "#ab63fa",
          "symbol": "line-ew-open"
         },
         "name": "Zee Music Classic",
         "offsetgroup": "Zee Music Classic",
         "showlegend": false,
         "type": "box",
         "xaxis": "x2",
         "y": [
          5021164640
         ],
         "yaxis": "y2"
        },
        {
         "hovertemplate": "Artist=DM - Desi Melodies<br>Subscribers=%{x}<br>Views=%{marker.size}<extra></extra>",
         "legendgroup": "DM - Desi Melodies",
         "marker": {
          "color": "#FFA15A",
          "size": [
           5056080182
          ],
          "sizemode": "area",
          "sizeref": 79383600,
          "symbol": "circle"
         },
         "mode": "markers",
         "name": "DM - Desi Melodies",
         "orientation": "v",
         "showlegend": true,
         "type": "scatter",
         "x": [
          13900000
         ],
         "xaxis": "x",
         "y": [
          5056080182
         ],
         "yaxis": "y"
        },
        {
         "alignmentgroup": "True",
         "boxpoints": "all",
         "fillcolor": "rgba(255,255,255,0)",
         "hoveron": "points",
         "hovertemplate": "Artist=DM - Desi Melodies<br>Views=%{y}<extra></extra>",
         "jitter": 0,
         "legendgroup": "DM - Desi Melodies",
         "line": {
          "color": "rgba(255,255,255,0)"
         },
         "marker": {
          "color": "#FFA15A",
          "symbol": "line-ew-open"
         },
         "name": "DM - Desi Melodies",
         "offsetgroup": "DM - Desi Melodies",
         "showlegend": false,
         "type": "box",
         "xaxis": "x2",
         "y": [
          5056080182
         ],
         "yaxis": "y2"
        },
        {
         "hovertemplate": "Artist=Saad Lamjarred | سعد لمجرد<br>Subscribers=%{x}<br>Views=%{marker.size}<extra></extra>",
         "legendgroup": "Saad Lamjarred | سعد لمجرد",
         "marker": {
          "color": "#19d3f3",
          "size": [
           3931202248
          ],
          "sizemode": "area",
          "sizeref": 79383600,
          "symbol": "circle"
         },
         "mode": "markers",
         "name": "Saad Lamjarred | سعد لمجرد",
         "orientation": "v",
         "showlegend": true,
         "type": "scatter",
         "x": [
          13900000
         ],
         "xaxis": "x",
         "y": [
          3931202248
         ],
         "yaxis": "y"
        },
        {
         "alignmentgroup": "True",
         "boxpoints": "all",
         "fillcolor": "rgba(255,255,255,0)",
         "hoveron": "points",
         "hovertemplate": "Artist=Saad Lamjarred | سعد لمجرد<br>Views=%{y}<extra></extra>",
         "jitter": 0,
         "legendgroup": "Saad Lamjarred | سعد لمجرد",
         "line": {
          "color": "rgba(255,255,255,0)"
         },
         "marker": {
          "color": "#19d3f3",
          "symbol": "line-ew-open"
         },
         "name": "Saad Lamjarred | سعد لمجرد",
         "offsetgroup": "Saad Lamjarred | سعد لمجرد",
         "showlegend": false,
         "type": "box",
         "xaxis": "x2",
         "y": [
          3931202248
         ],
         "yaxis": "y2"
        },
        {
         "hovertemplate": "Artist=melanie martinez<br>Subscribers=%{x}<br>Views=%{marker.size}<extra></extra>",
         "legendgroup": "melanie martinez",
         "marker": {
          "color": "#FF6692",
          "size": [
           3835968267
          ],
          "sizemode": "area",
          "sizeref": 79383600,
          "symbol": "circle"
         },
         "mode": "markers",
         "name": "melanie martinez",
         "orientation": "v",
         "showlegend": true,
         "type": "scatter",
         "x": [
          13800000
         ],
         "xaxis": "x",
         "y": [
          3835968267
         ],
         "yaxis": "y"
        },
        {
         "alignmentgroup": "True",
         "boxpoints": "all",
         "fillcolor": "rgba(255,255,255,0)",
         "hoveron": "points",
         "hovertemplate": "Artist=melanie martinez<br>Views=%{y}<extra></extra>",
         "jitter": 0,
         "legendgroup": "melanie martinez",
         "line": {
          "color": "rgba(255,255,255,0)"
         },
         "marker": {
          "color": "#FF6692",
          "symbol": "line-ew-open"
         },
         "name": "melanie martinez",
         "offsetgroup": "melanie martinez",
         "showlegend": false,
         "type": "box",
         "xaxis": "x2",
         "y": [
          3835968267
         ],
         "yaxis": "y2"
        },
        {
         "hovertemplate": "Artist=50 Cent<br>Subscribers=%{x}<br>Views=%{marker.size}<extra></extra>",
         "legendgroup": "50 Cent",
         "marker": {
          "color": "#B6E880",
          "size": [
           8649139354
          ],
          "sizemode": "area",
          "sizeref": 79383600,
          "symbol": "circle"
         },
         "mode": "markers",
         "name": "50 Cent",
         "orientation": "v",
         "showlegend": true,
         "type": "scatter",
         "x": [
          13600000
         ],
         "xaxis": "x",
         "y": [
          8649139354
         ],
         "yaxis": "y"
        },
        {
         "alignmentgroup": "True",
         "boxpoints": "all",
         "fillcolor": "rgba(255,255,255,0)",
         "hoveron": "points",
         "hovertemplate": "Artist=50 Cent<br>Views=%{y}<extra></extra>",
         "jitter": 0,
         "legendgroup": "50 Cent",
         "line": {
          "color": "rgba(255,255,255,0)"
         },
         "marker": {
          "color": "#B6E880",
          "symbol": "line-ew-open"
         },
         "name": "50 Cent",
         "offsetgroup": "50 Cent",
         "showlegend": false,
         "type": "box",
         "xaxis": "x2",
         "y": [
          8649139354
         ],
         "yaxis": "y2"
        },
        {
         "hovertemplate": "Artist=Aadishakti Films<br>Subscribers=%{x}<br>Views=%{marker.size}<extra></extra>",
         "legendgroup": "Aadishakti Films",
         "marker": {
          "color": "#FF97FF",
          "size": [
           5860777243
          ],
          "sizemode": "area",
          "sizeref": 79383600,
          "symbol": "circle"
         },
         "mode": "markers",
         "name": "Aadishakti Films",
         "orientation": "v",
         "showlegend": true,
         "type": "scatter",
         "x": [
          13500000
         ],
         "xaxis": "x",
         "y": [
          5860777243
         ],
         "yaxis": "y"
        },
        {
         "alignmentgroup": "True",
         "boxpoints": "all",
         "fillcolor": "rgba(255,255,255,0)",
         "hoveron": "points",
         "hovertemplate": "Artist=Aadishakti Films<br>Views=%{y}<extra></extra>",
         "jitter": 0,
         "legendgroup": "Aadishakti Films",
         "line": {
          "color": "rgba(255,255,255,0)"
         },
         "marker": {
          "color": "#FF97FF",
          "symbol": "line-ew-open"
         },
         "name": "Aadishakti Films",
         "offsetgroup": "Aadishakti Films",
         "showlegend": false,
         "type": "box",
         "xaxis": "x2",
         "y": [
          5860777243
         ],
         "yaxis": "y2"
        },
        {
         "hovertemplate": "Artist=Neha Kakkar<br>Subscribers=%{x}<br>Views=%{marker.size}<extra></extra>",
         "legendgroup": "Neha Kakkar",
         "marker": {
          "color": "#FECB52",
          "size": [
           1792757553
          ],
          "sizemode": "area",
          "sizeref": 79383600,
          "symbol": "circle"
         },
         "mode": "markers",
         "name": "Neha Kakkar",
         "orientation": "v",
         "showlegend": true,
         "type": "scatter",
         "x": [
          13500000
         ],
         "xaxis": "x",
         "y": [
          1792757553
         ],
         "yaxis": "y"
        },
        {
         "alignmentgroup": "True",
         "boxpoints": "all",
         "fillcolor": "rgba(255,255,255,0)",
         "hoveron": "points",
         "hovertemplate": "Artist=Neha Kakkar<br>Views=%{y}<extra></extra>",
         "jitter": 0,
         "legendgroup": "Neha Kakkar",
         "line": {
          "color": "rgba(255,255,255,0)"
         },
         "marker": {
          "color": "#FECB52",
          "symbol": "line-ew-open"
         },
         "name": "Neha Kakkar",
         "offsetgroup": "Neha Kakkar",
         "showlegend": false,
         "type": "box",
         "xaxis": "x2",
         "y": [
          1792757553
         ],
         "yaxis": "y2"
        },
        {
         "hovertemplate": "Artist=Gallina Pintadita<br>Subscribers=%{x}<br>Views=%{marker.size}<extra></extra>",
         "legendgroup": "Gallina Pintadita",
         "marker": {
          "color": "#636efa",
          "size": [
           9054727117
          ],
          "sizemode": "area",
          "sizeref": 79383600,
          "symbol": "circle"
         },
         "mode": "markers",
         "name": "Gallina Pintadita",
         "orientation": "v",
         "showlegend": true,
         "type": "scatter",
         "x": [
          13400000
         ],
         "xaxis": "x",
         "y": [
          9054727117
         ],
         "yaxis": "y"
        },
        {
         "alignmentgroup": "True",
         "boxpoints": "all",
         "fillcolor": "rgba(255,255,255,0)",
         "hoveron": "points",
         "hovertemplate": "Artist=Gallina Pintadita<br>Views=%{y}<extra></extra>",
         "jitter": 0,
         "legendgroup": "Gallina Pintadita",
         "line": {
          "color": "rgba(255,255,255,0)"
         },
         "marker": {
          "color": "#636efa",
          "symbol": "line-ew-open"
         },
         "name": "Gallina Pintadita",
         "offsetgroup": "Gallina Pintadita",
         "showlegend": false,
         "type": "box",
         "xaxis": "x2",
         "y": [
          9054727117
         ],
         "yaxis": "y2"
        },
        {
         "hovertemplate": "Artist=Wesley Safadão<br>Subscribers=%{x}<br>Views=%{marker.size}<extra></extra>",
         "legendgroup": "Wesley Safadão",
         "marker": {
          "color": "#EF553B",
          "size": [
           7301307830
          ],
          "sizemode": "area",
          "sizeref": 79383600,
          "symbol": "circle"
         },
         "mode": "markers",
         "name": "Wesley Safadão",
         "orientation": "v",
         "showlegend": true,
         "type": "scatter",
         "x": [
          13400000
         ],
         "xaxis": "x",
         "y": [
          7301307830
         ],
         "yaxis": "y"
        },
        {
         "alignmentgroup": "True",
         "boxpoints": "all",
         "fillcolor": "rgba(255,255,255,0)",
         "hoveron": "points",
         "hovertemplate": "Artist=Wesley Safadão<br>Views=%{y}<extra></extra>",
         "jitter": 0,
         "legendgroup": "Wesley Safadão",
         "line": {
          "color": "rgba(255,255,255,0)"
         },
         "marker": {
          "color": "#EF553B",
          "symbol": "line-ew-open"
         },
         "name": "Wesley Safadão",
         "offsetgroup": "Wesley Safadão",
         "showlegend": false,
         "type": "box",
         "xaxis": "x2",
         "y": [
          7301307830
         ],
         "yaxis": "y2"
        },
        {
         "hovertemplate": "Artist=Lindsey Stirling<br>Subscribers=%{x}<br>Views=%{marker.size}<extra></extra>",
         "legendgroup": "Lindsey Stirling",
         "marker": {
          "color": "#00cc96",
          "size": [
           3533680308
          ],
          "sizemode": "area",
          "sizeref": 79383600,
          "symbol": "circle"
         },
         "mode": "markers",
         "name": "Lindsey Stirling",
         "orientation": "v",
         "showlegend": true,
         "type": "scatter",
         "x": [
          13400000
         ],
         "xaxis": "x",
         "y": [
          3533680308
         ],
         "yaxis": "y"
        },
        {
         "alignmentgroup": "True",
         "boxpoints": "all",
         "fillcolor": "rgba(255,255,255,0)",
         "hoveron": "points",
         "hovertemplate": "Artist=Lindsey Stirling<br>Views=%{y}<extra></extra>",
         "jitter": 0,
         "legendgroup": "Lindsey Stirling",
         "line": {
          "color": "rgba(255,255,255,0)"
         },
         "marker": {
          "color": "#00cc96",
          "symbol": "line-ew-open"
         },
         "name": "Lindsey Stirling",
         "offsetgroup": "Lindsey Stirling",
         "showlegend": false,
         "type": "box",
         "xaxis": "x2",
         "y": [
          3533680308
         ],
         "yaxis": "y2"
        },
        {
         "hovertemplate": "Artist=Kim Loaiza<br>Subscribers=%{x}<br>Views=%{marker.size}<extra></extra>",
         "legendgroup": "Kim Loaiza",
         "marker": {
          "color": "#ab63fa",
          "size": [
           1092248349
          ],
          "sizemode": "area",
          "sizeref": 79383600,
          "symbol": "circle"
         },
         "mode": "markers",
         "name": "Kim Loaiza",
         "orientation": "v",
         "showlegend": true,
         "type": "scatter",
         "x": [
          13400000
         ],
         "xaxis": "x",
         "y": [
          1092248349
         ],
         "yaxis": "y"
        },
        {
         "alignmentgroup": "True",
         "boxpoints": "all",
         "fillcolor": "rgba(255,255,255,0)",
         "hoveron": "points",
         "hovertemplate": "Artist=Kim Loaiza<br>Views=%{y}<extra></extra>",
         "jitter": 0,
         "legendgroup": "Kim Loaiza",
         "line": {
          "color": "rgba(255,255,255,0)"
         },
         "marker": {
          "color": "#ab63fa",
          "symbol": "line-ew-open"
         },
         "name": "Kim Loaiza",
         "offsetgroup": "Kim Loaiza",
         "showlegend": false,
         "type": "box",
         "xaxis": "x2",
         "y": [
          1092248349
         ],
         "yaxis": "y2"
        },
        {
         "hovertemplate": "Artist=jbalvinVEVO<br>Subscribers=%{x}<br>Views=%{marker.size}<extra></extra>",
         "legendgroup": "jbalvinVEVO",
         "marker": {
          "color": "#FFA15A",
          "size": [
           19691312985
          ],
          "sizemode": "area",
          "sizeref": 79383600,
          "symbol": "circle"
         },
         "mode": "markers",
         "name": "jbalvinVEVO",
         "orientation": "v",
         "showlegend": true,
         "type": "scatter",
         "x": [
          13300000
         ],
         "xaxis": "x",
         "y": [
          19691312985
         ],
         "yaxis": "y"
        },
        {
         "alignmentgroup": "True",
         "boxpoints": "all",
         "fillcolor": "rgba(255,255,255,0)",
         "hoveron": "points",
         "hovertemplate": "Artist=jbalvinVEVO<br>Views=%{y}<extra></extra>",
         "jitter": 0,
         "legendgroup": "jbalvinVEVO",
         "line": {
          "color": "rgba(255,255,255,0)"
         },
         "marker": {
          "color": "#FFA15A",
          "symbol": "line-ew-open"
         },
         "name": "jbalvinVEVO",
         "offsetgroup": "jbalvinVEVO",
         "showlegend": false,
         "type": "box",
         "xaxis": "x2",
         "y": [
          19691312985
         ],
         "yaxis": "y2"
        },
        {
         "hovertemplate": "Artist=Atlantic Records<br>Subscribers=%{x}<br>Views=%{marker.size}<extra></extra>",
         "legendgroup": "Atlantic Records",
         "marker": {
          "color": "#19d3f3",
          "size": [
           11695828552
          ],
          "sizemode": "area",
          "sizeref": 79383600,
          "symbol": "circle"
         },
         "mode": "markers",
         "name": "Atlantic Records",
         "orientation": "v",
         "showlegend": true,
         "type": "scatter",
         "x": [
          13300000
         ],
         "xaxis": "x",
         "y": [
          11695828552
         ],
         "yaxis": "y"
        },
        {
         "alignmentgroup": "True",
         "boxpoints": "all",
         "fillcolor": "rgba(255,255,255,0)",
         "hoveron": "points",
         "hovertemplate": "Artist=Atlantic Records<br>Views=%{y}<extra></extra>",
         "jitter": 0,
         "legendgroup": "Atlantic Records",
         "line": {
          "color": "rgba(255,255,255,0)"
         },
         "marker": {
          "color": "#19d3f3",
          "symbol": "line-ew-open"
         },
         "name": "Atlantic Records",
         "offsetgroup": "Atlantic Records",
         "showlegend": false,
         "type": "box",
         "xaxis": "x2",
         "y": [
          11695828552
         ],
         "yaxis": "y2"
        },
        {
         "hovertemplate": "Artist=Wish 107.5<br>Subscribers=%{x}<br>Views=%{marker.size}<extra></extra>",
         "legendgroup": "Wish 107.5",
         "marker": {
          "color": "#FF6692",
          "size": [
           5259245361
          ],
          "sizemode": "area",
          "sizeref": 79383600,
          "symbol": "circle"
         },
         "mode": "markers",
         "name": "Wish 107.5",
         "orientation": "v",
         "showlegend": true,
         "type": "scatter",
         "x": [
          13300000
         ],
         "xaxis": "x",
         "y": [
          5259245361
         ],
         "yaxis": "y"
        },
        {
         "alignmentgroup": "True",
         "boxpoints": "all",
         "fillcolor": "rgba(255,255,255,0)",
         "hoveron": "points",
         "hovertemplate": "Artist=Wish 107.5<br>Views=%{y}<extra></extra>",
         "jitter": 0,
         "legendgroup": "Wish 107.5",
         "line": {
          "color": "rgba(255,255,255,0)"
         },
         "marker": {
          "color": "#FF6692",
          "symbol": "line-ew-open"
         },
         "name": "Wish 107.5",
         "offsetgroup": "Wish 107.5",
         "showlegend": false,
         "type": "box",
         "xaxis": "x2",
         "y": [
          5259245361
         ],
         "yaxis": "y2"
        },
        {
         "hovertemplate": "Artist=SRK MUSIC<br>Subscribers=%{x}<br>Views=%{marker.size}<extra></extra>",
         "legendgroup": "SRK MUSIC",
         "marker": {
          "color": "#B6E880",
          "size": [
           5680652976
          ],
          "sizemode": "area",
          "sizeref": 79383600,
          "symbol": "circle"
         },
         "mode": "markers",
         "name": "SRK MUSIC",
         "orientation": "v",
         "showlegend": true,
         "type": "scatter",
         "x": [
          13100000
         ],
         "xaxis": "x",
         "y": [
          5680652976
         ],
         "yaxis": "y"
        },
        {
         "alignmentgroup": "True",
         "boxpoints": "all",
         "fillcolor": "rgba(255,255,255,0)",
         "hoveron": "points",
         "hovertemplate": "Artist=SRK MUSIC<br>Views=%{y}<extra></extra>",
         "jitter": 0,
         "legendgroup": "SRK MUSIC",
         "line": {
          "color": "rgba(255,255,255,0)"
         },
         "marker": {
          "color": "#B6E880",
          "symbol": "line-ew-open"
         },
         "name": "SRK MUSIC",
         "offsetgroup": "SRK MUSIC",
         "showlegend": false,
         "type": "box",
         "xaxis": "x2",
         "y": [
          5680652976
         ],
         "yaxis": "y2"
        },
        {
         "hovertemplate": "Artist=EnriqueIglesiasVEVO<br>Subscribers=%{x}<br>Views=%{marker.size}<extra></extra>",
         "legendgroup": "EnriqueIglesiasVEVO",
         "marker": {
          "color": "#FF97FF",
          "size": [
           14773705750
          ],
          "sizemode": "area",
          "sizeref": 79383600,
          "symbol": "circle"
         },
         "mode": "markers",
         "name": "EnriqueIglesiasVEVO",
         "orientation": "v",
         "showlegend": true,
         "type": "scatter",
         "x": [
          13000000
         ],
         "xaxis": "x",
         "y": [
          14773705750
         ],
         "yaxis": "y"
        },
        {
         "alignmentgroup": "True",
         "boxpoints": "all",
         "fillcolor": "rgba(255,255,255,0)",
         "hoveron": "points",
         "hovertemplate": "Artist=EnriqueIglesiasVEVO<br>Views=%{y}<extra></extra>",
         "jitter": 0,
         "legendgroup": "EnriqueIglesiasVEVO",
         "line": {
          "color": "rgba(255,255,255,0)"
         },
         "marker": {
          "color": "#FF97FF",
          "symbol": "line-ew-open"
         },
         "name": "EnriqueIglesiasVEVO",
         "offsetgroup": "EnriqueIglesiasVEVO",
         "showlegend": false,
         "type": "box",
         "xaxis": "x2",
         "y": [
          14773705750
         ],
         "yaxis": "y2"
        },
        {
         "hovertemplate": "Artist=Conor Maynard<br>Subscribers=%{x}<br>Views=%{marker.size}<extra></extra>",
         "legendgroup": "Conor Maynard",
         "marker": {
          "color": "#FECB52",
          "size": [
           2581452824
          ],
          "sizemode": "area",
          "sizeref": 79383600,
          "symbol": "circle"
         },
         "mode": "markers",
         "name": "Conor Maynard",
         "orientation": "v",
         "showlegend": true,
         "type": "scatter",
         "x": [
          13000000
         ],
         "xaxis": "x",
         "y": [
          2581452824
         ],
         "yaxis": "y"
        },
        {
         "alignmentgroup": "True",
         "boxpoints": "all",
         "fillcolor": "rgba(255,255,255,0)",
         "hoveron": "points",
         "hovertemplate": "Artist=Conor Maynard<br>Views=%{y}<extra></extra>",
         "jitter": 0,
         "legendgroup": "Conor Maynard",
         "line": {
          "color": "rgba(255,255,255,0)"
         },
         "marker": {
          "color": "#FECB52",
          "symbol": "line-ew-open"
         },
         "name": "Conor Maynard",
         "offsetgroup": "Conor Maynard",
         "showlegend": false,
         "type": "box",
         "xaxis": "x2",
         "y": [
          2581452824
         ],
         "yaxis": "y2"
        },
        {
         "hovertemplate": "Artist=Coke Studio<br>Subscribers=%{x}<br>Views=%{marker.size}<extra></extra>",
         "legendgroup": "Coke Studio",
         "marker": {
          "color": "#636efa",
          "size": [
           3274234309
          ],
          "sizemode": "area",
          "sizeref": 79383600,
          "symbol": "circle"
         },
         "mode": "markers",
         "name": "Coke Studio",
         "orientation": "v",
         "showlegend": true,
         "type": "scatter",
         "x": [
          12900000
         ],
         "xaxis": "x",
         "y": [
          3274234309
         ],
         "yaxis": "y"
        },
        {
         "alignmentgroup": "True",
         "boxpoints": "all",
         "fillcolor": "rgba(255,255,255,0)",
         "hoveron": "points",
         "hovertemplate": "Artist=Coke Studio<br>Views=%{y}<extra></extra>",
         "jitter": 0,
         "legendgroup": "Coke Studio",
         "line": {
          "color": "rgba(255,255,255,0)"
         },
         "marker": {
          "color": "#636efa",
          "symbol": "line-ew-open"
         },
         "name": "Coke Studio",
         "offsetgroup": "Coke Studio",
         "showlegend": false,
         "type": "box",
         "xaxis": "x2",
         "y": [
          3274234309
         ],
         "yaxis": "y2"
        },
        {
         "hovertemplate": "Artist=BeyoncéVEVO<br>Subscribers=%{x}<br>Views=%{marker.size}<extra></extra>",
         "legendgroup": "BeyoncéVEVO",
         "marker": {
          "color": "#EF553B",
          "size": [
           13130570880
          ],
          "sizemode": "area",
          "sizeref": 79383600,
          "symbol": "circle"
         },
         "mode": "markers",
         "name": "BeyoncéVEVO",
         "orientation": "v",
         "showlegend": true,
         "type": "scatter",
         "x": [
          12900000
         ],
         "xaxis": "x",
         "y": [
          13130570880
         ],
         "yaxis": "y"
        },
        {
         "alignmentgroup": "True",
         "boxpoints": "all",
         "fillcolor": "rgba(255,255,255,0)",
         "hoveron": "points",
         "hovertemplate": "Artist=BeyoncéVEVO<br>Views=%{y}<extra></extra>",
         "jitter": 0,
         "legendgroup": "BeyoncéVEVO",
         "line": {
          "color": "rgba(255,255,255,0)"
         },
         "marker": {
          "color": "#EF553B",
          "symbol": "line-ew-open"
         },
         "name": "BeyoncéVEVO",
         "offsetgroup": "BeyoncéVEVO",
         "showlegend": false,
         "type": "box",
         "xaxis": "x2",
         "y": [
          13130570880
         ],
         "yaxis": "y2"
        },
        {
         "hovertemplate": "Artist=O Reino Infantil<br>Subscribers=%{x}<br>Views=%{marker.size}<extra></extra>",
         "legendgroup": "O Reino Infantil",
         "marker": {
          "color": "#00cc96",
          "size": [
           9539435945
          ],
          "sizemode": "area",
          "sizeref": 79383600,
          "symbol": "circle"
         },
         "mode": "markers",
         "name": "O Reino Infantil",
         "orientation": "v",
         "showlegend": true,
         "type": "scatter",
         "x": [
          12900000
         ],
         "xaxis": "x",
         "y": [
          9539435945
         ],
         "yaxis": "y"
        },
        {
         "alignmentgroup": "True",
         "boxpoints": "all",
         "fillcolor": "rgba(255,255,255,0)",
         "hoveron": "points",
         "hovertemplate": "Artist=O Reino Infantil<br>Views=%{y}<extra></extra>",
         "jitter": 0,
         "legendgroup": "O Reino Infantil",
         "line": {
          "color": "rgba(255,255,255,0)"
         },
         "marker": {
          "color": "#00cc96",
          "symbol": "line-ew-open"
         },
         "name": "O Reino Infantil",
         "offsetgroup": "O Reino Infantil",
         "showlegend": false,
         "type": "box",
         "xaxis": "x2",
         "y": [
          9539435945
         ],
         "yaxis": "y2"
        },
        {
         "hovertemplate": "Artist=twenty one pilots<br>Subscribers=%{x}<br>Views=%{marker.size}<extra></extra>",
         "legendgroup": "twenty one pilots",
         "marker": {
          "color": "#ab63fa",
          "size": [
           4621224472
          ],
          "sizemode": "area",
          "sizeref": 79383600,
          "symbol": "circle"
         },
         "mode": "markers",
         "name": "twenty one pilots",
         "orientation": "v",
         "showlegend": true,
         "type": "scatter",
         "x": [
          12900000
         ],
         "xaxis": "x",
         "y": [
          4621224472
         ],
         "yaxis": "y"
        },
        {
         "alignmentgroup": "True",
         "boxpoints": "all",
         "fillcolor": "rgba(255,255,255,0)",
         "hoveron": "points",
         "hovertemplate": "Artist=twenty one pilots<br>Views=%{y}<extra></extra>",
         "jitter": 0,
         "legendgroup": "twenty one pilots",
         "line": {
          "color": "rgba(255,255,255,0)"
         },
         "marker": {
          "color": "#ab63fa",
          "symbol": "line-ew-open"
         },
         "name": "twenty one pilots",
         "offsetgroup": "twenty one pilots",
         "showlegend": false,
         "type": "box",
         "xaxis": "x2",
         "y": [
          4621224472
         ],
         "yaxis": "y2"
        },
        {
         "hovertemplate": "Artist=Crazy Frog<br>Subscribers=%{x}<br>Views=%{marker.size}<extra></extra>",
         "legendgroup": "Crazy Frog",
         "marker": {
          "color": "#FFA15A",
          "size": [
           6887508307
          ],
          "sizemode": "area",
          "sizeref": 79383600,
          "symbol": "circle"
         },
         "mode": "markers",
         "name": "Crazy Frog",
         "orientation": "v",
         "showlegend": true,
         "type": "scatter",
         "x": [
          12800000
         ],
         "xaxis": "x",
         "y": [
          6887508307
         ],
         "yaxis": "y"
        },
        {
         "alignmentgroup": "True",
         "boxpoints": "all",
         "fillcolor": "rgba(255,255,255,0)",
         "hoveron": "points",
         "hovertemplate": "Artist=Crazy Frog<br>Views=%{y}<extra></extra>",
         "jitter": 0,
         "legendgroup": "Crazy Frog",
         "line": {
          "color": "rgba(255,255,255,0)"
         },
         "marker": {
          "color": "#FFA15A",
          "symbol": "line-ew-open"
         },
         "name": "Crazy Frog",
         "offsetgroup": "Crazy Frog",
         "showlegend": false,
         "type": "box",
         "xaxis": "x2",
         "y": [
          6887508307
         ],
         "yaxis": "y2"
        },
        {
         "hovertemplate": "Artist=Katakit Baby TV<br>Subscribers=%{x}<br>Views=%{marker.size}<extra></extra>",
         "legendgroup": "Katakit Baby TV",
         "marker": {
          "color": "#19d3f3",
          "size": [
           5243185280
          ],
          "sizemode": "area",
          "sizeref": 79383600,
          "symbol": "circle"
         },
         "mode": "markers",
         "name": "Katakit Baby TV",
         "orientation": "v",
         "showlegend": true,
         "type": "scatter",
         "x": [
          12800000
         ],
         "xaxis": "x",
         "y": [
          5243185280
         ],
         "yaxis": "y"
        },
        {
         "alignmentgroup": "True",
         "boxpoints": "all",
         "fillcolor": "rgba(255,255,255,0)",
         "hoveron": "points",
         "hovertemplate": "Artist=Katakit Baby TV<br>Views=%{y}<extra></extra>",
         "jitter": 0,
         "legendgroup": "Katakit Baby TV",
         "line": {
          "color": "rgba(255,255,255,0)"
         },
         "marker": {
          "color": "#19d3f3",
          "symbol": "line-ew-open"
         },
         "name": "Katakit Baby TV",
         "offsetgroup": "Katakit Baby TV",
         "showlegend": false,
         "type": "box",
         "xaxis": "x2",
         "y": [
          5243185280
         ],
         "yaxis": "y2"
        },
        {
         "hovertemplate": "Artist=NickiMinajAtVEVO<br>Subscribers=%{x}<br>Views=%{marker.size}<extra></extra>",
         "legendgroup": "NickiMinajAtVEVO",
         "marker": {
          "color": "#FF6692",
          "size": [
           8367047990
          ],
          "sizemode": "area",
          "sizeref": 79383600,
          "symbol": "circle"
         },
         "mode": "markers",
         "name": "NickiMinajAtVEVO",
         "orientation": "v",
         "showlegend": true,
         "type": "scatter",
         "x": [
          12700000
         ],
         "xaxis": "x",
         "y": [
          8367047990
         ],
         "yaxis": "y"
        },
        {
         "alignmentgroup": "True",
         "boxpoints": "all",
         "fillcolor": "rgba(255,255,255,0)",
         "hoveron": "points",
         "hovertemplate": "Artist=NickiMinajAtVEVO<br>Views=%{y}<extra></extra>",
         "jitter": 0,
         "legendgroup": "NickiMinajAtVEVO",
         "line": {
          "color": "rgba(255,255,255,0)"
         },
         "marker": {
          "color": "#FF6692",
          "symbol": "line-ew-open"
         },
         "name": "NickiMinajAtVEVO",
         "offsetgroup": "NickiMinajAtVEVO",
         "showlegend": false,
         "type": "box",
         "xaxis": "x2",
         "y": [
          8367047990
         ],
         "yaxis": "y2"
        },
        {
         "hovertemplate": "Artist=Hungria Hip Hop<br>Subscribers=%{x}<br>Views=%{marker.size}<extra></extra>",
         "legendgroup": "Hungria Hip Hop",
         "marker": {
          "color": "#B6E880",
          "size": [
           3960601978
          ],
          "sizemode": "area",
          "sizeref": 79383600,
          "symbol": "circle"
         },
         "mode": "markers",
         "name": "Hungria Hip Hop",
         "orientation": "v",
         "showlegend": true,
         "type": "scatter",
         "x": [
          12600000
         ],
         "xaxis": "x",
         "y": [
          3960601978
         ],
         "yaxis": "y"
        },
        {
         "alignmentgroup": "True",
         "boxpoints": "all",
         "fillcolor": "rgba(255,255,255,0)",
         "hoveron": "points",
         "hovertemplate": "Artist=Hungria Hip Hop<br>Views=%{y}<extra></extra>",
         "jitter": 0,
         "legendgroup": "Hungria Hip Hop",
         "line": {
          "color": "rgba(255,255,255,0)"
         },
         "marker": {
          "color": "#B6E880",
          "symbol": "line-ew-open"
         },
         "name": "Hungria Hip Hop",
         "offsetgroup": "Hungria Hip Hop",
         "showlegend": false,
         "type": "box",
         "xaxis": "x2",
         "y": [
          3960601978
         ],
         "yaxis": "y2"
        },
        {
         "hovertemplate": "Artist=7 Minutoz<br>Subscribers=%{x}<br>Views=%{marker.size}<extra></extra>",
         "legendgroup": "7 Minutoz",
         "marker": {
          "color": "#FF97FF",
          "size": [
           3916931694
          ],
          "sizemode": "area",
          "sizeref": 79383600,
          "symbol": "circle"
         },
         "mode": "markers",
         "name": "7 Minutoz",
         "orientation": "v",
         "showlegend": true,
         "type": "scatter",
         "x": [
          12600000
         ],
         "xaxis": "x",
         "y": [
          3916931694
         ],
         "yaxis": "y"
        },
        {
         "alignmentgroup": "True",
         "boxpoints": "all",
         "fillcolor": "rgba(255,255,255,0)",
         "hoveron": "points",
         "hovertemplate": "Artist=7 Minutoz<br>Views=%{y}<extra></extra>",
         "jitter": 0,
         "legendgroup": "7 Minutoz",
         "line": {
          "color": "rgba(255,255,255,0)"
         },
         "marker": {
          "color": "#FF97FF",
          "symbol": "line-ew-open"
         },
         "name": "7 Minutoz",
         "offsetgroup": "7 Minutoz",
         "showlegend": false,
         "type": "box",
         "xaxis": "x2",
         "y": [
          3916931694
         ],
         "yaxis": "y2"
        },
        {
         "hovertemplate": "Artist=Awakening Music<br>Subscribers=%{x}<br>Views=%{marker.size}<extra></extra>",
         "legendgroup": "Awakening Music",
         "marker": {
          "color": "#FECB52",
          "size": [
           4944109812
          ],
          "sizemode": "area",
          "sizeref": 79383600,
          "symbol": "circle"
         },
         "mode": "markers",
         "name": "Awakening Music",
         "orientation": "v",
         "showlegend": true,
         "type": "scatter",
         "x": [
          12500000
         ],
         "xaxis": "x",
         "y": [
          4944109812
         ],
         "yaxis": "y"
        },
        {
         "alignmentgroup": "True",
         "boxpoints": "all",
         "fillcolor": "rgba(255,255,255,0)",
         "hoveron": "points",
         "hovertemplate": "Artist=Awakening Music<br>Views=%{y}<extra></extra>",
         "jitter": 0,
         "legendgroup": "Awakening Music",
         "line": {
          "color": "rgba(255,255,255,0)"
         },
         "marker": {
          "color": "#FECB52",
          "symbol": "line-ew-open"
         },
         "name": "Awakening Music",
         "offsetgroup": "Awakening Music",
         "showlegend": false,
         "type": "box",
         "xaxis": "x2",
         "y": [
          4944109812
         ],
         "yaxis": "y2"
        },
        {
         "hovertemplate": "Artist=Lokdhun Punjabi<br>Subscribers=%{x}<br>Views=%{marker.size}<extra></extra>",
         "legendgroup": "Lokdhun Punjabi",
         "marker": {
          "color": "#636efa",
          "size": [
           4372757487
          ],
          "sizemode": "area",
          "sizeref": 79383600,
          "symbol": "circle"
         },
         "mode": "markers",
         "name": "Lokdhun Punjabi",
         "orientation": "v",
         "showlegend": true,
         "type": "scatter",
         "x": [
          12500000
         ],
         "xaxis": "x",
         "y": [
          4372757487
         ],
         "yaxis": "y"
        },
        {
         "alignmentgroup": "True",
         "boxpoints": "all",
         "fillcolor": "rgba(255,255,255,0)",
         "hoveron": "points",
         "hovertemplate": "Artist=Lokdhun Punjabi<br>Views=%{y}<extra></extra>",
         "jitter": 0,
         "legendgroup": "Lokdhun Punjabi",
         "line": {
          "color": "rgba(255,255,255,0)"
         },
         "marker": {
          "color": "#636efa",
          "symbol": "line-ew-open"
         },
         "name": "Lokdhun Punjabi",
         "offsetgroup": "Lokdhun Punjabi",
         "showlegend": false,
         "type": "box",
         "xaxis": "x2",
         "y": [
          4372757487
         ],
         "yaxis": "y2"
        },
        {
         "hovertemplate": "Artist=elliegoulding<br>Subscribers=%{x}<br>Views=%{marker.size}<extra></extra>",
         "legendgroup": "elliegoulding",
         "marker": {
          "color": "#EF553B",
          "size": [
           6556822629
          ],
          "sizemode": "area",
          "sizeref": 79383600,
          "symbol": "circle"
         },
         "mode": "markers",
         "name": "elliegoulding",
         "orientation": "v",
         "showlegend": true,
         "type": "scatter",
         "x": [
          12400000
         ],
         "xaxis": "x",
         "y": [
          6556822629
         ],
         "yaxis": "y"
        },
        {
         "alignmentgroup": "True",
         "boxpoints": "all",
         "fillcolor": "rgba(255,255,255,0)",
         "hoveron": "points",
         "hovertemplate": "Artist=elliegoulding<br>Views=%{y}<extra></extra>",
         "jitter": 0,
         "legendgroup": "elliegoulding",
         "line": {
          "color": "rgba(255,255,255,0)"
         },
         "marker": {
          "color": "#EF553B",
          "symbol": "line-ew-open"
         },
         "name": "elliegoulding",
         "offsetgroup": "elliegoulding",
         "showlegend": false,
         "type": "box",
         "xaxis": "x2",
         "y": [
          6556822629
         ],
         "yaxis": "y2"
        },
        {
         "hovertemplate": "Artist=Sony Music South<br>Subscribers=%{x}<br>Views=%{marker.size}<extra></extra>",
         "legendgroup": "Sony Music South",
         "marker": {
          "color": "#00cc96",
          "size": [
           7036027389
          ],
          "sizemode": "area",
          "sizeref": 79383600,
          "symbol": "circle"
         },
         "mode": "markers",
         "name": "Sony Music South",
         "orientation": "v",
         "showlegend": true,
         "type": "scatter",
         "x": [
          12400000
         ],
         "xaxis": "x",
         "y": [
          7036027389
         ],
         "yaxis": "y"
        },
        {
         "alignmentgroup": "True",
         "boxpoints": "all",
         "fillcolor": "rgba(255,255,255,0)",
         "hoveron": "points",
         "hovertemplate": "Artist=Sony Music South<br>Views=%{y}<extra></extra>",
         "jitter": 0,
         "legendgroup": "Sony Music South",
         "line": {
          "color": "rgba(255,255,255,0)"
         },
         "marker": {
          "color": "#00cc96",
          "symbol": "line-ew-open"
         },
         "name": "Sony Music South",
         "offsetgroup": "Sony Music South",
         "showlegend": false,
         "type": "box",
         "xaxis": "x2",
         "y": [
          7036027389
         ],
         "yaxis": "y2"
        },
        {
         "hovertemplate": "Artist=DJ Khaled<br>Subscribers=%{x}<br>Views=%{marker.size}<extra></extra>",
         "legendgroup": "DJ Khaled",
         "marker": {
          "color": "#ab63fa",
          "size": [
           6054112231
          ],
          "sizemode": "area",
          "sizeref": 79383600,
          "symbol": "circle"
         },
         "mode": "markers",
         "name": "DJ Khaled",
         "orientation": "v",
         "showlegend": true,
         "type": "scatter",
         "x": [
          12400000
         ],
         "xaxis": "x",
         "y": [
          6054112231
         ],
         "yaxis": "y"
        },
        {
         "alignmentgroup": "True",
         "boxpoints": "all",
         "fillcolor": "rgba(255,255,255,0)",
         "hoveron": "points",
         "hovertemplate": "Artist=DJ Khaled<br>Views=%{y}<extra></extra>",
         "jitter": 0,
         "legendgroup": "DJ Khaled",
         "line": {
          "color": "rgba(255,255,255,0)"
         },
         "marker": {
          "color": "#ab63fa",
          "symbol": "line-ew-open"
         },
         "name": "DJ Khaled",
         "offsetgroup": "DJ Khaled",
         "showlegend": false,
         "type": "box",
         "xaxis": "x2",
         "y": [
          6054112231
         ],
         "yaxis": "y2"
        },
        {
         "hovertemplate": "Artist=Adexe & Nau<br>Subscribers=%{x}<br>Views=%{marker.size}<extra></extra>",
         "legendgroup": "Adexe & Nau",
         "marker": {
          "color": "#FFA15A",
          "size": [
           4440271314
          ],
          "sizemode": "area",
          "sizeref": 79383600,
          "symbol": "circle"
         },
         "mode": "markers",
         "name": "Adexe & Nau",
         "orientation": "v",
         "showlegend": true,
         "type": "scatter",
         "x": [
          12400000
         ],
         "xaxis": "x",
         "y": [
          4440271314
         ],
         "yaxis": "y"
        },
        {
         "alignmentgroup": "True",
         "boxpoints": "all",
         "fillcolor": "rgba(255,255,255,0)",
         "hoveron": "points",
         "hovertemplate": "Artist=Adexe & Nau<br>Views=%{y}<extra></extra>",
         "jitter": 0,
         "legendgroup": "Adexe & Nau",
         "line": {
          "color": "rgba(255,255,255,0)"
         },
         "marker": {
          "color": "#FFA15A",
          "symbol": "line-ew-open"
         },
         "name": "Adexe & Nau",
         "offsetgroup": "Adexe & Nau",
         "showlegend": false,
         "type": "box",
         "xaxis": "x2",
         "y": [
          4440271314
         ],
         "yaxis": "y2"
        },
        {
         "hovertemplate": "Artist=DisneyChannelUK<br>Subscribers=%{x}<br>Views=%{marker.size}<extra></extra>",
         "legendgroup": "DisneyChannelUK",
         "marker": {
          "color": "#19d3f3",
          "size": [
           11606288094
          ],
          "sizemode": "area",
          "sizeref": 79383600,
          "symbol": "circle"
         },
         "mode": "markers",
         "name": "DisneyChannelUK",
         "orientation": "v",
         "showlegend": true,
         "type": "scatter",
         "x": [
          12300000
         ],
         "xaxis": "x",
         "y": [
          11606288094
         ],
         "yaxis": "y"
        },
        {
         "alignmentgroup": "True",
         "boxpoints": "all",
         "fillcolor": "rgba(255,255,255,0)",
         "hoveron": "points",
         "hovertemplate": "Artist=DisneyChannelUK<br>Views=%{y}<extra></extra>",
         "jitter": 0,
         "legendgroup": "DisneyChannelUK",
         "line": {
          "color": "rgba(255,255,255,0)"
         },
         "marker": {
          "color": "#19d3f3",
          "symbol": "line-ew-open"
         },
         "name": "DisneyChannelUK",
         "offsetgroup": "DisneyChannelUK",
         "showlegend": false,
         "type": "box",
         "xaxis": "x2",
         "y": [
          11606288094
         ],
         "yaxis": "y2"
        },
        {
         "hovertemplate": "Artist=Think Music India<br>Subscribers=%{x}<br>Views=%{marker.size}<extra></extra>",
         "legendgroup": "Think Music India",
         "marker": {
          "color": "#FF6692",
          "size": [
           8959285840
          ],
          "sizemode": "area",
          "sizeref": 79383600,
          "symbol": "circle"
         },
         "mode": "markers",
         "name": "Think Music India",
         "orientation": "v",
         "showlegend": true,
         "type": "scatter",
         "x": [
          12200000
         ],
         "xaxis": "x",
         "y": [
          8959285840
         ],
         "yaxis": "y"
        },
        {
         "alignmentgroup": "True",
         "boxpoints": "all",
         "fillcolor": "rgba(255,255,255,0)",
         "hoveron": "points",
         "hovertemplate": "Artist=Think Music India<br>Views=%{y}<extra></extra>",
         "jitter": 0,
         "legendgroup": "Think Music India",
         "line": {
          "color": "rgba(255,255,255,0)"
         },
         "marker": {
          "color": "#FF6692",
          "symbol": "line-ew-open"
         },
         "name": "Think Music India",
         "offsetgroup": "Think Music India",
         "showlegend": false,
         "type": "box",
         "xaxis": "x2",
         "y": [
          8959285840
         ],
         "yaxis": "y2"
        },
        {
         "hovertemplate": "Artist=Future<br>Subscribers=%{x}<br>Views=%{marker.size}<extra></extra>",
         "legendgroup": "Future",
         "marker": {
          "color": "#B6E880",
          "size": [
           8747974258
          ],
          "sizemode": "area",
          "sizeref": 79383600,
          "symbol": "circle"
         },
         "mode": "markers",
         "name": "Future",
         "orientation": "v",
         "showlegend": true,
         "type": "scatter",
         "x": [
          12100000
         ],
         "xaxis": "x",
         "y": [
          8747974258
         ],
         "yaxis": "y"
        },
        {
         "alignmentgroup": "True",
         "boxpoints": "all",
         "fillcolor": "rgba(255,255,255,0)",
         "hoveron": "points",
         "hovertemplate": "Artist=Future<br>Views=%{y}<extra></extra>",
         "jitter": 0,
         "legendgroup": "Future",
         "line": {
          "color": "rgba(255,255,255,0)"
         },
         "marker": {
          "color": "#B6E880",
          "symbol": "line-ew-open"
         },
         "name": "Future",
         "offsetgroup": "Future",
         "showlegend": false,
         "type": "box",
         "xaxis": "x2",
         "y": [
          8747974258
         ],
         "yaxis": "y2"
        },
        {
         "hovertemplate": "Artist=Codiscos<br>Subscribers=%{x}<br>Views=%{marker.size}<extra></extra>",
         "legendgroup": "Codiscos",
         "marker": {
          "color": "#FF97FF",
          "size": [
           9823385812
          ],
          "sizemode": "area",
          "sizeref": 79383600,
          "symbol": "circle"
         },
         "mode": "markers",
         "name": "Codiscos",
         "orientation": "v",
         "showlegend": true,
         "type": "scatter",
         "x": [
          12100000
         ],
         "xaxis": "x",
         "y": [
          9823385812
         ],
         "yaxis": "y"
        },
        {
         "alignmentgroup": "True",
         "boxpoints": "all",
         "fillcolor": "rgba(255,255,255,0)",
         "hoveron": "points",
         "hovertemplate": "Artist=Codiscos<br>Views=%{y}<extra></extra>",
         "jitter": 0,
         "legendgroup": "Codiscos",
         "line": {
          "color": "rgba(255,255,255,0)"
         },
         "marker": {
          "color": "#FF97FF",
          "symbol": "line-ew-open"
         },
         "name": "Codiscos",
         "offsetgroup": "Codiscos",
         "showlegend": false,
         "type": "box",
         "xaxis": "x2",
         "y": [
          9823385812
         ],
         "yaxis": "y2"
        },
        {
         "hovertemplate": "Artist=Jass Records<br>Subscribers=%{x}<br>Views=%{marker.size}<extra></extra>",
         "legendgroup": "Jass Records",
         "marker": {
          "color": "#FECB52",
          "size": [
           5294095545
          ],
          "sizemode": "area",
          "sizeref": 79383600,
          "symbol": "circle"
         },
         "mode": "markers",
         "name": "Jass Records",
         "orientation": "v",
         "showlegend": true,
         "type": "scatter",
         "x": [
          12100000
         ],
         "xaxis": "x",
         "y": [
          5294095545
         ],
         "yaxis": "y"
        },
        {
         "alignmentgroup": "True",
         "boxpoints": "all",
         "fillcolor": "rgba(255,255,255,0)",
         "hoveron": "points",
         "hovertemplate": "Artist=Jass Records<br>Views=%{y}<extra></extra>",
         "jitter": 0,
         "legendgroup": "Jass Records",
         "line": {
          "color": "rgba(255,255,255,0)"
         },
         "marker": {
          "color": "#FECB52",
          "symbol": "line-ew-open"
         },
         "name": "Jass Records",
         "offsetgroup": "Jass Records",
         "showlegend": false,
         "type": "box",
         "xaxis": "x2",
         "y": [
          5294095545
         ],
         "yaxis": "y2"
        },
        {
         "hovertemplate": "Artist=ChrisBrownVEVO<br>Subscribers=%{x}<br>Views=%{marker.size}<extra></extra>",
         "legendgroup": "ChrisBrownVEVO",
         "marker": {
          "color": "#636efa",
          "size": [
           12493403632
          ],
          "sizemode": "area",
          "sizeref": 79383600,
          "symbol": "circle"
         },
         "mode": "markers",
         "name": "ChrisBrownVEVO",
         "orientation": "v",
         "showlegend": true,
         "type": "scatter",
         "x": [
          12000000
         ],
         "xaxis": "x",
         "y": [
          12493403632
         ],
         "yaxis": "y"
        },
        {
         "alignmentgroup": "True",
         "boxpoints": "all",
         "fillcolor": "rgba(255,255,255,0)",
         "hoveron": "points",
         "hovertemplate": "Artist=ChrisBrownVEVO<br>Views=%{y}<extra></extra>",
         "jitter": 0,
         "legendgroup": "ChrisBrownVEVO",
         "line": {
          "color": "rgba(255,255,255,0)"
         },
         "marker": {
          "color": "#636efa",
          "symbol": "line-ew-open"
         },
         "name": "ChrisBrownVEVO",
         "offsetgroup": "ChrisBrownVEVO",
         "showlegend": false,
         "type": "box",
         "xaxis": "x2",
         "y": [
          12493403632
         ],
         "yaxis": "y2"
        },
        {
         "hovertemplate": "Artist=Migos ATL<br>Subscribers=%{x}<br>Views=%{marker.size}<extra></extra>",
         "legendgroup": "Migos ATL",
         "marker": {
          "color": "#EF553B",
          "size": [
           6370982440
          ],
          "sizemode": "area",
          "sizeref": 79383600,
          "symbol": "circle"
         },
         "mode": "markers",
         "name": "Migos ATL",
         "orientation": "v",
         "showlegend": true,
         "type": "scatter",
         "x": [
          12000000
         ],
         "xaxis": "x",
         "y": [
          6370982440
         ],
         "yaxis": "y"
        },
        {
         "alignmentgroup": "True",
         "boxpoints": "all",
         "fillcolor": "rgba(255,255,255,0)",
         "hoveron": "points",
         "hovertemplate": "Artist=Migos ATL<br>Views=%{y}<extra></extra>",
         "jitter": 0,
         "legendgroup": "Migos ATL",
         "line": {
          "color": "rgba(255,255,255,0)"
         },
         "marker": {
          "color": "#EF553B",
          "symbol": "line-ew-open"
         },
         "name": "Migos ATL",
         "offsetgroup": "Migos ATL",
         "showlegend": false,
         "type": "box",
         "xaxis": "x2",
         "y": [
          6370982440
         ],
         "yaxis": "y2"
        },
        {
         "hovertemplate": "Artist=Lana Del Rey<br>Subscribers=%{x}<br>Views=%{marker.size}<extra></extra>",
         "legendgroup": "Lana Del Rey",
         "marker": {
          "color": "#00cc96",
          "size": [
           5676001571
          ],
          "sizemode": "area",
          "sizeref": 79383600,
          "symbol": "circle"
         },
         "mode": "markers",
         "name": "Lana Del Rey",
         "orientation": "v",
         "showlegend": true,
         "type": "scatter",
         "x": [
          12000000
         ],
         "xaxis": "x",
         "y": [
          5676001571
         ],
         "yaxis": "y"
        },
        {
         "alignmentgroup": "True",
         "boxpoints": "all",
         "fillcolor": "rgba(255,255,255,0)",
         "hoveron": "points",
         "hovertemplate": "Artist=Lana Del Rey<br>Views=%{y}<extra></extra>",
         "jitter": 0,
         "legendgroup": "Lana Del Rey",
         "line": {
          "color": "rgba(255,255,255,0)"
         },
         "marker": {
          "color": "#00cc96",
          "symbol": "line-ew-open"
         },
         "name": "Lana Del Rey",
         "offsetgroup": "Lana Del Rey",
         "showlegend": false,
         "type": "box",
         "xaxis": "x2",
         "y": [
          5676001571
         ],
         "yaxis": "y2"
        },
        {
         "hovertemplate": "Artist=Avril Lavigne<br>Subscribers=%{x}<br>Views=%{marker.size}<extra></extra>",
         "legendgroup": "Avril Lavigne",
         "marker": {
          "color": "#ab63fa",
          "size": [
           5636275144
          ],
          "sizemode": "area",
          "sizeref": 79383600,
          "symbol": "circle"
         },
         "mode": "markers",
         "name": "Avril Lavigne",
         "orientation": "v",
         "showlegend": true,
         "type": "scatter",
         "x": [
          11900000
         ],
         "xaxis": "x",
         "y": [
          5636275144
         ],
         "yaxis": "y"
        },
        {
         "alignmentgroup": "True",
         "boxpoints": "all",
         "fillcolor": "rgba(255,255,255,0)",
         "hoveron": "points",
         "hovertemplate": "Artist=Avril Lavigne<br>Views=%{y}<extra></extra>",
         "jitter": 0,
         "legendgroup": "Avril Lavigne",
         "line": {
          "color": "rgba(255,255,255,0)"
         },
         "marker": {
          "color": "#ab63fa",
          "symbol": "line-ew-open"
         },
         "name": "Avril Lavigne",
         "offsetgroup": "Avril Lavigne",
         "showlegend": false,
         "type": "box",
         "xaxis": "x2",
         "y": [
          5636275144
         ],
         "yaxis": "y2"
        },
        {
         "hovertemplate": "Artist=CalvinHarrisVEVO<br>Subscribers=%{x}<br>Views=%{marker.size}<extra></extra>",
         "legendgroup": "CalvinHarrisVEVO",
         "marker": {
          "color": "#FFA15A",
          "size": [
           13615089843
          ],
          "sizemode": "area",
          "sizeref": 79383600,
          "symbol": "circle"
         },
         "mode": "markers",
         "name": "CalvinHarrisVEVO",
         "orientation": "v",
         "showlegend": true,
         "type": "scatter",
         "x": [
          11800000
         ],
         "xaxis": "x",
         "y": [
          13615089843
         ],
         "yaxis": "y"
        },
        {
         "alignmentgroup": "True",
         "boxpoints": "all",
         "fillcolor": "rgba(255,255,255,0)",
         "hoveron": "points",
         "hovertemplate": "Artist=CalvinHarrisVEVO<br>Views=%{y}<extra></extra>",
         "jitter": 0,
         "legendgroup": "CalvinHarrisVEVO",
         "line": {
          "color": "rgba(255,255,255,0)"
         },
         "marker": {
          "color": "#FFA15A",
          "symbol": "line-ew-open"
         },
         "name": "CalvinHarrisVEVO",
         "offsetgroup": "CalvinHarrisVEVO",
         "showlegend": false,
         "type": "box",
         "xaxis": "x2",
         "y": [
          13615089843
         ],
         "yaxis": "y2"
        },
        {
         "hovertemplate": "Artist=Rauw Alejandro<br>Subscribers=%{x}<br>Views=%{marker.size}<extra></extra>",
         "legendgroup": "Rauw Alejandro",
         "marker": {
          "color": "#19d3f3",
          "size": [
           9232920975
          ],
          "sizemode": "area",
          "sizeref": 79383600,
          "symbol": "circle"
         },
         "mode": "markers",
         "name": "Rauw Alejandro",
         "orientation": "v",
         "showlegend": true,
         "type": "scatter",
         "x": [
          11800000
         ],
         "xaxis": "x",
         "y": [
          9232920975
         ],
         "yaxis": "y"
        },
        {
         "alignmentgroup": "True",
         "boxpoints": "all",
         "fillcolor": "rgba(255,255,255,0)",
         "hoveron": "points",
         "hovertemplate": "Artist=Rauw Alejandro<br>Views=%{y}<extra></extra>",
         "jitter": 0,
         "legendgroup": "Rauw Alejandro",
         "line": {
          "color": "rgba(255,255,255,0)"
         },
         "marker": {
          "color": "#19d3f3",
          "symbol": "line-ew-open"
         },
         "name": "Rauw Alejandro",
         "offsetgroup": "Rauw Alejandro",
         "showlegend": false,
         "type": "box",
         "xaxis": "x2",
         "y": [
          9232920975
         ],
         "yaxis": "y2"
        },
        {
         "hovertemplate": "Artist=CNCO<br>Subscribers=%{x}<br>Views=%{marker.size}<extra></extra>",
         "legendgroup": "CNCO",
         "marker": {
          "color": "#FF6692",
          "size": [
           6881836992
          ],
          "sizemode": "area",
          "sizeref": 79383600,
          "symbol": "circle"
         },
         "mode": "markers",
         "name": "CNCO",
         "orientation": "v",
         "showlegend": true,
         "type": "scatter",
         "x": [
          11800000
         ],
         "xaxis": "x",
         "y": [
          6881836992
         ],
         "yaxis": "y"
        },
        {
         "alignmentgroup": "True",
         "boxpoints": "all",
         "fillcolor": "rgba(255,255,255,0)",
         "hoveron": "points",
         "hovertemplate": "Artist=CNCO<br>Views=%{y}<extra></extra>",
         "jitter": 0,
         "legendgroup": "CNCO",
         "line": {
          "color": "rgba(255,255,255,0)"
         },
         "marker": {
          "color": "#FF6692",
          "symbol": "line-ew-open"
         },
         "name": "CNCO",
         "offsetgroup": "CNCO",
         "showlegend": false,
         "type": "box",
         "xaxis": "x2",
         "y": [
          6881836992
         ],
         "yaxis": "y2"
        },
        {
         "hovertemplate": "Artist=MORGENSHTERN<br>Subscribers=%{x}<br>Views=%{marker.size}<extra></extra>",
         "legendgroup": "MORGENSHTERN",
         "marker": {
          "color": "#B6E880",
          "size": [
           2085751416
          ],
          "sizemode": "area",
          "sizeref": 79383600,
          "symbol": "circle"
         },
         "mode": "markers",
         "name": "MORGENSHTERN",
         "orientation": "v",
         "showlegend": true,
         "type": "scatter",
         "x": [
          11800000
         ],
         "xaxis": "x",
         "y": [
          2085751416
         ],
         "yaxis": "y"
        },
        {
         "alignmentgroup": "True",
         "boxpoints": "all",
         "fillcolor": "rgba(255,255,255,0)",
         "hoveron": "points",
         "hovertemplate": "Artist=MORGENSHTERN<br>Views=%{y}<extra></extra>",
         "jitter": 0,
         "legendgroup": "MORGENSHTERN",
         "line": {
          "color": "rgba(255,255,255,0)"
         },
         "marker": {
          "color": "#B6E880",
          "symbol": "line-ew-open"
         },
         "name": "MORGENSHTERN",
         "offsetgroup": "MORGENSHTERN",
         "showlegend": false,
         "type": "box",
         "xaxis": "x2",
         "y": [
          2085751416
         ],
         "yaxis": "y2"
        },
        {
         "hovertemplate": "Artist=Wave Music Bhakti<br>Subscribers=%{x}<br>Views=%{marker.size}<extra></extra>",
         "legendgroup": "Wave Music Bhakti",
         "marker": {
          "color": "#FF97FF",
          "size": [
           4770280667
          ],
          "sizemode": "area",
          "sizeref": 79383600,
          "symbol": "circle"
         },
         "mode": "markers",
         "name": "Wave Music Bhakti",
         "orientation": "v",
         "showlegend": true,
         "type": "scatter",
         "x": [
          11700000
         ],
         "xaxis": "x",
         "y": [
          4770280667
         ],
         "yaxis": "y"
        },
        {
         "alignmentgroup": "True",
         "boxpoints": "all",
         "fillcolor": "rgba(255,255,255,0)",
         "hoveron": "points",
         "hovertemplate": "Artist=Wave Music Bhakti<br>Views=%{y}<extra></extra>",
         "jitter": 0,
         "legendgroup": "Wave Music Bhakti",
         "line": {
          "color": "rgba(255,255,255,0)"
         },
         "marker": {
          "color": "#FF97FF",
          "symbol": "line-ew-open"
         },
         "name": "Wave Music Bhakti",
         "offsetgroup": "Wave Music Bhakti",
         "showlegend": false,
         "type": "box",
         "xaxis": "x2",
         "y": [
          4770280667
         ],
         "yaxis": "y2"
        },
        {
         "hovertemplate": "Artist=Natti Natasha<br>Subscribers=%{x}<br>Views=%{marker.size}<extra></extra>",
         "legendgroup": "Natti Natasha",
         "marker": {
          "color": "#FECB52",
          "size": [
           7264301648
          ],
          "sizemode": "area",
          "sizeref": 79383600,
          "symbol": "circle"
         },
         "mode": "markers",
         "name": "Natti Natasha",
         "orientation": "v",
         "showlegend": true,
         "type": "scatter",
         "x": [
          11700000
         ],
         "xaxis": "x",
         "y": [
          7264301648
         ],
         "yaxis": "y"
        },
        {
         "alignmentgroup": "True",
         "boxpoints": "all",
         "fillcolor": "rgba(255,255,255,0)",
         "hoveron": "points",
         "hovertemplate": "Artist=Natti Natasha<br>Views=%{y}<extra></extra>",
         "jitter": 0,
         "legendgroup": "Natti Natasha",
         "line": {
          "color": "rgba(255,255,255,0)"
         },
         "marker": {
          "color": "#FECB52",
          "symbol": "line-ew-open"
         },
         "name": "Natti Natasha",
         "offsetgroup": "Natti Natasha",
         "showlegend": false,
         "type": "box",
         "xaxis": "x2",
         "y": [
          7264301648
         ],
         "yaxis": "y2"
        },
        {
         "hovertemplate": "Artist=Mor Haryanvi<br>Subscribers=%{x}<br>Views=%{marker.size}<extra></extra>",
         "legendgroup": "Mor Haryanvi",
         "marker": {
          "color": "#636efa",
          "size": [
           5768686721
          ],
          "sizemode": "area",
          "sizeref": 79383600,
          "symbol": "circle"
         },
         "mode": "markers",
         "name": "Mor Haryanvi",
         "orientation": "v",
         "showlegend": true,
         "type": "scatter",
         "x": [
          11700000
         ],
         "xaxis": "x",
         "y": [
          5768686721
         ],
         "yaxis": "y"
        },
        {
         "alignmentgroup": "True",
         "boxpoints": "all",
         "fillcolor": "rgba(255,255,255,0)",
         "hoveron": "points",
         "hovertemplate": "Artist=Mor Haryanvi<br>Views=%{y}<extra></extra>",
         "jitter": 0,
         "legendgroup": "Mor Haryanvi",
         "line": {
          "color": "rgba(255,255,255,0)"
         },
         "marker": {
          "color": "#636efa",
          "symbol": "line-ew-open"
         },
         "name": "Mor Haryanvi",
         "offsetgroup": "Mor Haryanvi",
         "showlegend": false,
         "type": "box",
         "xaxis": "x2",
         "y": [
          5768686721
         ],
         "yaxis": "y2"
        },
        {
         "hovertemplate": "Artist=Luan Santana<br>Subscribers=%{x}<br>Views=%{marker.size}<extra></extra>",
         "legendgroup": "Luan Santana",
         "marker": {
          "color": "#EF553B",
          "size": [
           4908116204
          ],
          "sizemode": "area",
          "sizeref": 79383600,
          "symbol": "circle"
         },
         "mode": "markers",
         "name": "Luan Santana",
         "orientation": "v",
         "showlegend": true,
         "type": "scatter",
         "x": [
          11700000
         ],
         "xaxis": "x",
         "y": [
          4908116204
         ],
         "yaxis": "y"
        },
        {
         "alignmentgroup": "True",
         "boxpoints": "all",
         "fillcolor": "rgba(255,255,255,0)",
         "hoveron": "points",
         "hovertemplate": "Artist=Luan Santana<br>Views=%{y}<extra></extra>",
         "jitter": 0,
         "legendgroup": "Luan Santana",
         "line": {
          "color": "rgba(255,255,255,0)"
         },
         "marker": {
          "color": "#EF553B",
          "symbol": "line-ew-open"
         },
         "name": "Luan Santana",
         "offsetgroup": "Luan Santana",
         "showlegend": false,
         "type": "box",
         "xaxis": "x2",
         "y": [
          4908116204
         ],
         "yaxis": "y2"
        },
        {
         "hovertemplate": "Artist=Akon<br>Subscribers=%{x}<br>Views=%{marker.size}<extra></extra>",
         "legendgroup": "Akon",
         "marker": {
          "color": "#00cc96",
          "size": [
           5289951047
          ],
          "sizemode": "area",
          "sizeref": 79383600,
          "symbol": "circle"
         },
         "mode": "markers",
         "name": "Akon",
         "orientation": "v",
         "showlegend": true,
         "type": "scatter",
         "x": [
          11600000
         ],
         "xaxis": "x",
         "y": [
          5289951047
         ],
         "yaxis": "y"
        },
        {
         "alignmentgroup": "True",
         "boxpoints": "all",
         "fillcolor": "rgba(255,255,255,0)",
         "hoveron": "points",
         "hovertemplate": "Artist=Akon<br>Views=%{y}<extra></extra>",
         "jitter": 0,
         "legendgroup": "Akon",
         "line": {
          "color": "rgba(255,255,255,0)"
         },
         "marker": {
          "color": "#00cc96",
          "symbol": "line-ew-open"
         },
         "name": "Akon",
         "offsetgroup": "Akon",
         "showlegend": false,
         "type": "box",
         "xaxis": "x2",
         "y": [
          5289951047
         ],
         "yaxis": "y2"
        },
        {
         "hovertemplate": "Artist=Halsey<br>Subscribers=%{x}<br>Views=%{marker.size}<extra></extra>",
         "legendgroup": "Halsey",
         "marker": {
          "color": "#ab63fa",
          "size": [
           4412088740
          ],
          "sizemode": "area",
          "sizeref": 79383600,
          "symbol": "circle"
         },
         "mode": "markers",
         "name": "Halsey",
         "orientation": "v",
         "showlegend": true,
         "type": "scatter",
         "x": [
          11600000
         ],
         "xaxis": "x",
         "y": [
          4412088740
         ],
         "yaxis": "y"
        },
        {
         "alignmentgroup": "True",
         "boxpoints": "all",
         "fillcolor": "rgba(255,255,255,0)",
         "hoveron": "points",
         "hovertemplate": "Artist=Halsey<br>Views=%{y}<extra></extra>",
         "jitter": 0,
         "legendgroup": "Halsey",
         "line": {
          "color": "rgba(255,255,255,0)"
         },
         "marker": {
          "color": "#ab63fa",
          "symbol": "line-ew-open"
         },
         "name": "Halsey",
         "offsetgroup": "Halsey",
         "showlegend": false,
         "type": "box",
         "xaxis": "x2",
         "y": [
          4412088740
         ],
         "yaxis": "y2"
        },
        {
         "hovertemplate": "Artist=P!NK<br>Subscribers=%{x}<br>Views=%{marker.size}<extra></extra>",
         "legendgroup": "P!NK",
         "marker": {
          "color": "#FFA15A",
          "size": [
           7211913487
          ],
          "sizemode": "area",
          "sizeref": 79383600,
          "symbol": "circle"
         },
         "mode": "markers",
         "name": "P!NK",
         "orientation": "v",
         "showlegend": true,
         "type": "scatter",
         "x": [
          11500000
         ],
         "xaxis": "x",
         "y": [
          7211913487
         ],
         "yaxis": "y"
        },
        {
         "alignmentgroup": "True",
         "boxpoints": "all",
         "fillcolor": "rgba(255,255,255,0)",
         "hoveron": "points",
         "hovertemplate": "Artist=P!NK<br>Views=%{y}<extra></extra>",
         "jitter": 0,
         "legendgroup": "P!NK",
         "line": {
          "color": "rgba(255,255,255,0)"
         },
         "marker": {
          "color": "#FFA15A",
          "symbol": "line-ew-open"
         },
         "name": "P!NK",
         "offsetgroup": "P!NK",
         "showlegend": false,
         "type": "box",
         "xaxis": "x2",
         "y": [
          7211913487
         ],
         "yaxis": "y2"
        },
        {
         "hovertemplate": "Artist=Luli Pampín<br>Subscribers=%{x}<br>Views=%{marker.size}<extra></extra>",
         "legendgroup": "Luli Pampín",
         "marker": {
          "color": "#19d3f3",
          "size": [
           6102648062
          ],
          "sizemode": "area",
          "sizeref": 79383600,
          "symbol": "circle"
         },
         "mode": "markers",
         "name": "Luli Pampín",
         "orientation": "v",
         "showlegend": true,
         "type": "scatter",
         "x": [
          11500000
         ],
         "xaxis": "x",
         "y": [
          6102648062
         ],
         "yaxis": "y"
        },
        {
         "alignmentgroup": "True",
         "boxpoints": "all",
         "fillcolor": "rgba(255,255,255,0)",
         "hoveron": "points",
         "hovertemplate": "Artist=Luli Pampín<br>Views=%{y}<extra></extra>",
         "jitter": 0,
         "legendgroup": "Luli Pampín",
         "line": {
          "color": "rgba(255,255,255,0)"
         },
         "marker": {
          "color": "#19d3f3",
          "symbol": "line-ew-open"
         },
         "name": "Luli Pampín",
         "offsetgroup": "Luli Pampín",
         "showlegend": false,
         "type": "box",
         "xaxis": "x2",
         "y": [
          6102648062
         ],
         "yaxis": "y2"
        },
        {
         "hovertemplate": "Artist=Duo Tiempo De Sol<br>Subscribers=%{x}<br>Views=%{marker.size}<extra></extra>",
         "legendgroup": "Duo Tiempo De Sol",
         "marker": {
          "color": "#FF6692",
          "size": [
           5733616887
          ],
          "sizemode": "area",
          "sizeref": 79383600,
          "symbol": "circle"
         },
         "mode": "markers",
         "name": "Duo Tiempo De Sol",
         "orientation": "v",
         "showlegend": true,
         "type": "scatter",
         "x": [
          11500000
         ],
         "xaxis": "x",
         "y": [
          5733616887
         ],
         "yaxis": "y"
        },
        {
         "alignmentgroup": "True",
         "boxpoints": "all",
         "fillcolor": "rgba(255,255,255,0)",
         "hoveron": "points",
         "hovertemplate": "Artist=Duo Tiempo De Sol<br>Views=%{y}<extra></extra>",
         "jitter": 0,
         "legendgroup": "Duo Tiempo De Sol",
         "line": {
          "color": "rgba(255,255,255,0)"
         },
         "marker": {
          "color": "#FF6692",
          "symbol": "line-ew-open"
         },
         "name": "Duo Tiempo De Sol",
         "offsetgroup": "Duo Tiempo De Sol",
         "showlegend": false,
         "type": "box",
         "xaxis": "x2",
         "y": [
          5733616887
         ],
         "yaxis": "y2"
        },
        {
         "hovertemplate": "Artist=Black Eyed Peas<br>Subscribers=%{x}<br>Views=%{marker.size}<extra></extra>",
         "legendgroup": "Black Eyed Peas",
         "marker": {
          "color": "#B6E880",
          "size": [
           9492696997
          ],
          "sizemode": "area",
          "sizeref": 79383600,
          "symbol": "circle"
         },
         "mode": "markers",
         "name": "Black Eyed Peas",
         "orientation": "v",
         "showlegend": true,
         "type": "scatter",
         "x": [
          11400000
         ],
         "xaxis": "x",
         "y": [
          9492696997
         ],
         "yaxis": "y"
        },
        {
         "alignmentgroup": "True",
         "boxpoints": "all",
         "fillcolor": "rgba(255,255,255,0)",
         "hoveron": "points",
         "hovertemplate": "Artist=Black Eyed Peas<br>Views=%{y}<extra></extra>",
         "jitter": 0,
         "legendgroup": "Black Eyed Peas",
         "line": {
          "color": "rgba(255,255,255,0)"
         },
         "marker": {
          "color": "#B6E880",
          "symbol": "line-ew-open"
         },
         "name": "Black Eyed Peas",
         "offsetgroup": "Black Eyed Peas",
         "showlegend": false,
         "type": "box",
         "xaxis": "x2",
         "y": [
          9492696997
         ],
         "yaxis": "y2"
        },
        {
         "hovertemplate": "Artist=Biper y sus Amigos<br>Subscribers=%{x}<br>Views=%{marker.size}<extra></extra>",
         "legendgroup": "Biper y sus Amigos",
         "marker": {
          "color": "#FF97FF",
          "size": [
           4991697738
          ],
          "sizemode": "area",
          "sizeref": 79383600,
          "symbol": "circle"
         },
         "mode": "markers",
         "name": "Biper y sus Amigos",
         "orientation": "v",
         "showlegend": true,
         "type": "scatter",
         "x": [
          11400000
         ],
         "xaxis": "x",
         "y": [
          4991697738
         ],
         "yaxis": "y"
        },
        {
         "alignmentgroup": "True",
         "boxpoints": "all",
         "fillcolor": "rgba(255,255,255,0)",
         "hoveron": "points",
         "hovertemplate": "Artist=Biper y sus Amigos<br>Views=%{y}<extra></extra>",
         "jitter": 0,
         "legendgroup": "Biper y sus Amigos",
         "line": {
          "color": "rgba(255,255,255,0)"
         },
         "marker": {
          "color": "#FF97FF",
          "symbol": "line-ew-open"
         },
         "name": "Biper y sus Amigos",
         "offsetgroup": "Biper y sus Amigos",
         "showlegend": false,
         "type": "box",
         "xaxis": "x2",
         "y": [
          4991697738
         ],
         "yaxis": "y2"
        },
        {
         "hovertemplate": "Artist=Lil Wayne<br>Subscribers=%{x}<br>Views=%{marker.size}<extra></extra>",
         "legendgroup": "Lil Wayne",
         "marker": {
          "color": "#FECB52",
          "size": [
           5335786775
          ],
          "sizemode": "area",
          "sizeref": 79383600,
          "symbol": "circle"
         },
         "mode": "markers",
         "name": "Lil Wayne",
         "orientation": "v",
         "showlegend": true,
         "type": "scatter",
         "x": [
          11300000
         ],
         "xaxis": "x",
         "y": [
          5335786775
         ],
         "yaxis": "y"
        },
        {
         "alignmentgroup": "True",
         "boxpoints": "all",
         "fillcolor": "rgba(255,255,255,0)",
         "hoveron": "points",
         "hovertemplate": "Artist=Lil Wayne<br>Views=%{y}<extra></extra>",
         "jitter": 0,
         "legendgroup": "Lil Wayne",
         "line": {
          "color": "rgba(255,255,255,0)"
         },
         "marker": {
          "color": "#FECB52",
          "symbol": "line-ew-open"
         },
         "name": "Lil Wayne",
         "offsetgroup": "Lil Wayne",
         "showlegend": false,
         "type": "box",
         "xaxis": "x2",
         "y": [
          5335786775
         ],
         "yaxis": "y2"
        },
        {
         "hovertemplate": "Artist=elcarteldesantatv<br>Subscribers=%{x}<br>Views=%{marker.size}<extra></extra>",
         "legendgroup": "elcarteldesantatv",
         "marker": {
          "color": "#636efa",
          "size": [
           6261374873
          ],
          "sizemode": "area",
          "sizeref": 79383600,
          "symbol": "circle"
         },
         "mode": "markers",
         "name": "elcarteldesantatv",
         "orientation": "v",
         "showlegend": true,
         "type": "scatter",
         "x": [
          11300000
         ],
         "xaxis": "x",
         "y": [
          6261374873
         ],
         "yaxis": "y"
        },
        {
         "alignmentgroup": "True",
         "boxpoints": "all",
         "fillcolor": "rgba(255,255,255,0)",
         "hoveron": "points",
         "hovertemplate": "Artist=elcarteldesantatv<br>Views=%{y}<extra></extra>",
         "jitter": 0,
         "legendgroup": "elcarteldesantatv",
         "line": {
          "color": "rgba(255,255,255,0)"
         },
         "marker": {
          "color": "#636efa",
          "symbol": "line-ew-open"
         },
         "name": "elcarteldesantatv",
         "offsetgroup": "elcarteldesantatv",
         "showlegend": false,
         "type": "box",
         "xaxis": "x2",
         "y": [
          6261374873
         ],
         "yaxis": "y2"
        },
        {
         "hovertemplate": "Artist=Star Casablanca | نجوم الدار البيضاء<br>Subscribers=%{x}<br>Views=%{marker.size}<extra></extra>",
         "legendgroup": "Star Casablanca | نجوم الدار البيضاء",
         "marker": {
          "color": "#EF553B",
          "size": [
           5129031730
          ],
          "sizemode": "area",
          "sizeref": 79383600,
          "symbol": "circle"
         },
         "mode": "markers",
         "name": "Star Casablanca | نجوم الدار البيضاء",
         "orientation": "v",
         "showlegend": true,
         "type": "scatter",
         "x": [
          11300000
         ],
         "xaxis": "x",
         "y": [
          5129031730
         ],
         "yaxis": "y"
        },
        {
         "alignmentgroup": "True",
         "boxpoints": "all",
         "fillcolor": "rgba(255,255,255,0)",
         "hoveron": "points",
         "hovertemplate": "Artist=Star Casablanca | نجوم الدار البيضاء<br>Views=%{y}<extra></extra>",
         "jitter": 0,
         "legendgroup": "Star Casablanca | نجوم الدار البيضاء",
         "line": {
          "color": "rgba(255,255,255,0)"
         },
         "marker": {
          "color": "#EF553B",
          "symbol": "line-ew-open"
         },
         "name": "Star Casablanca | نجوم الدار البيضاء",
         "offsetgroup": "Star Casablanca | نجوم الدار البيضاء",
         "showlegend": false,
         "type": "box",
         "xaxis": "x2",
         "y": [
          5129031730
         ],
         "yaxis": "y2"
        },
        {
         "hovertemplate": "Artist=Simone e Simaria<br>Subscribers=%{x}<br>Views=%{marker.size}<extra></extra>",
         "legendgroup": "Simone e Simaria",
         "marker": {
          "color": "#00cc96",
          "size": [
           4474548691
          ],
          "sizemode": "area",
          "sizeref": 79383600,
          "symbol": "circle"
         },
         "mode": "markers",
         "name": "Simone e Simaria",
         "orientation": "v",
         "showlegend": true,
         "type": "scatter",
         "x": [
          11300000
         ],
         "xaxis": "x",
         "y": [
          4474548691
         ],
         "yaxis": "y"
        },
        {
         "alignmentgroup": "True",
         "boxpoints": "all",
         "fillcolor": "rgba(255,255,255,0)",
         "hoveron": "points",
         "hovertemplate": "Artist=Simone e Simaria<br>Views=%{y}<extra></extra>",
         "jitter": 0,
         "legendgroup": "Simone e Simaria",
         "line": {
          "color": "rgba(255,255,255,0)"
         },
         "marker": {
          "color": "#00cc96",
          "symbol": "line-ew-open"
         },
         "name": "Simone e Simaria",
         "offsetgroup": "Simone e Simaria",
         "showlegend": false,
         "type": "box",
         "xaxis": "x2",
         "y": [
          4474548691
         ],
         "yaxis": "y2"
        },
        {
         "hovertemplate": "Artist=Lofi Girl<br>Subscribers=%{x}<br>Views=%{marker.size}<extra></extra>",
         "legendgroup": "Lofi Girl",
         "marker": {
          "color": "#ab63fa",
          "size": [
           1311726533
          ],
          "sizemode": "area",
          "sizeref": 79383600,
          "symbol": "circle"
         },
         "mode": "markers",
         "name": "Lofi Girl",
         "orientation": "v",
         "showlegend": true,
         "type": "scatter",
         "x": [
          11200000
         ],
         "xaxis": "x",
         "y": [
          1311726533
         ],
         "yaxis": "y"
        },
        {
         "alignmentgroup": "True",
         "boxpoints": "all",
         "fillcolor": "rgba(255,255,255,0)",
         "hoveron": "points",
         "hovertemplate": "Artist=Lofi Girl<br>Views=%{y}<extra></extra>",
         "jitter": 0,
         "legendgroup": "Lofi Girl",
         "line": {
          "color": "rgba(255,255,255,0)"
         },
         "marker": {
          "color": "#ab63fa",
          "symbol": "line-ew-open"
         },
         "name": "Lofi Girl",
         "offsetgroup": "Lofi Girl",
         "showlegend": false,
         "type": "box",
         "xaxis": "x2",
         "y": [
          1311726533
         ],
         "yaxis": "y2"
        },
        {
         "hovertemplate": "Artist=ChainsmokersVEVO<br>Subscribers=%{x}<br>Views=%{marker.size}<extra></extra>",
         "legendgroup": "ChainsmokersVEVO",
         "marker": {
          "color": "#FFA15A",
          "size": [
           11415809929
          ],
          "sizemode": "area",
          "sizeref": 79383600,
          "symbol": "circle"
         },
         "mode": "markers",
         "name": "ChainsmokersVEVO",
         "orientation": "v",
         "showlegend": true,
         "type": "scatter",
         "x": [
          11200000
         ],
         "xaxis": "x",
         "y": [
          11415809929
         ],
         "yaxis": "y"
        },
        {
         "alignmentgroup": "True",
         "boxpoints": "all",
         "fillcolor": "rgba(255,255,255,0)",
         "hoveron": "points",
         "hovertemplate": "Artist=ChainsmokersVEVO<br>Views=%{y}<extra></extra>",
         "jitter": 0,
         "legendgroup": "ChainsmokersVEVO",
         "line": {
          "color": "rgba(255,255,255,0)"
         },
         "marker": {
          "color": "#FFA15A",
          "symbol": "line-ew-open"
         },
         "name": "ChainsmokersVEVO",
         "offsetgroup": "ChainsmokersVEVO",
         "showlegend": false,
         "type": "box",
         "xaxis": "x2",
         "y": [
          11415809929
         ],
         "yaxis": "y2"
        },
        {
         "hovertemplate": "Artist=DemiLovatoVEVO<br>Subscribers=%{x}<br>Views=%{marker.size}<extra></extra>",
         "legendgroup": "DemiLovatoVEVO",
         "marker": {
          "color": "#19d3f3",
          "size": [
           5543363992
          ],
          "sizemode": "area",
          "sizeref": 79383600,
          "symbol": "circle"
         },
         "mode": "markers",
         "name": "DemiLovatoVEVO",
         "orientation": "v",
         "showlegend": true,
         "type": "scatter",
         "x": [
          11200000
         ],
         "xaxis": "x",
         "y": [
          5543363992
         ],
         "yaxis": "y"
        },
        {
         "alignmentgroup": "True",
         "boxpoints": "all",
         "fillcolor": "rgba(255,255,255,0)",
         "hoveron": "points",
         "hovertemplate": "Artist=DemiLovatoVEVO<br>Views=%{y}<extra></extra>",
         "jitter": 0,
         "legendgroup": "DemiLovatoVEVO",
         "line": {
          "color": "rgba(255,255,255,0)"
         },
         "marker": {
          "color": "#19d3f3",
          "symbol": "line-ew-open"
         },
         "name": "DemiLovatoVEVO",
         "offsetgroup": "DemiLovatoVEVO",
         "showlegend": false,
         "type": "box",
         "xaxis": "x2",
         "y": [
          5543363992
         ],
         "yaxis": "y2"
        },
        {
         "hovertemplate": "Artist=Sky Does Everything<br>Subscribers=%{x}<br>Views=%{marker.size}<extra></extra>",
         "legendgroup": "Sky Does Everything",
         "marker": {
          "color": "#FF6692",
          "size": [
           3823868578
          ],
          "sizemode": "area",
          "sizeref": 79383600,
          "symbol": "circle"
         },
         "mode": "markers",
         "name": "Sky Does Everything",
         "orientation": "v",
         "showlegend": true,
         "type": "scatter",
         "x": [
          11100000
         ],
         "xaxis": "x",
         "y": [
          3823868578
         ],
         "yaxis": "y"
        },
        {
         "alignmentgroup": "True",
         "boxpoints": "all",
         "fillcolor": "rgba(255,255,255,0)",
         "hoveron": "points",
         "hovertemplate": "Artist=Sky Does Everything<br>Views=%{y}<extra></extra>",
         "jitter": 0,
         "legendgroup": "Sky Does Everything",
         "line": {
          "color": "rgba(255,255,255,0)"
         },
         "marker": {
          "color": "#FF6692",
          "symbol": "line-ew-open"
         },
         "name": "Sky Does Everything",
         "offsetgroup": "Sky Does Everything",
         "showlegend": false,
         "type": "box",
         "xaxis": "x2",
         "y": [
          3823868578
         ],
         "yaxis": "y2"
        },
        {
         "hovertemplate": "Artist=Genius<br>Subscribers=%{x}<br>Views=%{marker.size}<extra></extra>",
         "legendgroup": "Genius",
         "marker": {
          "color": "#B6E880",
          "size": [
           2891052624
          ],
          "sizemode": "area",
          "sizeref": 79383600,
          "symbol": "circle"
         },
         "mode": "markers",
         "name": "Genius",
         "orientation": "v",
         "showlegend": true,
         "type": "scatter",
         "x": [
          11100000
         ],
         "xaxis": "x",
         "y": [
          2891052624
         ],
         "yaxis": "y"
        },
        {
         "alignmentgroup": "True",
         "boxpoints": "all",
         "fillcolor": "rgba(255,255,255,0)",
         "hoveron": "points",
         "hovertemplate": "Artist=Genius<br>Views=%{y}<extra></extra>",
         "jitter": 0,
         "legendgroup": "Genius",
         "line": {
          "color": "rgba(255,255,255,0)"
         },
         "marker": {
          "color": "#B6E880",
          "symbol": "line-ew-open"
         },
         "name": "Genius",
         "offsetgroup": "Genius",
         "showlegend": false,
         "type": "box",
         "xaxis": "x2",
         "y": [
          2891052624
         ],
         "yaxis": "y2"
        },
        {
         "hovertemplate": "Artist=Doja Cat<br>Subscribers=%{x}<br>Views=%{marker.size}<extra></extra>",
         "legendgroup": "Doja Cat",
         "marker": {
          "color": "#FF97FF",
          "size": [
           5459891400
          ],
          "sizemode": "area",
          "sizeref": 79383600,
          "symbol": "circle"
         },
         "mode": "markers",
         "name": "Doja Cat",
         "orientation": "v",
         "showlegend": true,
         "type": "scatter",
         "x": [
          11000000
         ],
         "xaxis": "x",
         "y": [
          5459891400
         ],
         "yaxis": "y"
        },
        {
         "alignmentgroup": "True",
         "boxpoints": "all",
         "fillcolor": "rgba(255,255,255,0)",
         "hoveron": "points",
         "hovertemplate": "Artist=Doja Cat<br>Views=%{y}<extra></extra>",
         "jitter": 0,
         "legendgroup": "Doja Cat",
         "line": {
          "color": "rgba(255,255,255,0)"
         },
         "marker": {
          "color": "#FF97FF",
          "symbol": "line-ew-open"
         },
         "name": "Doja Cat",
         "offsetgroup": "Doja Cat",
         "showlegend": false,
         "type": "box",
         "xaxis": "x2",
         "y": [
          5459891400
         ],
         "yaxis": "y2"
        },
        {
         "hovertemplate": "Artist=Tyga<br>Subscribers=%{x}<br>Views=%{marker.size}<extra></extra>",
         "legendgroup": "Tyga",
         "marker": {
          "color": "#FECB52",
          "size": [
           5211071220
          ],
          "sizemode": "area",
          "sizeref": 79383600,
          "symbol": "circle"
         },
         "mode": "markers",
         "name": "Tyga",
         "orientation": "v",
         "showlegend": true,
         "type": "scatter",
         "x": [
          11000000
         ],
         "xaxis": "x",
         "y": [
          5211071220
         ],
         "yaxis": "y"
        },
        {
         "alignmentgroup": "True",
         "boxpoints": "all",
         "fillcolor": "rgba(255,255,255,0)",
         "hoveron": "points",
         "hovertemplate": "Artist=Tyga<br>Views=%{y}<extra></extra>",
         "jitter": 0,
         "legendgroup": "Tyga",
         "line": {
          "color": "rgba(255,255,255,0)"
         },
         "marker": {
          "color": "#FECB52",
          "symbol": "line-ew-open"
         },
         "name": "Tyga",
         "offsetgroup": "Tyga",
         "showlegend": false,
         "type": "box",
         "xaxis": "x2",
         "y": [
          5211071220
         ],
         "yaxis": "y2"
        },
        {
         "hovertemplate": "Artist=unknown boy varun<br>Subscribers=%{x}<br>Views=%{marker.size}<extra></extra>",
         "legendgroup": "unknown boy varun",
         "marker": {
          "color": "#636efa",
          "size": [
           3263285883
          ],
          "sizemode": "area",
          "sizeref": 79383600,
          "symbol": "circle"
         },
         "mode": "markers",
         "name": "unknown boy varun",
         "orientation": "v",
         "showlegend": true,
         "type": "scatter",
         "x": [
          11000000
         ],
         "xaxis": "x",
         "y": [
          3263285883
         ],
         "yaxis": "y"
        },
        {
         "alignmentgroup": "True",
         "boxpoints": "all",
         "fillcolor": "rgba(255,255,255,0)",
         "hoveron": "points",
         "hovertemplate": "Artist=unknown boy varun<br>Views=%{y}<extra></extra>",
         "jitter": 0,
         "legendgroup": "unknown boy varun",
         "line": {
          "color": "rgba(255,255,255,0)"
         },
         "marker": {
          "color": "#636efa",
          "symbol": "line-ew-open"
         },
         "name": "unknown boy varun",
         "offsetgroup": "unknown boy varun",
         "showlegend": false,
         "type": "box",
         "xaxis": "x2",
         "y": [
          3263285883
         ],
         "yaxis": "y2"
        },
        {
         "hovertemplate": "Artist=TrapMusicHDTV<br>Subscribers=%{x}<br>Views=%{marker.size}<extra></extra>",
         "legendgroup": "TrapMusicHDTV",
         "marker": {
          "color": "#EF553B",
          "size": [
           4070521973
          ],
          "sizemode": "area",
          "sizeref": 79383600,
          "symbol": "circle"
         },
         "mode": "markers",
         "name": "TrapMusicHDTV",
         "orientation": "v",
         "showlegend": true,
         "type": "scatter",
         "x": [
          10900000
         ],
         "xaxis": "x",
         "y": [
          4070521973
         ],
         "yaxis": "y"
        },
        {
         "alignmentgroup": "True",
         "boxpoints": "all",
         "fillcolor": "rgba(255,255,255,0)",
         "hoveron": "points",
         "hovertemplate": "Artist=TrapMusicHDTV<br>Views=%{y}<extra></extra>",
         "jitter": 0,
         "legendgroup": "TrapMusicHDTV",
         "line": {
          "color": "rgba(255,255,255,0)"
         },
         "marker": {
          "color": "#EF553B",
          "symbol": "line-ew-open"
         },
         "name": "TrapMusicHDTV",
         "offsetgroup": "TrapMusicHDTV",
         "showlegend": false,
         "type": "box",
         "xaxis": "x2",
         "y": [
          4070521973
         ],
         "yaxis": "y2"
        }
       ],
       "layout": {
        "legend": {
         "itemsizing": "constant",
         "title": {
          "text": "Artist"
         },
         "tracegroupgap": 0
        },
        "template": {
         "data": {
          "bar": [
           {
            "error_x": {
             "color": "#2a3f5f"
            },
            "error_y": {
             "color": "#2a3f5f"
            },
            "marker": {
             "line": {
              "color": "#E5ECF6",
              "width": 0.5
             },
             "pattern": {
              "fillmode": "overlay",
              "size": 10,
              "solidity": 0.2
             }
            },
            "type": "bar"
           }
          ],
          "barpolar": [
           {
            "marker": {
             "line": {
              "color": "#E5ECF6",
              "width": 0.5
             },
             "pattern": {
              "fillmode": "overlay",
              "size": 10,
              "solidity": 0.2
             }
            },
            "type": "barpolar"
           }
          ],
          "carpet": [
           {
            "aaxis": {
             "endlinecolor": "#2a3f5f",
             "gridcolor": "white",
             "linecolor": "white",
             "minorgridcolor": "white",
             "startlinecolor": "#2a3f5f"
            },
            "baxis": {
             "endlinecolor": "#2a3f5f",
             "gridcolor": "white",
             "linecolor": "white",
             "minorgridcolor": "white",
             "startlinecolor": "#2a3f5f"
            },
            "type": "carpet"
           }
          ],
          "choropleth": [
           {
            "colorbar": {
             "outlinewidth": 0,
             "ticks": ""
            },
            "type": "choropleth"
           }
          ],
          "contour": [
           {
            "colorbar": {
             "outlinewidth": 0,
             "ticks": ""
            },
            "colorscale": [
             [
              0,
              "#0d0887"
             ],
             [
              0.1111111111111111,
              "#46039f"
             ],
             [
              0.2222222222222222,
              "#7201a8"
             ],
             [
              0.3333333333333333,
              "#9c179e"
             ],
             [
              0.4444444444444444,
              "#bd3786"
             ],
             [
              0.5555555555555556,
              "#d8576b"
             ],
             [
              0.6666666666666666,
              "#ed7953"
             ],
             [
              0.7777777777777778,
              "#fb9f3a"
             ],
             [
              0.8888888888888888,
              "#fdca26"
             ],
             [
              1,
              "#f0f921"
             ]
            ],
            "type": "contour"
           }
          ],
          "contourcarpet": [
           {
            "colorbar": {
             "outlinewidth": 0,
             "ticks": ""
            },
            "type": "contourcarpet"
           }
          ],
          "heatmap": [
           {
            "colorbar": {
             "outlinewidth": 0,
             "ticks": ""
            },
            "colorscale": [
             [
              0,
              "#0d0887"
             ],
             [
              0.1111111111111111,
              "#46039f"
             ],
             [
              0.2222222222222222,
              "#7201a8"
             ],
             [
              0.3333333333333333,
              "#9c179e"
             ],
             [
              0.4444444444444444,
              "#bd3786"
             ],
             [
              0.5555555555555556,
              "#d8576b"
             ],
             [
              0.6666666666666666,
              "#ed7953"
             ],
             [
              0.7777777777777778,
              "#fb9f3a"
             ],
             [
              0.8888888888888888,
              "#fdca26"
             ],
             [
              1,
              "#f0f921"
             ]
            ],
            "type": "heatmap"
           }
          ],
          "heatmapgl": [
           {
            "colorbar": {
             "outlinewidth": 0,
             "ticks": ""
            },
            "colorscale": [
             [
              0,
              "#0d0887"
             ],
             [
              0.1111111111111111,
              "#46039f"
             ],
             [
              0.2222222222222222,
              "#7201a8"
             ],
             [
              0.3333333333333333,
              "#9c179e"
             ],
             [
              0.4444444444444444,
              "#bd3786"
             ],
             [
              0.5555555555555556,
              "#d8576b"
             ],
             [
              0.6666666666666666,
              "#ed7953"
             ],
             [
              0.7777777777777778,
              "#fb9f3a"
             ],
             [
              0.8888888888888888,
              "#fdca26"
             ],
             [
              1,
              "#f0f921"
             ]
            ],
            "type": "heatmapgl"
           }
          ],
          "histogram": [
           {
            "marker": {
             "pattern": {
              "fillmode": "overlay",
              "size": 10,
              "solidity": 0.2
             }
            },
            "type": "histogram"
           }
          ],
          "histogram2d": [
           {
            "colorbar": {
             "outlinewidth": 0,
             "ticks": ""
            },
            "colorscale": [
             [
              0,
              "#0d0887"
             ],
             [
              0.1111111111111111,
              "#46039f"
             ],
             [
              0.2222222222222222,
              "#7201a8"
             ],
             [
              0.3333333333333333,
              "#9c179e"
             ],
             [
              0.4444444444444444,
              "#bd3786"
             ],
             [
              0.5555555555555556,
              "#d8576b"
             ],
             [
              0.6666666666666666,
              "#ed7953"
             ],
             [
              0.7777777777777778,
              "#fb9f3a"
             ],
             [
              0.8888888888888888,
              "#fdca26"
             ],
             [
              1,
              "#f0f921"
             ]
            ],
            "type": "histogram2d"
           }
          ],
          "histogram2dcontour": [
           {
            "colorbar": {
             "outlinewidth": 0,
             "ticks": ""
            },
            "colorscale": [
             [
              0,
              "#0d0887"
             ],
             [
              0.1111111111111111,
              "#46039f"
             ],
             [
              0.2222222222222222,
              "#7201a8"
             ],
             [
              0.3333333333333333,
              "#9c179e"
             ],
             [
              0.4444444444444444,
              "#bd3786"
             ],
             [
              0.5555555555555556,
              "#d8576b"
             ],
             [
              0.6666666666666666,
              "#ed7953"
             ],
             [
              0.7777777777777778,
              "#fb9f3a"
             ],
             [
              0.8888888888888888,
              "#fdca26"
             ],
             [
              1,
              "#f0f921"
             ]
            ],
            "type": "histogram2dcontour"
           }
          ],
          "mesh3d": [
           {
            "colorbar": {
             "outlinewidth": 0,
             "ticks": ""
            },
            "type": "mesh3d"
           }
          ],
          "parcoords": [
           {
            "line": {
             "colorbar": {
              "outlinewidth": 0,
              "ticks": ""
             }
            },
            "type": "parcoords"
           }
          ],
          "pie": [
           {
            "automargin": true,
            "type": "pie"
           }
          ],
          "scatter": [
           {
            "fillpattern": {
             "fillmode": "overlay",
             "size": 10,
             "solidity": 0.2
            },
            "type": "scatter"
           }
          ],
          "scatter3d": [
           {
            "line": {
             "colorbar": {
              "outlinewidth": 0,
              "ticks": ""
             }
            },
            "marker": {
             "colorbar": {
              "outlinewidth": 0,
              "ticks": ""
             }
            },
            "type": "scatter3d"
           }
          ],
          "scattercarpet": [
           {
            "marker": {
             "colorbar": {
              "outlinewidth": 0,
              "ticks": ""
             }
            },
            "type": "scattercarpet"
           }
          ],
          "scattergeo": [
           {
            "marker": {
             "colorbar": {
              "outlinewidth": 0,
              "ticks": ""
             }
            },
            "type": "scattergeo"
           }
          ],
          "scattergl": [
           {
            "marker": {
             "colorbar": {
              "outlinewidth": 0,
              "ticks": ""
             }
            },
            "type": "scattergl"
           }
          ],
          "scattermapbox": [
           {
            "marker": {
             "colorbar": {
              "outlinewidth": 0,
              "ticks": ""
             }
            },
            "type": "scattermapbox"
           }
          ],
          "scatterpolar": [
           {
            "marker": {
             "colorbar": {
              "outlinewidth": 0,
              "ticks": ""
             }
            },
            "type": "scatterpolar"
           }
          ],
          "scatterpolargl": [
           {
            "marker": {
             "colorbar": {
              "outlinewidth": 0,
              "ticks": ""
             }
            },
            "type": "scatterpolargl"
           }
          ],
          "scatterternary": [
           {
            "marker": {
             "colorbar": {
              "outlinewidth": 0,
              "ticks": ""
             }
            },
            "type": "scatterternary"
           }
          ],
          "surface": [
           {
            "colorbar": {
             "outlinewidth": 0,
             "ticks": ""
            },
            "colorscale": [
             [
              0,
              "#0d0887"
             ],
             [
              0.1111111111111111,
              "#46039f"
             ],
             [
              0.2222222222222222,
              "#7201a8"
             ],
             [
              0.3333333333333333,
              "#9c179e"
             ],
             [
              0.4444444444444444,
              "#bd3786"
             ],
             [
              0.5555555555555556,
              "#d8576b"
             ],
             [
              0.6666666666666666,
              "#ed7953"
             ],
             [
              0.7777777777777778,
              "#fb9f3a"
             ],
             [
              0.8888888888888888,
              "#fdca26"
             ],
             [
              1,
              "#f0f921"
             ]
            ],
            "type": "surface"
           }
          ],
          "table": [
           {
            "cells": {
             "fill": {
              "color": "#EBF0F8"
             },
             "line": {
              "color": "white"
             }
            },
            "header": {
             "fill": {
              "color": "#C8D4E3"
             },
             "line": {
              "color": "white"
             }
            },
            "type": "table"
           }
          ]
         },
         "layout": {
          "annotationdefaults": {
           "arrowcolor": "#2a3f5f",
           "arrowhead": 0,
           "arrowwidth": 1
          },
          "autotypenumbers": "strict",
          "coloraxis": {
           "colorbar": {
            "outlinewidth": 0,
            "ticks": ""
           }
          },
          "colorscale": {
           "diverging": [
            [
             0,
             "#8e0152"
            ],
            [
             0.1,
             "#c51b7d"
            ],
            [
             0.2,
             "#de77ae"
            ],
            [
             0.3,
             "#f1b6da"
            ],
            [
             0.4,
             "#fde0ef"
            ],
            [
             0.5,
             "#f7f7f7"
            ],
            [
             0.6,
             "#e6f5d0"
            ],
            [
             0.7,
             "#b8e186"
            ],
            [
             0.8,
             "#7fbc41"
            ],
            [
             0.9,
             "#4d9221"
            ],
            [
             1,
             "#276419"
            ]
           ],
           "sequential": [
            [
             0,
             "#0d0887"
            ],
            [
             0.1111111111111111,
             "#46039f"
            ],
            [
             0.2222222222222222,
             "#7201a8"
            ],
            [
             0.3333333333333333,
             "#9c179e"
            ],
            [
             0.4444444444444444,
             "#bd3786"
            ],
            [
             0.5555555555555556,
             "#d8576b"
            ],
            [
             0.6666666666666666,
             "#ed7953"
            ],
            [
             0.7777777777777778,
             "#fb9f3a"
            ],
            [
             0.8888888888888888,
             "#fdca26"
            ],
            [
             1,
             "#f0f921"
            ]
           ],
           "sequentialminus": [
            [
             0,
             "#0d0887"
            ],
            [
             0.1111111111111111,
             "#46039f"
            ],
            [
             0.2222222222222222,
             "#7201a8"
            ],
            [
             0.3333333333333333,
             "#9c179e"
            ],
            [
             0.4444444444444444,
             "#bd3786"
            ],
            [
             0.5555555555555556,
             "#d8576b"
            ],
            [
             0.6666666666666666,
             "#ed7953"
            ],
            [
             0.7777777777777778,
             "#fb9f3a"
            ],
            [
             0.8888888888888888,
             "#fdca26"
            ],
            [
             1,
             "#f0f921"
            ]
           ]
          },
          "colorway": [
           "#636efa",
           "#EF553B",
           "#00cc96",
           "#ab63fa",
           "#FFA15A",
           "#19d3f3",
           "#FF6692",
           "#B6E880",
           "#FF97FF",
           "#FECB52"
          ],
          "font": {
           "color": "#2a3f5f"
          },
          "geo": {
           "bgcolor": "white",
           "lakecolor": "white",
           "landcolor": "#E5ECF6",
           "showlakes": true,
           "showland": true,
           "subunitcolor": "white"
          },
          "hoverlabel": {
           "align": "left"
          },
          "hovermode": "closest",
          "mapbox": {
           "style": "light"
          },
          "paper_bgcolor": "white",
          "plot_bgcolor": "#E5ECF6",
          "polar": {
           "angularaxis": {
            "gridcolor": "white",
            "linecolor": "white",
            "ticks": ""
           },
           "bgcolor": "#E5ECF6",
           "radialaxis": {
            "gridcolor": "white",
            "linecolor": "white",
            "ticks": ""
           }
          },
          "scene": {
           "xaxis": {
            "backgroundcolor": "#E5ECF6",
            "gridcolor": "white",
            "gridwidth": 2,
            "linecolor": "white",
            "showbackground": true,
            "ticks": "",
            "zerolinecolor": "white"
           },
           "yaxis": {
            "backgroundcolor": "#E5ECF6",
            "gridcolor": "white",
            "gridwidth": 2,
            "linecolor": "white",
            "showbackground": true,
            "ticks": "",
            "zerolinecolor": "white"
           },
           "zaxis": {
            "backgroundcolor": "#E5ECF6",
            "gridcolor": "white",
            "gridwidth": 2,
            "linecolor": "white",
            "showbackground": true,
            "ticks": "",
            "zerolinecolor": "white"
           }
          },
          "shapedefaults": {
           "line": {
            "color": "#2a3f5f"
           }
          },
          "ternary": {
           "aaxis": {
            "gridcolor": "white",
            "linecolor": "white",
            "ticks": ""
           },
           "baxis": {
            "gridcolor": "white",
            "linecolor": "white",
            "ticks": ""
           },
           "bgcolor": "#E5ECF6",
           "caxis": {
            "gridcolor": "white",
            "linecolor": "white",
            "ticks": ""
           }
          },
          "title": {
           "x": 0.05
          },
          "xaxis": {
           "automargin": true,
           "gridcolor": "white",
           "linecolor": "white",
           "ticks": "",
           "title": {
            "standoff": 15
           },
           "zerolinecolor": "white",
           "zerolinewidth": 2
          },
          "yaxis": {
           "automargin": true,
           "gridcolor": "white",
           "linecolor": "white",
           "ticks": "",
           "title": {
            "standoff": 15
           },
           "zerolinecolor": "white",
           "zerolinewidth": 2
          }
         }
        },
        "title": {
         "text": "Artists with Video views and Subscribers"
        },
        "xaxis": {
         "anchor": "y",
         "domain": [
          0,
          0.7363
         ],
         "title": {
          "text": "Subscribers"
         },
         "type": "log"
        },
        "xaxis2": {
         "anchor": "y2",
         "domain": [
          0.7413,
          1
         ],
         "matches": "x2",
         "showgrid": false,
         "showline": false,
         "showticklabels": false,
         "ticks": ""
        },
        "yaxis": {
         "anchor": "x",
         "domain": [
          0,
          1
         ],
         "title": {
          "text": "Views"
         }
        },
        "yaxis2": {
         "anchor": "x2",
         "domain": [
          0,
          1
         ],
         "matches": "y",
         "showgrid": true,
         "showticklabels": false
        }
       }
      }
     },
     "metadata": {},
     "output_type": "display_data"
    }
   ],
   "source": [
    "fig = px.scatter(df, x=\"Subscribers\", y=\"Views\",\n",
    "                 size=\"Views\", color=\"Artist\",\n",
    "                 log_x=True, size_max=50,\n",
    "                 title=\"Artists with Video views and Subscribers\",\n",
    "                 marginal_y='rug') \n",
    "fig.show()"
   ]
  }
 ],
 "metadata": {
  "kernelspec": {
   "display_name": "PythonData",
   "language": "python",
   "name": "pythondata"
  },
  "language_info": {
   "codemirror_mode": {
    "name": "ipython",
    "version": 3
   },
   "file_extension": ".py",
   "mimetype": "text/x-python",
   "name": "python",
   "nbconvert_exporter": "python",
   "pygments_lexer": "ipython3",
   "version": "3.7.7"
  },
  "orig_nbformat": 4,
  "vscode": {
   "interpreter": {
    "hash": "dcec0128a0b52be73e63bb13501ef6304ce934440ba74144668dbbfd9efb5441"
   }
  }
 },
 "nbformat": 4,
 "nbformat_minor": 2
}
